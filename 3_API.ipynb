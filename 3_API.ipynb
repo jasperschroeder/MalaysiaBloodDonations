{
 "cells": [
  {
   "cell_type": "code",
   "execution_count": 3,
   "id": "6d4b829e",
   "metadata": {},
   "outputs": [],
   "source": [
    "from fastapi import FastAPI, HTTPException"
   ]
  },
  {
   "cell_type": "code",
   "execution_count": 6,
   "id": "d9b7b5b0",
   "metadata": {},
   "outputs": [],
   "source": [
    "from pydantic import BaseModel, Field, field_validator"
   ]
  },
  {
   "cell_type": "code",
   "execution_count": 8,
   "id": "04e2f745",
   "metadata": {},
   "outputs": [],
   "source": [
    "from typing import Optional\n",
    "import mlflow.pyfunc\n",
    "import pandas as pd"
   ]
  },
  {
   "cell_type": "code",
   "execution_count": 9,
   "id": "3acc4821",
   "metadata": {},
   "outputs": [],
   "source": [
    "class DonationPredictionRequest(BaseModel):\n",
    "    lag1: int = Field(..., ge=0, lt=7500, description=\"No. of donations 1 day ago.\")\n",
    "    lag2: int = Field(..., ge=0, lt=7500, description=\"No. of donations 2 day ago.\")\n",
    "    lag3: int = Field(..., ge=0, lt=7500, description=\"No. of donations 3 day ago.\")\n",
    "    lag4: int = Field(..., ge=0, lt=7500, description=\"No. of donations 4 day ago.\")\n",
    "    lag5: int = Field(..., ge=0, lt=7500, description=\"No. of donations 5 day ago.\")\n",
    "    lag6: int = Field(..., ge=0, lt=7500, description=\"No. of donations 6 day ago.\")\n",
    "    lag7: int = Field(..., ge=0, lt=7500, description=\"No. of donations 7 day ago.\")\n",
    "    high_donation_holiday: Optional[int] = Field(0, description=\"1 if next day is Hari Malaysia, Hari Pekerja, or Hari Wesak.\")\n",
    "    low_donation_holiday: Optional[int] = Field(0, description=\"1 if next day is Hari Raya Puasa or Hari Raya Qurban.\")\n",
    "    religion_or_culture_holiday: Optional[int] = Field(0, description=\"1 if next day is a religious or cultural holiday.\")\n",
    "    other_holiday: Optional[int] = Field(0, description=\"1 if next day is any other national public holiday.\")"
   ]
  },
  {
   "cell_type": "code",
   "execution_count": null,
   "id": "997b6459",
   "metadata": {},
   "outputs": [],
   "source": [
    "from abc import ABC\n",
    "import numpy as np"
   ]
  },
  {
   "cell_type": "code",
   "execution_count": null,
   "id": "a55fe776",
   "metadata": {},
   "outputs": [],
   "source": [
    "def predict(request: DonationPredictionRequest):\n",
    "    \n",
    "    \n",
    "    #TODO: Load scalers from pickle files\n",
    "    \n",
    "    pred_dict = request.dict()\n",
    "    \n",
    "    lag1, lag2, lag3, lag4, lag5, lag6, lag7, \\\n",
    "        high_donation_holiday, low_donation_holiday, religion_or_culture_holiday, other_holiday = pred_dict.values()\n",
    "        \n",
    "    scaler_y = ABC()\n",
    "    scaler_x = ABC()\n",
    "    \n",
    "    x_seq = scaler_y.transform(np.ndarray(lag1, lag2, lag3, lag4, lag5, lag6, lag7))\n",
    "    x_feat = scaler_x.transform(np.ndarray(high_donation_holiday, low_donation_holiday, religion_or_culture_holiday, other_holiday))\n",
    "    \n",
    "    #TODO: Load model \n",
    "    model = ABC()\n",
    "\n",
    "    return scaler_y.inverse_transform(model.predict([x_seq, x_feat]).reshape(-1, 1)) "
   ]
  },
  {
   "cell_type": "code",
   "execution_count": null,
   "id": "b0d4df11",
   "metadata": {},
   "outputs": [],
   "source": []
  }
 ],
 "metadata": {
  "kernelspec": {
   "display_name": ".venv",
   "language": "python",
   "name": "python3"
  },
  "language_info": {
   "codemirror_mode": {
    "name": "ipython",
    "version": 3
   },
   "file_extension": ".py",
   "mimetype": "text/x-python",
   "name": "python",
   "nbconvert_exporter": "python",
   "pygments_lexer": "ipython3",
   "version": "3.12.3"
  }
 },
 "nbformat": 4,
 "nbformat_minor": 5
}
