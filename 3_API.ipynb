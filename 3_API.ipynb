{
 "cells": [
  {
   "cell_type": "markdown",
   "id": "146db9ef",
   "metadata": {},
   "source": [
    "# Testing the API"
   ]
  },
  {
   "cell_type": "code",
   "execution_count": null,
   "id": "6d4b829e",
   "metadata": {},
   "outputs": [],
   "source": [
    "import random\n",
    "import requests"
   ]
  },
  {
   "cell_type": "code",
   "execution_count": 138,
   "id": "6e2ed2a9",
   "metadata": {},
   "outputs": [],
   "source": [
    "BASE_URL = 'http://127.0.0.1:5000'"
   ]
  },
  {
   "cell_type": "markdown",
   "id": "ef153c38",
   "metadata": {},
   "source": [
    "# 1: Testing the status check"
   ]
  },
  {
   "cell_type": "code",
   "execution_count": null,
   "id": "d547e949",
   "metadata": {},
   "outputs": [],
   "source": [
    "scenario_1 = requests.get(f\"{BASE_URL}/health\")"
   ]
  },
  {
   "cell_type": "code",
   "execution_count": null,
   "metadata": {},
   "outputs": [],
   "source": [
    "print(\"Scenario 1 response: \", scenario_1.status_code, scenario_1.json())"
   ]
  },
  {
   "cell_type": "markdown",
   "id": "2a8540ab",
   "metadata": {},
   "source": [
    "# 2: Testing a correct input"
   ]
  },
  {
   "cell_type": "code",
   "execution_count": null,
   "id": "77ae10f7",
   "metadata": {},
   "outputs": [],
   "source": [
    "MU = 1500\n",
    "SIGMA = 300"
   ]
  },
  {
   "cell_type": "code",
   "execution_count": null,
   "id": "d9b7b5b0",
   "metadata": {},
   "outputs": [],
   "source": [
    "body = {\n",
    "    'lag1': random.normalvariate(MU, SIGMA),\n",
    "    'lag2': random.normalvariate(MU, SIGMA),\n",
    "    'lag3': random.normalvariate(MU, SIGMA),\n",
    "    'lag4': random.normalvariate(MU, SIGMA),\n",
    "    'lag5': random.normalvariate(MU, SIGMA),\n",
    "    'lag6': random.normalvariate(MU, SIGMA),\n",
    "    'lag7': random.normalvariate(MU, SIGMA),\n",
    "    'nextday': '20250501',\n",
    "}"
   ]
  },
  {
   "cell_type": "code",
   "execution_count": null,
   "id": "f8ae6511",
   "metadata": {},
   "outputs": [],
   "source": [
    "scenario_2 = requests.post(\n",
    "    f\"{BASE_URL}/predict\",\n",
    "    json=body\n",
    ")"
   ]
  },
  {
   "cell_type": "code",
   "execution_count": null,
   "id": "a55fe776",
   "metadata": {},
   "outputs": [
    {
     "data": {
      "text/plain": [
       "{'prediction': 695.0003662109375}"
      ]
     },
     "execution_count": 129,
     "metadata": {},
     "output_type": "execute_result"
    }
   ],
   "source": [
    "print(\"Scenario 2 response: \", scenario_2.status_code, scenario_2.json())"
   ]
  },
  {
   "cell_type": "markdown",
   "id": "8d71a214",
   "metadata": {},
   "source": [
    "# 3: Testing incorrect inputs"
   ]
  },
  {
   "cell_type": "code",
   "execution_count": null,
   "id": "66d93f7b",
   "metadata": {},
   "outputs": [],
   "source": [
    "# Test cases for invalid inputs for DonationPredictionRequest\n",
    "\n",
    "# Missing required fields\n",
    "invalid_body_1 = {\n",
    "    'lag1': random.normalvariate(MU, SIGMA),\n",
    "    # 'lag2' is missing\n",
    "    'lag3': random.normalvariate(MU, SIGMA),\n",
    "    'lag4': random.normalvariate(MU, SIGMA),\n",
    "    'lag5': random.normalvariate(MU, SIGMA),\n",
    "    'lag6': random.normalvariate(MU, SIGMA),\n",
    "    'lag7': random.normalvariate(MU, SIGMA),\n",
    "    'nextday': '20250501',\n",
    "}\n",
    "response_1 = requests.post(f\"{BASE_URL}/predict\", json=invalid_body_1)\n",
    "print(\"Missing lag2:\", response_1.status_code, response_1.json())\n",
    "\n",
    "# Invalid type for lag value\n",
    "invalid_body_2 = {\n",
    "    'lag1': \"not_a_number\",\n",
    "    'lag2': random.normalvariate(MU, SIGMA),\n",
    "    'lag3': random.normalvariate(MU, SIGMA),\n",
    "    'lag4': random.normalvariate(MU, SIGMA),\n",
    "    'lag5': random.normalvariate(MU, SIGMA),\n",
    "    'lag6': random.normalvariate(MU, SIGMA),\n",
    "    'lag7': random.normalvariate(MU, SIGMA),\n",
    "    'nextday': '20250501',\n",
    "}\n",
    "response_2 = requests.post(f\"{BASE_URL}/predict\", json=invalid_body_2)\n",
    "print(\"Invalid lag1 type:\", response_2.status_code, response_2.json())\n",
    "\n",
    "# Invalid date format\n",
    "invalid_body_3 = {\n",
    "    'lag1': random.normalvariate(MU, SIGMA),\n",
    "    'lag2': random.normalvariate(MU, SIGMA),\n",
    "    'lag3': random.normalvariate(MU, SIGMA),\n",
    "    'lag4': random.normalvariate(MU, SIGMA),\n",
    "    'lag5': random.normalvariate(MU, SIGMA),\n",
    "    'lag6': random.normalvariate(MU, SIGMA),\n",
    "    'lag7': random.normalvariate(MU, SIGMA),\n",
    "    'nextday': 'May 1st, 2025',  # Invalid format\n",
    "}\n",
    "response_3 = requests.post(f\"{BASE_URL}/predict\", json=invalid_body_3)\n",
    "print(\"Invalid nextday format:\", response_3.status_code, response_3.json())\n",
    "\n",
    "# Extra unexpected field\n",
    "invalid_body_4 = {\n",
    "    'lag1': random.normalvariate(MU, SIGMA),\n",
    "    'lag2': random.normalvariate(MU, SIGMA),\n",
    "    'lag3': random.normalvariate(MU, SIGMA),\n",
    "    'lag4': random.normalvariate(MU, SIGMA),\n",
    "    'lag5': random.normalvariate(MU, SIGMA),\n",
    "    'lag6': random.normalvariate(MU, SIGMA),\n",
    "    'lag7': random.normalvariate(MU, SIGMA),\n",
    "    'nextday': '20250501',\n",
    "    'extra_field': 123\n",
    "}\n",
    "response_4 = requests.post(f\"{BASE_URL}/predict\", json=invalid_body_4)\n",
    "print(\"Extra field:\", response_4.status_code, response_4.json())"
   ]
  },
  {
   "cell_type": "code",
   "execution_count": null,
   "id": "5fc55867",
   "metadata": {},
   "outputs": [],
   "source": []
  }
 ],
 "metadata": {
  "kernelspec": {
   "display_name": ".venv",
   "language": "python",
   "name": "python3"
  },
  "language_info": {
   "codemirror_mode": {
    "name": "ipython",
    "version": 3
   },
   "file_extension": ".py",
   "mimetype": "text/x-python",
   "name": "python",
   "nbconvert_exporter": "python",
   "pygments_lexer": "ipython3",
   "version": "3.12.3"
  }
 },
 "nbformat": 4,
 "nbformat_minor": 5
}
