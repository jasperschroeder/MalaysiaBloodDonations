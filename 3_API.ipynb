{
 "cells": [
  {
   "cell_type": "markdown",
   "id": "146db9ef",
   "metadata": {},
   "source": [
    "# Testing the API"
   ]
  },
  {
   "cell_type": "code",
   "execution_count": 1,
   "id": "6d4b829e",
   "metadata": {},
   "outputs": [],
   "source": [
    "import random\n",
    "import requests\n",
    "import constants"
   ]
  },
  {
   "cell_type": "markdown",
   "id": "ef153c38",
   "metadata": {},
   "source": [
    "# 1: Testing the status check"
   ]
  },
  {
   "cell_type": "code",
   "execution_count": 2,
   "id": "d547e949",
   "metadata": {},
   "outputs": [],
   "source": [
    "scenario_1 = requests.get(f\"{constants.BASE_URL_API}/health\")"
   ]
  },
  {
   "cell_type": "code",
   "execution_count": 3,
   "metadata": {},
   "outputs": [
    {
     "name": "stdout",
     "output_type": "stream",
     "text": [
      "Scenario 1 response:  200 {'status': 'ok'}\n"
     ]
    }
   ],
   "source": [
    "print(\"Scenario 1 response: \", scenario_1.status_code, scenario_1.json())"
   ]
  },
  {
   "cell_type": "markdown",
   "id": "2a8540ab",
   "metadata": {},
   "source": [
    "# 2: Testing a correct input"
   ]
  },
  {
   "cell_type": "code",
   "execution_count": 4,
   "id": "77ae10f7",
   "metadata": {},
   "outputs": [],
   "source": [
    "MU = 1500\n",
    "SIGMA = 300"
   ]
  },
  {
   "cell_type": "code",
   "execution_count": 5,
   "id": "d9b7b5b0",
   "metadata": {},
   "outputs": [],
   "source": [
    "body = {\n",
    "    'lag1': int(random.normalvariate(MU, SIGMA)),\n",
    "    'lag2': int(random.normalvariate(MU, SIGMA)),\n",
    "    'lag3': int(random.normalvariate(MU, SIGMA)),\n",
    "    'lag4': int(random.normalvariate(MU, SIGMA)),\n",
    "    'lag5': int(random.normalvariate(MU, SIGMA)),\n",
    "    'lag6': int(random.normalvariate(MU, SIGMA)),\n",
    "    'lag7': int(random.normalvariate(MU, SIGMA)),\n",
    "    'nextday': '20250501',\n",
    "}"
   ]
  },
  {
   "cell_type": "code",
   "execution_count": 6,
   "id": "f8ae6511",
   "metadata": {},
   "outputs": [],
   "source": [
    "scenario_2 = requests.post(\n",
    "    f\"{constants.BASE_URL_API}/predict\",\n",
    "    json=body\n",
    ")"
   ]
  },
  {
   "cell_type": "code",
   "execution_count": 7,
   "id": "a55fe776",
   "metadata": {},
   "outputs": [
    {
     "name": "stdout",
     "output_type": "stream",
     "text": [
      "Scenario 2 response:  200 {'prediction': 1268.5411376953125}\n"
     ]
    }
   ],
   "source": [
    "print(\"Scenario 2 response: \", scenario_2.status_code, scenario_2.json())"
   ]
  },
  {
   "cell_type": "markdown",
   "id": "8d71a214",
   "metadata": {},
   "source": [
    "# 3: Testing incorrect inputs"
   ]
  },
  {
   "cell_type": "code",
   "execution_count": 8,
   "id": "5b699edb",
   "metadata": {},
   "outputs": [
    {
     "name": "stdout",
     "output_type": "stream",
     "text": [
      "Missing lag2: 422 {'detail': [{'type': 'missing', 'loc': ['body', 'lag2'], 'msg': 'Field required', 'input': {'lag1': 1160, 'lag3': 1824, 'lag4': 1538, 'lag5': 1337, 'lag6': 1141, 'lag7': 1513, 'nextday': '20250501'}}]}\n"
     ]
    }
   ],
   "source": [
    "# Missing required fields\n",
    "invalid_body_1 = {\n",
    "    'lag1': int(random.normalvariate(MU, SIGMA)) ,\n",
    "    # 'lag2' is missing\n",
    "    'lag3': int(random.normalvariate(MU, SIGMA)),\n",
    "    'lag4': int(random.normalvariate(MU, SIGMA)),\n",
    "    'lag5': int(random.normalvariate(MU, SIGMA)),\n",
    "    'lag6': int(random.normalvariate(MU, SIGMA)),\n",
    "    'lag7': int(random.normalvariate(MU, SIGMA)),\n",
    "    'nextday': '20250501',\n",
    "}\n",
    "response_1 = requests.post(f\"{constants.BASE_URL_API}/predict\", json=invalid_body_1)\n",
    "print(\"Missing lag2:\", response_1.status_code, response_1.json())"
   ]
  },
  {
   "cell_type": "code",
   "execution_count": 9,
   "id": "94904e0b",
   "metadata": {},
   "outputs": [
    {
     "name": "stdout",
     "output_type": "stream",
     "text": [
      "Invalid lag1 type: 422 {'detail': [{'type': 'int_parsing', 'loc': ['body', 'lag1'], 'msg': 'Input should be a valid integer, unable to parse string as an integer', 'input': 'not_a_number'}]}\n"
     ]
    }
   ],
   "source": [
    "# Invalid type for lag value\n",
    "invalid_body_2 = {\n",
    "    'lag1': \"not_a_number\",\n",
    "    'lag2': int(random.normalvariate(MU, SIGMA)),\n",
    "    'lag3': int(random.normalvariate(MU, SIGMA)),\n",
    "    'lag4': int(random.normalvariate(MU, SIGMA)),\n",
    "    'lag5': int(random.normalvariate(MU, SIGMA)),\n",
    "    'lag6': int(random.normalvariate(MU, SIGMA)),\n",
    "    'lag7': int(random.normalvariate(MU, SIGMA)),\n",
    "    'nextday': '20250501',\n",
    "}\n",
    "response_2 = requests.post(f\"{constants.BASE_URL_API}/predict\", json=invalid_body_2)\n",
    "print(\"Invalid lag1 type:\", response_2.status_code, response_2.json())"
   ]
  },
  {
   "cell_type": "code",
   "execution_count": 10,
   "id": "50dd005b",
   "metadata": {},
   "outputs": [
    {
     "name": "stdout",
     "output_type": "stream",
     "text": [
      "Invalid nextday format: 422 {'detail': [{'type': 'assertion_error', 'loc': ['body', 'nextday'], 'msg': 'Assertion failed, nextday must be in the format YYYYMMDD.', 'input': 'May 1st, 2025', 'ctx': {'error': {}}}]}\n"
     ]
    }
   ],
   "source": [
    "# Invalid date format\n",
    "invalid_body_3 = {\n",
    "    'lag1': int(random.normalvariate(MU, SIGMA)),\n",
    "    'lag2': int(random.normalvariate(MU, SIGMA)),\n",
    "    'lag3': int(random.normalvariate(MU, SIGMA)),\n",
    "    'lag4': int(random.normalvariate(MU, SIGMA)),\n",
    "    'lag5': int(random.normalvariate(MU, SIGMA)),\n",
    "    'lag6': int(random.normalvariate(MU, SIGMA)),\n",
    "    'lag7': int(random.normalvariate(MU, SIGMA)),\n",
    "    'nextday': 'May 1st, 2025',  # Invalid format\n",
    "}\n",
    "response_3 = requests.post(f\"{constants.BASE_URL_API}/predict\", json=invalid_body_3)\n",
    "print(\"Invalid nextday format:\", response_3.status_code, response_3.json())"
   ]
  },
  {
   "cell_type": "code",
   "execution_count": 11,
   "id": "66d93f7b",
   "metadata": {},
   "outputs": [
    {
     "name": "stdout",
     "output_type": "stream",
     "text": [
      "Extra field: 422 {'detail': [{'type': 'extra_forbidden', 'loc': ['body', 'extra_field'], 'msg': 'Extra inputs are not permitted', 'input': 123}]}\n"
     ]
    }
   ],
   "source": [
    "# Extra unexpected field\n",
    "invalid_body_4 = {\n",
    "    'lag1': int(random.normalvariate(MU, SIGMA)),\n",
    "    'lag2': int(random.normalvariate(MU, SIGMA)),\n",
    "    'lag3': int(random.normalvariate(MU, SIGMA)),\n",
    "    'lag4': int(random.normalvariate(MU, SIGMA)),\n",
    "    'lag5': int(random.normalvariate(MU, SIGMA)),\n",
    "    'lag6': int(random.normalvariate(MU, SIGMA)),\n",
    "    'lag7': int(random.normalvariate(MU, SIGMA)),\n",
    "    'nextday': '20250501',\n",
    "    'extra_field': 123\n",
    "}\n",
    "response_4 = requests.post(f\"{constants.BASE_URL_API}/predict\", json=invalid_body_4)\n",
    "print(\"Extra field:\", response_4.status_code, response_4.json())"
   ]
  }
 ],
 "metadata": {
  "kernelspec": {
   "display_name": ".venv",
   "language": "python",
   "name": "python3"
  },
  "language_info": {
   "codemirror_mode": {
    "name": "ipython",
    "version": 3
   },
   "file_extension": ".py",
   "mimetype": "text/x-python",
   "name": "python",
   "nbconvert_exporter": "python",
   "pygments_lexer": "ipython3",
   "version": "3.12.3"
  }
 },
 "nbformat": 4,
 "nbformat_minor": 5
}
