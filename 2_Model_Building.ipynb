{
 "cells": [
  {
   "cell_type": "code",
   "execution_count": 1,
   "id": "da3bf54f",
   "metadata": {},
   "outputs": [],
   "source": [
    "import datetime\n",
    "import pickle\n",
    "import polars as pl\n",
    "import ml_utils\n",
    "import mlflow\n",
    "import absl.logging\n",
    "absl.logging.set_verbosity(absl.logging.ERROR)\n",
    "import warnings\n",
    "warnings.filterwarnings(\"ignore\")\n",
    "from sklearn.metrics import mean_absolute_error\n",
    "import constants\n",
    "import numpy as np\n",
    "import optuna\n",
    "from optuna.integration.mlflow import MLflowCallback"
   ]
  },
  {
   "cell_type": "code",
   "execution_count": 2,
   "id": "847fc53a",
   "metadata": {},
   "outputs": [],
   "source": [
    "with open(\"df_all.pkl\", \"rb\") as file:\n",
    "    df_all = pickle.load(file)"
   ]
  },
  {
   "cell_type": "code",
   "execution_count": 3,
   "id": "0cb3a57e",
   "metadata": {},
   "outputs": [
    {
     "data": {
      "text/html": [
       "<div><style>\n",
       ".dataframe > thead > tr,\n",
       ".dataframe > tbody > tr {\n",
       "  text-align: right;\n",
       "  white-space: pre-wrap;\n",
       "}\n",
       "</style>\n",
       "<small>shape: (8, 13)</small><table border=\"1\" class=\"dataframe\"><thead><tr><th>date</th><th>a</th><th>b</th><th>o</th><th>ab</th><th>all</th><th>is_religion_or_culture_holiday</th><th>is_other_holiday</th><th>is_low_donation_holiday</th><th>is_high_donation_holiday</th><th>weekday</th><th>month</th><th>day_of_year</th></tr><tr><td>date</td><td>i64</td><td>i64</td><td>i64</td><td>i64</td><td>i64</td><td>u8</td><td>u8</td><td>u8</td><td>u8</td><td>i8</td><td>i8</td><td>i16</td></tr></thead><tbody><tr><td>2006-01-01</td><td>152</td><td>139</td><td>194</td><td>40</td><td>525</td><td>0</td><td>0</td><td>0</td><td>0</td><td>7</td><td>1</td><td>1</td></tr><tr><td>2006-01-02</td><td>53</td><td>43</td><td>112</td><td>19</td><td>227</td><td>0</td><td>0</td><td>0</td><td>0</td><td>1</td><td>1</td><td>2</td></tr><tr><td>2006-01-03</td><td>29</td><td>21</td><td>56</td><td>6</td><td>112</td><td>0</td><td>0</td><td>0</td><td>0</td><td>2</td><td>1</td><td>3</td></tr><tr><td>2006-01-04</td><td>92</td><td>98</td><td>165</td><td>36</td><td>391</td><td>0</td><td>0</td><td>0</td><td>0</td><td>3</td><td>1</td><td>4</td></tr><tr><td>2006-01-05</td><td>149</td><td>198</td><td>193</td><td>42</td><td>582</td><td>0</td><td>0</td><td>0</td><td>0</td><td>4</td><td>1</td><td>5</td></tr><tr><td>2006-01-06</td><td>94</td><td>77</td><td>126</td><td>27</td><td>324</td><td>0</td><td>0</td><td>0</td><td>0</td><td>5</td><td>1</td><td>6</td></tr><tr><td>2006-01-07</td><td>29</td><td>28</td><td>48</td><td>13</td><td>118</td><td>0</td><td>0</td><td>0</td><td>0</td><td>6</td><td>1</td><td>7</td></tr><tr><td>2006-01-08</td><td>218</td><td>212</td><td>314</td><td>51</td><td>795</td><td>0</td><td>0</td><td>0</td><td>0</td><td>7</td><td>1</td><td>8</td></tr></tbody></table></div>"
      ],
      "text/plain": [
       "shape: (8, 13)\n",
       "┌────────────┬─────┬─────┬─────┬───┬──────────────────────────┬─────────┬───────┬─────────────┐\n",
       "│ date       ┆ a   ┆ b   ┆ o   ┆ … ┆ is_high_donation_holiday ┆ weekday ┆ month ┆ day_of_year │\n",
       "│ ---        ┆ --- ┆ --- ┆ --- ┆   ┆ ---                      ┆ ---     ┆ ---   ┆ ---         │\n",
       "│ date       ┆ i64 ┆ i64 ┆ i64 ┆   ┆ u8                       ┆ i8      ┆ i8    ┆ i16         │\n",
       "╞════════════╪═════╪═════╪═════╪═══╪══════════════════════════╪═════════╪═══════╪═════════════╡\n",
       "│ 2006-01-01 ┆ 152 ┆ 139 ┆ 194 ┆ … ┆ 0                        ┆ 7       ┆ 1     ┆ 1           │\n",
       "│ 2006-01-02 ┆ 53  ┆ 43  ┆ 112 ┆ … ┆ 0                        ┆ 1       ┆ 1     ┆ 2           │\n",
       "│ 2006-01-03 ┆ 29  ┆ 21  ┆ 56  ┆ … ┆ 0                        ┆ 2       ┆ 1     ┆ 3           │\n",
       "│ 2006-01-04 ┆ 92  ┆ 98  ┆ 165 ┆ … ┆ 0                        ┆ 3       ┆ 1     ┆ 4           │\n",
       "│ 2006-01-05 ┆ 149 ┆ 198 ┆ 193 ┆ … ┆ 0                        ┆ 4       ┆ 1     ┆ 5           │\n",
       "│ 2006-01-06 ┆ 94  ┆ 77  ┆ 126 ┆ … ┆ 0                        ┆ 5       ┆ 1     ┆ 6           │\n",
       "│ 2006-01-07 ┆ 29  ┆ 28  ┆ 48  ┆ … ┆ 0                        ┆ 6       ┆ 1     ┆ 7           │\n",
       "│ 2006-01-08 ┆ 218 ┆ 212 ┆ 314 ┆ … ┆ 0                        ┆ 7       ┆ 1     ┆ 8           │\n",
       "└────────────┴─────┴─────┴─────┴───┴──────────────────────────┴─────────┴───────┴─────────────┘"
      ]
     },
     "execution_count": 3,
     "metadata": {},
     "output_type": "execute_result"
    }
   ],
   "source": [
    "df_all = df_all.with_columns([\n",
    "    pl.col(\"date\").dt.weekday().alias(\"weekday\"),\n",
    "    pl.col(\"date\").dt.month().alias(\"month\"),\n",
    "    pl.col(\"date\").dt.ordinal_day().alias(\"day_of_year\")   \n",
    "])\n",
    "\n",
    "df_all.head(8)"
   ]
  },
  {
   "cell_type": "code",
   "execution_count": 4,
   "id": "67f99784",
   "metadata": {},
   "outputs": [],
   "source": [
    "for lag in range(1, constants.WINDOW_SIZE+1):\n",
    "    df_all = df_all.with_columns(\n",
    "        pl.col(\"all\").shift(lag).alias(f\"all_lag_{lag}\")\n",
    "    )\n",
    "\n",
    "df_all = df_all.drop_nulls()"
   ]
  },
  {
   "cell_type": "code",
   "execution_count": 5,
   "id": "079ff73b",
   "metadata": {},
   "outputs": [
    {
     "data": {
      "text/html": [
       "<div><style>\n",
       ".dataframe > thead > tr,\n",
       ".dataframe > tbody > tr {\n",
       "  text-align: right;\n",
       "  white-space: pre-wrap;\n",
       "}\n",
       "</style>\n",
       "<small>shape: (7_084, 20)</small><table border=\"1\" class=\"dataframe\"><thead><tr><th>date</th><th>a</th><th>b</th><th>o</th><th>ab</th><th>all</th><th>is_religion_or_culture_holiday</th><th>is_other_holiday</th><th>is_low_donation_holiday</th><th>is_high_donation_holiday</th><th>weekday</th><th>month</th><th>day_of_year</th><th>all_lag_1</th><th>all_lag_2</th><th>all_lag_3</th><th>all_lag_4</th><th>all_lag_5</th><th>all_lag_6</th><th>all_lag_7</th></tr><tr><td>date</td><td>i64</td><td>i64</td><td>i64</td><td>i64</td><td>i64</td><td>u8</td><td>u8</td><td>u8</td><td>u8</td><td>i8</td><td>i8</td><td>i16</td><td>i64</td><td>i64</td><td>i64</td><td>i64</td><td>i64</td><td>i64</td><td>i64</td></tr></thead><tbody><tr><td>2006-01-08</td><td>218</td><td>212</td><td>314</td><td>51</td><td>795</td><td>0</td><td>0</td><td>0</td><td>0</td><td>7</td><td>1</td><td>8</td><td>118</td><td>324</td><td>582</td><td>391</td><td>112</td><td>227</td><td>525</td></tr><tr><td>2006-01-09</td><td>83</td><td>95</td><td>151</td><td>17</td><td>346</td><td>0</td><td>0</td><td>0</td><td>0</td><td>1</td><td>1</td><td>9</td><td>795</td><td>118</td><td>324</td><td>582</td><td>391</td><td>112</td><td>227</td></tr><tr><td>2006-01-10</td><td>1</td><td>0</td><td>1</td><td>0</td><td>2</td><td>0</td><td>0</td><td>1</td><td>0</td><td>2</td><td>1</td><td>10</td><td>346</td><td>795</td><td>118</td><td>324</td><td>582</td><td>391</td><td>112</td></tr><tr><td>2006-01-11</td><td>128</td><td>111</td><td>179</td><td>30</td><td>448</td><td>0</td><td>0</td><td>0</td><td>0</td><td>3</td><td>1</td><td>11</td><td>2</td><td>346</td><td>795</td><td>118</td><td>324</td><td>582</td><td>391</td></tr><tr><td>2006-01-12</td><td>211</td><td>236</td><td>316</td><td>42</td><td>805</td><td>0</td><td>0</td><td>0</td><td>0</td><td>4</td><td>1</td><td>12</td><td>448</td><td>2</td><td>346</td><td>795</td><td>118</td><td>324</td><td>582</td></tr><tr><td>&hellip;</td><td>&hellip;</td><td>&hellip;</td><td>&hellip;</td><td>&hellip;</td><td>&hellip;</td><td>&hellip;</td><td>&hellip;</td><td>&hellip;</td><td>&hellip;</td><td>&hellip;</td><td>&hellip;</td><td>&hellip;</td><td>&hellip;</td><td>&hellip;</td><td>&hellip;</td><td>&hellip;</td><td>&hellip;</td><td>&hellip;</td><td>&hellip;</td></tr><tr><td>2025-05-27</td><td>287</td><td>319</td><td>517</td><td>58</td><td>1181</td><td>0</td><td>0</td><td>0</td><td>0</td><td>2</td><td>5</td><td>147</td><td>1024</td><td>3215</td><td>2123</td><td>993</td><td>1626</td><td>1514</td><td>1843</td></tr><tr><td>2025-05-28</td><td>342</td><td>399</td><td>625</td><td>73</td><td>1439</td><td>0</td><td>0</td><td>0</td><td>0</td><td>3</td><td>5</td><td>148</td><td>1181</td><td>1024</td><td>3215</td><td>2123</td><td>993</td><td>1626</td><td>1514</td></tr><tr><td>2025-05-29</td><td>341</td><td>395</td><td>596</td><td>47</td><td>1379</td><td>0</td><td>0</td><td>0</td><td>0</td><td>4</td><td>5</td><td>149</td><td>1439</td><td>1181</td><td>1024</td><td>3215</td><td>2123</td><td>993</td><td>1626</td></tr><tr><td>2025-05-30</td><td>221</td><td>266</td><td>419</td><td>40</td><td>946</td><td>0</td><td>0</td><td>0</td><td>0</td><td>5</td><td>5</td><td>150</td><td>1379</td><td>1439</td><td>1181</td><td>1024</td><td>3215</td><td>2123</td><td>993</td></tr><tr><td>2025-05-31</td><td>398</td><td>478</td><td>655</td><td>69</td><td>1600</td><td>0</td><td>0</td><td>0</td><td>0</td><td>6</td><td>5</td><td>151</td><td>946</td><td>1379</td><td>1439</td><td>1181</td><td>1024</td><td>3215</td><td>2123</td></tr></tbody></table></div>"
      ],
      "text/plain": [
       "shape: (7_084, 20)\n",
       "┌────────────┬─────┬─────┬─────┬───┬───────────┬───────────┬───────────┬───────────┐\n",
       "│ date       ┆ a   ┆ b   ┆ o   ┆ … ┆ all_lag_4 ┆ all_lag_5 ┆ all_lag_6 ┆ all_lag_7 │\n",
       "│ ---        ┆ --- ┆ --- ┆ --- ┆   ┆ ---       ┆ ---       ┆ ---       ┆ ---       │\n",
       "│ date       ┆ i64 ┆ i64 ┆ i64 ┆   ┆ i64       ┆ i64       ┆ i64       ┆ i64       │\n",
       "╞════════════╪═════╪═════╪═════╪═══╪═══════════╪═══════════╪═══════════╪═══════════╡\n",
       "│ 2006-01-08 ┆ 218 ┆ 212 ┆ 314 ┆ … ┆ 391       ┆ 112       ┆ 227       ┆ 525       │\n",
       "│ 2006-01-09 ┆ 83  ┆ 95  ┆ 151 ┆ … ┆ 582       ┆ 391       ┆ 112       ┆ 227       │\n",
       "│ 2006-01-10 ┆ 1   ┆ 0   ┆ 1   ┆ … ┆ 324       ┆ 582       ┆ 391       ┆ 112       │\n",
       "│ 2006-01-11 ┆ 128 ┆ 111 ┆ 179 ┆ … ┆ 118       ┆ 324       ┆ 582       ┆ 391       │\n",
       "│ 2006-01-12 ┆ 211 ┆ 236 ┆ 316 ┆ … ┆ 795       ┆ 118       ┆ 324       ┆ 582       │\n",
       "│ …          ┆ …   ┆ …   ┆ …   ┆ … ┆ …         ┆ …         ┆ …         ┆ …         │\n",
       "│ 2025-05-27 ┆ 287 ┆ 319 ┆ 517 ┆ … ┆ 993       ┆ 1626      ┆ 1514      ┆ 1843      │\n",
       "│ 2025-05-28 ┆ 342 ┆ 399 ┆ 625 ┆ … ┆ 2123      ┆ 993       ┆ 1626      ┆ 1514      │\n",
       "│ 2025-05-29 ┆ 341 ┆ 395 ┆ 596 ┆ … ┆ 3215      ┆ 2123      ┆ 993       ┆ 1626      │\n",
       "│ 2025-05-30 ┆ 221 ┆ 266 ┆ 419 ┆ … ┆ 1024      ┆ 3215      ┆ 2123      ┆ 993       │\n",
       "│ 2025-05-31 ┆ 398 ┆ 478 ┆ 655 ┆ … ┆ 1181      ┆ 1024      ┆ 3215      ┆ 2123      │\n",
       "└────────────┴─────┴─────┴─────┴───┴───────────┴───────────┴───────────┴───────────┘"
      ]
     },
     "execution_count": 5,
     "metadata": {},
     "output_type": "execute_result"
    }
   ],
   "source": [
    "df_all"
   ]
  },
  {
   "cell_type": "code",
   "execution_count": 6,
   "id": "c7b424b4",
   "metadata": {},
   "outputs": [],
   "source": [
    "X_seq = df_all.select([f\"all_lag_{lag}\" for lag in range(1, constants.WINDOW_SIZE+1)]).to_numpy().reshape(-1, constants.WINDOW_SIZE, 1)\n",
    "X_features = df_all.select([\"weekday\", \"month\", \"day_of_year\", \"is_religion_or_culture_holiday\", \"is_other_holiday\", \"is_low_donation_holiday\", \"is_high_donation_holiday\"]).to_numpy()\n",
    "y = df_all['all'].to_numpy()"
   ]
  },
  {
   "cell_type": "code",
   "execution_count": 7,
   "id": "bdf608c5",
   "metadata": {},
   "outputs": [],
   "source": [
    "# Set up scalers \n",
    "from sklearn.preprocessing import StandardScaler\n",
    "\n",
    "y_scaler = StandardScaler()\n",
    "X_scaler = StandardScaler()"
   ]
  },
  {
   "cell_type": "code",
   "execution_count": 8,
   "id": "3d28e24e",
   "metadata": {},
   "outputs": [],
   "source": [
    "y_scaled = y_scaler.fit_transform(y.reshape(-1, 1)).flatten()\n",
    "X_features_scaled = X_scaler.fit_transform(X_features)\n",
    "X_seq_scaled = y_scaler.transform(X_seq.reshape(-1, 1)).reshape(-1, constants.WINDOW_SIZE, 1)"
   ]
  },
  {
   "cell_type": "code",
   "execution_count": 9,
   "id": "4e0f37c3",
   "metadata": {},
   "outputs": [],
   "source": [
    "with open('x_scaler.pkl', 'wb') as file:\n",
    "    pickle.dump(X_scaler, file)\n",
    "    \n",
    "with open('y_scaler.pkl', 'wb') as file:\n",
    "    pickle.dump(y_scaler, file)"
   ]
  },
  {
   "cell_type": "code",
   "execution_count": 10,
   "id": "1f05c8d2",
   "metadata": {},
   "outputs": [],
   "source": [
    "X_seq_train, X_seq_val, X_seq_test, X_features_train, X_features_val, X_features_test, y_train, y_val, y_test = ml_utils.train_val_split_lstm_feature_data(\n",
    "    X_seq_scaled,\n",
    "    X_features_scaled,\n",
    "    y_scaled,\n",
    "    constants.TRAIN_FRAC,\n",
    "    constants.VAL_FRAC\n",
    ")"
   ]
  },
  {
   "cell_type": "code",
   "execution_count": null,
   "id": "e29a6d42",
   "metadata": {},
   "outputs": [],
   "source": [
    "experiment_name = f\"{constants.EXPERIMENT_NAME}_{datetime.datetime.now().strftime('%Y%m%d')}\"\n",
    "experiment_id = ml_utils.get_or_create_mlflow_experiment(experiment_name)\n",
    "mlflow.set_experiment(experiment_name)\n",
    "mlflow_callback = MLflowCallback(\n",
    "    tracking_uri = mlflow.get_tracking_uri(),\n",
    "    metric_name = \"val_loss\"\n",
    ")"
   ]
  },
  {
   "cell_type": "code",
   "execution_count": 12,
   "id": "9071c880",
   "metadata": {},
   "outputs": [],
   "source": [
    "def objective(trial):\n",
    "    seq_type = trial.suggest_categorical(\"seq_type\", [\"LSTM\", \"SimpleRNN\", \"GRU\"])\n",
    "    seq_units = trial.suggest_int(\"seq_units\", 12, 64)\n",
    "    dense_units = trial.suggest_int(\"dense_units\", 4, 12)\n",
    "    activation = trial.suggest_categorical(\"activation\", [\"relu\", \"mish\", \"sigmoid\"])\n",
    "    optimizer = trial.suggest_categorical(\"optimizer\", [\"adam\", \"rmsprop\"])\n",
    "    dropout = trial.suggest_float(\"dropout\", 0.01, 0.2)\n",
    "    learning_rate = trial.suggest_float(\"learning_rate\", 0.0001, 0.1, log=True)  # log scale for LR\n",
    "    batch_size = trial.suggest_categorical(\"batch_size\", [16, 32, 64, 128])\n",
    "    \n",
    "    ml_utils.run_experiment(\n",
    "        X_seq_train, X_features_train, y_train,\n",
    "        X_seq_val, X_features_val, y_val,\n",
    "        seq_type=seq_type,\n",
    "        seq_units=seq_units,\n",
    "        dense_units=dense_units,\n",
    "        activation=activation,\n",
    "        optimizer=optimizer,\n",
    "        dropout=dropout,\n",
    "        learning_rate=learning_rate,\n",
    "        batch_size=batch_size,\n",
    "        experiment_id=experiment_id\n",
    "    )\n",
    "    \n",
    "    runs = mlflow.search_runs(experiment_ids=[experiment_id], order_by=[\"metrics.val_loss DESC\"])\n",
    "    val_loss = runs.iloc[0][\"metrics.val_loss\"]\n",
    "    return val_loss"
   ]
  },
  {
   "cell_type": "code",
   "execution_count": 13,
   "id": "85055fe8",
   "metadata": {},
   "outputs": [
    {
     "name": "stderr",
     "output_type": "stream",
     "text": [
      "[I 2025-06-01 10:39:03,576] A new study created in memory with name: no-name-a818479e-7307-48a8-9ef4-71a82f2f6066\n"
     ]
    },
    {
     "data": {
      "text/html": [
       "<pre style=\"white-space:pre;overflow-x:auto;line-height:normal;font-family:Menlo,'DejaVu Sans Mono',consolas,'Courier New',monospace\"></pre>\n"
      ],
      "text/plain": []
     },
     "metadata": {},
     "output_type": "display_data"
    },
    {
     "name": "stdout",
     "output_type": "stream",
     "text": [
      "\u001b[1m23/23\u001b[0m \u001b[32m━━━━━━━━━━━━━━━━━━━━\u001b[0m\u001b[37m\u001b[0m \u001b[1m0s\u001b[0m 2ms/step - loss: 0.3472 - mae: 0.4213 \n",
      "Validation Loss: 0.4009554088115692, Validation MAE: 0.452402263879776\n"
     ]
    },
    {
     "name": "stderr",
     "output_type": "stream",
     "text": [
      "[I 2025-06-01 10:39:35,422] Trial 0 finished with value: 0.4874158203601837 and parameters: {'seq_type': 'LSTM', 'seq_units': 57, 'dense_units': 6, 'activation': 'relu', 'optimizer': 'adam', 'dropout': 0.19254804655286312, 'learning_rate': 0.07390158445226248, 'batch_size': 16}. Best is trial 0 with value: 0.4874158203601837.\n",
      "2025/06/01 10:39:35 INFO mlflow.tracking.fluent: Experiment with name 'no-name-a818479e-7307-48a8-9ef4-71a82f2f6066' does not exist. Creating a new experiment.\n"
     ]
    },
    {
     "data": {
      "text/html": [
       "<pre style=\"white-space:pre;overflow-x:auto;line-height:normal;font-family:Menlo,'DejaVu Sans Mono',consolas,'Courier New',monospace\"></pre>\n"
      ],
      "text/plain": []
     },
     "metadata": {},
     "output_type": "display_data"
    },
    {
     "name": "stdout",
     "output_type": "stream",
     "text": [
      "\u001b[1m23/23\u001b[0m \u001b[32m━━━━━━━━━━━━━━━━━━━━\u001b[0m\u001b[37m\u001b[0m \u001b[1m0s\u001b[0m 2ms/step - loss: 0.2448 - mae: 0.3493 \n",
      "Validation Loss: 0.28440961241722107, Validation MAE: 0.3790389597415924\n"
     ]
    },
    {
     "name": "stderr",
     "output_type": "stream",
     "text": [
      "[I 2025-06-01 10:41:13,669] Trial 1 finished with value: 0.4874158203601837 and parameters: {'seq_type': 'GRU', 'seq_units': 17, 'dense_units': 9, 'activation': 'sigmoid', 'optimizer': 'rmsprop', 'dropout': 0.10266534184804123, 'learning_rate': 0.06864089849960851, 'batch_size': 16}. Best is trial 0 with value: 0.4874158203601837.\n"
     ]
    },
    {
     "data": {
      "text/html": [
       "<pre style=\"white-space:pre;overflow-x:auto;line-height:normal;font-family:Menlo,'DejaVu Sans Mono',consolas,'Courier New',monospace\"></pre>\n"
      ],
      "text/plain": []
     },
     "metadata": {},
     "output_type": "display_data"
    },
    {
     "name": "stdout",
     "output_type": "stream",
     "text": [
      "\u001b[1m23/23\u001b[0m \u001b[32m━━━━━━━━━━━━━━━━━━━━\u001b[0m\u001b[37m\u001b[0m \u001b[1m0s\u001b[0m 7ms/step - loss: 0.3006 - mae: 0.3736\n",
      "Validation Loss: 0.3153177797794342, Validation MAE: 0.3890756368637085\n"
     ]
    },
    {
     "name": "stderr",
     "output_type": "stream",
     "text": [
      "[I 2025-06-01 10:44:55,312] Trial 2 finished with value: 0.4874158203601837 and parameters: {'seq_type': 'GRU', 'seq_units': 15, 'dense_units': 4, 'activation': 'mish', 'optimizer': 'adam', 'dropout': 0.0532208265270686, 'learning_rate': 0.00023981179550705662, 'batch_size': 128}. Best is trial 0 with value: 0.4874158203601837.\n"
     ]
    },
    {
     "data": {
      "text/html": [
       "<pre style=\"white-space:pre;overflow-x:auto;line-height:normal;font-family:Menlo,'DejaVu Sans Mono',consolas,'Courier New',monospace\"></pre>\n"
      ],
      "text/plain": []
     },
     "metadata": {},
     "output_type": "display_data"
    },
    {
     "name": "stdout",
     "output_type": "stream",
     "text": [
      "\u001b[1m23/23\u001b[0m \u001b[32m━━━━━━━━━━━━━━━━━━━━\u001b[0m\u001b[37m\u001b[0m \u001b[1m0s\u001b[0m 5ms/step - loss: 0.3138 - mae: 0.4140\n",
      "Validation Loss: 0.3359978199005127, Validation MAE: 0.42847782373428345\n"
     ]
    },
    {
     "name": "stderr",
     "output_type": "stream",
     "text": [
      "[I 2025-06-01 10:45:55,640] Trial 3 finished with value: 0.4874158203601837 and parameters: {'seq_type': 'SimpleRNN', 'seq_units': 43, 'dense_units': 9, 'activation': 'relu', 'optimizer': 'adam', 'dropout': 0.04305412254863414, 'learning_rate': 0.045546425190813936, 'batch_size': 32}. Best is trial 0 with value: 0.4874158203601837.\n"
     ]
    },
    {
     "data": {
      "text/html": [
       "<pre style=\"white-space:pre;overflow-x:auto;line-height:normal;font-family:Menlo,'DejaVu Sans Mono',consolas,'Courier New',monospace\"></pre>\n"
      ],
      "text/plain": []
     },
     "metadata": {},
     "output_type": "display_data"
    },
    {
     "name": "stdout",
     "output_type": "stream",
     "text": [
      "\u001b[1m23/23\u001b[0m \u001b[32m━━━━━━━━━━━━━━━━━━━━\u001b[0m\u001b[37m\u001b[0m \u001b[1m0s\u001b[0m 5ms/step - loss: 0.2521 - mae: 0.3491\n",
      "Validation Loss: 0.27312177419662476, Validation MAE: 0.3682532012462616\n"
     ]
    },
    {
     "name": "stderr",
     "output_type": "stream",
     "text": [
      "[I 2025-06-01 10:46:54,426] Trial 4 finished with value: 0.4874158203601837 and parameters: {'seq_type': 'SimpleRNN', 'seq_units': 46, 'dense_units': 4, 'activation': 'relu', 'optimizer': 'rmsprop', 'dropout': 0.0750933766480435, 'learning_rate': 0.0030351208325453496, 'batch_size': 64}. Best is trial 0 with value: 0.4874158203601837.\n"
     ]
    },
    {
     "data": {
      "text/html": [
       "<pre style=\"white-space:pre;overflow-x:auto;line-height:normal;font-family:Menlo,'DejaVu Sans Mono',consolas,'Courier New',monospace\"></pre>\n"
      ],
      "text/plain": []
     },
     "metadata": {},
     "output_type": "display_data"
    },
    {
     "name": "stdout",
     "output_type": "stream",
     "text": [
      "\u001b[1m23/23\u001b[0m \u001b[32m━━━━━━━━━━━━━━━━━━━━\u001b[0m\u001b[37m\u001b[0m \u001b[1m0s\u001b[0m 6ms/step - loss: 1.0154 - mae: 0.7635\n",
      "Validation Loss: 1.1188957691192627, Validation MAE: 0.804219663143158\n"
     ]
    },
    {
     "name": "stderr",
     "output_type": "stream",
     "text": [
      "[I 2025-06-01 10:50:24,035] Trial 5 finished with value: 1.1188956499099731 and parameters: {'seq_type': 'SimpleRNN', 'seq_units': 55, 'dense_units': 4, 'activation': 'mish', 'optimizer': 'adam', 'dropout': 0.08601929589746997, 'learning_rate': 0.08012952335730351, 'batch_size': 128}. Best is trial 0 with value: 0.4874158203601837.\n"
     ]
    },
    {
     "data": {
      "text/html": [
       "<pre style=\"white-space:pre;overflow-x:auto;line-height:normal;font-family:Menlo,'DejaVu Sans Mono',consolas,'Courier New',monospace\"></pre>\n"
      ],
      "text/plain": []
     },
     "metadata": {},
     "output_type": "display_data"
    },
    {
     "name": "stdout",
     "output_type": "stream",
     "text": [
      "\u001b[1m23/23\u001b[0m \u001b[32m━━━━━━━━━━━━━━━━━━━━\u001b[0m\u001b[37m\u001b[0m \u001b[1m0s\u001b[0m 5ms/step - loss: 0.2728 - mae: 0.3682\n",
      "Validation Loss: 0.29434189200401306, Validation MAE: 0.384472131729126\n"
     ]
    },
    {
     "name": "stderr",
     "output_type": "stream",
     "text": [
      "[I 2025-06-01 10:59:22,667] Trial 6 finished with value: 1.1188956499099731 and parameters: {'seq_type': 'LSTM', 'seq_units': 41, 'dense_units': 4, 'activation': 'relu', 'optimizer': 'rmsprop', 'dropout': 0.1278503565011293, 'learning_rate': 0.00011913931195222535, 'batch_size': 32}. Best is trial 0 with value: 0.4874158203601837.\n"
     ]
    },
    {
     "data": {
      "text/html": [
       "<pre style=\"white-space:pre;overflow-x:auto;line-height:normal;font-family:Menlo,'DejaVu Sans Mono',consolas,'Courier New',monospace\"></pre>\n"
      ],
      "text/plain": []
     },
     "metadata": {},
     "output_type": "display_data"
    },
    {
     "name": "stdout",
     "output_type": "stream",
     "text": [
      "\u001b[1m23/23\u001b[0m \u001b[32m━━━━━━━━━━━━━━━━━━━━\u001b[0m\u001b[37m\u001b[0m \u001b[1m0s\u001b[0m 9ms/step - loss: 0.3026 - mae: 0.3704\n",
      "Validation Loss: 0.3089635670185089, Validation MAE: 0.3814390301704407\n"
     ]
    },
    {
     "name": "stderr",
     "output_type": "stream",
     "text": [
      "[I 2025-06-01 11:02:13,824] Trial 7 finished with value: 1.1188956499099731 and parameters: {'seq_type': 'LSTM', 'seq_units': 25, 'dense_units': 8, 'activation': 'mish', 'optimizer': 'adam', 'dropout': 0.18487713018362353, 'learning_rate': 0.0006094998943043811, 'batch_size': 64}. Best is trial 0 with value: 0.4874158203601837.\n"
     ]
    },
    {
     "data": {
      "text/html": [
       "<pre style=\"white-space:pre;overflow-x:auto;line-height:normal;font-family:Menlo,'DejaVu Sans Mono',consolas,'Courier New',monospace\"></pre>\n"
      ],
      "text/plain": []
     },
     "metadata": {},
     "output_type": "display_data"
    },
    {
     "name": "stdout",
     "output_type": "stream",
     "text": [
      "\u001b[1m23/23\u001b[0m \u001b[32m━━━━━━━━━━━━━━━━━━━━\u001b[0m\u001b[37m\u001b[0m \u001b[1m0s\u001b[0m 7ms/step - loss: 0.2807 - mae: 0.3720\n",
      "Validation Loss: 0.3076348304748535, Validation MAE: 0.3932841122150421\n"
     ]
    },
    {
     "name": "stderr",
     "output_type": "stream",
     "text": [
      "[I 2025-06-01 11:03:34,697] Trial 8 finished with value: 1.1188956499099731 and parameters: {'seq_type': 'SimpleRNN', 'seq_units': 20, 'dense_units': 9, 'activation': 'relu', 'optimizer': 'rmsprop', 'dropout': 0.19813684241099208, 'learning_rate': 0.0006801226353868108, 'batch_size': 128}. Best is trial 0 with value: 0.4874158203601837.\n"
     ]
    },
    {
     "data": {
      "text/html": [
       "<pre style=\"white-space:pre;overflow-x:auto;line-height:normal;font-family:Menlo,'DejaVu Sans Mono',consolas,'Courier New',monospace\"></pre>\n"
      ],
      "text/plain": []
     },
     "metadata": {},
     "output_type": "display_data"
    },
    {
     "name": "stdout",
     "output_type": "stream",
     "text": [
      "\u001b[1m23/23\u001b[0m \u001b[32m━━━━━━━━━━━━━━━━━━━━\u001b[0m\u001b[37m\u001b[0m \u001b[1m0s\u001b[0m 6ms/step - loss: 0.2910 - mae: 0.3847\n",
      "Validation Loss: 0.3261719346046448, Validation MAE: 0.40834325551986694\n"
     ]
    },
    {
     "name": "stderr",
     "output_type": "stream",
     "text": [
      "[I 2025-06-01 11:07:10,920] Trial 9 finished with value: 1.1188956499099731 and parameters: {'seq_type': 'SimpleRNN', 'seq_units': 28, 'dense_units': 5, 'activation': 'relu', 'optimizer': 'rmsprop', 'dropout': 0.17189015022359963, 'learning_rate': 0.0001933843838982532, 'batch_size': 64}. Best is trial 0 with value: 0.4874158203601837.\n"
     ]
    },
    {
     "data": {
      "text/html": [
       "<pre style=\"white-space:pre;overflow-x:auto;line-height:normal;font-family:Menlo,'DejaVu Sans Mono',consolas,'Courier New',monospace\"></pre>\n"
      ],
      "text/plain": []
     },
     "metadata": {},
     "output_type": "display_data"
    },
    {
     "name": "stdout",
     "output_type": "stream",
     "text": [
      "\u001b[1m23/23\u001b[0m \u001b[32m━━━━━━━━━━━━━━━━━━━━\u001b[0m\u001b[37m\u001b[0m \u001b[1m0s\u001b[0m 8ms/step - loss: 0.2331 - mae: 0.3438\n",
      "Validation Loss: 0.25623929500579834, Validation MAE: 0.3627222776412964\n"
     ]
    },
    {
     "name": "stderr",
     "output_type": "stream",
     "text": [
      "[I 2025-06-01 11:10:45,420] Trial 10 finished with value: 1.1188956499099731 and parameters: {'seq_type': 'LSTM', 'seq_units': 64, 'dense_units': 12, 'activation': 'sigmoid', 'optimizer': 'adam', 'dropout': 0.14454442650967347, 'learning_rate': 0.014527470565287689, 'batch_size': 16}. Best is trial 0 with value: 0.4874158203601837.\n"
     ]
    },
    {
     "data": {
      "text/html": [
       "<pre style=\"white-space:pre;overflow-x:auto;line-height:normal;font-family:Menlo,'DejaVu Sans Mono',consolas,'Courier New',monospace\"></pre>\n"
      ],
      "text/plain": []
     },
     "metadata": {},
     "output_type": "display_data"
    },
    {
     "name": "stdout",
     "output_type": "stream",
     "text": [
      "\u001b[1m23/23\u001b[0m \u001b[32m━━━━━━━━━━━━━━━━━━━━\u001b[0m\u001b[37m\u001b[0m \u001b[1m0s\u001b[0m 7ms/step - loss: 0.2433 - mae: 0.3517\n",
      "Validation Loss: 0.2699183523654938, Validation MAE: 0.371273398399353\n"
     ]
    },
    {
     "name": "stderr",
     "output_type": "stream",
     "text": [
      "[I 2025-06-01 11:13:12,130] Trial 11 finished with value: 1.1188956499099731 and parameters: {'seq_type': 'GRU', 'seq_units': 31, 'dense_units': 7, 'activation': 'sigmoid', 'optimizer': 'rmsprop', 'dropout': 0.10864320588358878, 'learning_rate': 0.017143599650575676, 'batch_size': 16}. Best is trial 0 with value: 0.4874158203601837.\n"
     ]
    },
    {
     "data": {
      "text/html": [
       "<pre style=\"white-space:pre;overflow-x:auto;line-height:normal;font-family:Menlo,'DejaVu Sans Mono',consolas,'Courier New',monospace\"></pre>\n"
      ],
      "text/plain": []
     },
     "metadata": {},
     "output_type": "display_data"
    },
    {
     "name": "stdout",
     "output_type": "stream",
     "text": [
      "\u001b[1m23/23\u001b[0m \u001b[32m━━━━━━━━━━━━━━━━━━━━\u001b[0m\u001b[37m\u001b[0m \u001b[1m0s\u001b[0m 5ms/step - loss: 0.2162 - mae: 0.3311\n",
      "Validation Loss: 0.2511945962905884, Validation MAE: 0.35750001668930054\n"
     ]
    },
    {
     "name": "stderr",
     "output_type": "stream",
     "text": [
      "[I 2025-06-01 11:16:29,655] Trial 12 finished with value: 1.1188956499099731 and parameters: {'seq_type': 'GRU', 'seq_units': 12, 'dense_units': 11, 'activation': 'sigmoid', 'optimizer': 'rmsprop', 'dropout': 0.15140787982908682, 'learning_rate': 0.019052790833126172, 'batch_size': 16}. Best is trial 0 with value: 0.4874158203601837.\n"
     ]
    },
    {
     "data": {
      "text/html": [
       "<pre style=\"white-space:pre;overflow-x:auto;line-height:normal;font-family:Menlo,'DejaVu Sans Mono',consolas,'Courier New',monospace\"></pre>\n"
      ],
      "text/plain": []
     },
     "metadata": {},
     "output_type": "display_data"
    },
    {
     "name": "stdout",
     "output_type": "stream",
     "text": [
      "\u001b[1m23/23\u001b[0m \u001b[32m━━━━━━━━━━━━━━━━━━━━\u001b[0m\u001b[37m\u001b[0m \u001b[1m0s\u001b[0m 6ms/step - loss: 0.2688 - mae: 0.3592\n",
      "Validation Loss: 0.2805638611316681, Validation MAE: 0.3686867356300354\n"
     ]
    },
    {
     "name": "stderr",
     "output_type": "stream",
     "text": [
      "[I 2025-06-01 11:19:46,648] Trial 13 finished with value: 1.1188956499099731 and parameters: {'seq_type': 'GRU', 'seq_units': 53, 'dense_units': 6, 'activation': 'sigmoid', 'optimizer': 'adam', 'dropout': 0.1080851907086271, 'learning_rate': 0.004502985580957912, 'batch_size': 16}. Best is trial 0 with value: 0.4874158203601837.\n"
     ]
    },
    {
     "data": {
      "text/html": [
       "<pre style=\"white-space:pre;overflow-x:auto;line-height:normal;font-family:Menlo,'DejaVu Sans Mono',consolas,'Courier New',monospace\"></pre>\n"
      ],
      "text/plain": []
     },
     "metadata": {},
     "output_type": "display_data"
    },
    {
     "name": "stdout",
     "output_type": "stream",
     "text": [
      "\u001b[1m23/23\u001b[0m \u001b[32m━━━━━━━━━━━━━━━━━━━━\u001b[0m\u001b[37m\u001b[0m \u001b[1m0s\u001b[0m 5ms/step - loss: 0.2954 - mae: 0.3993\n",
      "Validation Loss: 0.34988123178482056, Validation MAE: 0.4385513961315155\n"
     ]
    },
    {
     "name": "stderr",
     "output_type": "stream",
     "text": [
      "[I 2025-06-01 11:21:37,977] Trial 14 finished with value: 1.1188956499099731 and parameters: {'seq_type': 'LSTM', 'seq_units': 36, 'dense_units': 10, 'activation': 'sigmoid', 'optimizer': 'adam', 'dropout': 0.011330045211399312, 'learning_rate': 0.08838455307553114, 'batch_size': 16}. Best is trial 0 with value: 0.4874158203601837.\n"
     ]
    },
    {
     "data": {
      "text/html": [
       "<pre style=\"white-space:pre;overflow-x:auto;line-height:normal;font-family:Menlo,'DejaVu Sans Mono',consolas,'Courier New',monospace\"></pre>\n"
      ],
      "text/plain": []
     },
     "metadata": {},
     "output_type": "display_data"
    },
    {
     "name": "stdout",
     "output_type": "stream",
     "text": [
      "\u001b[1m23/23\u001b[0m \u001b[32m━━━━━━━━━━━━━━━━━━━━\u001b[0m\u001b[37m\u001b[0m \u001b[1m0s\u001b[0m 6ms/step - loss: 0.2468 - mae: 0.3572\n",
      "Validation Loss: 0.2613915801048279, Validation MAE: 0.37282851338386536\n"
     ]
    },
    {
     "name": "stderr",
     "output_type": "stream",
     "text": [
      "[I 2025-06-01 11:25:04,345] Trial 15 finished with value: 1.1188956499099731 and parameters: {'seq_type': 'GRU', 'seq_units': 60, 'dense_units': 7, 'activation': 'relu', 'optimizer': 'rmsprop', 'dropout': 0.15963146887525673, 'learning_rate': 0.0056220845518735645, 'batch_size': 16}. Best is trial 0 with value: 0.4874158203601837.\n"
     ]
    },
    {
     "data": {
      "text/html": [
       "<pre style=\"white-space:pre;overflow-x:auto;line-height:normal;font-family:Menlo,'DejaVu Sans Mono',consolas,'Courier New',monospace\"></pre>\n"
      ],
      "text/plain": []
     },
     "metadata": {},
     "output_type": "display_data"
    },
    {
     "name": "stdout",
     "output_type": "stream",
     "text": [
      "\u001b[1m23/23\u001b[0m \u001b[32m━━━━━━━━━━━━━━━━━━━━\u001b[0m\u001b[37m\u001b[0m \u001b[1m0s\u001b[0m 6ms/step - loss: 0.2628 - mae: 0.3643\n",
      "Validation Loss: 0.30139872431755066, Validation MAE: 0.3967950642108917\n"
     ]
    },
    {
     "name": "stderr",
     "output_type": "stream",
     "text": [
      "[I 2025-06-01 11:28:43,421] Trial 16 finished with value: 1.1188956499099731 and parameters: {'seq_type': 'LSTM', 'seq_units': 51, 'dense_units': 6, 'activation': 'sigmoid', 'optimizer': 'rmsprop', 'dropout': 0.12751424041504633, 'learning_rate': 0.03265996948635858, 'batch_size': 16}. Best is trial 0 with value: 0.4874158203601837.\n"
     ]
    },
    {
     "data": {
      "text/html": [
       "<pre style=\"white-space:pre;overflow-x:auto;line-height:normal;font-family:Menlo,'DejaVu Sans Mono',consolas,'Courier New',monospace\"></pre>\n"
      ],
      "text/plain": []
     },
     "metadata": {},
     "output_type": "display_data"
    },
    {
     "name": "stdout",
     "output_type": "stream",
     "text": [
      "\u001b[1m23/23\u001b[0m \u001b[32m━━━━━━━━━━━━━━━━━━━━\u001b[0m\u001b[37m\u001b[0m \u001b[1m0s\u001b[0m 4ms/step - loss: 0.2654 - mae: 0.3577\n",
      "Validation Loss: 0.2872074544429779, Validation MAE: 0.3745790123939514\n"
     ]
    },
    {
     "name": "stderr",
     "output_type": "stream",
     "text": [
      "[I 2025-06-01 11:31:31,716] Trial 17 finished with value: 1.1188956499099731 and parameters: {'seq_type': 'GRU', 'seq_units': 36, 'dense_units': 8, 'activation': 'relu', 'optimizer': 'adam', 'dropout': 0.08438537841133689, 'learning_rate': 0.001988621244293696, 'batch_size': 16}. Best is trial 0 with value: 0.4874158203601837.\n"
     ]
    },
    {
     "data": {
      "text/html": [
       "<pre style=\"white-space:pre;overflow-x:auto;line-height:normal;font-family:Menlo,'DejaVu Sans Mono',consolas,'Courier New',monospace\"></pre>\n"
      ],
      "text/plain": []
     },
     "metadata": {},
     "output_type": "display_data"
    },
    {
     "name": "stdout",
     "output_type": "stream",
     "text": [
      "\u001b[1m23/23\u001b[0m \u001b[32m━━━━━━━━━━━━━━━━━━━━\u001b[0m\u001b[37m\u001b[0m \u001b[1m0s\u001b[0m 7ms/step - loss: 0.2629 - mae: 0.3504\n",
      "Validation Loss: 0.28355494141578674, Validation MAE: 0.3696332573890686\n"
     ]
    },
    {
     "name": "stderr",
     "output_type": "stream",
     "text": [
      "[I 2025-06-01 11:33:13,273] Trial 18 finished with value: 1.1188956499099731 and parameters: {'seq_type': 'LSTM', 'seq_units': 21, 'dense_units': 10, 'activation': 'sigmoid', 'optimizer': 'adam', 'dropout': 0.1213875218314358, 'learning_rate': 0.008365179496409874, 'batch_size': 32}. Best is trial 0 with value: 0.4874158203601837.\n"
     ]
    },
    {
     "data": {
      "text/html": [
       "<pre style=\"white-space:pre;overflow-x:auto;line-height:normal;font-family:Menlo,'DejaVu Sans Mono',consolas,'Courier New',monospace\"></pre>\n"
      ],
      "text/plain": []
     },
     "metadata": {},
     "output_type": "display_data"
    },
    {
     "name": "stdout",
     "output_type": "stream",
     "text": [
      "\u001b[1m23/23\u001b[0m \u001b[32m━━━━━━━━━━━━━━━━━━━━\u001b[0m\u001b[37m\u001b[0m \u001b[1m0s\u001b[0m 9ms/step - loss: 1.0154 - mae: 0.7625\n",
      "Validation Loss: 1.1191819906234741, Validation MAE: 0.8034510016441345\n"
     ]
    },
    {
     "name": "stderr",
     "output_type": "stream",
     "text": [
      "[I 2025-06-01 11:35:21,180] Trial 19 finished with value: 1.1191818714141846 and parameters: {'seq_type': 'LSTM', 'seq_units': 59, 'dense_units': 6, 'activation': 'mish', 'optimizer': 'rmsprop', 'dropout': 0.06202111958679476, 'learning_rate': 0.04106106099962547, 'batch_size': 16}. Best is trial 0 with value: 0.4874158203601837.\n"
     ]
    },
    {
     "data": {
      "text/html": [
       "<pre style=\"white-space:pre;overflow-x:auto;line-height:normal;font-family:Menlo,'DejaVu Sans Mono',consolas,'Courier New',monospace\"></pre>\n"
      ],
      "text/plain": []
     },
     "metadata": {},
     "output_type": "display_data"
    },
    {
     "name": "stdout",
     "output_type": "stream",
     "text": [
      "\u001b[1m23/23\u001b[0m \u001b[32m━━━━━━━━━━━━━━━━━━━━\u001b[0m\u001b[37m\u001b[0m \u001b[1m0s\u001b[0m 8ms/step - loss: 0.2595 - mae: 0.3720\n",
      "Validation Loss: 0.2835924029350281, Validation MAE: 0.39992088079452515\n"
     ]
    },
    {
     "name": "stderr",
     "output_type": "stream",
     "text": [
      "[I 2025-06-01 11:37:22,408] Trial 20 finished with value: 1.1191818714141846 and parameters: {'seq_type': 'GRU', 'seq_units': 48, 'dense_units': 7, 'activation': 'sigmoid', 'optimizer': 'rmsprop', 'dropout': 0.029637024340522677, 'learning_rate': 0.0785562561595885, 'batch_size': 16}. Best is trial 0 with value: 0.4874158203601837.\n"
     ]
    },
    {
     "data": {
      "text/html": [
       "<pre style=\"white-space:pre;overflow-x:auto;line-height:normal;font-family:Menlo,'DejaVu Sans Mono',consolas,'Courier New',monospace\"></pre>\n"
      ],
      "text/plain": []
     },
     "metadata": {},
     "output_type": "display_data"
    },
    {
     "name": "stdout",
     "output_type": "stream",
     "text": [
      "\u001b[1m23/23\u001b[0m \u001b[32m━━━━━━━━━━━━━━━━━━━━\u001b[0m\u001b[37m\u001b[0m \u001b[1m0s\u001b[0m 7ms/step - loss: 0.2825 - mae: 0.3575\n",
      "Validation Loss: 0.2882651686668396, Validation MAE: 0.3728941082954407\n"
     ]
    },
    {
     "name": "stderr",
     "output_type": "stream",
     "text": [
      "[I 2025-06-01 11:40:17,086] Trial 21 finished with value: 1.1191818714141846 and parameters: {'seq_type': 'GRU', 'seq_units': 12, 'dense_units': 5, 'activation': 'mish', 'optimizer': 'adam', 'dropout': 0.05832227937074613, 'learning_rate': 0.0013299935157295925, 'batch_size': 128}. Best is trial 0 with value: 0.4874158203601837.\n"
     ]
    },
    {
     "data": {
      "text/html": [
       "<pre style=\"white-space:pre;overflow-x:auto;line-height:normal;font-family:Menlo,'DejaVu Sans Mono',consolas,'Courier New',monospace\"></pre>\n"
      ],
      "text/plain": []
     },
     "metadata": {},
     "output_type": "display_data"
    },
    {
     "name": "stdout",
     "output_type": "stream",
     "text": [
      "\u001b[1m23/23\u001b[0m \u001b[32m━━━━━━━━━━━━━━━━━━━━\u001b[0m\u001b[37m\u001b[0m \u001b[1m0s\u001b[0m 7ms/step - loss: 0.2900 - mae: 0.3671\n",
      "Validation Loss: 0.3047962486743927, Validation MAE: 0.38006746768951416\n"
     ]
    },
    {
     "name": "stderr",
     "output_type": "stream",
     "text": [
      "[I 2025-06-01 11:46:42,209] Trial 22 finished with value: 1.1191818714141846 and parameters: {'seq_type': 'GRU', 'seq_units': 18, 'dense_units': 5, 'activation': 'mish', 'optimizer': 'adam', 'dropout': 0.042509225810649386, 'learning_rate': 0.0003646275257136861, 'batch_size': 128}. Best is trial 0 with value: 0.4874158203601837.\n"
     ]
    },
    {
     "data": {
      "text/html": [
       "<pre style=\"white-space:pre;overflow-x:auto;line-height:normal;font-family:Menlo,'DejaVu Sans Mono',consolas,'Courier New',monospace\"></pre>\n"
      ],
      "text/plain": []
     },
     "metadata": {},
     "output_type": "display_data"
    },
    {
     "name": "stdout",
     "output_type": "stream",
     "text": [
      "\u001b[1m23/23\u001b[0m \u001b[32m━━━━━━━━━━━━━━━━━━━━\u001b[0m\u001b[37m\u001b[0m \u001b[1m0s\u001b[0m 7ms/step - loss: 0.2631 - mae: 0.3531\n",
      "Validation Loss: 0.2720949947834015, Validation MAE: 0.36201536655426025\n"
     ]
    },
    {
     "name": "stderr",
     "output_type": "stream",
     "text": [
      "[I 2025-06-01 11:47:50,761] Trial 23 finished with value: 1.1191818714141846 and parameters: {'seq_type': 'GRU', 'seq_units': 16, 'dense_units': 9, 'activation': 'mish', 'optimizer': 'adam', 'dropout': 0.0925695254567791, 'learning_rate': 0.009237050666915774, 'batch_size': 128}. Best is trial 0 with value: 0.4874158203601837.\n"
     ]
    },
    {
     "data": {
      "text/html": [
       "<pre style=\"white-space:pre;overflow-x:auto;line-height:normal;font-family:Menlo,'DejaVu Sans Mono',consolas,'Courier New',monospace\"></pre>\n"
      ],
      "text/plain": []
     },
     "metadata": {},
     "output_type": "display_data"
    },
    {
     "name": "stdout",
     "output_type": "stream",
     "text": [
      "\u001b[1m23/23\u001b[0m \u001b[32m━━━━━━━━━━━━━━━━━━━━\u001b[0m\u001b[37m\u001b[0m \u001b[1m0s\u001b[0m 15ms/step - loss: 0.2899 - mae: 0.3723\n",
      "Validation Loss: 0.2957654893398285, Validation MAE: 0.3842787742614746\n"
     ]
    },
    {
     "name": "stderr",
     "output_type": "stream",
     "text": [
      "[I 2025-06-01 11:50:47,897] Trial 24 finished with value: 1.1191818714141846 and parameters: {'seq_type': 'GRU', 'seq_units': 30, 'dense_units': 5, 'activation': 'mish', 'optimizer': 'adam', 'dropout': 0.06723821505456445, 'learning_rate': 0.0011508672101540366, 'batch_size': 128}. Best is trial 0 with value: 0.4874158203601837.\n"
     ]
    },
    {
     "data": {
      "text/html": [
       "<pre style=\"white-space:pre;overflow-x:auto;line-height:normal;font-family:Menlo,'DejaVu Sans Mono',consolas,'Courier New',monospace\"></pre>\n"
      ],
      "text/plain": []
     },
     "metadata": {},
     "output_type": "display_data"
    },
    {
     "name": "stdout",
     "output_type": "stream",
     "text": [
      "\u001b[1m23/23\u001b[0m \u001b[32m━━━━━━━━━━━━━━━━━━━━\u001b[0m\u001b[37m\u001b[0m \u001b[1m0s\u001b[0m 15ms/step - loss: 0.2613 - mae: 0.3639\n",
      "Validation Loss: 0.2885942757129669, Validation MAE: 0.3855300843715668\n"
     ]
    },
    {
     "name": "stderr",
     "output_type": "stream",
     "text": [
      "[I 2025-06-01 11:51:39,404] Trial 25 finished with value: 1.1191818714141846 and parameters: {'seq_type': 'GRU', 'seq_units': 24, 'dense_units': 6, 'activation': 'mish', 'optimizer': 'adam', 'dropout': 0.010143592026638767, 'learning_rate': 0.02894564362996588, 'batch_size': 128}. Best is trial 0 with value: 0.4874158203601837.\n"
     ]
    },
    {
     "data": {
      "text/html": [
       "<pre style=\"white-space:pre;overflow-x:auto;line-height:normal;font-family:Menlo,'DejaVu Sans Mono',consolas,'Courier New',monospace\"></pre>\n"
      ],
      "text/plain": []
     },
     "metadata": {},
     "output_type": "display_data"
    },
    {
     "name": "stdout",
     "output_type": "stream",
     "text": [
      "\u001b[1m23/23\u001b[0m \u001b[32m━━━━━━━━━━━━━━━━━━━━\u001b[0m\u001b[37m\u001b[0m \u001b[1m0s\u001b[0m 6ms/step - loss: 0.2668 - mae: 0.3475\n",
      "Validation Loss: 0.2894282639026642, Validation MAE: 0.3689996898174286\n"
     ]
    },
    {
     "name": "stderr",
     "output_type": "stream",
     "text": [
      "[I 2025-06-01 11:58:17,890] Trial 26 finished with value: 1.1191818714141846 and parameters: {'seq_type': 'LSTM', 'seq_units': 15, 'dense_units': 7, 'activation': 'relu', 'optimizer': 'adam', 'dropout': 0.14003610091515434, 'learning_rate': 0.0003179000202761081, 'batch_size': 32}. Best is trial 0 with value: 0.4874158203601837.\n"
     ]
    },
    {
     "data": {
      "text/html": [
       "<pre style=\"white-space:pre;overflow-x:auto;line-height:normal;font-family:Menlo,'DejaVu Sans Mono',consolas,'Courier New',monospace\"></pre>\n"
      ],
      "text/plain": []
     },
     "metadata": {},
     "output_type": "display_data"
    },
    {
     "name": "stdout",
     "output_type": "stream",
     "text": [
      "\u001b[1m23/23\u001b[0m \u001b[32m━━━━━━━━━━━━━━━━━━━━\u001b[0m\u001b[37m\u001b[0m \u001b[1m0s\u001b[0m 10ms/step - loss: 0.3051 - mae: 0.4150\n",
      "Validation Loss: 0.3238993287086487, Validation MAE: 0.42749476432800293\n"
     ]
    },
    {
     "name": "stderr",
     "output_type": "stream",
     "text": [
      "[I 2025-06-01 12:07:15,671] Trial 27 finished with value: 1.1191818714141846 and parameters: {'seq_type': 'GRU', 'seq_units': 24, 'dense_units': 10, 'activation': 'relu', 'optimizer': 'adam', 'dropout': 0.09439233436910105, 'learning_rate': 0.055810761408290444, 'batch_size': 64}. Best is trial 0 with value: 0.4874158203601837.\n"
     ]
    },
    {
     "data": {
      "text/html": [
       "<pre style=\"white-space:pre;overflow-x:auto;line-height:normal;font-family:Menlo,'DejaVu Sans Mono',consolas,'Courier New',monospace\"></pre>\n"
      ],
      "text/plain": []
     },
     "metadata": {},
     "output_type": "display_data"
    },
    {
     "name": "stdout",
     "output_type": "stream",
     "text": [
      "\u001b[1m23/23\u001b[0m \u001b[32m━━━━━━━━━━━━━━━━━━━━\u001b[0m\u001b[37m\u001b[0m \u001b[1m0s\u001b[0m 9ms/step - loss: 0.2271 - mae: 0.3413\n",
      "Validation Loss: 0.24829719960689545, Validation MAE: 0.3604423701763153\n"
     ]
    },
    {
     "name": "stderr",
     "output_type": "stream",
     "text": [
      "[I 2025-06-01 12:10:06,354] Trial 28 finished with value: 1.1191818714141846 and parameters: {'seq_type': 'GRU', 'seq_units': 33, 'dense_units': 8, 'activation': 'sigmoid', 'optimizer': 'rmsprop', 'dropout': 0.04893256469077021, 'learning_rate': 0.024165870176135962, 'batch_size': 16}. Best is trial 0 with value: 0.4874158203601837.\n"
     ]
    },
    {
     "data": {
      "text/html": [
       "<pre style=\"white-space:pre;overflow-x:auto;line-height:normal;font-family:Menlo,'DejaVu Sans Mono',consolas,'Courier New',monospace\"></pre>\n"
      ],
      "text/plain": []
     },
     "metadata": {},
     "output_type": "display_data"
    },
    {
     "name": "stdout",
     "output_type": "stream",
     "text": [
      "\u001b[1m23/23\u001b[0m \u001b[32m━━━━━━━━━━━━━━━━━━━━\u001b[0m\u001b[37m\u001b[0m \u001b[1m0s\u001b[0m 7ms/step - loss: 0.3152 - mae: 0.3926\n",
      "Validation Loss: 0.3457004129886627, Validation MAE: 0.4161568284034729\n"
     ]
    },
    {
     "name": "stderr",
     "output_type": "stream",
     "text": [
      "[I 2025-06-01 13:46:20,345] Trial 29 finished with value: 1.1191818714141846 and parameters: {'seq_type': 'LSTM', 'seq_units': 40, 'dense_units': 4, 'activation': 'mish', 'optimizer': 'adam', 'dropout': 0.17231272262194916, 'learning_rate': 0.05903360429229155, 'batch_size': 32}. Best is trial 0 with value: 0.4874158203601837.\n"
     ]
    },
    {
     "data": {
      "text/html": [
       "<pre style=\"white-space:pre;overflow-x:auto;line-height:normal;font-family:Menlo,'DejaVu Sans Mono',consolas,'Courier New',monospace\"></pre>\n"
      ],
      "text/plain": []
     },
     "metadata": {},
     "output_type": "display_data"
    },
    {
     "name": "stdout",
     "output_type": "stream",
     "text": [
      "\u001b[1m23/23\u001b[0m \u001b[32m━━━━━━━━━━━━━━━━━━━━\u001b[0m\u001b[37m\u001b[0m \u001b[1m0s\u001b[0m 4ms/step - loss: 0.2801 - mae: 0.3682\n",
      "Validation Loss: 0.30364322662353516, Validation MAE: 0.3863222897052765\n"
     ]
    },
    {
     "name": "stderr",
     "output_type": "stream",
     "text": [
      "[I 2025-06-01 13:46:47,971] Trial 30 finished with value: 1.1191818714141846 and parameters: {'seq_type': 'SimpleRNN', 'seq_units': 27, 'dense_units': 9, 'activation': 'relu', 'optimizer': 'adam', 'dropout': 0.0346774561219513, 'learning_rate': 0.01097049708298671, 'batch_size': 128}. Best is trial 0 with value: 0.4874158203601837.\n"
     ]
    },
    {
     "data": {
      "text/html": [
       "<pre style=\"white-space:pre;overflow-x:auto;line-height:normal;font-family:Menlo,'DejaVu Sans Mono',consolas,'Courier New',monospace\"></pre>\n"
      ],
      "text/plain": []
     },
     "metadata": {},
     "output_type": "display_data"
    },
    {
     "name": "stdout",
     "output_type": "stream",
     "text": [
      "\u001b[1m23/23\u001b[0m \u001b[32m━━━━━━━━━━━━━━━━━━━━\u001b[0m\u001b[37m\u001b[0m \u001b[1m0s\u001b[0m 4ms/step - loss: 0.3566 - mae: 0.4038\n",
      "Validation Loss: 0.3662000298500061, Validation MAE: 0.4209356904029846\n"
     ]
    },
    {
     "name": "stderr",
     "output_type": "stream",
     "text": [
      "[I 2025-06-01 13:47:16,510] Trial 31 finished with value: 1.1191818714141846 and parameters: {'seq_type': 'SimpleRNN', 'seq_units': 47, 'dense_units': 9, 'activation': 'relu', 'optimizer': 'adam', 'dropout': 0.026142961645237744, 'learning_rate': 0.04378652199637446, 'batch_size': 32}. Best is trial 0 with value: 0.4874158203601837.\n"
     ]
    },
    {
     "data": {
      "text/html": [
       "<pre style=\"white-space:pre;overflow-x:auto;line-height:normal;font-family:Menlo,'DejaVu Sans Mono',consolas,'Courier New',monospace\"></pre>\n"
      ],
      "text/plain": []
     },
     "metadata": {},
     "output_type": "display_data"
    },
    {
     "name": "stdout",
     "output_type": "stream",
     "text": [
      "\u001b[1m23/23\u001b[0m \u001b[32m━━━━━━━━━━━━━━━━━━━━\u001b[0m\u001b[37m\u001b[0m \u001b[1m0s\u001b[0m 4ms/step - loss: 0.3460 - mae: 0.4281 \n",
      "Validation Loss: 0.39143139123916626, Validation MAE: 0.45788341760635376\n"
     ]
    },
    {
     "name": "stderr",
     "output_type": "stream",
     "text": [
      "[I 2025-06-01 13:47:43,655] Trial 32 finished with value: 1.1191818714141846 and parameters: {'seq_type': 'SimpleRNN', 'seq_units': 42, 'dense_units': 11, 'activation': 'relu', 'optimizer': 'adam', 'dropout': 0.08004463166308294, 'learning_rate': 0.0870220060507403, 'batch_size': 32}. Best is trial 0 with value: 0.4874158203601837.\n"
     ]
    },
    {
     "data": {
      "text/html": [
       "<pre style=\"white-space:pre;overflow-x:auto;line-height:normal;font-family:Menlo,'DejaVu Sans Mono',consolas,'Courier New',monospace\"></pre>\n"
      ],
      "text/plain": []
     },
     "metadata": {},
     "output_type": "display_data"
    },
    {
     "name": "stdout",
     "output_type": "stream",
     "text": [
      "\u001b[1m23/23\u001b[0m \u001b[32m━━━━━━━━━━━━━━━━━━━━\u001b[0m\u001b[37m\u001b[0m \u001b[1m0s\u001b[0m 5ms/step - loss: 0.2760 - mae: 0.3734\n",
      "Validation Loss: 0.30546146631240845, Validation MAE: 0.3919036388397217\n"
     ]
    },
    {
     "name": "stderr",
     "output_type": "stream",
     "text": [
      "[I 2025-06-01 13:48:27,010] Trial 33 finished with value: 1.1191818714141846 and parameters: {'seq_type': 'SimpleRNN', 'seq_units': 57, 'dense_units': 4, 'activation': 'relu', 'optimizer': 'adam', 'dropout': 0.07111222601068318, 'learning_rate': 0.0028858971407012953, 'batch_size': 32}. Best is trial 0 with value: 0.4874158203601837.\n"
     ]
    },
    {
     "data": {
      "text/html": [
       "<pre style=\"white-space:pre;overflow-x:auto;line-height:normal;font-family:Menlo,'DejaVu Sans Mono',consolas,'Courier New',monospace\"></pre>\n"
      ],
      "text/plain": []
     },
     "metadata": {},
     "output_type": "display_data"
    },
    {
     "name": "stdout",
     "output_type": "stream",
     "text": [
      "\u001b[1m23/23\u001b[0m \u001b[32m━━━━━━━━━━━━━━━━━━━━\u001b[0m\u001b[37m\u001b[0m \u001b[1m0s\u001b[0m 3ms/step - loss: 0.2843 - mae: 0.3644 \n",
      "Validation Loss: 0.2991386353969574, Validation MAE: 0.3825639486312866\n"
     ]
    },
    {
     "name": "stderr",
     "output_type": "stream",
     "text": [
      "[I 2025-06-01 13:49:42,272] Trial 34 finished with value: 1.1191818714141846 and parameters: {'seq_type': 'SimpleRNN', 'seq_units': 50, 'dense_units': 8, 'activation': 'relu', 'optimizer': 'adam', 'dropout': 0.05098804003584935, 'learning_rate': 0.0001073768158959363, 'batch_size': 64}. Best is trial 0 with value: 0.4874158203601837.\n"
     ]
    },
    {
     "data": {
      "text/html": [
       "<pre style=\"white-space:pre;overflow-x:auto;line-height:normal;font-family:Menlo,'DejaVu Sans Mono',consolas,'Courier New',monospace\"></pre>\n"
      ],
      "text/plain": []
     },
     "metadata": {},
     "output_type": "display_data"
    },
    {
     "name": "stdout",
     "output_type": "stream",
     "text": [
      "\u001b[1m23/23\u001b[0m \u001b[32m━━━━━━━━━━━━━━━━━━━━\u001b[0m\u001b[37m\u001b[0m \u001b[1m0s\u001b[0m 4ms/step - loss: 0.2988 - mae: 0.3959 \n",
      "Validation Loss: 0.3202429711818695, Validation MAE: 0.4179215133190155\n"
     ]
    },
    {
     "name": "stderr",
     "output_type": "stream",
     "text": [
      "[I 2025-06-01 13:50:27,664] Trial 35 finished with value: 1.1191818714141846 and parameters: {'seq_type': 'SimpleRNN', 'seq_units': 44, 'dense_units': 9, 'activation': 'relu', 'optimizer': 'rmsprop', 'dropout': 0.09623121117159211, 'learning_rate': 0.06210104779692347, 'batch_size': 32}. Best is trial 0 with value: 0.4874158203601837.\n"
     ]
    },
    {
     "data": {
      "text/html": [
       "<pre style=\"white-space:pre;overflow-x:auto;line-height:normal;font-family:Menlo,'DejaVu Sans Mono',consolas,'Courier New',monospace\"></pre>\n"
      ],
      "text/plain": []
     },
     "metadata": {},
     "output_type": "display_data"
    },
    {
     "name": "stdout",
     "output_type": "stream",
     "text": [
      "\u001b[1m23/23\u001b[0m \u001b[32m━━━━━━━━━━━━━━━━━━━━\u001b[0m\u001b[37m\u001b[0m \u001b[1m0s\u001b[0m 5ms/step - loss: 0.3861 - mae: 0.4359\n",
      "Validation Loss: 0.42361244559288025, Validation MAE: 0.46163859963417053\n"
     ]
    },
    {
     "name": "stderr",
     "output_type": "stream",
     "text": [
      "[I 2025-06-01 13:50:48,986] Trial 36 finished with value: 1.1191818714141846 and parameters: {'seq_type': 'SimpleRNN', 'seq_units': 55, 'dense_units': 4, 'activation': 'mish', 'optimizer': 'adam', 'dropout': 0.1933842046889591, 'learning_rate': 0.03752125795875009, 'batch_size': 128}. Best is trial 0 with value: 0.4874158203601837.\n"
     ]
    },
    {
     "data": {
      "text/html": [
       "<pre style=\"white-space:pre;overflow-x:auto;line-height:normal;font-family:Menlo,'DejaVu Sans Mono',consolas,'Courier New',monospace\"></pre>\n"
      ],
      "text/plain": []
     },
     "metadata": {},
     "output_type": "display_data"
    },
    {
     "name": "stdout",
     "output_type": "stream",
     "text": [
      "\u001b[1m23/23\u001b[0m \u001b[32m━━━━━━━━━━━━━━━━━━━━\u001b[0m\u001b[37m\u001b[0m \u001b[1m0s\u001b[0m 4ms/step - loss: 0.2215 - mae: 0.3441\n",
      "Validation Loss: 0.23820103704929352, Validation MAE: 0.3598957359790802\n"
     ]
    },
    {
     "name": "stderr",
     "output_type": "stream",
     "text": [
      "[I 2025-06-01 13:51:19,270] Trial 37 finished with value: 1.1191818714141846 and parameters: {'seq_type': 'LSTM', 'seq_units': 64, 'dense_units': 10, 'activation': 'relu', 'optimizer': 'rmsprop', 'dropout': 0.040230808728417874, 'learning_rate': 0.022919594149431965, 'batch_size': 64}. Best is trial 0 with value: 0.4874158203601837.\n"
     ]
    },
    {
     "data": {
      "text/html": [
       "<pre style=\"white-space:pre;overflow-x:auto;line-height:normal;font-family:Menlo,'DejaVu Sans Mono',consolas,'Courier New',monospace\"></pre>\n"
      ],
      "text/plain": []
     },
     "metadata": {},
     "output_type": "display_data"
    },
    {
     "name": "stdout",
     "output_type": "stream",
     "text": [
      "\u001b[1m23/23\u001b[0m \u001b[32m━━━━━━━━━━━━━━━━━━━━\u001b[0m\u001b[37m\u001b[0m \u001b[1m0s\u001b[0m 7ms/step - loss: 0.2638 - mae: 0.3578\n",
      "Validation Loss: 0.2775205373764038, Validation MAE: 0.37167781591415405\n"
     ]
    },
    {
     "name": "stderr",
     "output_type": "stream",
     "text": [
      "[I 2025-06-01 13:53:33,399] Trial 38 finished with value: 1.1191818714141846 and parameters: {'seq_type': 'SimpleRNN', 'seq_units': 15, 'dense_units': 11, 'activation': 'relu', 'optimizer': 'adam', 'dropout': 0.021549609076539092, 'learning_rate': 0.0008228592896990403, 'batch_size': 16}. Best is trial 0 with value: 0.4874158203601837.\n"
     ]
    },
    {
     "data": {
      "text/html": [
       "<pre style=\"white-space:pre;overflow-x:auto;line-height:normal;font-family:Menlo,'DejaVu Sans Mono',consolas,'Courier New',monospace\"></pre>\n"
      ],
      "text/plain": []
     },
     "metadata": {},
     "output_type": "display_data"
    },
    {
     "name": "stdout",
     "output_type": "stream",
     "text": [
      "\u001b[1m23/23\u001b[0m \u001b[32m━━━━━━━━━━━━━━━━━━━━\u001b[0m\u001b[37m\u001b[0m \u001b[1m0s\u001b[0m 16ms/step - loss: 0.3834 - mae: 0.4290\n",
      "Validation Loss: 0.4026843011379242, Validation MAE: 0.45063942670822144\n"
     ]
    },
    {
     "name": "stderr",
     "output_type": "stream",
     "text": [
      "[I 2025-06-01 14:04:28,006] Trial 39 finished with value: 1.1191818714141846 and parameters: {'seq_type': 'LSTM', 'seq_units': 19, 'dense_units': 8, 'activation': 'sigmoid', 'optimizer': 'rmsprop', 'dropout': 0.11780750549881147, 'learning_rate': 0.0001705156379030975, 'batch_size': 32}. Best is trial 0 with value: 0.4874158203601837.\n"
     ]
    },
    {
     "data": {
      "text/html": [
       "<pre style=\"white-space:pre;overflow-x:auto;line-height:normal;font-family:Menlo,'DejaVu Sans Mono',consolas,'Courier New',monospace\"></pre>\n"
      ],
      "text/plain": []
     },
     "metadata": {},
     "output_type": "display_data"
    },
    {
     "name": "stdout",
     "output_type": "stream",
     "text": [
      "\u001b[1m23/23\u001b[0m \u001b[32m━━━━━━━━━━━━━━━━━━━━\u001b[0m\u001b[37m\u001b[0m \u001b[1m1s\u001b[0m 24ms/step - loss: 0.2273 - mae: 0.3314\n",
      "Validation Loss: 0.2516317665576935, Validation MAE: 0.3564428985118866\n"
     ]
    },
    {
     "name": "stderr",
     "output_type": "stream",
     "text": [
      "[I 2025-06-01 14:07:14,868] Trial 40 finished with value: 1.1191818714141846 and parameters: {'seq_type': 'GRU', 'seq_units': 22, 'dense_units': 8, 'activation': 'mish', 'optimizer': 'adam', 'dropout': 0.07549026376461736, 'learning_rate': 0.013862718743216063, 'batch_size': 16}. Best is trial 0 with value: 0.4874158203601837.\n"
     ]
    },
    {
     "data": {
      "text/html": [
       "<pre style=\"white-space:pre;overflow-x:auto;line-height:normal;font-family:Menlo,'DejaVu Sans Mono',consolas,'Courier New',monospace\"></pre>\n"
      ],
      "text/plain": []
     },
     "metadata": {},
     "output_type": "display_data"
    },
    {
     "name": "stdout",
     "output_type": "stream",
     "text": [
      "\u001b[1m23/23\u001b[0m \u001b[32m━━━━━━━━━━━━━━━━━━━━\u001b[0m\u001b[37m\u001b[0m \u001b[1m0s\u001b[0m 11ms/step - loss: 0.2563 - mae: 0.3562\n",
      "Validation Loss: 0.27260270714759827, Validation MAE: 0.37380972504615784\n"
     ]
    },
    {
     "name": "stderr",
     "output_type": "stream",
     "text": [
      "[I 2025-06-01 14:08:09,391] Trial 41 finished with value: 1.1191818714141846 and parameters: {'seq_type': 'SimpleRNN', 'seq_units': 45, 'dense_units': 4, 'activation': 'relu', 'optimizer': 'rmsprop', 'dropout': 0.050271021591291765, 'learning_rate': 0.005785423404642112, 'batch_size': 64}. Best is trial 0 with value: 0.4874158203601837.\n"
     ]
    },
    {
     "data": {
      "text/html": [
       "<pre style=\"white-space:pre;overflow-x:auto;line-height:normal;font-family:Menlo,'DejaVu Sans Mono',consolas,'Courier New',monospace\"></pre>\n"
      ],
      "text/plain": []
     },
     "metadata": {},
     "output_type": "display_data"
    },
    {
     "name": "stdout",
     "output_type": "stream",
     "text": [
      "\u001b[1m23/23\u001b[0m \u001b[32m━━━━━━━━━━━━━━━━━━━━\u001b[0m\u001b[37m\u001b[0m \u001b[1m0s\u001b[0m 10ms/step - loss: 0.2665 - mae: 0.3583\n",
      "Validation Loss: 0.2800070643424988, Validation MAE: 0.367404043674469\n"
     ]
    },
    {
     "name": "stderr",
     "output_type": "stream",
     "text": [
      "[I 2025-06-01 14:10:50,997] Trial 42 finished with value: 1.1191818714141846 and parameters: {'seq_type': 'SimpleRNN', 'seq_units': 38, 'dense_units': 5, 'activation': 'relu', 'optimizer': 'rmsprop', 'dropout': 0.1031180157655397, 'learning_rate': 0.0004955183748827037, 'batch_size': 64}. Best is trial 0 with value: 0.4874158203601837.\n"
     ]
    },
    {
     "data": {
      "text/html": [
       "<pre style=\"white-space:pre;overflow-x:auto;line-height:normal;font-family:Menlo,'DejaVu Sans Mono',consolas,'Courier New',monospace\"></pre>\n"
      ],
      "text/plain": []
     },
     "metadata": {},
     "output_type": "display_data"
    },
    {
     "name": "stdout",
     "output_type": "stream",
     "text": [
      "\u001b[1m23/23\u001b[0m \u001b[32m━━━━━━━━━━━━━━━━━━━━\u001b[0m\u001b[37m\u001b[0m \u001b[1m0s\u001b[0m 19ms/step - loss: 0.2454 - mae: 0.3522\n",
      "Validation Loss: 0.26197242736816406, Validation MAE: 0.36278823018074036\n"
     ]
    },
    {
     "name": "stderr",
     "output_type": "stream",
     "text": [
      "[I 2025-06-01 14:11:52,433] Trial 43 finished with value: 1.1191818714141846 and parameters: {'seq_type': 'SimpleRNN', 'seq_units': 53, 'dense_units': 4, 'activation': 'relu', 'optimizer': 'rmsprop', 'dropout': 0.0627649864473433, 'learning_rate': 0.0032391654579114787, 'batch_size': 64}. Best is trial 0 with value: 0.4874158203601837.\n"
     ]
    },
    {
     "data": {
      "text/html": [
       "<pre style=\"white-space:pre;overflow-x:auto;line-height:normal;font-family:Menlo,'DejaVu Sans Mono',consolas,'Courier New',monospace\"></pre>\n"
      ],
      "text/plain": []
     },
     "metadata": {},
     "output_type": "display_data"
    },
    {
     "name": "stdout",
     "output_type": "stream",
     "text": [
      "\u001b[1m23/23\u001b[0m \u001b[32m━━━━━━━━━━━━━━━━━━━━\u001b[0m\u001b[37m\u001b[0m \u001b[1m0s\u001b[0m 12ms/step - loss: 0.3115 - mae: 0.3785\n",
      "Validation Loss: 0.33629798889160156, Validation MAE: 0.4059964716434479\n"
     ]
    },
    {
     "name": "stderr",
     "output_type": "stream",
     "text": [
      "[I 2025-06-01 14:19:35,128] Trial 44 finished with value: 1.1191818714141846 and parameters: {'seq_type': 'SimpleRNN', 'seq_units': 43, 'dense_units': 5, 'activation': 'sigmoid', 'optimizer': 'rmsprop', 'dropout': 0.08245563212011206, 'learning_rate': 0.00021459418839048388, 'batch_size': 64}. Best is trial 0 with value: 0.4874158203601837.\n"
     ]
    },
    {
     "data": {
      "text/html": [
       "<pre style=\"white-space:pre;overflow-x:auto;line-height:normal;font-family:Menlo,'DejaVu Sans Mono',consolas,'Courier New',monospace\"></pre>\n"
      ],
      "text/plain": []
     },
     "metadata": {},
     "output_type": "display_data"
    },
    {
     "name": "stdout",
     "output_type": "stream",
     "text": [
      "\u001b[1m23/23\u001b[0m \u001b[32m━━━━━━━━━━━━━━━━━━━━\u001b[0m\u001b[37m\u001b[0m \u001b[1m0s\u001b[0m 10ms/step - loss: 0.4184 - mae: 0.4811\n",
      "Validation Loss: 0.46637436747550964, Validation MAE: 0.5080792307853699\n"
     ]
    },
    {
     "name": "stderr",
     "output_type": "stream",
     "text": [
      "[I 2025-06-01 14:21:10,475] Trial 45 finished with value: 1.1191818714141846 and parameters: {'seq_type': 'LSTM', 'seq_units': 39, 'dense_units': 6, 'activation': 'relu', 'optimizer': 'rmsprop', 'dropout': 0.13754718860226625, 'learning_rate': 0.0995390954321857, 'batch_size': 16}. Best is trial 0 with value: 0.4874158203601837.\n"
     ]
    },
    {
     "data": {
      "text/html": [
       "<pre style=\"white-space:pre;overflow-x:auto;line-height:normal;font-family:Menlo,'DejaVu Sans Mono',consolas,'Courier New',monospace\"></pre>\n"
      ],
      "text/plain": []
     },
     "metadata": {},
     "output_type": "display_data"
    },
    {
     "name": "stdout",
     "output_type": "stream",
     "text": [
      "\u001b[1m23/23\u001b[0m \u001b[32m━━━━━━━━━━━━━━━━━━━━\u001b[0m\u001b[37m\u001b[0m \u001b[1m1s\u001b[0m 20ms/step - loss: 0.2344 - mae: 0.3418\n",
      "Validation Loss: 0.2626657783985138, Validation MAE: 0.3660680055618286\n"
     ]
    },
    {
     "name": "stderr",
     "output_type": "stream",
     "text": [
      "[I 2025-06-01 14:36:36,862] Trial 46 finished with value: 1.1191818714141846 and parameters: {'seq_type': 'GRU', 'seq_units': 35, 'dense_units': 10, 'activation': 'sigmoid', 'optimizer': 'rmsprop', 'dropout': 0.11742681706401897, 'learning_rate': 0.04982971030599196, 'batch_size': 16}. Best is trial 0 with value: 0.4874158203601837.\n"
     ]
    },
    {
     "data": {
      "text/html": [
       "<pre style=\"white-space:pre;overflow-x:auto;line-height:normal;font-family:Menlo,'DejaVu Sans Mono',consolas,'Courier New',monospace\"></pre>\n"
      ],
      "text/plain": []
     },
     "metadata": {},
     "output_type": "display_data"
    },
    {
     "name": "stdout",
     "output_type": "stream",
     "text": [
      "\u001b[1m23/23\u001b[0m \u001b[32m━━━━━━━━━━━━━━━━━━━━\u001b[0m\u001b[37m\u001b[0m \u001b[1m0s\u001b[0m 9ms/step - loss: 0.3247 - mae: 0.4009\n",
      "Validation Loss: 0.3394494652748108, Validation MAE: 0.42573297023773193\n"
     ]
    },
    {
     "name": "stderr",
     "output_type": "stream",
     "text": [
      "[I 2025-06-01 14:37:14,555] Trial 47 finished with value: 1.1191818714141846 and parameters: {'seq_type': 'SimpleRNN', 'seq_units': 45, 'dense_units': 12, 'activation': 'relu', 'optimizer': 'rmsprop', 'dropout': 0.17186263115172956, 'learning_rate': 0.07009080326532527, 'batch_size': 128}. Best is trial 0 with value: 0.4874158203601837.\n"
     ]
    },
    {
     "data": {
      "text/html": [
       "<pre style=\"white-space:pre;overflow-x:auto;line-height:normal;font-family:Menlo,'DejaVu Sans Mono',consolas,'Courier New',monospace\"></pre>\n"
      ],
      "text/plain": []
     },
     "metadata": {},
     "output_type": "display_data"
    },
    {
     "name": "stdout",
     "output_type": "stream",
     "text": [
      "\u001b[1m23/23\u001b[0m \u001b[32m━━━━━━━━━━━━━━━━━━━━\u001b[0m\u001b[37m\u001b[0m \u001b[1m0s\u001b[0m 16ms/step - loss: 0.2689 - mae: 0.3573\n",
      "Validation Loss: 0.2906433045864105, Validation MAE: 0.37289589643478394\n"
     ]
    },
    {
     "name": "stderr",
     "output_type": "stream",
     "text": [
      "[I 2025-06-01 14:43:03,136] Trial 48 finished with value: 1.1191818714141846 and parameters: {'seq_type': 'LSTM', 'seq_units': 49, 'dense_units': 7, 'activation': 'sigmoid', 'optimizer': 'adam', 'dropout': 0.05756418156583329, 'learning_rate': 0.0011780490363891662, 'batch_size': 16}. Best is trial 0 with value: 0.4874158203601837.\n"
     ]
    },
    {
     "data": {
      "text/html": [
       "<pre style=\"white-space:pre;overflow-x:auto;line-height:normal;font-family:Menlo,'DejaVu Sans Mono',consolas,'Courier New',monospace\"></pre>\n"
      ],
      "text/plain": []
     },
     "metadata": {},
     "output_type": "display_data"
    },
    {
     "name": "stdout",
     "output_type": "stream",
     "text": [
      "\u001b[1m23/23\u001b[0m \u001b[32m━━━━━━━━━━━━━━━━━━━━\u001b[0m\u001b[37m\u001b[0m \u001b[1m0s\u001b[0m 14ms/step - loss: 0.2732 - mae: 0.3529\n",
      "Validation Loss: 0.27265048027038574, Validation MAE: 0.36112162470817566\n"
     ]
    },
    {
     "name": "stderr",
     "output_type": "stream",
     "text": [
      "[I 2025-06-01 14:45:12,671] Trial 49 finished with value: 1.1191818714141846 and parameters: {'seq_type': 'GRU', 'seq_units': 60, 'dense_units': 9, 'activation': 'relu', 'optimizer': 'adam', 'dropout': 0.10331544245462021, 'learning_rate': 0.0020859682132549876, 'batch_size': 64}. Best is trial 0 with value: 0.4874158203601837.\n"
     ]
    },
    {
     "data": {
      "text/html": [
       "<pre style=\"white-space:pre;overflow-x:auto;line-height:normal;font-family:Menlo,'DejaVu Sans Mono',consolas,'Courier New',monospace\"></pre>\n"
      ],
      "text/plain": []
     },
     "metadata": {},
     "output_type": "display_data"
    },
    {
     "name": "stdout",
     "output_type": "stream",
     "text": [
      "\u001b[1m23/23\u001b[0m \u001b[32m━━━━━━━━━━━━━━━━━━━━\u001b[0m\u001b[37m\u001b[0m \u001b[1m1s\u001b[0m 19ms/step - loss: 0.2518 - mae: 0.3538\n",
      "Validation Loss: 0.2665138840675354, Validation MAE: 0.3753218650817871\n"
     ]
    },
    {
     "name": "stderr",
     "output_type": "stream",
     "text": [
      "[I 2025-06-01 14:48:24,089] Trial 50 finished with value: 1.1191818714141846 and parameters: {'seq_type': 'GRU', 'seq_units': 53, 'dense_units': 6, 'activation': 'mish', 'optimizer': 'rmsprop', 'dropout': 0.08705183267286215, 'learning_rate': 0.029035173473775395, 'batch_size': 16}. Best is trial 0 with value: 0.4874158203601837.\n"
     ]
    },
    {
     "data": {
      "text/html": [
       "<pre style=\"white-space:pre;overflow-x:auto;line-height:normal;font-family:Menlo,'DejaVu Sans Mono',consolas,'Courier New',monospace\"></pre>\n"
      ],
      "text/plain": []
     },
     "metadata": {},
     "output_type": "display_data"
    },
    {
     "name": "stdout",
     "output_type": "stream",
     "text": [
      "\u001b[1m23/23\u001b[0m \u001b[32m━━━━━━━━━━━━━━━━━━━━\u001b[0m\u001b[37m\u001b[0m \u001b[1m1s\u001b[0m 34ms/step - loss: 1.0160 - mae: 0.7697\n",
      "Validation Loss: 1.117958664894104, Validation MAE: 0.8093048930168152\n"
     ]
    },
    {
     "name": "stderr",
     "output_type": "stream",
     "text": [
      "[I 2025-06-01 14:51:51,775] Trial 51 finished with value: 1.1191818714141846 and parameters: {'seq_type': 'SimpleRNN', 'seq_units': 63, 'dense_units': 4, 'activation': 'mish', 'optimizer': 'adam', 'dropout': 0.07377338015336843, 'learning_rate': 0.07233286945276006, 'batch_size': 128}. Best is trial 0 with value: 0.4874158203601837.\n"
     ]
    },
    {
     "data": {
      "text/html": [
       "<pre style=\"white-space:pre;overflow-x:auto;line-height:normal;font-family:Menlo,'DejaVu Sans Mono',consolas,'Courier New',monospace\"></pre>\n"
      ],
      "text/plain": []
     },
     "metadata": {},
     "output_type": "display_data"
    },
    {
     "name": "stdout",
     "output_type": "stream",
     "text": [
      "\u001b[1m23/23\u001b[0m \u001b[32m━━━━━━━━━━━━━━━━━━━━\u001b[0m\u001b[37m\u001b[0m \u001b[1m1s\u001b[0m 20ms/step - loss: 0.2774 - mae: 0.3754\n",
      "Validation Loss: 0.28795239329338074, Validation MAE: 0.38793790340423584\n"
     ]
    },
    {
     "name": "stderr",
     "output_type": "stream",
     "text": [
      "[I 2025-06-01 14:52:51,173] Trial 52 finished with value: 1.1191818714141846 and parameters: {'seq_type': 'SimpleRNN', 'seq_units': 56, 'dense_units': 5, 'activation': 'mish', 'optimizer': 'adam', 'dropout': 0.11252985470149351, 'learning_rate': 0.015664421314581338, 'batch_size': 128}. Best is trial 0 with value: 0.4874158203601837.\n"
     ]
    },
    {
     "data": {
      "text/html": [
       "<pre style=\"white-space:pre;overflow-x:auto;line-height:normal;font-family:Menlo,'DejaVu Sans Mono',consolas,'Courier New',monospace\"></pre>\n"
      ],
      "text/plain": []
     },
     "metadata": {},
     "output_type": "display_data"
    },
    {
     "name": "stdout",
     "output_type": "stream",
     "text": [
      "\u001b[1m23/23\u001b[0m \u001b[32m━━━━━━━━━━━━━━━━━━━━\u001b[0m\u001b[37m\u001b[0m \u001b[1m0s\u001b[0m 11ms/step - loss: 0.3319 - mae: 0.4152\n",
      "Validation Loss: 0.3454914689064026, Validation MAE: 0.4305262565612793\n"
     ]
    },
    {
     "name": "stderr",
     "output_type": "stream",
     "text": [
      "[I 2025-06-01 14:53:28,433] Trial 53 finished with value: 1.1191818714141846 and parameters: {'seq_type': 'SimpleRNN', 'seq_units': 12, 'dense_units': 4, 'activation': 'mish', 'optimizer': 'adam', 'dropout': 0.06442263474851002, 'learning_rate': 0.0428227123985092, 'batch_size': 128}. Best is trial 0 with value: 0.4874158203601837.\n"
     ]
    },
    {
     "data": {
      "text/html": [
       "<pre style=\"white-space:pre;overflow-x:auto;line-height:normal;font-family:Menlo,'DejaVu Sans Mono',consolas,'Courier New',monospace\"></pre>\n"
      ],
      "text/plain": []
     },
     "metadata": {},
     "output_type": "display_data"
    },
    {
     "name": "stdout",
     "output_type": "stream",
     "text": [
      "\u001b[1m23/23\u001b[0m \u001b[32m━━━━━━━━━━━━━━━━━━━━\u001b[0m\u001b[37m\u001b[0m \u001b[1m1s\u001b[0m 22ms/step - loss: 0.2598 - mae: 0.3541\n",
      "Validation Loss: 0.2767026126384735, Validation MAE: 0.36889225244522095\n"
     ]
    },
    {
     "name": "stderr",
     "output_type": "stream",
     "text": [
      "[I 2025-06-01 14:54:41,147] Trial 54 finished with value: 1.1191818714141846 and parameters: {'seq_type': 'LSTM', 'seq_units': 52, 'dense_units': 5, 'activation': 'mish', 'optimizer': 'adam', 'dropout': 0.08888888056287467, 'learning_rate': 0.021320571964689932, 'batch_size': 128}. Best is trial 0 with value: 0.4874158203601837.\n"
     ]
    },
    {
     "data": {
      "text/html": [
       "<pre style=\"white-space:pre;overflow-x:auto;line-height:normal;font-family:Menlo,'DejaVu Sans Mono',consolas,'Courier New',monospace\"></pre>\n"
      ],
      "text/plain": []
     },
     "metadata": {},
     "output_type": "display_data"
    },
    {
     "name": "stdout",
     "output_type": "stream",
     "text": [
      "\u001b[1m23/23\u001b[0m \u001b[32m━━━━━━━━━━━━━━━━━━━━\u001b[0m\u001b[37m\u001b[0m \u001b[1m0s\u001b[0m 17ms/step - loss: 0.3011 - mae: 0.3740\n",
      "Validation Loss: 0.3256721794605255, Validation MAE: 0.4028927981853485\n"
     ]
    },
    {
     "name": "stderr",
     "output_type": "stream",
     "text": [
      "[I 2025-06-01 14:55:52,493] Trial 55 finished with value: 1.1191818714141846 and parameters: {'seq_type': 'GRU', 'seq_units': 46, 'dense_units': 4, 'activation': 'sigmoid', 'optimizer': 'adam', 'dropout': 0.12781362407923305, 'learning_rate': 0.03317238452093427, 'batch_size': 128}. Best is trial 0 with value: 0.4874158203601837.\n"
     ]
    },
    {
     "data": {
      "text/html": [
       "<pre style=\"white-space:pre;overflow-x:auto;line-height:normal;font-family:Menlo,'DejaVu Sans Mono',consolas,'Courier New',monospace\"></pre>\n"
      ],
      "text/plain": []
     },
     "metadata": {},
     "output_type": "display_data"
    },
    {
     "name": "stdout",
     "output_type": "stream",
     "text": [
      "\u001b[1m23/23\u001b[0m \u001b[32m━━━━━━━━━━━━━━━━━━━━\u001b[0m\u001b[37m\u001b[0m \u001b[1m1s\u001b[0m 20ms/step - loss: 1.0236 - mae: 0.7491\n",
      "Validation Loss: 1.1321778297424316, Validation MAE: 0.7927882075309753\n"
     ]
    },
    {
     "name": "stderr",
     "output_type": "stream",
     "text": [
      "[I 2025-06-01 14:59:29,683] Trial 56 finished with value: 1.1321780681610107 and parameters: {'seq_type': 'SimpleRNN', 'seq_units': 58, 'dense_units': 5, 'activation': 'mish', 'optimizer': 'adam', 'dropout': 0.09889947454653103, 'learning_rate': 0.09169478178460107, 'batch_size': 16}. Best is trial 0 with value: 0.4874158203601837.\n"
     ]
    },
    {
     "data": {
      "text/html": [
       "<pre style=\"white-space:pre;overflow-x:auto;line-height:normal;font-family:Menlo,'DejaVu Sans Mono',consolas,'Courier New',monospace\"></pre>\n"
      ],
      "text/plain": []
     },
     "metadata": {},
     "output_type": "display_data"
    },
    {
     "name": "stdout",
     "output_type": "stream",
     "text": [
      "\u001b[1m23/23\u001b[0m \u001b[32m━━━━━━━━━━━━━━━━━━━━\u001b[0m\u001b[37m\u001b[0m \u001b[1m1s\u001b[0m 10ms/step - loss: 0.2765 - mae: 0.3569\n",
      "Validation Loss: 0.2994796335697174, Validation MAE: 0.37947070598602295\n"
     ]
    },
    {
     "name": "stderr",
     "output_type": "stream",
     "text": [
      "[I 2025-06-01 15:01:40,461] Trial 57 finished with value: 1.1321780681610107 and parameters: {'seq_type': 'GRU', 'seq_units': 60, 'dense_units': 5, 'activation': 'relu', 'optimizer': 'rmsprop', 'dropout': 0.056276323540151725, 'learning_rate': 0.0008170274351134834, 'batch_size': 32}. Best is trial 0 with value: 0.4874158203601837.\n"
     ]
    },
    {
     "data": {
      "text/html": [
       "<pre style=\"white-space:pre;overflow-x:auto;line-height:normal;font-family:Menlo,'DejaVu Sans Mono',consolas,'Courier New',monospace\"></pre>\n"
      ],
      "text/plain": []
     },
     "metadata": {},
     "output_type": "display_data"
    },
    {
     "name": "stdout",
     "output_type": "stream",
     "text": [
      "\u001b[1m23/23\u001b[0m \u001b[32m━━━━━━━━━━━━━━━━━━━━\u001b[0m\u001b[37m\u001b[0m \u001b[1m0s\u001b[0m 11ms/step - loss: 0.2783 - mae: 0.3583\n",
      "Validation Loss: 0.30112457275390625, Validation MAE: 0.3849968910217285\n"
     ]
    },
    {
     "name": "stderr",
     "output_type": "stream",
     "text": [
      "[I 2025-06-01 15:03:02,343] Trial 58 finished with value: 1.1321780681610107 and parameters: {'seq_type': 'LSTM', 'seq_units': 54, 'dense_units': 4, 'activation': 'sigmoid', 'optimizer': 'adam', 'dropout': 0.04431110684522406, 'learning_rate': 0.007282644156082062, 'batch_size': 128}. Best is trial 0 with value: 0.4874158203601837.\n"
     ]
    },
    {
     "data": {
      "text/html": [
       "<pre style=\"white-space:pre;overflow-x:auto;line-height:normal;font-family:Menlo,'DejaVu Sans Mono',consolas,'Courier New',monospace\"></pre>\n"
      ],
      "text/plain": []
     },
     "metadata": {},
     "output_type": "display_data"
    },
    {
     "name": "stdout",
     "output_type": "stream",
     "text": [
      "\u001b[1m23/23\u001b[0m \u001b[32m━━━━━━━━━━━━━━━━━━━━\u001b[0m\u001b[37m\u001b[0m \u001b[1m1s\u001b[0m 23ms/step - loss: 0.5992 - mae: 0.5820\n",
      "Validation Loss: 0.6342992186546326, Validation MAE: 0.6015956401824951\n"
     ]
    },
    {
     "name": "stderr",
     "output_type": "stream",
     "text": [
      "[I 2025-06-01 15:04:58,845] Trial 59 finished with value: 1.1321780681610107 and parameters: {'seq_type': 'GRU', 'seq_units': 41, 'dense_units': 9, 'activation': 'mish', 'optimizer': 'adam', 'dropout': 0.1530338470024305, 'learning_rate': 0.053680598117135755, 'batch_size': 16}. Best is trial 0 with value: 0.4874158203601837.\n"
     ]
    },
    {
     "data": {
      "text/html": [
       "<pre style=\"white-space:pre;overflow-x:auto;line-height:normal;font-family:Menlo,'DejaVu Sans Mono',consolas,'Courier New',monospace\"></pre>\n"
      ],
      "text/plain": []
     },
     "metadata": {},
     "output_type": "display_data"
    },
    {
     "name": "stdout",
     "output_type": "stream",
     "text": [
      "\u001b[1m23/23\u001b[0m \u001b[32m━━━━━━━━━━━━━━━━━━━━\u001b[0m\u001b[37m\u001b[0m \u001b[1m0s\u001b[0m 10ms/step - loss: 0.2381 - mae: 0.3578\n",
      "Validation Loss: 0.25987598299980164, Validation MAE: 0.3794845640659332\n"
     ]
    },
    {
     "name": "stderr",
     "output_type": "stream",
     "text": [
      "[I 2025-06-01 15:07:06,675] Trial 60 finished with value: 1.1321780681610107 and parameters: {'seq_type': 'SimpleRNN', 'seq_units': 62, 'dense_units': 7, 'activation': 'relu', 'optimizer': 'rmsprop', 'dropout': 0.01775842558534357, 'learning_rate': 0.011865965720453188, 'batch_size': 32}. Best is trial 0 with value: 0.4874158203601837.\n"
     ]
    },
    {
     "data": {
      "text/html": [
       "<pre style=\"white-space:pre;overflow-x:auto;line-height:normal;font-family:Menlo,'DejaVu Sans Mono',consolas,'Courier New',monospace\"></pre>\n"
      ],
      "text/plain": []
     },
     "metadata": {},
     "output_type": "display_data"
    },
    {
     "name": "stdout",
     "output_type": "stream",
     "text": [
      "\u001b[1m23/23\u001b[0m \u001b[32m━━━━━━━━━━━━━━━━━━━━\u001b[0m\u001b[37m\u001b[0m \u001b[1m0s\u001b[0m 10ms/step - loss: 0.3280 - mae: 0.4020\n",
      "Validation Loss: 0.36238911747932434, Validation MAE: 0.4278351068496704\n"
     ]
    },
    {
     "name": "stderr",
     "output_type": "stream",
     "text": [
      "[I 2025-06-01 15:16:58,865] Trial 61 finished with value: 1.1321780681610107 and parameters: {'seq_type': 'LSTM', 'seq_units': 17, 'dense_units': 4, 'activation': 'relu', 'optimizer': 'rmsprop', 'dropout': 0.16603545648431384, 'learning_rate': 0.0001239997078784901, 'batch_size': 32}. Best is trial 0 with value: 0.4874158203601837.\n"
     ]
    },
    {
     "data": {
      "text/html": [
       "<pre style=\"white-space:pre;overflow-x:auto;line-height:normal;font-family:Menlo,'DejaVu Sans Mono',consolas,'Courier New',monospace\"></pre>\n"
      ],
      "text/plain": []
     },
     "metadata": {},
     "output_type": "display_data"
    },
    {
     "name": "stdout",
     "output_type": "stream",
     "text": [
      "\u001b[1m23/23\u001b[0m \u001b[32m━━━━━━━━━━━━━━━━━━━━\u001b[0m\u001b[37m\u001b[0m \u001b[1m0s\u001b[0m 4ms/step - loss: 0.3157 - mae: 0.3929\n",
      "Validation Loss: 0.3487262427806854, Validation MAE: 0.4169178009033203\n"
     ]
    },
    {
     "name": "stderr",
     "output_type": "stream",
     "text": [
      "[I 2025-06-01 15:32:25,883] Trial 62 finished with value: 1.1321780681610107 and parameters: {'seq_type': 'LSTM', 'seq_units': 38, 'dense_units': 5, 'activation': 'relu', 'optimizer': 'rmsprop', 'dropout': 0.18926725152264018, 'learning_rate': 0.0002889065003392747, 'batch_size': 32}. Best is trial 0 with value: 0.4874158203601837.\n"
     ]
    },
    {
     "data": {
      "text/html": [
       "<pre style=\"white-space:pre;overflow-x:auto;line-height:normal;font-family:Menlo,'DejaVu Sans Mono',consolas,'Courier New',monospace\"></pre>\n"
      ],
      "text/plain": []
     },
     "metadata": {},
     "output_type": "display_data"
    },
    {
     "name": "stdout",
     "output_type": "stream",
     "text": [
      "\u001b[1m23/23\u001b[0m \u001b[32m━━━━━━━━━━━━━━━━━━━━\u001b[0m\u001b[37m\u001b[0m \u001b[1m0s\u001b[0m 6ms/step - loss: 0.2818 - mae: 0.3629\n",
      "Validation Loss: 0.31644347310066223, Validation MAE: 0.3870299160480499\n"
     ]
    },
    {
     "name": "stderr",
     "output_type": "stream",
     "text": [
      "[I 2025-06-01 15:37:24,784] Trial 63 finished with value: 1.1321780681610107 and parameters: {'seq_type': 'LSTM', 'seq_units': 34, 'dense_units': 4, 'activation': 'relu', 'optimizer': 'rmsprop', 'dropout': 0.1825450955989359, 'learning_rate': 0.0002114918487029306, 'batch_size': 32}. Best is trial 0 with value: 0.4874158203601837.\n"
     ]
    },
    {
     "data": {
      "text/html": [
       "<pre style=\"white-space:pre;overflow-x:auto;line-height:normal;font-family:Menlo,'DejaVu Sans Mono',consolas,'Courier New',monospace\"></pre>\n"
      ],
      "text/plain": []
     },
     "metadata": {},
     "output_type": "display_data"
    },
    {
     "name": "stdout",
     "output_type": "stream",
     "text": [
      "\u001b[1m23/23\u001b[0m \u001b[32m━━━━━━━━━━━━━━━━━━━━\u001b[0m\u001b[37m\u001b[0m \u001b[1m0s\u001b[0m 4ms/step - loss: 0.3017 - mae: 0.3859\n",
      "Validation Loss: 0.3258139193058014, Validation MAE: 0.40630772709846497\n"
     ]
    },
    {
     "name": "stderr",
     "output_type": "stream",
     "text": [
      "[I 2025-06-01 15:39:25,571] Trial 64 finished with value: 1.1321780681610107 and parameters: {'seq_type': 'LSTM', 'seq_units': 48, 'dense_units': 6, 'activation': 'relu', 'optimizer': 'rmsprop', 'dropout': 0.12602398924090846, 'learning_rate': 0.00014543052268372765, 'batch_size': 32}. Best is trial 0 with value: 0.4874158203601837.\n"
     ]
    },
    {
     "data": {
      "text/html": [
       "<pre style=\"white-space:pre;overflow-x:auto;line-height:normal;font-family:Menlo,'DejaVu Sans Mono',consolas,'Courier New',monospace\"></pre>\n"
      ],
      "text/plain": []
     },
     "metadata": {},
     "output_type": "display_data"
    },
    {
     "name": "stdout",
     "output_type": "stream",
     "text": [
      "\u001b[1m23/23\u001b[0m \u001b[32m━━━━━━━━━━━━━━━━━━━━\u001b[0m\u001b[37m\u001b[0m \u001b[1m0s\u001b[0m 8ms/step - loss: 0.2774 - mae: 0.3705\n",
      "Validation Loss: 0.2914201021194458, Validation MAE: 0.3812286853790283\n"
     ]
    },
    {
     "name": "stderr",
     "output_type": "stream",
     "text": [
      "[I 2025-06-01 15:42:54,111] Trial 65 finished with value: 1.1321780681610107 and parameters: {'seq_type': 'GRU', 'seq_units': 51, 'dense_units': 4, 'activation': 'relu', 'optimizer': 'adam', 'dropout': 0.03459942950200641, 'learning_rate': 0.0005546427700148154, 'batch_size': 16}. Best is trial 0 with value: 0.4874158203601837.\n"
     ]
    },
    {
     "data": {
      "text/html": [
       "<pre style=\"white-space:pre;overflow-x:auto;line-height:normal;font-family:Menlo,'DejaVu Sans Mono',consolas,'Courier New',monospace\"></pre>\n"
      ],
      "text/plain": []
     },
     "metadata": {},
     "output_type": "display_data"
    },
    {
     "name": "stdout",
     "output_type": "stream",
     "text": [
      "\u001b[1m23/23\u001b[0m \u001b[32m━━━━━━━━━━━━━━━━━━━━\u001b[0m\u001b[37m\u001b[0m \u001b[1m0s\u001b[0m 8ms/step - loss: 0.2701 - mae: 0.3619\n",
      "Validation Loss: 0.2933904230594635, Validation MAE: 0.3804669976234436\n"
     ]
    },
    {
     "name": "stderr",
     "output_type": "stream",
     "text": [
      "[I 2025-06-01 15:43:27,963] Trial 66 finished with value: 1.1321780681610107 and parameters: {'seq_type': 'LSTM', 'seq_units': 32, 'dense_units': 10, 'activation': 'mish', 'optimizer': 'adam', 'dropout': 0.07974711627078582, 'learning_rate': 0.06633544076695098, 'batch_size': 128}. Best is trial 0 with value: 0.4874158203601837.\n"
     ]
    },
    {
     "data": {
      "text/html": [
       "<pre style=\"white-space:pre;overflow-x:auto;line-height:normal;font-family:Menlo,'DejaVu Sans Mono',consolas,'Courier New',monospace\"></pre>\n"
      ],
      "text/plain": []
     },
     "metadata": {},
     "output_type": "display_data"
    },
    {
     "name": "stdout",
     "output_type": "stream",
     "text": [
      "\u001b[1m23/23\u001b[0m \u001b[32m━━━━━━━━━━━━━━━━━━━━\u001b[0m\u001b[37m\u001b[0m \u001b[1m0s\u001b[0m 3ms/step - loss: 0.4354 - mae: 0.4689 \n",
      "Validation Loss: 0.459856241941452, Validation MAE: 0.48989588022232056\n"
     ]
    },
    {
     "name": "stderr",
     "output_type": "stream",
     "text": [
      "[I 2025-06-01 15:45:04,183] Trial 67 finished with value: 1.1321780681610107 and parameters: {'seq_type': 'SimpleRNN', 'seq_units': 42, 'dense_units': 9, 'activation': 'sigmoid', 'optimizer': 'rmsprop', 'dropout': 0.06843383737553774, 'learning_rate': 0.00010184420011459759, 'batch_size': 64}. Best is trial 0 with value: 0.4874158203601837.\n"
     ]
    },
    {
     "data": {
      "text/html": [
       "<pre style=\"white-space:pre;overflow-x:auto;line-height:normal;font-family:Menlo,'DejaVu Sans Mono',consolas,'Courier New',monospace\"></pre>\n"
      ],
      "text/plain": []
     },
     "metadata": {},
     "output_type": "display_data"
    },
    {
     "name": "stdout",
     "output_type": "stream",
     "text": [
      "\u001b[1m23/23\u001b[0m \u001b[32m━━━━━━━━━━━━━━━━━━━━\u001b[0m\u001b[37m\u001b[0m \u001b[1m0s\u001b[0m 7ms/step - loss: 0.3044 - mae: 0.3785\n",
      "Validation Loss: 0.3161618113517761, Validation MAE: 0.3921801447868347\n"
     ]
    },
    {
     "name": "stderr",
     "output_type": "stream",
     "text": [
      "[I 2025-06-01 15:46:27,288] Trial 68 finished with value: 1.1321780681610107 and parameters: {'seq_type': 'GRU', 'seq_units': 26, 'dense_units': 4, 'activation': 'relu', 'optimizer': 'adam', 'dropout': 0.11153358770783692, 'learning_rate': 0.0018051394828666116, 'batch_size': 32}. Best is trial 0 with value: 0.4874158203601837.\n"
     ]
    },
    {
     "data": {
      "text/html": [
       "<pre style=\"white-space:pre;overflow-x:auto;line-height:normal;font-family:Menlo,'DejaVu Sans Mono',consolas,'Courier New',monospace\"></pre>\n"
      ],
      "text/plain": []
     },
     "metadata": {},
     "output_type": "display_data"
    },
    {
     "name": "stdout",
     "output_type": "stream",
     "text": [
      "\u001b[1m23/23\u001b[0m \u001b[32m━━━━━━━━━━━━━━━━━━━━\u001b[0m\u001b[37m\u001b[0m \u001b[1m0s\u001b[0m 12ms/step - loss: 1.0317 - mae: 0.7453\n",
      "Validation Loss: 1.142293930053711, Validation MAE: 0.7899177670478821\n"
     ]
    },
    {
     "name": "stderr",
     "output_type": "stream",
     "text": [
      "[I 2025-06-01 15:50:12,268] Trial 69 finished with value: 1.142293930053711 and parameters: {'seq_type': 'SimpleRNN', 'seq_units': 30, 'dense_units': 5, 'activation': 'mish', 'optimizer': 'adam', 'dropout': 0.19879180439127275, 'learning_rate': 0.07474957545316893, 'batch_size': 16}. Best is trial 0 with value: 0.4874158203601837.\n"
     ]
    },
    {
     "data": {
      "text/html": [
       "<pre style=\"white-space:pre;overflow-x:auto;line-height:normal;font-family:Menlo,'DejaVu Sans Mono',consolas,'Courier New',monospace\"></pre>\n"
      ],
      "text/plain": []
     },
     "metadata": {},
     "output_type": "display_data"
    },
    {
     "name": "stdout",
     "output_type": "stream",
     "text": [
      "\u001b[1m23/23\u001b[0m \u001b[32m━━━━━━━━━━━━━━━━━━━━\u001b[0m\u001b[37m\u001b[0m \u001b[1m0s\u001b[0m 16ms/step - loss: 0.2339 - mae: 0.3360\n",
      "Validation Loss: 0.2509995102882385, Validation MAE: 0.35657456517219543\n"
     ]
    },
    {
     "name": "stderr",
     "output_type": "stream",
     "text": [
      "[I 2025-06-01 15:51:29,413] Trial 70 finished with value: 1.142293930053711 and parameters: {'seq_type': 'LSTM', 'seq_units': 22, 'dense_units': 8, 'activation': 'relu', 'optimizer': 'rmsprop', 'dropout': 0.0903052154016296, 'learning_rate': 0.047555035079371644, 'batch_size': 128}. Best is trial 0 with value: 0.4874158203601837.\n"
     ]
    },
    {
     "data": {
      "text/html": [
       "<pre style=\"white-space:pre;overflow-x:auto;line-height:normal;font-family:Menlo,'DejaVu Sans Mono',consolas,'Courier New',monospace\"></pre>\n"
      ],
      "text/plain": []
     },
     "metadata": {},
     "output_type": "display_data"
    },
    {
     "name": "stdout",
     "output_type": "stream",
     "text": [
      "\u001b[1m23/23\u001b[0m \u001b[32m━━━━━━━━━━━━━━━━━━━━\u001b[0m\u001b[37m\u001b[0m \u001b[1m1s\u001b[0m 25ms/step - loss: 0.3060 - mae: 0.3753\n",
      "Validation Loss: 0.32410064339637756, Validation MAE: 0.39975517988204956\n"
     ]
    },
    {
     "name": "stderr",
     "output_type": "stream",
     "text": [
      "[I 2025-06-01 15:54:59,774] Trial 71 finished with value: 1.142293930053711 and parameters: {'seq_type': 'LSTM', 'seq_units': 20, 'dense_units': 7, 'activation': 'mish', 'optimizer': 'adam', 'dropout': 0.17580833937495222, 'learning_rate': 0.0004178293535743012, 'batch_size': 64}. Best is trial 0 with value: 0.4874158203601837.\n"
     ]
    },
    {
     "data": {
      "text/html": [
       "<pre style=\"white-space:pre;overflow-x:auto;line-height:normal;font-family:Menlo,'DejaVu Sans Mono',consolas,'Courier New',monospace\"></pre>\n"
      ],
      "text/plain": []
     },
     "metadata": {},
     "output_type": "display_data"
    },
    {
     "name": "stdout",
     "output_type": "stream",
     "text": [
      "\u001b[1m23/23\u001b[0m \u001b[32m━━━━━━━━━━━━━━━━━━━━\u001b[0m\u001b[37m\u001b[0m \u001b[1m1s\u001b[0m 20ms/step - loss: 0.3156 - mae: 0.3899\n",
      "Validation Loss: 0.3338032066822052, Validation MAE: 0.41407620906829834\n"
     ]
    },
    {
     "name": "stderr",
     "output_type": "stream",
     "text": [
      "[I 2025-06-01 16:02:26,465] Trial 72 finished with value: 1.142293930053711 and parameters: {'seq_type': 'LSTM', 'seq_units': 14, 'dense_units': 10, 'activation': 'mish', 'optimizer': 'adam', 'dropout': 0.18439007617903158, 'learning_rate': 0.00025919605625868863, 'batch_size': 64}. Best is trial 0 with value: 0.4874158203601837.\n"
     ]
    },
    {
     "data": {
      "text/html": [
       "<pre style=\"white-space:pre;overflow-x:auto;line-height:normal;font-family:Menlo,'DejaVu Sans Mono',consolas,'Courier New',monospace\"></pre>\n"
      ],
      "text/plain": []
     },
     "metadata": {},
     "output_type": "display_data"
    },
    {
     "name": "stdout",
     "output_type": "stream",
     "text": [
      "\u001b[1m23/23\u001b[0m \u001b[32m━━━━━━━━━━━━━━━━━━━━\u001b[0m\u001b[37m\u001b[0m \u001b[1m0s\u001b[0m 8ms/step - loss: 0.3313 - mae: 0.3950\n",
      "Validation Loss: 0.3454808294773102, Validation MAE: 0.41573700308799744\n"
     ]
    },
    {
     "name": "stderr",
     "output_type": "stream",
     "text": [
      "[I 2025-06-01 18:06:16,210] Trial 73 finished with value: 1.142293930053711 and parameters: {'seq_type': 'LSTM', 'seq_units': 13, 'dense_units': 8, 'activation': 'mish', 'optimizer': 'adam', 'dropout': 0.15031447697145886, 'learning_rate': 0.00017111148754650636, 'batch_size': 64}. Best is trial 0 with value: 0.4874158203601837.\n"
     ]
    },
    {
     "data": {
      "text/html": [
       "<pre style=\"white-space:pre;overflow-x:auto;line-height:normal;font-family:Menlo,'DejaVu Sans Mono',consolas,'Courier New',monospace\"></pre>\n"
      ],
      "text/plain": []
     },
     "metadata": {},
     "output_type": "display_data"
    },
    {
     "name": "stdout",
     "output_type": "stream",
     "text": [
      "\u001b[1m23/23\u001b[0m \u001b[32m━━━━━━━━━━━━━━━━━━━━\u001b[0m\u001b[37m\u001b[0m \u001b[1m0s\u001b[0m 8ms/step - loss: 0.2902 - mae: 0.3596\n",
      "Validation Loss: 0.2839786410331726, Validation MAE: 0.3645114004611969\n"
     ]
    },
    {
     "name": "stderr",
     "output_type": "stream",
     "text": [
      "[I 2025-06-01 18:07:12,827] Trial 74 finished with value: 1.142293930053711 and parameters: {'seq_type': 'LSTM', 'seq_units': 17, 'dense_units': 9, 'activation': 'mish', 'optimizer': 'adam', 'dropout': 0.09949432396366224, 'learning_rate': 0.0041367743599947104, 'batch_size': 64}. Best is trial 0 with value: 0.4874158203601837.\n"
     ]
    }
   ],
   "source": [
    "study = optuna.create_study(direction=\"minimize\")\n",
    "study.optimize(objective, n_trials=constants.N_TRIALS, callbacks=[mlflow_callback])"
   ]
  },
  {
   "cell_type": "code",
   "execution_count": 18,
   "id": "d423bd9f",
   "metadata": {},
   "outputs": [
    {
     "name": "stdout",
     "output_type": "stream",
     "text": [
      "\u001b[1m12/12\u001b[0m \u001b[32m━━━━━━━━━━━━━━━━━━━━\u001b[0m\u001b[37m\u001b[0m \u001b[1m0s\u001b[0m 16ms/step\n"
     ]
    },
    {
     "data": {
      "text/plain": [
       "240.81503975022008"
      ]
     },
     "execution_count": 18,
     "metadata": {},
     "output_type": "execute_result"
    }
   ],
   "source": [
    "model = ml_utils.get_best_model(experiment_id, \"metrics.val_loss\")\n",
    "y_pred = y_scaler.inverse_transform(model.predict([X_seq_test, X_features_test]))\n",
    "y_test_scaled = y_scaler.inverse_transform(y_test.reshape(-1, 1))\n",
    "mean_absolute_error(y_test_scaled, y_pred)"
   ]
  },
  {
   "cell_type": "code",
   "execution_count": 20,
   "id": "faa28c18",
   "metadata": {},
   "outputs": [
    {
     "data": {
      "image/png": "[encoded data removed]",
      "text/plain": [
       "<Figure size 1400x600 with 1 Axes>"
      ]
     },
     "metadata": {},
     "output_type": "display_data"
    },
    {
     "data": {
      "text/html": [
       "<div><style>\n",
       ".dataframe > thead > tr,\n",
       ".dataframe > tbody > tr {\n",
       "  text-align: right;\n",
       "  white-space: pre-wrap;\n",
       "}\n",
       "</style>\n",
       "<small>shape: (355, 5)</small><table border=\"1\" class=\"dataframe\"><thead><tr><th>y_true</th><th>y_pred</th><th>diff</th><th>date</th><th>abs_diff</th></tr><tr><td>f64</td><td>f32</td><td>f64</td><td>date</td><td>f64</td></tr></thead><tbody><tr><td>3188.0</td><td>1501.0</td><td>1687.0</td><td>2025-02-11</td><td>1687.0</td></tr><tr><td>1136.0</td><td>2603.0</td><td>-1467.0</td><td>2025-03-30</td><td>1467.0</td></tr><tr><td>1674.0</td><td>3003.0</td><td>-1329.0</td><td>2025-03-02</td><td>1329.0</td></tr><tr><td>1789.0</td><td>3048.0</td><td>-1259.0</td><td>2024-06-16</td><td>1259.0</td></tr><tr><td>3481.0</td><td>2319.0</td><td>1162.0</td><td>2025-03-09</td><td>1162.0</td></tr><tr><td>&hellip;</td><td>&hellip;</td><td>&hellip;</td><td>&hellip;</td><td>&hellip;</td></tr><tr><td>2535.0</td><td>2540.0</td><td>-5.0</td><td>2025-02-09</td><td>5.0</td></tr><tr><td>1079.0</td><td>1083.0</td><td>-4.0</td><td>2025-04-14</td><td>4.0</td></tr><tr><td>1449.0</td><td>1446.0</td><td>3.0</td><td>2025-04-22</td><td>3.0</td></tr><tr><td>1456.0</td><td>1457.0</td><td>-1.0</td><td>2025-01-21</td><td>1.0</td></tr><tr><td>1380.0</td><td>1380.0</td><td>0.0</td><td>2024-07-17</td><td>0.0</td></tr></tbody></table></div>"
      ],
      "text/plain": [
       "shape: (355, 5)\n",
       "┌────────┬────────┬─────────┬────────────┬──────────┐\n",
       "│ y_true ┆ y_pred ┆ diff    ┆ date       ┆ abs_diff │\n",
       "│ ---    ┆ ---    ┆ ---     ┆ ---        ┆ ---      │\n",
       "│ f64    ┆ f32    ┆ f64     ┆ date       ┆ f64      │\n",
       "╞════════╪════════╪═════════╪════════════╪══════════╡\n",
       "│ 3188.0 ┆ 1501.0 ┆ 1687.0  ┆ 2025-02-11 ┆ 1687.0   │\n",
       "│ 1136.0 ┆ 2603.0 ┆ -1467.0 ┆ 2025-03-30 ┆ 1467.0   │\n",
       "│ 1674.0 ┆ 3003.0 ┆ -1329.0 ┆ 2025-03-02 ┆ 1329.0   │\n",
       "│ 1789.0 ┆ 3048.0 ┆ -1259.0 ┆ 2024-06-16 ┆ 1259.0   │\n",
       "│ 3481.0 ┆ 2319.0 ┆ 1162.0  ┆ 2025-03-09 ┆ 1162.0   │\n",
       "│ …      ┆ …      ┆ …       ┆ …          ┆ …        │\n",
       "│ 2535.0 ┆ 2540.0 ┆ -5.0    ┆ 2025-02-09 ┆ 5.0      │\n",
       "│ 1079.0 ┆ 1083.0 ┆ -4.0    ┆ 2025-04-14 ┆ 4.0      │\n",
       "│ 1449.0 ┆ 1446.0 ┆ 3.0     ┆ 2025-04-22 ┆ 3.0      │\n",
       "│ 1456.0 ┆ 1457.0 ┆ -1.0    ┆ 2025-01-21 ┆ 1.0      │\n",
       "│ 1380.0 ┆ 1380.0 ┆ 0.0     ┆ 2024-07-17 ┆ 0.0      │\n",
       "└────────┴────────┴─────────┴────────────┴──────────┘"
      ]
     },
     "execution_count": 20,
     "metadata": {},
     "output_type": "execute_result"
    }
   ],
   "source": [
    "pred_df = pl.DataFrame({'y_true': y_test_scaled.flatten(), 'y_pred': np.round(y_pred).flatten()})\n",
    "\n",
    "pred_df = pred_df.with_columns(\n",
    "    (pl.col('y_true') - pl.col('y_pred')).alias('diff')\n",
    ").with_columns(\n",
    "    pl.Series(\"date\", df_all[-pred_df.height:][\"date\"])\n",
    ")\n",
    "\n",
    "pred_df = pred_df.with_columns(\n",
    "    (abs(pl.col('diff')).alias('abs_diff'))\n",
    ")\n",
    "\n",
    "import matplotlib.pyplot as plt\n",
    "\n",
    "plt.figure(figsize=(14, 6))\n",
    "plt.plot(pred_df[\"date\"], pred_df[\"y_true\"], label=\"Actual\")\n",
    "plt.plot(pred_df[\"date\"], pred_df[\"y_pred\"], label=\"Predicted\", alpha=0.7)\n",
    "plt.title(\"Actual vs Predicted Donations\")\n",
    "plt.xlabel(\"Date\")\n",
    "plt.ylabel(\"Donations\")\n",
    "plt.legend()\n",
    "plt.grid(True)\n",
    "plt.xticks(rotation=45)\n",
    "plt.tight_layout()\n",
    "plt.show()\n",
    "\n",
    "pred_df.sort(by='abs_diff', descending=True)"
   ]
  },
  {
   "cell_type": "code",
   "execution_count": 16,
   "id": "f32bd99e",
   "metadata": {},
   "outputs": [
    {
     "data": {
      "text/plain": [
       "1611.2845070422536"
      ]
     },
     "execution_count": 16,
     "metadata": {},
     "output_type": "execute_result"
    }
   ],
   "source": [
    "pred_df['y_true'].mean()"
   ]
  },
  {
   "cell_type": "code",
   "execution_count": 17,
   "id": "21a2eb97",
   "metadata": {},
   "outputs": [
    {
     "data": {
      "image/png": "[encoded data removed]",
      "text/plain": [
       "<Figure size 800x500 with 1 Axes>"
      ]
     },
     "metadata": {},
     "output_type": "display_data"
    }
   ],
   "source": [
    "plt.figure(figsize=(8, 5))\n",
    "plt.hist(pred_df[\"diff\"], bins=25, edgecolor='k', alpha=0.7)\n",
    "plt.title(\"Distribution of Prediction Errors (diff)\")\n",
    "plt.xlabel(\"Prediction Error (y_true - y_pred)\")\n",
    "plt.ylabel(\"Frequency\")\n",
    "plt.grid(True)\n",
    "plt.show()"
   ]
  },
  {
   "cell_type": "code",
   "execution_count": null,
   "id": "48a23f77",
   "metadata": {},
   "outputs": [],
   "source": []
  }
 ],
 "metadata": {
  "kernelspec": {
   "display_name": ".venv",
   "language": "python",
   "name": "python3"
  },
  "language_info": {
   "codemirror_mode": {
    "name": "ipython",
    "version": 3
   },
   "file_extension": ".py",
   "mimetype": "text/x-python",
   "name": "python",
   "nbconvert_exporter": "python",
   "pygments_lexer": "ipython3",
   "version": "3.12.3"
  }
 },
 "nbformat": 4,
 "nbformat_minor": 5
}
