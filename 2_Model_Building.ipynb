{
 "cells": [
  {
   "cell_type": "code",
   "execution_count": 1,
   "id": "da3bf54f",
   "metadata": {},
   "outputs": [],
   "source": [
    "import datetime\n",
    "import pickle\n",
    "import polars as pl\n",
    "import ml_utils\n",
    "import mlflow\n",
    "import absl.logging\n",
    "absl.logging.set_verbosity(absl.logging.ERROR)\n",
    "import warnings\n",
    "warnings.filterwarnings(\"ignore\")\n",
    "from sklearn.metrics import mean_absolute_error\n",
    "import constants\n",
    "import numpy as np\n",
    "import optuna\n",
    "from optuna.integration.mlflow import MLflowCallback"
   ]
  },
  {
   "cell_type": "code",
   "execution_count": 2,
   "id": "847fc53a",
   "metadata": {},
   "outputs": [],
   "source": [
    "with open(\"df_all.pkl\", \"rb\") as file:\n",
    "    df_all = pickle.load(file)"
   ]
  },
  {
   "cell_type": "code",
   "execution_count": 3,
   "id": "0cb3a57e",
   "metadata": {},
   "outputs": [
    {
     "data": {
      "text/html": [
       "<div><style>\n",
       ".dataframe > thead > tr,\n",
       ".dataframe > tbody > tr {\n",
       "  text-align: right;\n",
       "  white-space: pre-wrap;\n",
       "}\n",
       "</style>\n",
       "<small>shape: (8, 13)</small><table border=\"1\" class=\"dataframe\"><thead><tr><th>date</th><th>a</th><th>b</th><th>o</th><th>ab</th><th>all</th><th>is_religion_or_culture_holiday</th><th>is_other_holiday</th><th>is_low_donation_holiday</th><th>is_high_donation_holiday</th><th>weekday</th><th>month</th><th>day_of_year</th></tr><tr><td>date</td><td>i64</td><td>i64</td><td>i64</td><td>i64</td><td>i64</td><td>u8</td><td>u8</td><td>u8</td><td>u8</td><td>i8</td><td>i8</td><td>i16</td></tr></thead><tbody><tr><td>2006-01-01</td><td>152</td><td>139</td><td>194</td><td>40</td><td>525</td><td>0</td><td>0</td><td>0</td><td>0</td><td>7</td><td>1</td><td>1</td></tr><tr><td>2006-01-02</td><td>53</td><td>43</td><td>112</td><td>19</td><td>227</td><td>0</td><td>0</td><td>0</td><td>0</td><td>1</td><td>1</td><td>2</td></tr><tr><td>2006-01-03</td><td>29</td><td>21</td><td>56</td><td>6</td><td>112</td><td>0</td><td>0</td><td>0</td><td>0</td><td>2</td><td>1</td><td>3</td></tr><tr><td>2006-01-04</td><td>92</td><td>98</td><td>165</td><td>36</td><td>391</td><td>0</td><td>0</td><td>0</td><td>0</td><td>3</td><td>1</td><td>4</td></tr><tr><td>2006-01-05</td><td>149</td><td>198</td><td>193</td><td>42</td><td>582</td><td>0</td><td>0</td><td>0</td><td>0</td><td>4</td><td>1</td><td>5</td></tr><tr><td>2006-01-06</td><td>94</td><td>77</td><td>126</td><td>27</td><td>324</td><td>0</td><td>0</td><td>0</td><td>0</td><td>5</td><td>1</td><td>6</td></tr><tr><td>2006-01-07</td><td>29</td><td>28</td><td>48</td><td>13</td><td>118</td><td>0</td><td>0</td><td>0</td><td>0</td><td>6</td><td>1</td><td>7</td></tr><tr><td>2006-01-08</td><td>218</td><td>212</td><td>314</td><td>51</td><td>795</td><td>0</td><td>0</td><td>0</td><td>0</td><td>7</td><td>1</td><td>8</td></tr></tbody></table></div>"
      ],
      "text/plain": [
       "shape: (8, 13)\n",
       "┌────────────┬─────┬─────┬─────┬───┬──────────────────────────┬─────────┬───────┬─────────────┐\n",
       "│ date       ┆ a   ┆ b   ┆ o   ┆ … ┆ is_high_donation_holiday ┆ weekday ┆ month ┆ day_of_year │\n",
       "│ ---        ┆ --- ┆ --- ┆ --- ┆   ┆ ---                      ┆ ---     ┆ ---   ┆ ---         │\n",
       "│ date       ┆ i64 ┆ i64 ┆ i64 ┆   ┆ u8                       ┆ i8      ┆ i8    ┆ i16         │\n",
       "╞════════════╪═════╪═════╪═════╪═══╪══════════════════════════╪═════════╪═══════╪═════════════╡\n",
       "│ 2006-01-01 ┆ 152 ┆ 139 ┆ 194 ┆ … ┆ 0                        ┆ 7       ┆ 1     ┆ 1           │\n",
       "│ 2006-01-02 ┆ 53  ┆ 43  ┆ 112 ┆ … ┆ 0                        ┆ 1       ┆ 1     ┆ 2           │\n",
       "│ 2006-01-03 ┆ 29  ┆ 21  ┆ 56  ┆ … ┆ 0                        ┆ 2       ┆ 1     ┆ 3           │\n",
       "│ 2006-01-04 ┆ 92  ┆ 98  ┆ 165 ┆ … ┆ 0                        ┆ 3       ┆ 1     ┆ 4           │\n",
       "│ 2006-01-05 ┆ 149 ┆ 198 ┆ 193 ┆ … ┆ 0                        ┆ 4       ┆ 1     ┆ 5           │\n",
       "│ 2006-01-06 ┆ 94  ┆ 77  ┆ 126 ┆ … ┆ 0                        ┆ 5       ┆ 1     ┆ 6           │\n",
       "│ 2006-01-07 ┆ 29  ┆ 28  ┆ 48  ┆ … ┆ 0                        ┆ 6       ┆ 1     ┆ 7           │\n",
       "│ 2006-01-08 ┆ 218 ┆ 212 ┆ 314 ┆ … ┆ 0                        ┆ 7       ┆ 1     ┆ 8           │\n",
       "└────────────┴─────┴─────┴─────┴───┴──────────────────────────┴─────────┴───────┴─────────────┘"
      ]
     },
     "execution_count": 3,
     "metadata": {},
     "output_type": "execute_result"
    }
   ],
   "source": [
    "df_all = df_all.with_columns([\n",
    "    pl.col(\"date\").dt.weekday().alias(\"weekday\"),\n",
    "    pl.col(\"date\").dt.month().alias(\"month\"),\n",
    "    pl.col(\"date\").dt.ordinal_day().alias(\"day_of_year\")   \n",
    "])\n",
    "\n",
    "df_all.head(8)"
   ]
  },
  {
   "cell_type": "code",
   "execution_count": 4,
   "id": "67f99784",
   "metadata": {},
   "outputs": [],
   "source": [
    "for lag in range(1, constants.WINDOW_SIZE+1):\n",
    "    df_all = df_all.with_columns(\n",
    "        pl.col(\"all\").shift(lag).alias(f\"all_lag_{lag}\")\n",
    "    )\n",
    "\n",
    "df_all = df_all.drop_nulls()"
   ]
  },
  {
   "cell_type": "code",
   "execution_count": 5,
   "id": "079ff73b",
   "metadata": {},
   "outputs": [
    {
     "data": {
      "text/html": [
       "<div><style>\n",
       ".dataframe > thead > tr,\n",
       ".dataframe > tbody > tr {\n",
       "  text-align: right;\n",
       "  white-space: pre-wrap;\n",
       "}\n",
       "</style>\n",
       "<small>shape: (7_089, 20)</small><table border=\"1\" class=\"dataframe\"><thead><tr><th>date</th><th>a</th><th>b</th><th>o</th><th>ab</th><th>all</th><th>is_religion_or_culture_holiday</th><th>is_other_holiday</th><th>is_low_donation_holiday</th><th>is_high_donation_holiday</th><th>weekday</th><th>month</th><th>day_of_year</th><th>all_lag_1</th><th>all_lag_2</th><th>all_lag_3</th><th>all_lag_4</th><th>all_lag_5</th><th>all_lag_6</th><th>all_lag_7</th></tr><tr><td>date</td><td>i64</td><td>i64</td><td>i64</td><td>i64</td><td>i64</td><td>u8</td><td>u8</td><td>u8</td><td>u8</td><td>i8</td><td>i8</td><td>i16</td><td>i64</td><td>i64</td><td>i64</td><td>i64</td><td>i64</td><td>i64</td><td>i64</td></tr></thead><tbody><tr><td>2006-01-08</td><td>218</td><td>212</td><td>314</td><td>51</td><td>795</td><td>0</td><td>0</td><td>0</td><td>0</td><td>7</td><td>1</td><td>8</td><td>118</td><td>324</td><td>582</td><td>391</td><td>112</td><td>227</td><td>525</td></tr><tr><td>2006-01-09</td><td>83</td><td>95</td><td>151</td><td>17</td><td>346</td><td>0</td><td>0</td><td>0</td><td>0</td><td>1</td><td>1</td><td>9</td><td>795</td><td>118</td><td>324</td><td>582</td><td>391</td><td>112</td><td>227</td></tr><tr><td>2006-01-10</td><td>1</td><td>0</td><td>1</td><td>0</td><td>2</td><td>1</td><td>0</td><td>1</td><td>0</td><td>2</td><td>1</td><td>10</td><td>346</td><td>795</td><td>118</td><td>324</td><td>582</td><td>391</td><td>112</td></tr><tr><td>2006-01-11</td><td>128</td><td>111</td><td>179</td><td>30</td><td>448</td><td>0</td><td>0</td><td>0</td><td>0</td><td>3</td><td>1</td><td>11</td><td>2</td><td>346</td><td>795</td><td>118</td><td>324</td><td>582</td><td>391</td></tr><tr><td>2006-01-12</td><td>211</td><td>236</td><td>316</td><td>42</td><td>805</td><td>0</td><td>0</td><td>0</td><td>0</td><td>4</td><td>1</td><td>12</td><td>448</td><td>2</td><td>346</td><td>795</td><td>118</td><td>324</td><td>582</td></tr><tr><td>&hellip;</td><td>&hellip;</td><td>&hellip;</td><td>&hellip;</td><td>&hellip;</td><td>&hellip;</td><td>&hellip;</td><td>&hellip;</td><td>&hellip;</td><td>&hellip;</td><td>&hellip;</td><td>&hellip;</td><td>&hellip;</td><td>&hellip;</td><td>&hellip;</td><td>&hellip;</td><td>&hellip;</td><td>&hellip;</td><td>&hellip;</td><td>&hellip;</td></tr><tr><td>2025-06-01</td><td>556</td><td>589</td><td>1056</td><td>65</td><td>2266</td><td>0</td><td>0</td><td>0</td><td>0</td><td>7</td><td>6</td><td>152</td><td>1600</td><td>946</td><td>1379</td><td>1439</td><td>1181</td><td>1024</td><td>3215</td></tr><tr><td>2025-06-02</td><td>442</td><td>509</td><td>781</td><td>60</td><td>1792</td><td>0</td><td>1</td><td>0</td><td>0</td><td>1</td><td>6</td><td>153</td><td>2266</td><td>1600</td><td>946</td><td>1379</td><td>1439</td><td>1181</td><td>1024</td></tr><tr><td>2025-06-03</td><td>282</td><td>293</td><td>460</td><td>49</td><td>1084</td><td>0</td><td>0</td><td>0</td><td>0</td><td>2</td><td>6</td><td>154</td><td>1792</td><td>2266</td><td>1600</td><td>946</td><td>1379</td><td>1439</td><td>1181</td></tr><tr><td>2025-06-04</td><td>305</td><td>323</td><td>514</td><td>54</td><td>1196</td><td>0</td><td>0</td><td>0</td><td>0</td><td>3</td><td>6</td><td>155</td><td>1084</td><td>1792</td><td>2266</td><td>1600</td><td>946</td><td>1379</td><td>1439</td></tr><tr><td>2025-06-05</td><td>271</td><td>354</td><td>526</td><td>59</td><td>1210</td><td>0</td><td>0</td><td>0</td><td>0</td><td>4</td><td>6</td><td>156</td><td>1196</td><td>1084</td><td>1792</td><td>2266</td><td>1600</td><td>946</td><td>1379</td></tr></tbody></table></div>"
      ],
      "text/plain": [
       "shape: (7_089, 20)\n",
       "┌────────────┬─────┬─────┬──────┬───┬───────────┬───────────┬───────────┬───────────┐\n",
       "│ date       ┆ a   ┆ b   ┆ o    ┆ … ┆ all_lag_4 ┆ all_lag_5 ┆ all_lag_6 ┆ all_lag_7 │\n",
       "│ ---        ┆ --- ┆ --- ┆ ---  ┆   ┆ ---       ┆ ---       ┆ ---       ┆ ---       │\n",
       "│ date       ┆ i64 ┆ i64 ┆ i64  ┆   ┆ i64       ┆ i64       ┆ i64       ┆ i64       │\n",
       "╞════════════╪═════╪═════╪══════╪═══╪═══════════╪═══════════╪═══════════╪═══════════╡\n",
       "│ 2006-01-08 ┆ 218 ┆ 212 ┆ 314  ┆ … ┆ 391       ┆ 112       ┆ 227       ┆ 525       │\n",
       "│ 2006-01-09 ┆ 83  ┆ 95  ┆ 151  ┆ … ┆ 582       ┆ 391       ┆ 112       ┆ 227       │\n",
       "│ 2006-01-10 ┆ 1   ┆ 0   ┆ 1    ┆ … ┆ 324       ┆ 582       ┆ 391       ┆ 112       │\n",
       "│ 2006-01-11 ┆ 128 ┆ 111 ┆ 179  ┆ … ┆ 118       ┆ 324       ┆ 582       ┆ 391       │\n",
       "│ 2006-01-12 ┆ 211 ┆ 236 ┆ 316  ┆ … ┆ 795       ┆ 118       ┆ 324       ┆ 582       │\n",
       "│ …          ┆ …   ┆ …   ┆ …    ┆ … ┆ …         ┆ …         ┆ …         ┆ …         │\n",
       "│ 2025-06-01 ┆ 556 ┆ 589 ┆ 1056 ┆ … ┆ 1439      ┆ 1181      ┆ 1024      ┆ 3215      │\n",
       "│ 2025-06-02 ┆ 442 ┆ 509 ┆ 781  ┆ … ┆ 1379      ┆ 1439      ┆ 1181      ┆ 1024      │\n",
       "│ 2025-06-03 ┆ 282 ┆ 293 ┆ 460  ┆ … ┆ 946       ┆ 1379      ┆ 1439      ┆ 1181      │\n",
       "│ 2025-06-04 ┆ 305 ┆ 323 ┆ 514  ┆ … ┆ 1600      ┆ 946       ┆ 1379      ┆ 1439      │\n",
       "│ 2025-06-05 ┆ 271 ┆ 354 ┆ 526  ┆ … ┆ 2266      ┆ 1600      ┆ 946       ┆ 1379      │\n",
       "└────────────┴─────┴─────┴──────┴───┴───────────┴───────────┴───────────┴───────────┘"
      ]
     },
     "execution_count": 5,
     "metadata": {},
     "output_type": "execute_result"
    }
   ],
   "source": [
    "df_all"
   ]
  },
  {
   "cell_type": "code",
   "execution_count": 6,
   "id": "c7b424b4",
   "metadata": {},
   "outputs": [],
   "source": [
    "X_seq = df_all.select([f\"all_lag_{lag}\" for lag in range(1, constants.WINDOW_SIZE+1)]).to_numpy().reshape(-1, constants.WINDOW_SIZE, 1)\n",
    "X_features = df_all.select([\"weekday\", \"month\", \"day_of_year\", \"is_religion_or_culture_holiday\", \"is_other_holiday\", \"is_low_donation_holiday\", \"is_high_donation_holiday\"]).to_numpy()\n",
    "y = df_all['all'].to_numpy()"
   ]
  },
  {
   "cell_type": "code",
   "execution_count": 7,
   "id": "bdf608c5",
   "metadata": {},
   "outputs": [],
   "source": [
    "# Set up scalers \n",
    "from sklearn.preprocessing import RobustScaler\n",
    "\n",
    "y_scaler = RobustScaler()\n",
    "X_scaler = RobustScaler()"
   ]
  },
  {
   "cell_type": "code",
   "execution_count": 8,
   "id": "3d28e24e",
   "metadata": {},
   "outputs": [],
   "source": [
    "y_scaled = y_scaler.fit_transform(y.reshape(-1, 1)).flatten()\n",
    "X_features_scaled = X_scaler.fit_transform(X_features)\n",
    "X_seq_scaled = y_scaler.transform(X_seq.reshape(-1, 1)).reshape(-1, constants.WINDOW_SIZE, 1)"
   ]
  },
  {
   "cell_type": "code",
   "execution_count": 9,
   "id": "4e0f37c3",
   "metadata": {},
   "outputs": [],
   "source": [
    "with open('shared/x_scaler.pkl', 'wb') as file:\n",
    "    pickle.dump(X_scaler, file)\n",
    "    \n",
    "with open('shared/y_scaler.pkl', 'wb') as file:\n",
    "    pickle.dump(y_scaler, file)"
   ]
  },
  {
   "cell_type": "code",
   "execution_count": null,
   "id": "1f05c8d2",
   "metadata": {},
   "outputs": [],
   "source": [
    "X_seq_train, X_seq_val, X_seq_test, X_features_train, X_features_val, X_features_test, y_train, y_val, y_test = ml_utils.train_val_test_split_feature_data(\n",
    "    X_seq_scaled,\n",
    "    X_features_scaled,\n",
    "    y_scaled,\n",
    "    constants.TRAIN_FRAC,\n",
    "    constants.VAL_FRAC\n",
    ")"
   ]
  },
  {
   "cell_type": "code",
   "execution_count": 11,
   "id": "e29a6d42",
   "metadata": {},
   "outputs": [],
   "source": [
    "experiment_name = f\"{constants.EXPERIMENT_NAME}_{datetime.datetime.now().strftime('%Y%m%d')}\"\n",
    "experiment_id = ml_utils.get_or_create_mlflow_experiment(experiment_name)\n",
    "mlflow.set_experiment(experiment_name)\n",
    "mlflow_callback = MLflowCallback(\n",
    "    tracking_uri = mlflow.get_tracking_uri(),\n",
    "    metric_name = \"val_loss\"\n",
    ")"
   ]
  },
  {
   "cell_type": "code",
   "execution_count": 12,
   "id": "85055fe8",
   "metadata": {},
   "outputs": [
    {
     "name": "stderr",
     "output_type": "stream",
     "text": [
      "[I 2025-06-14 16:15:41,865] A new study created in memory with name: no-name-89ed5c5d-5384-49a2-b783-1d854b3fb61c\n"
     ]
    },
    {
     "data": {
      "text/html": [
       "<pre style=\"white-space:pre;overflow-x:auto;line-height:normal;font-family:Menlo,'DejaVu Sans Mono',consolas,'Courier New',monospace\"></pre>\n"
      ],
      "text/plain": []
     },
     "metadata": {},
     "output_type": "display_data"
    },
    {
     "name": "stdout",
     "output_type": "stream",
     "text": [
      "\u001b[1m23/23\u001b[0m \u001b[32m━━━━━━━━━━━━━━━━━━━━\u001b[0m\u001b[37m\u001b[0m \u001b[1m0s\u001b[0m 7ms/step - loss: 0.1687 - mae: 0.2955\n",
      "Validation Loss: 0.18318654596805573, Validation MAE: 0.3116467297077179\n"
     ]
    },
    {
     "name": "stderr",
     "output_type": "stream",
     "text": [
      "[I 2025-06-14 16:16:23,306] Trial 0 finished with value: 0.18318654596805573 and parameters: {'seq_type': 'LSTM', 'seq_units': 28, 'dense_units': 11, 'activation': 'mish', 'optimizer': 'rmsprop', 'dropout': 0.06569900328843033, 'learning_rate': 0.054781280553340105, 'batch_size': 128}. Best is trial 0 with value: 0.18318654596805573.\n",
      "2025/06/14 16:16:23 INFO mlflow.tracking.fluent: Experiment with name 'no-name-89ed5c5d-5384-49a2-b783-1d854b3fb61c' does not exist. Creating a new experiment.\n"
     ]
    },
    {
     "data": {
      "text/html": [
       "<pre style=\"white-space:pre;overflow-x:auto;line-height:normal;font-family:Menlo,'DejaVu Sans Mono',consolas,'Courier New',monospace\"></pre>\n"
      ],
      "text/plain": []
     },
     "metadata": {},
     "output_type": "display_data"
    },
    {
     "name": "stdout",
     "output_type": "stream",
     "text": [
      "\u001b[1m23/23\u001b[0m \u001b[32m━━━━━━━━━━━━━━━━━━━━\u001b[0m\u001b[37m\u001b[0m \u001b[1m0s\u001b[0m 6ms/step - loss: 0.1750 - mae: 0.2922\n",
      "Validation Loss: 0.18950912356376648, Validation MAE: 0.3105885684490204\n"
     ]
    },
    {
     "name": "stderr",
     "output_type": "stream",
     "text": [
      "[I 2025-06-14 16:17:15,475] Trial 1 finished with value: 0.18950912356376648 and parameters: {'seq_type': 'SimpleRNN', 'seq_units': 21, 'dense_units': 9, 'activation': 'mish', 'optimizer': 'rmsprop', 'dropout': 0.04978042276404585, 'learning_rate': 0.026123215637597383, 'batch_size': 32}. Best is trial 0 with value: 0.18318654596805573.\n"
     ]
    },
    {
     "data": {
      "text/html": [
       "<pre style=\"white-space:pre;overflow-x:auto;line-height:normal;font-family:Menlo,'DejaVu Sans Mono',consolas,'Courier New',monospace\"></pre>\n"
      ],
      "text/plain": []
     },
     "metadata": {},
     "output_type": "display_data"
    },
    {
     "name": "stdout",
     "output_type": "stream",
     "text": [
      "\u001b[1m23/23\u001b[0m \u001b[32m━━━━━━━━━━━━━━━━━━━━\u001b[0m\u001b[37m\u001b[0m \u001b[1m0s\u001b[0m 10ms/step - loss: 0.2509 - mae: 0.3522\n",
      "Validation Loss: 0.25714433193206787, Validation MAE: 0.3678458631038666\n"
     ]
    },
    {
     "name": "stderr",
     "output_type": "stream",
     "text": [
      "[I 2025-06-14 16:17:37,147] Trial 2 finished with value: 0.2571443021297455 and parameters: {'seq_type': 'SimpleRNN', 'seq_units': 18, 'dense_units': 6, 'activation': 'tanh', 'optimizer': 'adam', 'dropout': 0.08427910355716237, 'learning_rate': 0.0738521295262768, 'batch_size': 128}. Best is trial 0 with value: 0.18318654596805573.\n"
     ]
    },
    {
     "data": {
      "text/html": [
       "<pre style=\"white-space:pre;overflow-x:auto;line-height:normal;font-family:Menlo,'DejaVu Sans Mono',consolas,'Courier New',monospace\"></pre>\n"
      ],
      "text/plain": []
     },
     "metadata": {},
     "output_type": "display_data"
    },
    {
     "name": "stdout",
     "output_type": "stream",
     "text": [
      "\u001b[1m23/23\u001b[0m \u001b[32m━━━━━━━━━━━━━━━━━━━━\u001b[0m\u001b[37m\u001b[0m \u001b[1m0s\u001b[0m 5ms/step - loss: 0.2188 - mae: 0.3175\n",
      "Validation Loss: 0.22772960364818573, Validation MAE: 0.3300457298755646\n"
     ]
    },
    {
     "name": "stderr",
     "output_type": "stream",
     "text": [
      "[I 2025-06-14 16:21:10,607] Trial 3 finished with value: 0.22772958874702454 and parameters: {'seq_type': 'SimpleRNN', 'seq_units': 46, 'dense_units': 6, 'activation': 'mish', 'optimizer': 'adam', 'dropout': 0.08958269836367078, 'learning_rate': 0.00010170565985469461, 'batch_size': 128}. Best is trial 0 with value: 0.18318654596805573.\n"
     ]
    },
    {
     "data": {
      "text/html": [
       "<pre style=\"white-space:pre;overflow-x:auto;line-height:normal;font-family:Menlo,'DejaVu Sans Mono',consolas,'Courier New',monospace\"></pre>\n"
      ],
      "text/plain": []
     },
     "metadata": {},
     "output_type": "display_data"
    },
    {
     "name": "stdout",
     "output_type": "stream",
     "text": [
      "\u001b[1m23/23\u001b[0m \u001b[32m━━━━━━━━━━━━━━━━━━━━\u001b[0m\u001b[37m\u001b[0m \u001b[1m0s\u001b[0m 3ms/step - loss: 0.1969 - mae: 0.3153 \n",
      "Validation Loss: 0.19306360185146332, Validation MAE: 0.3180753290653229\n"
     ]
    },
    {
     "name": "stderr",
     "output_type": "stream",
     "text": [
      "[I 2025-06-14 16:21:42,156] Trial 4 finished with value: 0.19306360185146332 and parameters: {'seq_type': 'LSTM', 'seq_units': 20, 'dense_units': 10, 'activation': 'relu', 'optimizer': 'rmsprop', 'dropout': 0.01677820110015494, 'learning_rate': 0.007446514512494084, 'batch_size': 128}. Best is trial 0 with value: 0.18318654596805573.\n"
     ]
    },
    {
     "data": {
      "text/html": [
       "<pre style=\"white-space:pre;overflow-x:auto;line-height:normal;font-family:Menlo,'DejaVu Sans Mono',consolas,'Courier New',monospace\"></pre>\n"
      ],
      "text/plain": []
     },
     "metadata": {},
     "output_type": "display_data"
    },
    {
     "name": "stdout",
     "output_type": "stream",
     "text": [
      "\u001b[1m23/23\u001b[0m \u001b[32m━━━━━━━━━━━━━━━━━━━━\u001b[0m\u001b[37m\u001b[0m \u001b[1m0s\u001b[0m 5ms/step - loss: 0.1964 - mae: 0.3007\n",
      "Validation Loss: 0.20091691613197327, Validation MAE: 0.31353387236595154\n"
     ]
    },
    {
     "name": "stderr",
     "output_type": "stream",
     "text": [
      "[I 2025-06-14 16:22:08,907] Trial 5 finished with value: 0.20091691613197327 and parameters: {'seq_type': 'GRU', 'seq_units': 14, 'dense_units': 8, 'activation': 'mish', 'optimizer': 'rmsprop', 'dropout': 0.021269458378274483, 'learning_rate': 0.005752123746444418, 'batch_size': 128}. Best is trial 0 with value: 0.18318654596805573.\n"
     ]
    },
    {
     "data": {
      "text/html": [
       "<pre style=\"white-space:pre;overflow-x:auto;line-height:normal;font-family:Menlo,'DejaVu Sans Mono',consolas,'Courier New',monospace\"></pre>\n"
      ],
      "text/plain": []
     },
     "metadata": {},
     "output_type": "display_data"
    },
    {
     "name": "stdout",
     "output_type": "stream",
     "text": [
      "\u001b[1m23/23\u001b[0m \u001b[32m━━━━━━━━━━━━━━━━━━━━\u001b[0m\u001b[37m\u001b[0m \u001b[1m0s\u001b[0m 3ms/step - loss: 0.2333 - mae: 0.3480 \n",
      "Validation Loss: 0.24862989783287048, Validation MAE: 0.36466696858406067\n"
     ]
    },
    {
     "name": "stderr",
     "output_type": "stream",
     "text": [
      "[I 2025-06-14 16:22:30,592] Trial 6 finished with value: 0.24862989783287048 and parameters: {'seq_type': 'SimpleRNN', 'seq_units': 28, 'dense_units': 12, 'activation': 'tanh', 'optimizer': 'adam', 'dropout': 0.034473050304762845, 'learning_rate': 0.06440411156069664, 'batch_size': 128}. Best is trial 0 with value: 0.18318654596805573.\n"
     ]
    },
    {
     "data": {
      "text/html": [
       "<pre style=\"white-space:pre;overflow-x:auto;line-height:normal;font-family:Menlo,'DejaVu Sans Mono',consolas,'Courier New',monospace\"></pre>\n"
      ],
      "text/plain": []
     },
     "metadata": {},
     "output_type": "display_data"
    },
    {
     "name": "stdout",
     "output_type": "stream",
     "text": [
      "\u001b[1m23/23\u001b[0m \u001b[32m━━━━━━━━━━━━━━━━━━━━\u001b[0m\u001b[37m\u001b[0m \u001b[1m0s\u001b[0m 3ms/step - loss: 0.1950 - mae: 0.3095 \n",
      "Validation Loss: 0.2110302597284317, Validation MAE: 0.3207029700279236\n"
     ]
    },
    {
     "name": "stderr",
     "output_type": "stream",
     "text": [
      "[I 2025-06-14 16:22:59,742] Trial 7 finished with value: 0.2110302597284317 and parameters: {'seq_type': 'LSTM', 'seq_units': 15, 'dense_units': 5, 'activation': 'tanh', 'optimizer': 'adam', 'dropout': 0.0661451996724482, 'learning_rate': 0.01501069304654427, 'batch_size': 128}. Best is trial 0 with value: 0.18318654596805573.\n"
     ]
    },
    {
     "data": {
      "text/html": [
       "<pre style=\"white-space:pre;overflow-x:auto;line-height:normal;font-family:Menlo,'DejaVu Sans Mono',consolas,'Courier New',monospace\"></pre>\n"
      ],
      "text/plain": []
     },
     "metadata": {},
     "output_type": "display_data"
    },
    {
     "name": "stdout",
     "output_type": "stream",
     "text": [
      "\u001b[1m23/23\u001b[0m \u001b[32m━━━━━━━━━━━━━━━━━━━━\u001b[0m\u001b[37m\u001b[0m \u001b[1m0s\u001b[0m 3ms/step - loss: 0.1775 - mae: 0.2927 \n",
      "Validation Loss: 0.1884939968585968, Validation MAE: 0.3058006167411804\n"
     ]
    },
    {
     "name": "stderr",
     "output_type": "stream",
     "text": [
      "[I 2025-06-14 16:23:41,127] Trial 8 finished with value: 0.1884939968585968 and parameters: {'seq_type': 'GRU', 'seq_units': 16, 'dense_units': 4, 'activation': 'relu', 'optimizer': 'rmsprop', 'dropout': 0.012899882719883637, 'learning_rate': 0.005451480691824128, 'batch_size': 64}. Best is trial 0 with value: 0.18318654596805573.\n"
     ]
    },
    {
     "data": {
      "text/html": [
       "<pre style=\"white-space:pre;overflow-x:auto;line-height:normal;font-family:Menlo,'DejaVu Sans Mono',consolas,'Courier New',monospace\"></pre>\n"
      ],
      "text/plain": []
     },
     "metadata": {},
     "output_type": "display_data"
    },
    {
     "name": "stdout",
     "output_type": "stream",
     "text": [
      "\u001b[1m23/23\u001b[0m \u001b[32m━━━━━━━━━━━━━━━━━━━━\u001b[0m\u001b[37m\u001b[0m \u001b[1m0s\u001b[0m 4ms/step - loss: 0.1561 - mae: 0.2850\n",
      "Validation Loss: 0.16899187862873077, Validation MAE: 0.2930673658847809\n"
     ]
    },
    {
     "name": "stderr",
     "output_type": "stream",
     "text": [
      "[I 2025-06-14 16:24:39,683] Trial 9 finished with value: 0.16899186372756958 and parameters: {'seq_type': 'GRU', 'seq_units': 23, 'dense_units': 12, 'activation': 'relu', 'optimizer': 'rmsprop', 'dropout': 0.06805335016147561, 'learning_rate': 0.0025143155742815364, 'batch_size': 64}. Best is trial 9 with value: 0.16899186372756958.\n"
     ]
    },
    {
     "data": {
      "text/html": [
       "<pre style=\"white-space:pre;overflow-x:auto;line-height:normal;font-family:Menlo,'DejaVu Sans Mono',consolas,'Courier New',monospace\"></pre>\n"
      ],
      "text/plain": []
     },
     "metadata": {},
     "output_type": "display_data"
    },
    {
     "name": "stdout",
     "output_type": "stream",
     "text": [
      "\u001b[1m23/23\u001b[0m \u001b[32m━━━━━━━━━━━━━━━━━━━━\u001b[0m\u001b[37m\u001b[0m \u001b[1m0s\u001b[0m 6ms/step - loss: 0.1993 - mae: 0.3009\n",
      "Validation Loss: 0.21739798784255981, Validation MAE: 0.31953996419906616\n"
     ]
    },
    {
     "name": "stderr",
     "output_type": "stream",
     "text": [
      "[I 2025-06-14 16:25:20,387] Trial 10 finished with value: 0.217398002743721 and parameters: {'seq_type': 'GRU', 'seq_units': 39, 'dense_units': 12, 'activation': 'relu', 'optimizer': 'rmsprop', 'dropout': 0.09994404466081758, 'learning_rate': 0.0007588203181898926, 'batch_size': 64}. Best is trial 9 with value: 0.16899186372756958.\n"
     ]
    },
    {
     "data": {
      "text/html": [
       "<pre style=\"white-space:pre;overflow-x:auto;line-height:normal;font-family:Menlo,'DejaVu Sans Mono',consolas,'Courier New',monospace\"></pre>\n"
      ],
      "text/plain": []
     },
     "metadata": {},
     "output_type": "display_data"
    },
    {
     "name": "stdout",
     "output_type": "stream",
     "text": [
      "\u001b[1m23/23\u001b[0m \u001b[32m━━━━━━━━━━━━━━━━━━━━\u001b[0m\u001b[37m\u001b[0m \u001b[1m0s\u001b[0m 3ms/step - loss: 0.1792 - mae: 0.2935\n",
      "Validation Loss: 0.19547045230865479, Validation MAE: 0.30747127532958984\n"
     ]
    },
    {
     "name": "stderr",
     "output_type": "stream",
     "text": [
      "[I 2025-06-14 16:26:31,799] Trial 11 finished with value: 0.19547045230865479 and parameters: {'seq_type': 'LSTM', 'seq_units': 30, 'dense_units': 11, 'activation': 'relu', 'optimizer': 'rmsprop', 'dropout': 0.06532155418555664, 'learning_rate': 0.0010668125153444723, 'batch_size': 64}. Best is trial 9 with value: 0.16899186372756958.\n"
     ]
    },
    {
     "data": {
      "text/html": [
       "<pre style=\"white-space:pre;overflow-x:auto;line-height:normal;font-family:Menlo,'DejaVu Sans Mono',consolas,'Courier New',monospace\"></pre>\n"
      ],
      "text/plain": []
     },
     "metadata": {},
     "output_type": "display_data"
    },
    {
     "name": "stdout",
     "output_type": "stream",
     "text": [
      "\u001b[1m23/23\u001b[0m \u001b[32m━━━━━━━━━━━━━━━━━━━━\u001b[0m\u001b[37m\u001b[0m \u001b[1m0s\u001b[0m 5ms/step - loss: 0.1820 - mae: 0.2951\n",
      "Validation Loss: 0.20185282826423645, Validation MAE: 0.3121427893638611\n"
     ]
    },
    {
     "name": "stderr",
     "output_type": "stream",
     "text": [
      "[I 2025-06-14 16:28:46,297] Trial 12 finished with value: 0.20185282826423645 and parameters: {'seq_type': 'GRU', 'seq_units': 26, 'dense_units': 10, 'activation': 'mish', 'optimizer': 'rmsprop', 'dropout': 0.054676755213512444, 'learning_rate': 0.0009690996740729879, 'batch_size': 32}. Best is trial 9 with value: 0.16899186372756958.\n"
     ]
    },
    {
     "data": {
      "text/html": [
       "<pre style=\"white-space:pre;overflow-x:auto;line-height:normal;font-family:Menlo,'DejaVu Sans Mono',consolas,'Courier New',monospace\"></pre>\n"
      ],
      "text/plain": []
     },
     "metadata": {},
     "output_type": "display_data"
    },
    {
     "name": "stdout",
     "output_type": "stream",
     "text": [
      "\u001b[1m23/23\u001b[0m \u001b[32m━━━━━━━━━━━━━━━━━━━━\u001b[0m\u001b[37m\u001b[0m \u001b[1m0s\u001b[0m 4ms/step - loss: 0.1721 - mae: 0.2912\n",
      "Validation Loss: 0.18257632851600647, Validation MAE: 0.3042457401752472\n"
     ]
    },
    {
     "name": "stderr",
     "output_type": "stream",
     "text": [
      "[I 2025-06-14 16:29:47,392] Trial 13 finished with value: 0.18257629871368408 and parameters: {'seq_type': 'LSTM', 'seq_units': 34, 'dense_units': 8, 'activation': 'relu', 'optimizer': 'rmsprop', 'dropout': 0.07258485063720375, 'learning_rate': 0.00226152437135715, 'batch_size': 64}. Best is trial 9 with value: 0.16899186372756958.\n"
     ]
    },
    {
     "data": {
      "text/html": [
       "<pre style=\"white-space:pre;overflow-x:auto;line-height:normal;font-family:Menlo,'DejaVu Sans Mono',consolas,'Courier New',monospace\"></pre>\n"
      ],
      "text/plain": []
     },
     "metadata": {},
     "output_type": "display_data"
    },
    {
     "name": "stdout",
     "output_type": "stream",
     "text": [
      "\u001b[1m23/23\u001b[0m \u001b[32m━━━━━━━━━━━━━━━━━━━━\u001b[0m\u001b[37m\u001b[0m \u001b[1m0s\u001b[0m 3ms/step - loss: 0.1760 - mae: 0.2909 \n",
      "Validation Loss: 0.19231492280960083, Validation MAE: 0.3041819930076599\n"
     ]
    },
    {
     "name": "stderr",
     "output_type": "stream",
     "text": [
      "[I 2025-06-14 16:30:40,127] Trial 14 finished with value: 0.19231492280960083 and parameters: {'seq_type': 'GRU', 'seq_units': 36, 'dense_units': 7, 'activation': 'relu', 'optimizer': 'rmsprop', 'dropout': 0.07894260375635234, 'learning_rate': 0.0019601681872358115, 'batch_size': 64}. Best is trial 9 with value: 0.16899186372756958.\n"
     ]
    },
    {
     "data": {
      "text/html": [
       "<pre style=\"white-space:pre;overflow-x:auto;line-height:normal;font-family:Menlo,'DejaVu Sans Mono',consolas,'Courier New',monospace\"></pre>\n"
      ],
      "text/plain": []
     },
     "metadata": {},
     "output_type": "display_data"
    },
    {
     "name": "stdout",
     "output_type": "stream",
     "text": [
      "\u001b[1m23/23\u001b[0m \u001b[32m━━━━━━━━━━━━━━━━━━━━\u001b[0m\u001b[37m\u001b[0m \u001b[1m0s\u001b[0m 3ms/step - loss: 0.1992 - mae: 0.3015 \n",
      "Validation Loss: 0.21148905158042908, Validation MAE: 0.31698012351989746\n"
     ]
    },
    {
     "name": "stderr",
     "output_type": "stream",
     "text": [
      "[I 2025-06-14 16:31:56,971] Trial 15 finished with value: 0.21148903667926788 and parameters: {'seq_type': 'LSTM', 'seq_units': 37, 'dense_units': 8, 'activation': 'relu', 'optimizer': 'rmsprop', 'dropout': 0.042164484913759744, 'learning_rate': 0.00027325893344105684, 'batch_size': 64}. Best is trial 9 with value: 0.16899186372756958.\n"
     ]
    },
    {
     "data": {
      "text/html": [
       "<pre style=\"white-space:pre;overflow-x:auto;line-height:normal;font-family:Menlo,'DejaVu Sans Mono',consolas,'Courier New',monospace\"></pre>\n"
      ],
      "text/plain": []
     },
     "metadata": {},
     "output_type": "display_data"
    },
    {
     "name": "stdout",
     "output_type": "stream",
     "text": [
      "\u001b[1m23/23\u001b[0m \u001b[32m━━━━━━━━━━━━━━━━━━━━\u001b[0m\u001b[37m\u001b[0m \u001b[1m0s\u001b[0m 5ms/step - loss: 0.1763 - mae: 0.2913\n",
      "Validation Loss: 0.18665044009685516, Validation MAE: 0.3009365200996399\n"
     ]
    },
    {
     "name": "stderr",
     "output_type": "stream",
     "text": [
      "[I 2025-06-14 16:32:37,867] Trial 16 finished with value: 0.18665044009685516 and parameters: {'seq_type': 'LSTM', 'seq_units': 24, 'dense_units': 8, 'activation': 'relu', 'optimizer': 'rmsprop', 'dropout': 0.0752136849368349, 'learning_rate': 0.002112870938904647, 'batch_size': 64}. Best is trial 9 with value: 0.16899186372756958.\n"
     ]
    },
    {
     "data": {
      "text/html": [
       "<pre style=\"white-space:pre;overflow-x:auto;line-height:normal;font-family:Menlo,'DejaVu Sans Mono',consolas,'Courier New',monospace\"></pre>\n"
      ],
      "text/plain": []
     },
     "metadata": {},
     "output_type": "display_data"
    },
    {
     "name": "stdout",
     "output_type": "stream",
     "text": [
      "\u001b[1m23/23\u001b[0m \u001b[32m━━━━━━━━━━━━━━━━━━━━\u001b[0m\u001b[37m\u001b[0m \u001b[1m0s\u001b[0m 7ms/step - loss: 0.2021 - mae: 0.3036\n",
      "Validation Loss: 0.2210327684879303, Validation MAE: 0.3232448101043701\n"
     ]
    },
    {
     "name": "stderr",
     "output_type": "stream",
     "text": [
      "[I 2025-06-14 16:33:41,151] Trial 17 finished with value: 0.2210327386856079 and parameters: {'seq_type': 'GRU', 'seq_units': 33, 'dense_units': 9, 'activation': 'relu', 'optimizer': 'rmsprop', 'dropout': 0.07007228753525763, 'learning_rate': 0.00037695923990579007, 'batch_size': 64}. Best is trial 9 with value: 0.16899186372756958.\n"
     ]
    },
    {
     "data": {
      "text/html": [
       "<pre style=\"white-space:pre;overflow-x:auto;line-height:normal;font-family:Menlo,'DejaVu Sans Mono',consolas,'Courier New',monospace\"></pre>\n"
      ],
      "text/plain": []
     },
     "metadata": {},
     "output_type": "display_data"
    },
    {
     "name": "stdout",
     "output_type": "stream",
     "text": [
      "\u001b[1m23/23\u001b[0m \u001b[32m━━━━━━━━━━━━━━━━━━━━\u001b[0m\u001b[37m\u001b[0m \u001b[1m0s\u001b[0m 7ms/step - loss: 0.1975 - mae: 0.2980\n",
      "Validation Loss: 0.20706447958946228, Validation MAE: 0.3115251958370209\n"
     ]
    },
    {
     "name": "stderr",
     "output_type": "stream",
     "text": [
      "[I 2025-06-14 16:34:24,270] Trial 18 finished with value: 0.2070644646883011 and parameters: {'seq_type': 'LSTM', 'seq_units': 44, 'dense_units': 7, 'activation': 'relu', 'optimizer': 'adam', 'dropout': 0.09518415189802497, 'learning_rate': 0.0035500444094982635, 'batch_size': 64}. Best is trial 9 with value: 0.16899186372756958.\n"
     ]
    },
    {
     "data": {
      "text/html": [
       "<pre style=\"white-space:pre;overflow-x:auto;line-height:normal;font-family:Menlo,'DejaVu Sans Mono',consolas,'Courier New',monospace\"></pre>\n"
      ],
      "text/plain": []
     },
     "metadata": {},
     "output_type": "display_data"
    },
    {
     "name": "stdout",
     "output_type": "stream",
     "text": [
      "\u001b[1m23/23\u001b[0m \u001b[32m━━━━━━━━━━━━━━━━━━━━\u001b[0m\u001b[37m\u001b[0m \u001b[1m0s\u001b[0m 3ms/step - loss: 0.1781 - mae: 0.2994 \n",
      "Validation Loss: 0.18610426783561707, Validation MAE: 0.3104802668094635\n"
     ]
    },
    {
     "name": "stderr",
     "output_type": "stream",
     "text": [
      "[I 2025-06-14 16:35:26,209] Trial 19 finished with value: 0.18610426783561707 and parameters: {'seq_type': 'GRU', 'seq_units': 41, 'dense_units': 10, 'activation': 'relu', 'optimizer': 'rmsprop', 'dropout': 0.05893554912764613, 'learning_rate': 0.011625064071716821, 'batch_size': 32}. Best is trial 9 with value: 0.16899186372756958.\n"
     ]
    },
    {
     "data": {
      "text/html": [
       "<pre style=\"white-space:pre;overflow-x:auto;line-height:normal;font-family:Menlo,'DejaVu Sans Mono',consolas,'Courier New',monospace\"></pre>\n"
      ],
      "text/plain": []
     },
     "metadata": {},
     "output_type": "display_data"
    },
    {
     "name": "stdout",
     "output_type": "stream",
     "text": [
      "\u001b[1m23/23\u001b[0m \u001b[32m━━━━━━━━━━━━━━━━━━━━\u001b[0m\u001b[37m\u001b[0m \u001b[1m0s\u001b[0m 4ms/step - loss: 0.1920 - mae: 0.2981\n",
      "Validation Loss: 0.20760466158390045, Validation MAE: 0.31396105885505676\n"
     ]
    },
    {
     "name": "stderr",
     "output_type": "stream",
     "text": [
      "[I 2025-06-14 16:36:08,102] Trial 20 finished with value: 0.20760466158390045 and parameters: {'seq_type': 'GRU', 'seq_units': 33, 'dense_units': 9, 'activation': 'tanh', 'optimizer': 'rmsprop', 'dropout': 0.033208114856645175, 'learning_rate': 0.0022100028322367144, 'batch_size': 64}. Best is trial 9 with value: 0.16899186372756958.\n"
     ]
    },
    {
     "data": {
      "text/html": [
       "<pre style=\"white-space:pre;overflow-x:auto;line-height:normal;font-family:Menlo,'DejaVu Sans Mono',consolas,'Courier New',monospace\"></pre>\n"
      ],
      "text/plain": []
     },
     "metadata": {},
     "output_type": "display_data"
    },
    {
     "name": "stdout",
     "output_type": "stream",
     "text": [
      "\u001b[1m23/23\u001b[0m \u001b[32m━━━━━━━━━━━━━━━━━━━━\u001b[0m\u001b[37m\u001b[0m \u001b[1m0s\u001b[0m 8ms/step - loss: 0.1574 - mae: 0.2821\n",
      "Validation Loss: 0.16851575672626495, Validation MAE: 0.29763898253440857\n"
     ]
    },
    {
     "name": "stderr",
     "output_type": "stream",
     "text": [
      "[I 2025-06-14 16:36:51,223] Trial 21 finished with value: 0.16851574182510376 and parameters: {'seq_type': 'LSTM', 'seq_units': 24, 'dense_units': 11, 'activation': 'mish', 'optimizer': 'rmsprop', 'dropout': 0.07655397125341182, 'learning_rate': 0.03209189860421645, 'batch_size': 64}. Best is trial 21 with value: 0.16851574182510376.\n"
     ]
    },
    {
     "data": {
      "text/html": [
       "<pre style=\"white-space:pre;overflow-x:auto;line-height:normal;font-family:Menlo,'DejaVu Sans Mono',consolas,'Courier New',monospace\"></pre>\n"
      ],
      "text/plain": []
     },
     "metadata": {},
     "output_type": "display_data"
    },
    {
     "name": "stdout",
     "output_type": "stream",
     "text": [
      "\u001b[1m23/23\u001b[0m \u001b[32m━━━━━━━━━━━━━━━━━━━━\u001b[0m\u001b[37m\u001b[0m \u001b[1m0s\u001b[0m 10ms/step - loss: 0.1895 - mae: 0.3046\n",
      "Validation Loss: 0.1959128975868225, Validation MAE: 0.31491556763648987\n"
     ]
    },
    {
     "name": "stderr",
     "output_type": "stream",
     "text": [
      "[I 2025-06-14 16:37:22,188] Trial 22 finished with value: 0.1959128975868225 and parameters: {'seq_type': 'LSTM', 'seq_units': 23, 'dense_units': 11, 'activation': 'mish', 'optimizer': 'rmsprop', 'dropout': 0.07869479875932991, 'learning_rate': 0.02925229769530914, 'batch_size': 64}. Best is trial 21 with value: 0.16851574182510376.\n"
     ]
    },
    {
     "data": {
      "text/html": [
       "<pre style=\"white-space:pre;overflow-x:auto;line-height:normal;font-family:Menlo,'DejaVu Sans Mono',consolas,'Courier New',monospace\"></pre>\n"
      ],
      "text/plain": []
     },
     "metadata": {},
     "output_type": "display_data"
    },
    {
     "name": "stdout",
     "output_type": "stream",
     "text": [
      "\u001b[1m23/23\u001b[0m \u001b[32m━━━━━━━━━━━━━━━━━━━━\u001b[0m\u001b[37m\u001b[0m \u001b[1m0s\u001b[0m 7ms/step - loss: 0.1643 - mae: 0.2844\n",
      "Validation Loss: 0.17629505693912506, Validation MAE: 0.296962708234787\n"
     ]
    },
    {
     "name": "stderr",
     "output_type": "stream",
     "text": [
      "[I 2025-06-14 16:38:16,600] Trial 23 finished with value: 0.17629507184028625 and parameters: {'seq_type': 'LSTM', 'seq_units': 33, 'dense_units': 12, 'activation': 'mish', 'optimizer': 'rmsprop', 'dropout': 0.08554293308139191, 'learning_rate': 0.0038825688807307196, 'batch_size': 64}. Best is trial 21 with value: 0.16851574182510376.\n"
     ]
    },
    {
     "data": {
      "text/html": [
       "<pre style=\"white-space:pre;overflow-x:auto;line-height:normal;font-family:Menlo,'DejaVu Sans Mono',consolas,'Courier New',monospace\"></pre>\n"
      ],
      "text/plain": []
     },
     "metadata": {},
     "output_type": "display_data"
    },
    {
     "name": "stdout",
     "output_type": "stream",
     "text": [
      "\u001b[1m23/23\u001b[0m \u001b[32m━━━━━━━━━━━━━━━━━━━━\u001b[0m\u001b[37m\u001b[0m \u001b[1m0s\u001b[0m 6ms/step - loss: 0.1717 - mae: 0.2987\n",
      "Validation Loss: 0.18002396821975708, Validation MAE: 0.3096548020839691\n"
     ]
    },
    {
     "name": "stderr",
     "output_type": "stream",
     "text": [
      "[I 2025-06-14 16:38:58,099] Trial 24 finished with value: 0.18002396821975708 and parameters: {'seq_type': 'LSTM', 'seq_units': 25, 'dense_units': 12, 'activation': 'mish', 'optimizer': 'rmsprop', 'dropout': 0.0856668349787901, 'learning_rate': 0.026187244310034004, 'batch_size': 64}. Best is trial 21 with value: 0.16851574182510376.\n"
     ]
    },
    {
     "data": {
      "text/html": [
       "<pre style=\"white-space:pre;overflow-x:auto;line-height:normal;font-family:Menlo,'DejaVu Sans Mono',consolas,'Courier New',monospace\"></pre>\n"
      ],
      "text/plain": []
     },
     "metadata": {},
     "output_type": "display_data"
    },
    {
     "name": "stdout",
     "output_type": "stream",
     "text": [
      "\u001b[1m23/23\u001b[0m \u001b[32m━━━━━━━━━━━━━━━━━━━━\u001b[0m\u001b[37m\u001b[0m \u001b[1m0s\u001b[0m 7ms/step - loss: 0.1771 - mae: 0.2889\n",
      "Validation Loss: 0.1876809448003769, Validation MAE: 0.3044583797454834\n"
     ]
    },
    {
     "name": "stderr",
     "output_type": "stream",
     "text": [
      "[I 2025-06-14 16:39:34,038] Trial 25 finished with value: 0.1876809448003769 and parameters: {'seq_type': 'LSTM', 'seq_units': 31, 'dense_units': 12, 'activation': 'mish', 'optimizer': 'rmsprop', 'dropout': 0.08941898774856916, 'learning_rate': 0.01320539483856438, 'batch_size': 64}. Best is trial 21 with value: 0.16851574182510376.\n"
     ]
    },
    {
     "data": {
      "text/html": [
       "<pre style=\"white-space:pre;overflow-x:auto;line-height:normal;font-family:Menlo,'DejaVu Sans Mono',consolas,'Courier New',monospace\"></pre>\n"
      ],
      "text/plain": []
     },
     "metadata": {},
     "output_type": "display_data"
    },
    {
     "name": "stdout",
     "output_type": "stream",
     "text": [
      "\u001b[1m23/23\u001b[0m \u001b[32m━━━━━━━━━━━━━━━━━━━━\u001b[0m\u001b[37m\u001b[0m \u001b[1m1s\u001b[0m 20ms/step - loss: 0.1813 - mae: 0.2974\n",
      "Validation Loss: 0.18784202635288239, Validation MAE: 0.30626675486564636\n"
     ]
    },
    {
     "name": "stderr",
     "output_type": "stream",
     "text": [
      "[I 2025-06-14 16:41:31,739] Trial 26 finished with value: 0.18784202635288239 and parameters: {'seq_type': 'LSTM', 'seq_units': 21, 'dense_units': 11, 'activation': 'mish', 'optimizer': 'adam', 'dropout': 0.05909757959376443, 'learning_rate': 0.0046663219477195254, 'batch_size': 32}. Best is trial 21 with value: 0.16851574182510376.\n"
     ]
    },
    {
     "data": {
      "text/html": [
       "<pre style=\"white-space:pre;overflow-x:auto;line-height:normal;font-family:Menlo,'DejaVu Sans Mono',consolas,'Courier New',monospace\"></pre>\n"
      ],
      "text/plain": []
     },
     "metadata": {},
     "output_type": "display_data"
    },
    {
     "name": "stdout",
     "output_type": "stream",
     "text": [
      "\u001b[1m23/23\u001b[0m \u001b[32m━━━━━━━━━━━━━━━━━━━━\u001b[0m\u001b[37m\u001b[0m \u001b[1m0s\u001b[0m 6ms/step - loss: 0.1835 - mae: 0.2918\n",
      "Validation Loss: 0.2038196623325348, Validation MAE: 0.3122795522212982\n"
     ]
    },
    {
     "name": "stderr",
     "output_type": "stream",
     "text": [
      "[I 2025-06-14 16:43:16,476] Trial 27 finished with value: 0.2038196623325348 and parameters: {'seq_type': 'LSTM', 'seq_units': 12, 'dense_units': 12, 'activation': 'mish', 'optimizer': 'rmsprop', 'dropout': 0.08228102858952806, 'learning_rate': 0.0005633189802857453, 'batch_size': 64}. Best is trial 21 with value: 0.16851574182510376.\n"
     ]
    },
    {
     "data": {
      "text/html": [
       "<pre style=\"white-space:pre;overflow-x:auto;line-height:normal;font-family:Menlo,'DejaVu Sans Mono',consolas,'Courier New',monospace\"></pre>\n"
      ],
      "text/plain": []
     },
     "metadata": {},
     "output_type": "display_data"
    },
    {
     "name": "stdout",
     "output_type": "stream",
     "text": [
      "\u001b[1m23/23\u001b[0m \u001b[32m━━━━━━━━━━━━━━━━━━━━\u001b[0m\u001b[37m\u001b[0m \u001b[1m0s\u001b[0m 6ms/step - loss: 0.1806 - mae: 0.2930\n",
      "Validation Loss: 0.19519607722759247, Validation MAE: 0.3075331151485443\n"
     ]
    },
    {
     "name": "stderr",
     "output_type": "stream",
     "text": [
      "[I 2025-06-14 16:43:46,997] Trial 28 finished with value: 0.19519604742527008 and parameters: {'seq_type': 'SimpleRNN', 'seq_units': 28, 'dense_units': 11, 'activation': 'mish', 'optimizer': 'rmsprop', 'dropout': 0.09582014180143042, 'learning_rate': 0.009371411864377243, 'batch_size': 64}. Best is trial 21 with value: 0.16851574182510376.\n"
     ]
    },
    {
     "data": {
      "text/html": [
       "<pre style=\"white-space:pre;overflow-x:auto;line-height:normal;font-family:Menlo,'DejaVu Sans Mono',consolas,'Courier New',monospace\"></pre>\n"
      ],
      "text/plain": []
     },
     "metadata": {},
     "output_type": "display_data"
    },
    {
     "name": "stdout",
     "output_type": "stream",
     "text": [
      "\u001b[1m23/23\u001b[0m \u001b[32m━━━━━━━━━━━━━━━━━━━━\u001b[0m\u001b[37m\u001b[0m \u001b[1m0s\u001b[0m 5ms/step - loss: 0.1513 - mae: 0.2783\n",
      "Validation Loss: 0.1659950464963913, Validation MAE: 0.2923315465450287\n"
     ]
    },
    {
     "name": "stderr",
     "output_type": "stream",
     "text": [
      "[I 2025-06-14 16:44:29,811] Trial 29 finished with value: 0.1659950464963913 and parameters: {'seq_type': 'GRU', 'seq_units': 30, 'dense_units': 11, 'activation': 'mish', 'optimizer': 'rmsprop', 'dropout': 0.06969370235803933, 'learning_rate': 0.03251616100359014, 'batch_size': 64}. Best is trial 29 with value: 0.1659950464963913.\n"
     ]
    },
    {
     "data": {
      "text/html": [
       "<pre style=\"white-space:pre;overflow-x:auto;line-height:normal;font-family:Menlo,'DejaVu Sans Mono',consolas,'Courier New',monospace\"></pre>\n"
      ],
      "text/plain": []
     },
     "metadata": {},
     "output_type": "display_data"
    },
    {
     "name": "stdout",
     "output_type": "stream",
     "text": [
      "\u001b[1m23/23\u001b[0m \u001b[32m━━━━━━━━━━━━━━━━━━━━\u001b[0m\u001b[37m\u001b[0m \u001b[1m0s\u001b[0m 5ms/step - loss: 0.1856 - mae: 0.3133\n",
      "Validation Loss: 0.20441006124019623, Validation MAE: 0.32890695333480835\n"
     ]
    },
    {
     "name": "stderr",
     "output_type": "stream",
     "text": [
      "[I 2025-06-14 16:45:10,536] Trial 30 finished with value: 0.20441006124019623 and parameters: {'seq_type': 'GRU', 'seq_units': 27, 'dense_units': 10, 'activation': 'mish', 'optimizer': 'rmsprop', 'dropout': 0.06537986513199881, 'learning_rate': 0.04125167596935586, 'batch_size': 32}. Best is trial 29 with value: 0.1659950464963913.\n"
     ]
    },
    {
     "data": {
      "text/html": [
       "<pre style=\"white-space:pre;overflow-x:auto;line-height:normal;font-family:Menlo,'DejaVu Sans Mono',consolas,'Courier New',monospace\"></pre>\n"
      ],
      "text/plain": []
     },
     "metadata": {},
     "output_type": "display_data"
    },
    {
     "name": "stdout",
     "output_type": "stream",
     "text": [
      "\u001b[1m23/23\u001b[0m \u001b[32m━━━━━━━━━━━━━━━━━━━━\u001b[0m\u001b[37m\u001b[0m \u001b[1m0s\u001b[0m 5ms/step - loss: 0.1714 - mae: 0.2906\n",
      "Validation Loss: 0.18065693974494934, Validation MAE: 0.2997501790523529\n"
     ]
    },
    {
     "name": "stderr",
     "output_type": "stream",
     "text": [
      "[I 2025-06-14 16:45:41,486] Trial 31 finished with value: 0.18065693974494934 and parameters: {'seq_type': 'GRU', 'seq_units': 31, 'dense_units': 11, 'activation': 'mish', 'optimizer': 'rmsprop', 'dropout': 0.0722396605884181, 'learning_rate': 0.01868935932192986, 'batch_size': 64}. Best is trial 29 with value: 0.1659950464963913.\n"
     ]
    },
    {
     "data": {
      "text/html": [
       "<pre style=\"white-space:pre;overflow-x:auto;line-height:normal;font-family:Menlo,'DejaVu Sans Mono',consolas,'Courier New',monospace\"></pre>\n"
      ],
      "text/plain": []
     },
     "metadata": {},
     "output_type": "display_data"
    },
    {
     "name": "stdout",
     "output_type": "stream",
     "text": [
      "\u001b[1m23/23\u001b[0m \u001b[32m━━━━━━━━━━━━━━━━━━━━\u001b[0m\u001b[37m\u001b[0m \u001b[1m0s\u001b[0m 6ms/step - loss: 0.1672 - mae: 0.3003\n",
      "Validation Loss: 0.1760890632867813, Validation MAE: 0.310223251581192\n"
     ]
    },
    {
     "name": "stderr",
     "output_type": "stream",
     "text": [
      "[I 2025-06-14 16:46:16,626] Trial 32 finished with value: 0.1760890632867813 and parameters: {'seq_type': 'GRU', 'seq_units': 19, 'dense_units': 12, 'activation': 'mish', 'optimizer': 'rmsprop', 'dropout': 0.04905807418247364, 'learning_rate': 0.038518542836139584, 'batch_size': 64}. Best is trial 29 with value: 0.1659950464963913.\n"
     ]
    },
    {
     "data": {
      "text/html": [
       "<pre style=\"white-space:pre;overflow-x:auto;line-height:normal;font-family:Menlo,'DejaVu Sans Mono',consolas,'Courier New',monospace\"></pre>\n"
      ],
      "text/plain": []
     },
     "metadata": {},
     "output_type": "display_data"
    },
    {
     "name": "stdout",
     "output_type": "stream",
     "text": [
      "\u001b[1m23/23\u001b[0m \u001b[32m━━━━━━━━━━━━━━━━━━━━\u001b[0m\u001b[37m\u001b[0m \u001b[1m0s\u001b[0m 8ms/step - loss: 0.1831 - mae: 0.3019\n",
      "Validation Loss: 0.20333176851272583, Validation MAE: 0.32137274742126465\n"
     ]
    },
    {
     "name": "stderr",
     "output_type": "stream",
     "text": [
      "[I 2025-06-14 16:46:48,637] Trial 33 finished with value: 0.20333179831504822 and parameters: {'seq_type': 'GRU', 'seq_units': 18, 'dense_units': 10, 'activation': 'mish', 'optimizer': 'rmsprop', 'dropout': 0.053172055523162794, 'learning_rate': 0.09665869223082095, 'batch_size': 64}. Best is trial 29 with value: 0.1659950464963913.\n"
     ]
    },
    {
     "data": {
      "text/html": [
       "<pre style=\"white-space:pre;overflow-x:auto;line-height:normal;font-family:Menlo,'DejaVu Sans Mono',consolas,'Courier New',monospace\"></pre>\n"
      ],
      "text/plain": []
     },
     "metadata": {},
     "output_type": "display_data"
    },
    {
     "name": "stdout",
     "output_type": "stream",
     "text": [
      "\u001b[1m23/23\u001b[0m \u001b[32m━━━━━━━━━━━━━━━━━━━━\u001b[0m\u001b[37m\u001b[0m \u001b[1m0s\u001b[0m 5ms/step - loss: 0.1792 - mae: 0.3017\n",
      "Validation Loss: 0.1946188509464264, Validation MAE: 0.3188110888004303\n"
     ]
    },
    {
     "name": "stderr",
     "output_type": "stream",
     "text": [
      "[I 2025-06-14 16:47:26,963] Trial 34 finished with value: 0.19461886584758759 and parameters: {'seq_type': 'GRU', 'seq_units': 22, 'dense_units': 11, 'activation': 'mish', 'optimizer': 'rmsprop', 'dropout': 0.06031826400766081, 'learning_rate': 0.04701764454213361, 'batch_size': 64}. Best is trial 29 with value: 0.1659950464963913.\n"
     ]
    },
    {
     "data": {
      "text/html": [
       "<pre style=\"white-space:pre;overflow-x:auto;line-height:normal;font-family:Menlo,'DejaVu Sans Mono',consolas,'Courier New',monospace\"></pre>\n"
      ],
      "text/plain": []
     },
     "metadata": {},
     "output_type": "display_data"
    },
    {
     "name": "stdout",
     "output_type": "stream",
     "text": [
      "\u001b[1m23/23\u001b[0m \u001b[32m━━━━━━━━━━━━━━━━━━━━\u001b[0m\u001b[37m\u001b[0m \u001b[1m0s\u001b[0m 5ms/step - loss: 0.1604 - mae: 0.2890\n",
      "Validation Loss: 0.1761299967765808, Validation MAE: 0.29998502135276794\n"
     ]
    },
    {
     "name": "stderr",
     "output_type": "stream",
     "text": [
      "[I 2025-06-14 16:48:19,751] Trial 35 finished with value: 0.1761299967765808 and parameters: {'seq_type': 'GRU', 'seq_units': 19, 'dense_units': 11, 'activation': 'mish', 'optimizer': 'adam', 'dropout': 0.04352127446435008, 'learning_rate': 0.03512057381246886, 'batch_size': 64}. Best is trial 29 with value: 0.1659950464963913.\n"
     ]
    },
    {
     "data": {
      "text/html": [
       "<pre style=\"white-space:pre;overflow-x:auto;line-height:normal;font-family:Menlo,'DejaVu Sans Mono',consolas,'Courier New',monospace\"></pre>\n"
      ],
      "text/plain": []
     },
     "metadata": {},
     "output_type": "display_data"
    },
    {
     "name": "stdout",
     "output_type": "stream",
     "text": [
      "\u001b[1m23/23\u001b[0m \u001b[32m━━━━━━━━━━━━━━━━━━━━\u001b[0m\u001b[37m\u001b[0m \u001b[1m0s\u001b[0m 3ms/step - loss: 0.1728 - mae: 0.2869 \n",
      "Validation Loss: 0.1857970654964447, Validation MAE: 0.29922834038734436\n"
     ]
    },
    {
     "name": "stderr",
     "output_type": "stream",
     "text": [
      "[I 2025-06-14 16:48:57,760] Trial 36 finished with value: 0.1857970952987671 and parameters: {'seq_type': 'SimpleRNN', 'seq_units': 17, 'dense_units': 12, 'activation': 'tanh', 'optimizer': 'rmsprop', 'dropout': 0.047684770142656124, 'learning_rate': 0.022372889693068086, 'batch_size': 64}. Best is trial 29 with value: 0.1659950464963913.\n"
     ]
    },
    {
     "data": {
      "text/html": [
       "<pre style=\"white-space:pre;overflow-x:auto;line-height:normal;font-family:Menlo,'DejaVu Sans Mono',consolas,'Courier New',monospace\"></pre>\n"
      ],
      "text/plain": []
     },
     "metadata": {},
     "output_type": "display_data"
    },
    {
     "name": "stdout",
     "output_type": "stream",
     "text": [
      "\u001b[1m23/23\u001b[0m \u001b[32m━━━━━━━━━━━━━━━━━━━━\u001b[0m\u001b[37m\u001b[0m \u001b[1m0s\u001b[0m 5ms/step - loss: 0.1679 - mae: 0.2941\n",
      "Validation Loss: 0.18922390043735504, Validation MAE: 0.3179151117801666\n"
     ]
    },
    {
     "name": "stderr",
     "output_type": "stream",
     "text": [
      "[I 2025-06-14 16:49:29,636] Trial 37 finished with value: 0.18922387063503265 and parameters: {'seq_type': 'GRU', 'seq_units': 20, 'dense_units': 9, 'activation': 'mish', 'optimizer': 'rmsprop', 'dropout': 0.03403804720776911, 'learning_rate': 0.06033326479764426, 'batch_size': 128}. Best is trial 29 with value: 0.1659950464963913.\n"
     ]
    },
    {
     "data": {
      "text/html": [
       "<pre style=\"white-space:pre;overflow-x:auto;line-height:normal;font-family:Menlo,'DejaVu Sans Mono',consolas,'Courier New',monospace\"></pre>\n"
      ],
      "text/plain": []
     },
     "metadata": {},
     "output_type": "display_data"
    },
    {
     "name": "stdout",
     "output_type": "stream",
     "text": [
      "\u001b[1m23/23\u001b[0m \u001b[32m━━━━━━━━━━━━━━━━━━━━\u001b[0m\u001b[37m\u001b[0m \u001b[1m0s\u001b[0m 4ms/step - loss: 0.1787 - mae: 0.2975\n",
      "Validation Loss: 0.20173035562038422, Validation MAE: 0.31614306569099426\n"
     ]
    },
    {
     "name": "stderr",
     "output_type": "stream",
     "text": [
      "[I 2025-06-14 16:50:20,727] Trial 38 finished with value: 0.20173035562038422 and parameters: {'seq_type': 'GRU', 'seq_units': 23, 'dense_units': 10, 'activation': 'mish', 'optimizer': 'adam', 'dropout': 0.04928060277642067, 'learning_rate': 0.006765137181563617, 'batch_size': 32}. Best is trial 29 with value: 0.1659950464963913.\n"
     ]
    },
    {
     "data": {
      "text/html": [
       "<pre style=\"white-space:pre;overflow-x:auto;line-height:normal;font-family:Menlo,'DejaVu Sans Mono',consolas,'Courier New',monospace\"></pre>\n"
      ],
      "text/plain": []
     },
     "metadata": {},
     "output_type": "display_data"
    },
    {
     "name": "stdout",
     "output_type": "stream",
     "text": [
      "\u001b[1m23/23\u001b[0m \u001b[32m━━━━━━━━━━━━━━━━━━━━\u001b[0m\u001b[37m\u001b[0m \u001b[1m0s\u001b[0m 3ms/step - loss: 0.1811 - mae: 0.3061 \n",
      "Validation Loss: 0.18801841139793396, Validation MAE: 0.3144286572933197\n"
     ]
    },
    {
     "name": "stderr",
     "output_type": "stream",
     "text": [
      "[I 2025-06-14 16:50:48,396] Trial 39 finished with value: 0.18801841139793396 and parameters: {'seq_type': 'SimpleRNN', 'seq_units': 25, 'dense_units': 12, 'activation': 'tanh', 'optimizer': 'rmsprop', 'dropout': 0.06225636051071511, 'learning_rate': 0.017401043393123247, 'batch_size': 128}. Best is trial 29 with value: 0.1659950464963913.\n"
     ]
    },
    {
     "data": {
      "text/html": [
       "<pre style=\"white-space:pre;overflow-x:auto;line-height:normal;font-family:Menlo,'DejaVu Sans Mono',consolas,'Courier New',monospace\"></pre>\n"
      ],
      "text/plain": []
     },
     "metadata": {},
     "output_type": "display_data"
    },
    {
     "name": "stdout",
     "output_type": "stream",
     "text": [
      "\u001b[1m23/23\u001b[0m \u001b[32m━━━━━━━━━━━━━━━━━━━━\u001b[0m\u001b[37m\u001b[0m \u001b[1m0s\u001b[0m 4ms/step - loss: 0.2046 - mae: 0.2985\n",
      "Validation Loss: 0.2267267405986786, Validation MAE: 0.3244470953941345\n"
     ]
    },
    {
     "name": "stderr",
     "output_type": "stream",
     "text": [
      "[I 2025-06-14 16:51:25,264] Trial 40 finished with value: 0.2267267256975174 and parameters: {'seq_type': 'GRU', 'seq_units': 29, 'dense_units': 11, 'activation': 'mish', 'optimizer': 'rmsprop', 'dropout': 0.02811391946986425, 'learning_rate': 0.09122316318235194, 'batch_size': 64}. Best is trial 29 with value: 0.1659950464963913.\n"
     ]
    },
    {
     "data": {
      "text/html": [
       "<pre style=\"white-space:pre;overflow-x:auto;line-height:normal;font-family:Menlo,'DejaVu Sans Mono',consolas,'Courier New',monospace\"></pre>\n"
      ],
      "text/plain": []
     },
     "metadata": {},
     "output_type": "display_data"
    },
    {
     "name": "stdout",
     "output_type": "stream",
     "text": [
      "\u001b[1m23/23\u001b[0m \u001b[32m━━━━━━━━━━━━━━━━━━━━\u001b[0m\u001b[37m\u001b[0m \u001b[1m0s\u001b[0m 5ms/step - loss: 0.1797 - mae: 0.3035\n",
      "Validation Loss: 0.19418364763259888, Validation MAE: 0.31634461879730225\n"
     ]
    },
    {
     "name": "stderr",
     "output_type": "stream",
     "text": [
      "[I 2025-06-14 16:52:01,273] Trial 41 finished with value: 0.19418364763259888 and parameters: {'seq_type': 'GRU', 'seq_units': 19, 'dense_units': 11, 'activation': 'mish', 'optimizer': 'adam', 'dropout': 0.04337294709800454, 'learning_rate': 0.03960848567101359, 'batch_size': 64}. Best is trial 29 with value: 0.1659950464963913.\n"
     ]
    },
    {
     "data": {
      "text/html": [
       "<pre style=\"white-space:pre;overflow-x:auto;line-height:normal;font-family:Menlo,'DejaVu Sans Mono',consolas,'Courier New',monospace\"></pre>\n"
      ],
      "text/plain": []
     },
     "metadata": {},
     "output_type": "display_data"
    },
    {
     "name": "stdout",
     "output_type": "stream",
     "text": [
      "\u001b[1m23/23\u001b[0m \u001b[32m━━━━━━━━━━━━━━━━━━━━\u001b[0m\u001b[37m\u001b[0m \u001b[1m0s\u001b[0m 4ms/step - loss: 0.1760 - mae: 0.2951\n",
      "Validation Loss: 0.19480189681053162, Validation MAE: 0.31027349829673767\n"
     ]
    },
    {
     "name": "stderr",
     "output_type": "stream",
     "text": [
      "[I 2025-06-14 16:52:39,384] Trial 42 finished with value: 0.19480189681053162 and parameters: {'seq_type': 'GRU', 'seq_units': 15, 'dense_units': 12, 'activation': 'mish', 'optimizer': 'adam', 'dropout': 0.041628558966324024, 'learning_rate': 0.033234047098546125, 'batch_size': 64}. Best is trial 29 with value: 0.1659950464963913.\n"
     ]
    },
    {
     "data": {
      "text/html": [
       "<pre style=\"white-space:pre;overflow-x:auto;line-height:normal;font-family:Menlo,'DejaVu Sans Mono',consolas,'Courier New',monospace\"></pre>\n"
      ],
      "text/plain": []
     },
     "metadata": {},
     "output_type": "display_data"
    },
    {
     "name": "stdout",
     "output_type": "stream",
     "text": [
      "\u001b[1m23/23\u001b[0m \u001b[32m━━━━━━━━━━━━━━━━━━━━\u001b[0m\u001b[37m\u001b[0m \u001b[1m0s\u001b[0m 5ms/step - loss: 0.1919 - mae: 0.3059\n",
      "Validation Loss: 0.20540961623191833, Validation MAE: 0.32630306482315063\n"
     ]
    },
    {
     "name": "stderr",
     "output_type": "stream",
     "text": [
      "[I 2025-06-14 16:53:09,474] Trial 43 finished with value: 0.20540963113307953 and parameters: {'seq_type': 'GRU', 'seq_units': 21, 'dense_units': 11, 'activation': 'mish', 'optimizer': 'adam', 'dropout': 0.06795938786216818, 'learning_rate': 0.05692195190391736, 'batch_size': 64}. Best is trial 29 with value: 0.1659950464963913.\n"
     ]
    },
    {
     "data": {
      "text/html": [
       "<pre style=\"white-space:pre;overflow-x:auto;line-height:normal;font-family:Menlo,'DejaVu Sans Mono',consolas,'Courier New',monospace\"></pre>\n"
      ],
      "text/plain": []
     },
     "metadata": {},
     "output_type": "display_data"
    },
    {
     "name": "stdout",
     "output_type": "stream",
     "text": [
      "\u001b[1m23/23\u001b[0m \u001b[32m━━━━━━━━━━━━━━━━━━━━\u001b[0m\u001b[37m\u001b[0m \u001b[1m0s\u001b[0m 4ms/step - loss: 0.1817 - mae: 0.3045\n",
      "Validation Loss: 0.20731253921985626, Validation MAE: 0.32870322465896606\n"
     ]
    },
    {
     "name": "stderr",
     "output_type": "stream",
     "text": [
      "[I 2025-06-14 16:53:41,687] Trial 44 finished with value: 0.20731256902217865 and parameters: {'seq_type': 'GRU', 'seq_units': 18, 'dense_units': 10, 'activation': 'mish', 'optimizer': 'adam', 'dropout': 0.04576457383092379, 'learning_rate': 0.06860892336621432, 'batch_size': 64}. Best is trial 29 with value: 0.1659950464963913.\n"
     ]
    },
    {
     "data": {
      "text/html": [
       "<pre style=\"white-space:pre;overflow-x:auto;line-height:normal;font-family:Menlo,'DejaVu Sans Mono',consolas,'Courier New',monospace\"></pre>\n"
      ],
      "text/plain": []
     },
     "metadata": {},
     "output_type": "display_data"
    },
    {
     "name": "stdout",
     "output_type": "stream",
     "text": [
      "\u001b[1m23/23\u001b[0m \u001b[32m━━━━━━━━━━━━━━━━━━━━\u001b[0m\u001b[37m\u001b[0m \u001b[1m0s\u001b[0m 3ms/step - loss: 0.2028 - mae: 0.3169\n",
      "Validation Loss: 0.2064828872680664, Validation MAE: 0.32198113203048706\n"
     ]
    },
    {
     "name": "stderr",
     "output_type": "stream",
     "text": [
      "[I 2025-06-14 16:54:25,909] Trial 45 finished with value: 0.2064828872680664 and parameters: {'seq_type': 'GRU', 'seq_units': 12, 'dense_units': 12, 'activation': 'mish', 'optimizer': 'adam', 'dropout': 0.052602016968153115, 'learning_rate': 0.0088180330361927, 'batch_size': 128}. Best is trial 29 with value: 0.1659950464963913.\n"
     ]
    },
    {
     "data": {
      "text/html": [
       "<pre style=\"white-space:pre;overflow-x:auto;line-height:normal;font-family:Menlo,'DejaVu Sans Mono',consolas,'Courier New',monospace\"></pre>\n"
      ],
      "text/plain": []
     },
     "metadata": {},
     "output_type": "display_data"
    },
    {
     "name": "stdout",
     "output_type": "stream",
     "text": [
      "\u001b[1m23/23\u001b[0m \u001b[32m━━━━━━━━━━━━━━━━━━━━\u001b[0m\u001b[37m\u001b[0m \u001b[1m0s\u001b[0m 6ms/step - loss: 0.1964 - mae: 0.3061\n",
      "Validation Loss: 0.2109363079071045, Validation MAE: 0.31480637192726135\n"
     ]
    },
    {
     "name": "stderr",
     "output_type": "stream",
     "text": [
      "[I 2025-06-14 16:55:39,338] Trial 46 finished with value: 0.21093633770942688 and parameters: {'seq_type': 'GRU', 'seq_units': 26, 'dense_units': 5, 'activation': 'tanh', 'optimizer': 'adam', 'dropout': 0.07558731603774732, 'learning_rate': 0.001406710731672098, 'batch_size': 64}. Best is trial 29 with value: 0.1659950464963913.\n"
     ]
    },
    {
     "data": {
      "text/html": [
       "<pre style=\"white-space:pre;overflow-x:auto;line-height:normal;font-family:Menlo,'DejaVu Sans Mono',consolas,'Courier New',monospace\"></pre>\n"
      ],
      "text/plain": []
     },
     "metadata": {},
     "output_type": "display_data"
    },
    {
     "name": "stdout",
     "output_type": "stream",
     "text": [
      "\u001b[1m23/23\u001b[0m \u001b[32m━━━━━━━━━━━━━━━━━━━━\u001b[0m\u001b[37m\u001b[0m \u001b[1m0s\u001b[0m 4ms/step - loss: 0.1812 - mae: 0.3045\n",
      "Validation Loss: 0.1898728758096695, Validation MAE: 0.31479427218437195\n"
     ]
    },
    {
     "name": "stderr",
     "output_type": "stream",
     "text": [
      "[I 2025-06-14 16:56:15,319] Trial 47 finished with value: 0.1898728758096695 and parameters: {'seq_type': 'SimpleRNN', 'seq_units': 16, 'dense_units': 12, 'activation': 'mish', 'optimizer': 'rmsprop', 'dropout': 0.03669595161617128, 'learning_rate': 0.02379550336318027, 'batch_size': 64}. Best is trial 29 with value: 0.1659950464963913.\n"
     ]
    },
    {
     "data": {
      "text/html": [
       "<pre style=\"white-space:pre;overflow-x:auto;line-height:normal;font-family:Menlo,'DejaVu Sans Mono',consolas,'Courier New',monospace\"></pre>\n"
      ],
      "text/plain": []
     },
     "metadata": {},
     "output_type": "display_data"
    },
    {
     "name": "stdout",
     "output_type": "stream",
     "text": [
      "\u001b[1m23/23\u001b[0m \u001b[32m━━━━━━━━━━━━━━━━━━━━\u001b[0m\u001b[37m\u001b[0m \u001b[1m0s\u001b[0m 3ms/step - loss: 0.2020 - mae: 0.3278 \n",
      "Validation Loss: 0.22996844351291656, Validation MAE: 0.34937822818756104\n"
     ]
    },
    {
     "name": "stderr",
     "output_type": "stream",
     "text": [
      "[I 2025-06-14 16:56:44,519] Trial 48 finished with value: 0.22996845841407776 and parameters: {'seq_type': 'GRU', 'seq_units': 20, 'dense_units': 10, 'activation': 'relu', 'optimizer': 'adam', 'dropout': 0.05622324646401863, 'learning_rate': 0.03548061961725214, 'batch_size': 64}. Best is trial 29 with value: 0.1659950464963913.\n"
     ]
    },
    {
     "data": {
      "text/html": [
       "<pre style=\"white-space:pre;overflow-x:auto;line-height:normal;font-family:Menlo,'DejaVu Sans Mono',consolas,'Courier New',monospace\"></pre>\n"
      ],
      "text/plain": []
     },
     "metadata": {},
     "output_type": "display_data"
    },
    {
     "name": "stdout",
     "output_type": "stream",
     "text": [
      "\u001b[1m23/23\u001b[0m \u001b[32m━━━━━━━━━━━━━━━━━━━━\u001b[0m\u001b[37m\u001b[0m \u001b[1m0s\u001b[0m 3ms/step - loss: 0.1590 - mae: 0.2808 \n",
      "Validation Loss: 0.16963247954845428, Validation MAE: 0.29486826062202454\n"
     ]
    },
    {
     "name": "stderr",
     "output_type": "stream",
     "text": [
      "[I 2025-06-14 16:57:27,342] Trial 49 finished with value: 0.16963247954845428 and parameters: {'seq_type': 'GRU', 'seq_units': 14, 'dense_units': 11, 'activation': 'relu', 'optimizer': 'rmsprop', 'dropout': 0.06396153720250355, 'learning_rate': 0.0113455831445432, 'batch_size': 64}. Best is trial 29 with value: 0.1659950464963913.\n"
     ]
    },
    {
     "data": {
      "text/html": [
       "<pre style=\"white-space:pre;overflow-x:auto;line-height:normal;font-family:Menlo,'DejaVu Sans Mono',consolas,'Courier New',monospace\"></pre>\n"
      ],
      "text/plain": []
     },
     "metadata": {},
     "output_type": "display_data"
    },
    {
     "name": "stdout",
     "output_type": "stream",
     "text": [
      "\u001b[1m23/23\u001b[0m \u001b[32m━━━━━━━━━━━━━━━━━━━━\u001b[0m\u001b[37m\u001b[0m \u001b[1m0s\u001b[0m 2ms/step - loss: 0.2364 - mae: 0.3389 \n",
      "Validation Loss: 0.25179243087768555, Validation MAE: 0.35812363028526306\n"
     ]
    },
    {
     "name": "stderr",
     "output_type": "stream",
     "text": [
      "[I 2025-06-14 16:59:37,085] Trial 50 finished with value: 0.25179243087768555 and parameters: {'seq_type': 'GRU', 'seq_units': 14, 'dense_units': 11, 'activation': 'relu', 'optimizer': 'rmsprop', 'dropout': 0.06330259192666927, 'learning_rate': 0.00013975790485480942, 'batch_size': 128}. Best is trial 29 with value: 0.1659950464963913.\n"
     ]
    },
    {
     "data": {
      "text/html": [
       "<pre style=\"white-space:pre;overflow-x:auto;line-height:normal;font-family:Menlo,'DejaVu Sans Mono',consolas,'Courier New',monospace\"></pre>\n"
      ],
      "text/plain": []
     },
     "metadata": {},
     "output_type": "display_data"
    },
    {
     "name": "stdout",
     "output_type": "stream",
     "text": [
      "\u001b[1m23/23\u001b[0m \u001b[32m━━━━━━━━━━━━━━━━━━━━\u001b[0m\u001b[37m\u001b[0m \u001b[1m0s\u001b[0m 2ms/step - loss: 0.1676 - mae: 0.2846 \n",
      "Validation Loss: 0.18357959389686584, Validation MAE: 0.3005218207836151\n"
     ]
    },
    {
     "name": "stderr",
     "output_type": "stream",
     "text": [
      "[I 2025-06-14 17:00:21,099] Trial 51 finished with value: 0.18357959389686584 and parameters: {'seq_type': 'GRU', 'seq_units': 13, 'dense_units': 11, 'activation': 'relu', 'optimizer': 'rmsprop', 'dropout': 0.06839826229665791, 'learning_rate': 0.016320568301900436, 'batch_size': 64}. Best is trial 29 with value: 0.1659950464963913.\n"
     ]
    },
    {
     "data": {
      "text/html": [
       "<pre style=\"white-space:pre;overflow-x:auto;line-height:normal;font-family:Menlo,'DejaVu Sans Mono',consolas,'Courier New',monospace\"></pre>\n"
      ],
      "text/plain": []
     },
     "metadata": {},
     "output_type": "display_data"
    },
    {
     "name": "stdout",
     "output_type": "stream",
     "text": [
      "\u001b[1m23/23\u001b[0m \u001b[32m━━━━━━━━━━━━━━━━━━━━\u001b[0m\u001b[37m\u001b[0m \u001b[1m0s\u001b[0m 2ms/step - loss: 0.1570 - mae: 0.2787 \n",
      "Validation Loss: 0.1768258810043335, Validation MAE: 0.3000565767288208\n"
     ]
    },
    {
     "name": "stderr",
     "output_type": "stream",
     "text": [
      "[I 2025-06-14 17:00:51,037] Trial 52 finished with value: 0.1768258810043335 and parameters: {'seq_type': 'GRU', 'seq_units': 17, 'dense_units': 11, 'activation': 'relu', 'optimizer': 'rmsprop', 'dropout': 0.07515646659688723, 'learning_rate': 0.02133975526869303, 'batch_size': 64}. Best is trial 29 with value: 0.1659950464963913.\n"
     ]
    },
    {
     "data": {
      "text/html": [
       "<pre style=\"white-space:pre;overflow-x:auto;line-height:normal;font-family:Menlo,'DejaVu Sans Mono',consolas,'Courier New',monospace\"></pre>\n"
      ],
      "text/plain": []
     },
     "metadata": {},
     "output_type": "display_data"
    },
    {
     "name": "stdout",
     "output_type": "stream",
     "text": [
      "\u001b[1m23/23\u001b[0m \u001b[32m━━━━━━━━━━━━━━━━━━━━\u001b[0m\u001b[37m\u001b[0m \u001b[1m0s\u001b[0m 3ms/step - loss: 0.1504 - mae: 0.2784 \n",
      "Validation Loss: 0.16381405293941498, Validation MAE: 0.29151856899261475\n"
     ]
    },
    {
     "name": "stderr",
     "output_type": "stream",
     "text": [
      "[I 2025-06-14 17:01:31,694] Trial 53 finished with value: 0.16381403803825378 and parameters: {'seq_type': 'GRU', 'seq_units': 23, 'dense_units': 12, 'activation': 'relu', 'optimizer': 'rmsprop', 'dropout': 0.05610957418215056, 'learning_rate': 0.011845855957136865, 'batch_size': 64}. Best is trial 53 with value: 0.16381403803825378.\n"
     ]
    },
    {
     "data": {
      "text/html": [
       "<pre style=\"white-space:pre;overflow-x:auto;line-height:normal;font-family:Menlo,'DejaVu Sans Mono',consolas,'Courier New',monospace\"></pre>\n"
      ],
      "text/plain": []
     },
     "metadata": {},
     "output_type": "display_data"
    },
    {
     "name": "stdout",
     "output_type": "stream",
     "text": [
      "\u001b[1m23/23\u001b[0m \u001b[32m━━━━━━━━━━━━━━━━━━━━\u001b[0m\u001b[37m\u001b[0m \u001b[1m0s\u001b[0m 3ms/step - loss: 0.1625 - mae: 0.2806 \n",
      "Validation Loss: 0.17638850212097168, Validation MAE: 0.301615834236145\n"
     ]
    },
    {
     "name": "stderr",
     "output_type": "stream",
     "text": [
      "[I 2025-06-14 17:02:16,574] Trial 54 finished with value: 0.17638851702213287 and parameters: {'seq_type': 'GRU', 'seq_units': 23, 'dense_units': 12, 'activation': 'relu', 'optimizer': 'rmsprop', 'dropout': 0.056768721542797405, 'learning_rate': 0.01071548193406956, 'batch_size': 64}. Best is trial 53 with value: 0.16381403803825378.\n"
     ]
    },
    {
     "data": {
      "text/html": [
       "<pre style=\"white-space:pre;overflow-x:auto;line-height:normal;font-family:Menlo,'DejaVu Sans Mono',consolas,'Courier New',monospace\"></pre>\n"
      ],
      "text/plain": []
     },
     "metadata": {},
     "output_type": "display_data"
    },
    {
     "name": "stdout",
     "output_type": "stream",
     "text": [
      "\u001b[1m23/23\u001b[0m \u001b[32m━━━━━━━━━━━━━━━━━━━━\u001b[0m\u001b[37m\u001b[0m \u001b[1m0s\u001b[0m 2ms/step - loss: 0.1653 - mae: 0.2845 \n",
      "Validation Loss: 0.1850052773952484, Validation MAE: 0.30080822110176086\n"
     ]
    },
    {
     "name": "stderr",
     "output_type": "stream",
     "text": [
      "[I 2025-06-14 17:02:55,924] Trial 55 finished with value: 0.1850052773952484 and parameters: {'seq_type': 'GRU', 'seq_units': 24, 'dense_units': 12, 'activation': 'relu', 'optimizer': 'rmsprop', 'dropout': 0.07047067220858165, 'learning_rate': 0.006784150686103181, 'batch_size': 64}. Best is trial 53 with value: 0.16381403803825378.\n"
     ]
    },
    {
     "data": {
      "text/html": [
       "<pre style=\"white-space:pre;overflow-x:auto;line-height:normal;font-family:Menlo,'DejaVu Sans Mono',consolas,'Courier New',monospace\"></pre>\n"
      ],
      "text/plain": []
     },
     "metadata": {},
     "output_type": "display_data"
    },
    {
     "name": "stdout",
     "output_type": "stream",
     "text": [
      "\u001b[1m23/23\u001b[0m \u001b[32m━━━━━━━━━━━━━━━━━━━━\u001b[0m\u001b[37m\u001b[0m \u001b[1m0s\u001b[0m 3ms/step - loss: 0.1577 - mae: 0.2753\n",
      "Validation Loss: 0.17042294144630432, Validation MAE: 0.29499199986457825\n"
     ]
    },
    {
     "name": "stderr",
     "output_type": "stream",
     "text": [
      "[I 2025-06-14 17:03:45,444] Trial 56 finished with value: 0.1704229712486267 and parameters: {'seq_type': 'GRU', 'seq_units': 48, 'dense_units': 12, 'activation': 'relu', 'optimizer': 'rmsprop', 'dropout': 0.07946035631194817, 'learning_rate': 0.013386711529124387, 'batch_size': 64}. Best is trial 53 with value: 0.16381403803825378.\n"
     ]
    },
    {
     "data": {
      "text/html": [
       "<pre style=\"white-space:pre;overflow-x:auto;line-height:normal;font-family:Menlo,'DejaVu Sans Mono',consolas,'Courier New',monospace\"></pre>\n"
      ],
      "text/plain": []
     },
     "metadata": {},
     "output_type": "display_data"
    },
    {
     "name": "stdout",
     "output_type": "stream",
     "text": [
      "\u001b[1m23/23\u001b[0m \u001b[32m━━━━━━━━━━━━━━━━━━━━\u001b[0m\u001b[37m\u001b[0m \u001b[1m0s\u001b[0m 4ms/step - loss: 0.1681 - mae: 0.2886\n",
      "Validation Loss: 0.1841481477022171, Validation MAE: 0.30727270245552063\n"
     ]
    },
    {
     "name": "stderr",
     "output_type": "stream",
     "text": [
      "[I 2025-06-14 17:04:44,847] Trial 57 finished with value: 0.1841481477022171 and parameters: {'seq_type': 'GRU', 'seq_units': 48, 'dense_units': 10, 'activation': 'relu', 'optimizer': 'rmsprop', 'dropout': 0.08047730497151273, 'learning_rate': 0.015414658992140725, 'batch_size': 32}. Best is trial 53 with value: 0.16381403803825378.\n"
     ]
    },
    {
     "data": {
      "text/html": [
       "<pre style=\"white-space:pre;overflow-x:auto;line-height:normal;font-family:Menlo,'DejaVu Sans Mono',consolas,'Courier New',monospace\"></pre>\n"
      ],
      "text/plain": []
     },
     "metadata": {},
     "output_type": "display_data"
    },
    {
     "name": "stdout",
     "output_type": "stream",
     "text": [
      "\u001b[1m23/23\u001b[0m \u001b[32m━━━━━━━━━━━━━━━━━━━━\u001b[0m\u001b[37m\u001b[0m \u001b[1m0s\u001b[0m 7ms/step - loss: 0.2752 - mae: 0.3613\n",
      "Validation Loss: 0.29982590675354004, Validation MAE: 0.38146913051605225\n"
     ]
    },
    {
     "name": "stderr",
     "output_type": "stream",
     "text": [
      "[I 2025-06-14 17:05:44,844] Trial 58 finished with value: 0.29982590675354004 and parameters: {'seq_type': 'LSTM', 'seq_units': 40, 'dense_units': 4, 'activation': 'relu', 'optimizer': 'rmsprop', 'dropout': 0.07636550718277106, 'learning_rate': 0.0028919206577147326, 'batch_size': 64}. Best is trial 53 with value: 0.16381403803825378.\n"
     ]
    },
    {
     "data": {
      "text/html": [
       "<pre style=\"white-space:pre;overflow-x:auto;line-height:normal;font-family:Menlo,'DejaVu Sans Mono',consolas,'Courier New',monospace\"></pre>\n"
      ],
      "text/plain": []
     },
     "metadata": {},
     "output_type": "display_data"
    },
    {
     "name": "stdout",
     "output_type": "stream",
     "text": [
      "\u001b[1m23/23\u001b[0m \u001b[32m━━━━━━━━━━━━━━━━━━━━\u001b[0m\u001b[37m\u001b[0m \u001b[1m0s\u001b[0m 3ms/step - loss: 0.1858 - mae: 0.2969 \n",
      "Validation Loss: 0.19509290158748627, Validation MAE: 0.308286190032959\n"
     ]
    },
    {
     "name": "stderr",
     "output_type": "stream",
     "text": [
      "[I 2025-06-14 17:06:12,582] Trial 59 finished with value: 0.19509290158748627 and parameters: {'seq_type': 'SimpleRNN', 'seq_units': 43, 'dense_units': 9, 'activation': 'relu', 'optimizer': 'rmsprop', 'dropout': 0.08765082479545379, 'learning_rate': 0.0042958803675352455, 'batch_size': 64}. Best is trial 53 with value: 0.16381403803825378.\n"
     ]
    },
    {
     "data": {
      "text/html": [
       "<pre style=\"white-space:pre;overflow-x:auto;line-height:normal;font-family:Menlo,'DejaVu Sans Mono',consolas,'Courier New',monospace\"></pre>\n"
      ],
      "text/plain": []
     },
     "metadata": {},
     "output_type": "display_data"
    },
    {
     "name": "stdout",
     "output_type": "stream",
     "text": [
      "\u001b[1m23/23\u001b[0m \u001b[32m━━━━━━━━━━━━━━━━━━━━\u001b[0m\u001b[37m\u001b[0m \u001b[1m0s\u001b[0m 9ms/step - loss: 0.1745 - mae: 0.2946\n",
      "Validation Loss: 0.1861560046672821, Validation MAE: 0.3066786825656891\n"
     ]
    },
    {
     "name": "stderr",
     "output_type": "stream",
     "text": [
      "[I 2025-06-14 17:07:39,574] Trial 60 finished with value: 0.18615597486495972 and parameters: {'seq_type': 'GRU', 'seq_units': 38, 'dense_units': 7, 'activation': 'relu', 'optimizer': 'rmsprop', 'dropout': 0.07233745535459032, 'learning_rate': 0.0054144003632617685, 'batch_size': 64}. Best is trial 53 with value: 0.16381403803825378.\n"
     ]
    },
    {
     "data": {
      "text/html": [
       "<pre style=\"white-space:pre;overflow-x:auto;line-height:normal;font-family:Menlo,'DejaVu Sans Mono',consolas,'Courier New',monospace\"></pre>\n"
      ],
      "text/plain": []
     },
     "metadata": {},
     "output_type": "display_data"
    },
    {
     "name": "stdout",
     "output_type": "stream",
     "text": [
      "\u001b[1m23/23\u001b[0m \u001b[32m━━━━━━━━━━━━━━━━━━━━\u001b[0m\u001b[37m\u001b[0m \u001b[1m0s\u001b[0m 10ms/step - loss: 0.1563 - mae: 0.2821\n",
      "Validation Loss: 0.17608605325222015, Validation MAE: 0.29954513907432556\n"
     ]
    },
    {
     "name": "stderr",
     "output_type": "stream",
     "text": [
      "[I 2025-06-14 17:09:04,130] Trial 61 finished with value: 0.17608605325222015 and parameters: {'seq_type': 'GRU', 'seq_units': 27, 'dense_units': 12, 'activation': 'relu', 'optimizer': 'rmsprop', 'dropout': 0.06638736502511776, 'learning_rate': 0.012205628900496228, 'batch_size': 64}. Best is trial 53 with value: 0.16381403803825378.\n"
     ]
    },
    {
     "data": {
      "text/html": [
       "<pre style=\"white-space:pre;overflow-x:auto;line-height:normal;font-family:Menlo,'DejaVu Sans Mono',consolas,'Courier New',monospace\"></pre>\n"
      ],
      "text/plain": []
     },
     "metadata": {},
     "output_type": "display_data"
    },
    {
     "name": "stdout",
     "output_type": "stream",
     "text": [
      "\u001b[1m23/23\u001b[0m \u001b[32m━━━━━━━━━━━━━━━━━━━━\u001b[0m\u001b[37m\u001b[0m \u001b[1m0s\u001b[0m 8ms/step - loss: 0.1631 - mae: 0.2781\n",
      "Validation Loss: 0.17468543350696564, Validation MAE: 0.29122668504714966\n"
     ]
    },
    {
     "name": "stderr",
     "output_type": "stream",
     "text": [
      "[I 2025-06-14 17:10:49,777] Trial 62 finished with value: 0.17468543350696564 and parameters: {'seq_type': 'GRU', 'seq_units': 35, 'dense_units': 12, 'activation': 'relu', 'optimizer': 'rmsprop', 'dropout': 0.06384491988656774, 'learning_rate': 0.012986097289558884, 'batch_size': 64}. Best is trial 53 with value: 0.16381403803825378.\n"
     ]
    },
    {
     "data": {
      "text/html": [
       "<pre style=\"white-space:pre;overflow-x:auto;line-height:normal;font-family:Menlo,'DejaVu Sans Mono',consolas,'Courier New',monospace\"></pre>\n"
      ],
      "text/plain": []
     },
     "metadata": {},
     "output_type": "display_data"
    },
    {
     "name": "stdout",
     "output_type": "stream",
     "text": [
      "\u001b[1m23/23\u001b[0m \u001b[32m━━━━━━━━━━━━━━━━━━━━\u001b[0m\u001b[37m\u001b[0m \u001b[1m0s\u001b[0m 9ms/step - loss: 0.1724 - mae: 0.2884\n",
      "Validation Loss: 0.18266718089580536, Validation MAE: 0.3008273243904114\n"
     ]
    },
    {
     "name": "stderr",
     "output_type": "stream",
     "text": [
      "[I 2025-06-14 17:12:29,030] Trial 63 finished with value: 0.18266718089580536 and parameters: {'seq_type': 'GRU', 'seq_units': 34, 'dense_units': 12, 'activation': 'relu', 'optimizer': 'rmsprop', 'dropout': 0.08163188736907555, 'learning_rate': 0.0028843888523493143, 'batch_size': 64}. Best is trial 53 with value: 0.16381403803825378.\n"
     ]
    },
    {
     "data": {
      "text/html": [
       "<pre style=\"white-space:pre;overflow-x:auto;line-height:normal;font-family:Menlo,'DejaVu Sans Mono',consolas,'Courier New',monospace\"></pre>\n"
      ],
      "text/plain": []
     },
     "metadata": {},
     "output_type": "display_data"
    },
    {
     "name": "stdout",
     "output_type": "stream",
     "text": [
      "\u001b[1m23/23\u001b[0m \u001b[32m━━━━━━━━━━━━━━━━━━━━\u001b[0m\u001b[37m\u001b[0m \u001b[1m0s\u001b[0m 8ms/step - loss: 0.1688 - mae: 0.2876\n",
      "Validation Loss: 0.17739824950695038, Validation MAE: 0.3005731999874115\n"
     ]
    },
    {
     "name": "stderr",
     "output_type": "stream",
     "text": [
      "[I 2025-06-14 17:13:44,137] Trial 64 finished with value: 0.17739823460578918 and parameters: {'seq_type': 'LSTM', 'seq_units': 36, 'dense_units': 11, 'activation': 'relu', 'optimizer': 'rmsprop', 'dropout': 0.06263825175895446, 'learning_rate': 0.008686356999284042, 'batch_size': 64}. Best is trial 53 with value: 0.16381403803825378.\n"
     ]
    },
    {
     "data": {
      "text/html": [
       "<pre style=\"white-space:pre;overflow-x:auto;line-height:normal;font-family:Menlo,'DejaVu Sans Mono',consolas,'Courier New',monospace\"></pre>\n"
      ],
      "text/plain": []
     },
     "metadata": {},
     "output_type": "display_data"
    },
    {
     "name": "stdout",
     "output_type": "stream",
     "text": [
      "\u001b[1m23/23\u001b[0m \u001b[32m━━━━━━━━━━━━━━━━━━━━\u001b[0m\u001b[37m\u001b[0m \u001b[1m0s\u001b[0m 8ms/step - loss: 0.1691 - mae: 0.2890\n",
      "Validation Loss: 0.17706571519374847, Validation MAE: 0.2972487807273865\n"
     ]
    },
    {
     "name": "stderr",
     "output_type": "stream",
     "text": [
      "[I 2025-06-14 17:16:25,621] Trial 65 finished with value: 0.17706573009490967 and parameters: {'seq_type': 'GRU', 'seq_units': 46, 'dense_units': 12, 'activation': 'relu', 'optimizer': 'rmsprop', 'dropout': 0.07851381182635207, 'learning_rate': 0.0015023415895542777, 'batch_size': 64}. Best is trial 53 with value: 0.16381403803825378.\n"
     ]
    },
    {
     "data": {
      "text/html": [
       "<pre style=\"white-space:pre;overflow-x:auto;line-height:normal;font-family:Menlo,'DejaVu Sans Mono',consolas,'Courier New',monospace\"></pre>\n"
      ],
      "text/plain": []
     },
     "metadata": {},
     "output_type": "display_data"
    },
    {
     "name": "stdout",
     "output_type": "stream",
     "text": [
      "\u001b[1m23/23\u001b[0m \u001b[32m━━━━━━━━━━━━━━━━━━━━\u001b[0m\u001b[37m\u001b[0m \u001b[1m0s\u001b[0m 10ms/step - loss: 0.1542 - mae: 0.2786\n",
      "Validation Loss: 0.16607548296451569, Validation MAE: 0.2910214066505432\n"
     ]
    },
    {
     "name": "stderr",
     "output_type": "stream",
     "text": [
      "[I 2025-06-14 17:17:45,837] Trial 66 finished with value: 0.16607548296451569 and parameters: {'seq_type': 'GRU', 'seq_units': 31, 'dense_units': 11, 'activation': 'relu', 'optimizer': 'rmsprop', 'dropout': 0.05983137323035588, 'learning_rate': 0.012138964902808221, 'batch_size': 64}. Best is trial 53 with value: 0.16381403803825378.\n"
     ]
    },
    {
     "data": {
      "text/html": [
       "<pre style=\"white-space:pre;overflow-x:auto;line-height:normal;font-family:Menlo,'DejaVu Sans Mono',consolas,'Courier New',monospace\"></pre>\n"
      ],
      "text/plain": []
     },
     "metadata": {},
     "output_type": "display_data"
    },
    {
     "name": "stdout",
     "output_type": "stream",
     "text": [
      "\u001b[1m23/23\u001b[0m \u001b[32m━━━━━━━━━━━━━━━━━━━━\u001b[0m\u001b[37m\u001b[0m \u001b[1m0s\u001b[0m 9ms/step - loss: 0.1469 - mae: 0.2632\n",
      "Validation Loss: 0.16830214858055115, Validation MAE: 0.28750166296958923\n"
     ]
    },
    {
     "name": "stderr",
     "output_type": "stream",
     "text": [
      "[I 2025-06-14 17:19:14,167] Trial 67 finished with value: 0.16830214858055115 and parameters: {'seq_type': 'LSTM', 'seq_units': 31, 'dense_units': 11, 'activation': 'relu', 'optimizer': 'rmsprop', 'dropout': 0.06982624182424443, 'learning_rate': 0.02651082367965843, 'batch_size': 32}. Best is trial 53 with value: 0.16381403803825378.\n"
     ]
    },
    {
     "data": {
      "text/html": [
       "<pre style=\"white-space:pre;overflow-x:auto;line-height:normal;font-family:Menlo,'DejaVu Sans Mono',consolas,'Courier New',monospace\"></pre>\n"
      ],
      "text/plain": []
     },
     "metadata": {},
     "output_type": "display_data"
    },
    {
     "name": "stdout",
     "output_type": "stream",
     "text": [
      "\u001b[1m23/23\u001b[0m \u001b[32m━━━━━━━━━━━━━━━━━━━━\u001b[0m\u001b[37m\u001b[0m \u001b[1m0s\u001b[0m 9ms/step - loss: 0.1898 - mae: 0.2904\n",
      "Validation Loss: 0.20679624378681183, Validation MAE: 0.3083088994026184\n"
     ]
    },
    {
     "name": "stderr",
     "output_type": "stream",
     "text": [
      "[I 2025-06-14 17:21:04,949] Trial 68 finished with value: 0.20679624378681183 and parameters: {'seq_type': 'LSTM', 'seq_units': 31, 'dense_units': 11, 'activation': 'relu', 'optimizer': 'rmsprop', 'dropout': 0.0592020772191805, 'learning_rate': 0.020790717089794283, 'batch_size': 32}. Best is trial 53 with value: 0.16381403803825378.\n"
     ]
    },
    {
     "data": {
      "text/html": [
       "<pre style=\"white-space:pre;overflow-x:auto;line-height:normal;font-family:Menlo,'DejaVu Sans Mono',consolas,'Courier New',monospace\"></pre>\n"
      ],
      "text/plain": []
     },
     "metadata": {},
     "output_type": "display_data"
    },
    {
     "name": "stdout",
     "output_type": "stream",
     "text": [
      "\u001b[1m23/23\u001b[0m \u001b[32m━━━━━━━━━━━━━━━━━━━━\u001b[0m\u001b[37m\u001b[0m \u001b[1m0s\u001b[0m 7ms/step - loss: 0.1979 - mae: 0.3040\n",
      "Validation Loss: 0.2189452201128006, Validation MAE: 0.3248995840549469\n"
     ]
    },
    {
     "name": "stderr",
     "output_type": "stream",
     "text": [
      "[I 2025-06-14 17:22:26,382] Trial 69 finished with value: 0.2189452201128006 and parameters: {'seq_type': 'LSTM', 'seq_units': 30, 'dense_units': 10, 'activation': 'relu', 'optimizer': 'rmsprop', 'dropout': 0.06924668245583021, 'learning_rate': 0.028480298404759154, 'batch_size': 32}. Best is trial 53 with value: 0.16381403803825378.\n"
     ]
    },
    {
     "data": {
      "text/html": [
       "<pre style=\"white-space:pre;overflow-x:auto;line-height:normal;font-family:Menlo,'DejaVu Sans Mono',consolas,'Courier New',monospace\"></pre>\n"
      ],
      "text/plain": []
     },
     "metadata": {},
     "output_type": "display_data"
    },
    {
     "name": "stdout",
     "output_type": "stream",
     "text": [
      "\u001b[1m23/23\u001b[0m \u001b[32m━━━━━━━━━━━━━━━━━━━━\u001b[0m\u001b[37m\u001b[0m \u001b[1m0s\u001b[0m 7ms/step - loss: 0.1628 - mae: 0.2825\n",
      "Validation Loss: 0.18341504037380219, Validation MAE: 0.30544114112854004\n"
     ]
    },
    {
     "name": "stderr",
     "output_type": "stream",
     "text": [
      "[I 2025-06-14 17:25:14,809] Trial 70 finished with value: 0.18341504037380219 and parameters: {'seq_type': 'LSTM', 'seq_units': 29, 'dense_units': 11, 'activation': 'relu', 'optimizer': 'rmsprop', 'dropout': 0.053736396062715464, 'learning_rate': 0.028292421479765684, 'batch_size': 32}. Best is trial 53 with value: 0.16381403803825378.\n"
     ]
    },
    {
     "data": {
      "text/html": [
       "<pre style=\"white-space:pre;overflow-x:auto;line-height:normal;font-family:Menlo,'DejaVu Sans Mono',consolas,'Courier New',monospace\"></pre>\n"
      ],
      "text/plain": []
     },
     "metadata": {},
     "output_type": "display_data"
    },
    {
     "name": "stdout",
     "output_type": "stream",
     "text": [
      "\u001b[1m23/23\u001b[0m \u001b[32m━━━━━━━━━━━━━━━━━━━━\u001b[0m\u001b[37m\u001b[0m \u001b[1m0s\u001b[0m 8ms/step - loss: 0.1718 - mae: 0.2962\n",
      "Validation Loss: 0.19155386090278625, Validation MAE: 0.31973716616630554\n"
     ]
    },
    {
     "name": "stderr",
     "output_type": "stream",
     "text": [
      "[I 2025-06-14 17:26:54,898] Trial 71 finished with value: 0.19155386090278625 and parameters: {'seq_type': 'LSTM', 'seq_units': 27, 'dense_units': 11, 'activation': 'relu', 'optimizer': 'rmsprop', 'dropout': 0.07231948255294497, 'learning_rate': 0.04697076258845566, 'batch_size': 32}. Best is trial 53 with value: 0.16381403803825378.\n"
     ]
    },
    {
     "data": {
      "text/html": [
       "<pre style=\"white-space:pre;overflow-x:auto;line-height:normal;font-family:Menlo,'DejaVu Sans Mono',consolas,'Courier New',monospace\"></pre>\n"
      ],
      "text/plain": []
     },
     "metadata": {},
     "output_type": "display_data"
    },
    {
     "name": "stdout",
     "output_type": "stream",
     "text": [
      "\u001b[1m23/23\u001b[0m \u001b[32m━━━━━━━━━━━━━━━━━━━━\u001b[0m\u001b[37m\u001b[0m \u001b[1m0s\u001b[0m 2ms/step - loss: 0.1570 - mae: 0.2838 \n",
      "Validation Loss: 0.17391254007816315, Validation MAE: 0.3028145432472229\n"
     ]
    },
    {
     "name": "stderr",
     "output_type": "stream",
     "text": [
      "[I 2025-06-14 17:28:08,139] Trial 72 finished with value: 0.17391254007816315 and parameters: {'seq_type': 'LSTM', 'seq_units': 32, 'dense_units': 10, 'activation': 'relu', 'optimizer': 'rmsprop', 'dropout': 0.06080311500158453, 'learning_rate': 0.01404416661433841, 'batch_size': 32}. Best is trial 53 with value: 0.16381403803825378.\n"
     ]
    },
    {
     "data": {
      "text/html": [
       "<pre style=\"white-space:pre;overflow-x:auto;line-height:normal;font-family:Menlo,'DejaVu Sans Mono',consolas,'Courier New',monospace\"></pre>\n"
      ],
      "text/plain": []
     },
     "metadata": {},
     "output_type": "display_data"
    },
    {
     "name": "stdout",
     "output_type": "stream",
     "text": [
      "\u001b[1m23/23\u001b[0m \u001b[32m━━━━━━━━━━━━━━━━━━━━\u001b[0m\u001b[37m\u001b[0m \u001b[1m0s\u001b[0m 3ms/step - loss: 0.1686 - mae: 0.2921 \n",
      "Validation Loss: 0.1798221617937088, Validation MAE: 0.3038703501224518\n"
     ]
    },
    {
     "name": "stderr",
     "output_type": "stream",
     "text": [
      "[I 2025-06-14 17:28:32,201] Trial 73 finished with value: 0.1798221617937088 and parameters: {'seq_type': 'GRU', 'seq_units': 25, 'dense_units': 12, 'activation': 'relu', 'optimizer': 'rmsprop', 'dropout': 0.06595482914733113, 'learning_rate': 0.007906802223346046, 'batch_size': 64}. Best is trial 53 with value: 0.16381403803825378.\n"
     ]
    },
    {
     "data": {
      "text/html": [
       "<pre style=\"white-space:pre;overflow-x:auto;line-height:normal;font-family:Menlo,'DejaVu Sans Mono',consolas,'Courier New',monospace\"></pre>\n"
      ],
      "text/plain": []
     },
     "metadata": {},
     "output_type": "display_data"
    },
    {
     "name": "stdout",
     "output_type": "stream",
     "text": [
      "\u001b[1m23/23\u001b[0m \u001b[32m━━━━━━━━━━━━━━━━━━━━\u001b[0m\u001b[37m\u001b[0m \u001b[1m0s\u001b[0m 2ms/step - loss: 0.1585 - mae: 0.2827 \n",
      "Validation Loss: 0.1774507611989975, Validation MAE: 0.2961357831954956\n"
     ]
    },
    {
     "name": "stderr",
     "output_type": "stream",
     "text": [
      "[I 2025-06-14 17:29:01,311] Trial 74 finished with value: 0.1774507462978363 and parameters: {'seq_type': 'GRU', 'seq_units': 22, 'dense_units': 11, 'activation': 'relu', 'optimizer': 'rmsprop', 'dropout': 0.0736639476407725, 'learning_rate': 0.005781277122814642, 'batch_size': 64}. Best is trial 53 with value: 0.16381403803825378.\n"
     ]
    },
    {
     "data": {
      "text/html": [
       "<pre style=\"white-space:pre;overflow-x:auto;line-height:normal;font-family:Menlo,'DejaVu Sans Mono',consolas,'Courier New',monospace\"></pre>\n"
      ],
      "text/plain": []
     },
     "metadata": {},
     "output_type": "display_data"
    },
    {
     "name": "stdout",
     "output_type": "stream",
     "text": [
      "\u001b[1m23/23\u001b[0m \u001b[32m━━━━━━━━━━━━━━━━━━━━\u001b[0m\u001b[37m\u001b[0m \u001b[1m0s\u001b[0m 2ms/step - loss: 0.1605 - mae: 0.2923 \n",
      "Validation Loss: 0.17147143185138702, Validation MAE: 0.3022971451282501\n"
     ]
    },
    {
     "name": "stderr",
     "output_type": "stream",
     "text": [
      "[I 2025-06-14 17:29:25,576] Trial 75 finished with value: 0.17147140204906464 and parameters: {'seq_type': 'LSTM', 'seq_units': 28, 'dense_units': 11, 'activation': 'tanh', 'optimizer': 'rmsprop', 'dropout': 0.08398581909729565, 'learning_rate': 0.019491274894714333, 'batch_size': 64}. Best is trial 53 with value: 0.16381403803825378.\n"
     ]
    },
    {
     "data": {
      "text/html": [
       "<pre style=\"white-space:pre;overflow-x:auto;line-height:normal;font-family:Menlo,'DejaVu Sans Mono',consolas,'Courier New',monospace\"></pre>\n"
      ],
      "text/plain": []
     },
     "metadata": {},
     "output_type": "display_data"
    },
    {
     "name": "stdout",
     "output_type": "stream",
     "text": [
      "\u001b[1m23/23\u001b[0m \u001b[32m━━━━━━━━━━━━━━━━━━━━\u001b[0m\u001b[37m\u001b[0m \u001b[1m0s\u001b[0m 2ms/step - loss: 0.1739 - mae: 0.2970 \n",
      "Validation Loss: 0.1868337243795395, Validation MAE: 0.3055460453033447\n"
     ]
    },
    {
     "name": "stderr",
     "output_type": "stream",
     "text": [
      "[I 2025-06-14 17:30:02,594] Trial 76 finished with value: 0.1868337243795395 and parameters: {'seq_type': 'GRU', 'seq_units': 42, 'dense_units': 10, 'activation': 'relu', 'optimizer': 'rmsprop', 'dropout': 0.07778252931943673, 'learning_rate': 0.009469562308009891, 'batch_size': 128}. Best is trial 53 with value: 0.16381403803825378.\n"
     ]
    },
    {
     "data": {
      "text/html": [
       "<pre style=\"white-space:pre;overflow-x:auto;line-height:normal;font-family:Menlo,'DejaVu Sans Mono',consolas,'Courier New',monospace\"></pre>\n"
      ],
      "text/plain": []
     },
     "metadata": {},
     "output_type": "display_data"
    },
    {
     "name": "stdout",
     "output_type": "stream",
     "text": [
      "\u001b[1m23/23\u001b[0m \u001b[32m━━━━━━━━━━━━━━━━━━━━\u001b[0m\u001b[37m\u001b[0m \u001b[1m0s\u001b[0m 3ms/step - loss: 0.1953 - mae: 0.3060 \n",
      "Validation Loss: 0.22713233530521393, Validation MAE: 0.33142367005348206\n"
     ]
    },
    {
     "name": "stderr",
     "output_type": "stream",
     "text": [
      "[I 2025-06-14 17:30:22,102] Trial 77 finished with value: 0.22713230550289154 and parameters: {'seq_type': 'SimpleRNN', 'seq_units': 32, 'dense_units': 12, 'activation': 'relu', 'optimizer': 'rmsprop', 'dropout': 0.05735473314321361, 'learning_rate': 0.04829710182257171, 'batch_size': 64}. Best is trial 53 with value: 0.16381403803825378.\n"
     ]
    },
    {
     "data": {
      "text/html": [
       "<pre style=\"white-space:pre;overflow-x:auto;line-height:normal;font-family:Menlo,'DejaVu Sans Mono',consolas,'Courier New',monospace\"></pre>\n"
      ],
      "text/plain": []
     },
     "metadata": {},
     "output_type": "display_data"
    },
    {
     "name": "stdout",
     "output_type": "stream",
     "text": [
      "\u001b[1m23/23\u001b[0m \u001b[32m━━━━━━━━━━━━━━━━━━━━\u001b[0m\u001b[37m\u001b[0m \u001b[1m0s\u001b[0m 2ms/step - loss: 0.1695 - mae: 0.2843 \n",
      "Validation Loss: 0.18030165135860443, Validation MAE: 0.29997000098228455\n"
     ]
    },
    {
     "name": "stderr",
     "output_type": "stream",
     "text": [
      "[I 2025-06-14 17:31:00,816] Trial 78 finished with value: 0.18030165135860443 and parameters: {'seq_type': 'GRU', 'seq_units': 29, 'dense_units': 11, 'activation': 'relu', 'optimizer': 'rmsprop', 'dropout': 0.09184107037126177, 'learning_rate': 0.011007267169481024, 'batch_size': 32}. Best is trial 53 with value: 0.16381403803825378.\n"
     ]
    },
    {
     "data": {
      "text/html": [
       "<pre style=\"white-space:pre;overflow-x:auto;line-height:normal;font-family:Menlo,'DejaVu Sans Mono',consolas,'Courier New',monospace\"></pre>\n"
      ],
      "text/plain": []
     },
     "metadata": {},
     "output_type": "display_data"
    },
    {
     "name": "stdout",
     "output_type": "stream",
     "text": [
      "\u001b[1m23/23\u001b[0m \u001b[32m━━━━━━━━━━━━━━━━━━━━\u001b[0m\u001b[37m\u001b[0m \u001b[1m0s\u001b[0m 2ms/step - loss: 0.1710 - mae: 0.3002 \n",
      "Validation Loss: 0.18084684014320374, Validation MAE: 0.31187698245048523\n"
     ]
    },
    {
     "name": "stderr",
     "output_type": "stream",
     "text": [
      "[I 2025-06-14 17:31:39,880] Trial 79 finished with value: 0.18084684014320374 and parameters: {'seq_type': 'LSTM', 'seq_units': 38, 'dense_units': 12, 'activation': 'relu', 'optimizer': 'rmsprop', 'dropout': 0.06916608090193169, 'learning_rate': 0.025394154350704606, 'batch_size': 64}. Best is trial 53 with value: 0.16381403803825378.\n"
     ]
    },
    {
     "data": {
      "text/html": [
       "<pre style=\"white-space:pre;overflow-x:auto;line-height:normal;font-family:Menlo,'DejaVu Sans Mono',consolas,'Courier New',monospace\"></pre>\n"
      ],
      "text/plain": []
     },
     "metadata": {},
     "output_type": "display_data"
    },
    {
     "name": "stdout",
     "output_type": "stream",
     "text": [
      "\u001b[1m23/23\u001b[0m \u001b[32m━━━━━━━━━━━━━━━━━━━━\u001b[0m\u001b[37m\u001b[0m \u001b[1m0s\u001b[0m 2ms/step - loss: 0.1827 - mae: 0.3019 \n",
      "Validation Loss: 0.18726846575737, Validation MAE: 0.31306934356689453\n"
     ]
    },
    {
     "name": "stderr",
     "output_type": "stream",
     "text": [
      "[I 2025-06-14 17:32:18,458] Trial 80 finished with value: 0.1872684508562088 and parameters: {'seq_type': 'GRU', 'seq_units': 24, 'dense_units': 11, 'activation': 'tanh', 'optimizer': 'rmsprop', 'dropout': 0.05200742500317254, 'learning_rate': 0.017493310661995942, 'batch_size': 64}. Best is trial 53 with value: 0.16381403803825378.\n"
     ]
    },
    {
     "data": {
      "text/html": [
       "<pre style=\"white-space:pre;overflow-x:auto;line-height:normal;font-family:Menlo,'DejaVu Sans Mono',consolas,'Courier New',monospace\"></pre>\n"
      ],
      "text/plain": []
     },
     "metadata": {},
     "output_type": "display_data"
    },
    {
     "name": "stdout",
     "output_type": "stream",
     "text": [
      "\u001b[1m23/23\u001b[0m \u001b[32m━━━━━━━━━━━━━━━━━━━━\u001b[0m\u001b[37m\u001b[0m \u001b[1m0s\u001b[0m 2ms/step - loss: 0.1628 - mae: 0.2934 \n",
      "Validation Loss: 0.17017725110054016, Validation MAE: 0.30159249901771545\n"
     ]
    },
    {
     "name": "stderr",
     "output_type": "stream",
     "text": [
      "[I 2025-06-14 17:32:44,779] Trial 81 finished with value: 0.17017725110054016 and parameters: {'seq_type': 'LSTM', 'seq_units': 28, 'dense_units': 11, 'activation': 'tanh', 'optimizer': 'rmsprop', 'dropout': 0.08462993005160051, 'learning_rate': 0.020530670173562204, 'batch_size': 64}. Best is trial 53 with value: 0.16381403803825378.\n"
     ]
    },
    {
     "data": {
      "text/html": [
       "<pre style=\"white-space:pre;overflow-x:auto;line-height:normal;font-family:Menlo,'DejaVu Sans Mono',consolas,'Courier New',monospace\"></pre>\n"
      ],
      "text/plain": []
     },
     "metadata": {},
     "output_type": "display_data"
    },
    {
     "name": "stdout",
     "output_type": "stream",
     "text": [
      "\u001b[1m23/23\u001b[0m \u001b[32m━━━━━━━━━━━━━━━━━━━━\u001b[0m\u001b[37m\u001b[0m \u001b[1m0s\u001b[0m 2ms/step - loss: 0.1810 - mae: 0.3057 \n",
      "Validation Loss: 0.19268620014190674, Validation MAE: 0.31941133737564087\n"
     ]
    },
    {
     "name": "stderr",
     "output_type": "stream",
     "text": [
      "[I 2025-06-14 17:33:14,397] Trial 82 finished with value: 0.19268620014190674 and parameters: {'seq_type': 'LSTM', 'seq_units': 26, 'dense_units': 10, 'activation': 'tanh', 'optimizer': 'rmsprop', 'dropout': 0.08365045245860118, 'learning_rate': 0.015204546564088647, 'batch_size': 64}. Best is trial 53 with value: 0.16381403803825378.\n"
     ]
    },
    {
     "data": {
      "text/html": [
       "<pre style=\"white-space:pre;overflow-x:auto;line-height:normal;font-family:Menlo,'DejaVu Sans Mono',consolas,'Courier New',monospace\"></pre>\n"
      ],
      "text/plain": []
     },
     "metadata": {},
     "output_type": "display_data"
    },
    {
     "name": "stdout",
     "output_type": "stream",
     "text": [
      "\u001b[1m23/23\u001b[0m \u001b[32m━━━━━━━━━━━━━━━━━━━━\u001b[0m\u001b[37m\u001b[0m \u001b[1m0s\u001b[0m 2ms/step - loss: 0.1800 - mae: 0.3036 \n",
      "Validation Loss: 0.18935510516166687, Validation MAE: 0.31110432744026184\n"
     ]
    },
    {
     "name": "stderr",
     "output_type": "stream",
     "text": [
      "[I 2025-06-14 17:33:40,116] Trial 83 finished with value: 0.18935509026050568 and parameters: {'seq_type': 'LSTM', 'seq_units': 32, 'dense_units': 11, 'activation': 'tanh', 'optimizer': 'rmsprop', 'dropout': 0.07091675325821473, 'learning_rate': 0.029368358767120795, 'batch_size': 64}. Best is trial 53 with value: 0.16381403803825378.\n"
     ]
    },
    {
     "data": {
      "text/html": [
       "<pre style=\"white-space:pre;overflow-x:auto;line-height:normal;font-family:Menlo,'DejaVu Sans Mono',consolas,'Courier New',monospace\"></pre>\n"
      ],
      "text/plain": []
     },
     "metadata": {},
     "output_type": "display_data"
    },
    {
     "name": "stdout",
     "output_type": "stream",
     "text": [
      "\u001b[1m23/23\u001b[0m \u001b[32m━━━━━━━━━━━━━━━━━━━━\u001b[0m\u001b[37m\u001b[0m \u001b[1m0s\u001b[0m 2ms/step - loss: 0.1803 - mae: 0.2920 \n",
      "Validation Loss: 0.18861491978168488, Validation MAE: 0.30211591720581055\n"
     ]
    },
    {
     "name": "stderr",
     "output_type": "stream",
     "text": [
      "[I 2025-06-14 17:34:22,867] Trial 84 finished with value: 0.18861490488052368 and parameters: {'seq_type': 'LSTM', 'seq_units': 22, 'dense_units': 11, 'activation': 'tanh', 'optimizer': 'rmsprop', 'dropout': 0.08064440121578348, 'learning_rate': 0.003615861632643157, 'batch_size': 64}. Best is trial 53 with value: 0.16381403803825378.\n"
     ]
    },
    {
     "data": {
      "text/html": [
       "<pre style=\"white-space:pre;overflow-x:auto;line-height:normal;font-family:Menlo,'DejaVu Sans Mono',consolas,'Courier New',monospace\"></pre>\n"
      ],
      "text/plain": []
     },
     "metadata": {},
     "output_type": "display_data"
    },
    {
     "name": "stdout",
     "output_type": "stream",
     "text": [
      "\u001b[1m23/23\u001b[0m \u001b[32m━━━━━━━━━━━━━━━━━━━━\u001b[0m\u001b[37m\u001b[0m \u001b[1m0s\u001b[0m 2ms/step - loss: 0.1740 - mae: 0.2869 \n",
      "Validation Loss: 0.18843281269073486, Validation MAE: 0.3028907775878906\n"
     ]
    },
    {
     "name": "stderr",
     "output_type": "stream",
     "text": [
      "[I 2025-06-14 17:35:03,897] Trial 85 finished with value: 0.18843281269073486 and parameters: {'seq_type': 'LSTM', 'seq_units': 30, 'dense_units': 12, 'activation': 'tanh', 'optimizer': 'rmsprop', 'dropout': 0.06701634980424744, 'learning_rate': 0.0018352010758649312, 'batch_size': 64}. Best is trial 53 with value: 0.16381403803825378.\n"
     ]
    },
    {
     "data": {
      "text/html": [
       "<pre style=\"white-space:pre;overflow-x:auto;line-height:normal;font-family:Menlo,'DejaVu Sans Mono',consolas,'Courier New',monospace\"></pre>\n"
      ],
      "text/plain": []
     },
     "metadata": {},
     "output_type": "display_data"
    },
    {
     "name": "stdout",
     "output_type": "stream",
     "text": [
      "\u001b[1m23/23\u001b[0m \u001b[32m━━━━━━━━━━━━━━━━━━━━\u001b[0m\u001b[37m\u001b[0m \u001b[1m0s\u001b[0m 2ms/step - loss: 0.1581 - mae: 0.2829 \n",
      "Validation Loss: 0.17786520719528198, Validation MAE: 0.29918891191482544\n"
     ]
    },
    {
     "name": "stderr",
     "output_type": "stream",
     "text": [
      "[I 2025-06-14 17:35:42,419] Trial 86 finished with value: 0.17786520719528198 and parameters: {'seq_type': 'GRU', 'seq_units': 27, 'dense_units': 11, 'activation': 'relu', 'optimizer': 'rmsprop', 'dropout': 0.06489410783893679, 'learning_rate': 0.024060143736232283, 'batch_size': 64}. Best is trial 53 with value: 0.16381403803825378.\n"
     ]
    },
    {
     "data": {
      "text/html": [
       "<pre style=\"white-space:pre;overflow-x:auto;line-height:normal;font-family:Menlo,'DejaVu Sans Mono',consolas,'Courier New',monospace\"></pre>\n"
      ],
      "text/plain": []
     },
     "metadata": {},
     "output_type": "display_data"
    },
    {
     "name": "stdout",
     "output_type": "stream",
     "text": [
      "\u001b[1m23/23\u001b[0m \u001b[32m━━━━━━━━━━━━━━━━━━━━\u001b[0m\u001b[37m\u001b[0m \u001b[1m0s\u001b[0m 2ms/step - loss: 0.1551 - mae: 0.2827 \n",
      "Validation Loss: 0.17107854783535004, Validation MAE: 0.30132541060447693\n"
     ]
    },
    {
     "name": "stderr",
     "output_type": "stream",
     "text": [
      "[I 2025-06-14 17:36:18,667] Trial 87 finished with value: 0.17107854783535004 and parameters: {'seq_type': 'GRU', 'seq_units': 21, 'dense_units': 12, 'activation': 'relu', 'optimizer': 'rmsprop', 'dropout': 0.08665026353870604, 'learning_rate': 0.031041807290552833, 'batch_size': 64}. Best is trial 53 with value: 0.16381403803825378.\n"
     ]
    },
    {
     "data": {
      "text/html": [
       "<pre style=\"white-space:pre;overflow-x:auto;line-height:normal;font-family:Menlo,'DejaVu Sans Mono',consolas,'Courier New',monospace\"></pre>\n"
      ],
      "text/plain": []
     },
     "metadata": {},
     "output_type": "display_data"
    },
    {
     "name": "stdout",
     "output_type": "stream",
     "text": [
      "\u001b[1m23/23\u001b[0m \u001b[32m━━━━━━━━━━━━━━━━━━━━\u001b[0m\u001b[37m\u001b[0m \u001b[1m0s\u001b[0m 3ms/step - loss: 0.1699 - mae: 0.2977 \n",
      "Validation Loss: 0.1840474009513855, Validation MAE: 0.30851680040359497\n"
     ]
    },
    {
     "name": "stderr",
     "output_type": "stream",
     "text": [
      "[I 2025-06-14 17:36:43,776] Trial 88 finished with value: 0.1840473711490631 and parameters: {'seq_type': 'LSTM', 'seq_units': 26, 'dense_units': 10, 'activation': 'tanh', 'optimizer': 'rmsprop', 'dropout': 0.06185367004439895, 'learning_rate': 0.01097497860354043, 'batch_size': 128}. Best is trial 53 with value: 0.16381403803825378.\n"
     ]
    },
    {
     "data": {
      "text/html": [
       "<pre style=\"white-space:pre;overflow-x:auto;line-height:normal;font-family:Menlo,'DejaVu Sans Mono',consolas,'Courier New',monospace\"></pre>\n"
      ],
      "text/plain": []
     },
     "metadata": {},
     "output_type": "display_data"
    },
    {
     "name": "stdout",
     "output_type": "stream",
     "text": [
      "\u001b[1m23/23\u001b[0m \u001b[32m━━━━━━━━━━━━━━━━━━━━\u001b[0m\u001b[37m\u001b[0m \u001b[1m0s\u001b[0m 2ms/step - loss: 0.1684 - mae: 0.2971 \n",
      "Validation Loss: 0.1819322407245636, Validation MAE: 0.31083714962005615\n"
     ]
    },
    {
     "name": "stderr",
     "output_type": "stream",
     "text": [
      "[I 2025-06-14 17:37:12,950] Trial 89 finished with value: 0.1819322258234024 and parameters: {'seq_type': 'GRU', 'seq_units': 28, 'dense_units': 11, 'activation': 'relu', 'optimizer': 'rmsprop', 'dropout': 0.07474319316317059, 'learning_rate': 0.0411429349508772, 'batch_size': 64}. Best is trial 53 with value: 0.16381403803825378.\n"
     ]
    },
    {
     "data": {
      "text/html": [
       "<pre style=\"white-space:pre;overflow-x:auto;line-height:normal;font-family:Menlo,'DejaVu Sans Mono',consolas,'Courier New',monospace\"></pre>\n"
      ],
      "text/plain": []
     },
     "metadata": {},
     "output_type": "display_data"
    },
    {
     "name": "stdout",
     "output_type": "stream",
     "text": [
      "\u001b[1m23/23\u001b[0m \u001b[32m━━━━━━━━━━━━━━━━━━━━\u001b[0m\u001b[37m\u001b[0m \u001b[1m0s\u001b[0m 3ms/step - loss: 0.1880 - mae: 0.2978\n",
      "Validation Loss: 0.19970132410526276, Validation MAE: 0.3143150806427002\n"
     ]
    },
    {
     "name": "stderr",
     "output_type": "stream",
     "text": [
      "[I 2025-06-14 17:37:43,048] Trial 90 finished with value: 0.19970133900642395 and parameters: {'seq_type': 'GRU', 'seq_units': 33, 'dense_units': 12, 'activation': 'mish', 'optimizer': 'rmsprop', 'dropout': 0.01895548148354504, 'learning_rate': 0.07485993419204323, 'batch_size': 64}. Best is trial 53 with value: 0.16381403803825378.\n"
     ]
    },
    {
     "data": {
      "text/html": [
       "<pre style=\"white-space:pre;overflow-x:auto;line-height:normal;font-family:Menlo,'DejaVu Sans Mono',consolas,'Courier New',monospace\"></pre>\n"
      ],
      "text/plain": []
     },
     "metadata": {},
     "output_type": "display_data"
    },
    {
     "name": "stdout",
     "output_type": "stream",
     "text": [
      "\u001b[1m23/23\u001b[0m \u001b[32m━━━━━━━━━━━━━━━━━━━━\u001b[0m\u001b[37m\u001b[0m \u001b[1m0s\u001b[0m 2ms/step - loss: 0.1685 - mae: 0.2947 \n",
      "Validation Loss: 0.18218015134334564, Validation MAE: 0.30929556488990784\n"
     ]
    },
    {
     "name": "stderr",
     "output_type": "stream",
     "text": [
      "[I 2025-06-14 17:38:28,462] Trial 91 finished with value: 0.18218013644218445 and parameters: {'seq_type': 'GRU', 'seq_units': 24, 'dense_units': 12, 'activation': 'relu', 'optimizer': 'rmsprop', 'dropout': 0.09069541007450069, 'learning_rate': 0.03254803336388887, 'batch_size': 64}. Best is trial 53 with value: 0.16381403803825378.\n"
     ]
    },
    {
     "data": {
      "text/html": [
       "<pre style=\"white-space:pre;overflow-x:auto;line-height:normal;font-family:Menlo,'DejaVu Sans Mono',consolas,'Courier New',monospace\"></pre>\n"
      ],
      "text/plain": []
     },
     "metadata": {},
     "output_type": "display_data"
    },
    {
     "name": "stdout",
     "output_type": "stream",
     "text": [
      "\u001b[1m23/23\u001b[0m \u001b[32m━━━━━━━━━━━━━━━━━━━━\u001b[0m\u001b[37m\u001b[0m \u001b[1m0s\u001b[0m 2ms/step - loss: 0.1666 - mae: 0.2884 \n",
      "Validation Loss: 0.1857057511806488, Validation MAE: 0.30543234944343567\n"
     ]
    },
    {
     "name": "stderr",
     "output_type": "stream",
     "text": [
      "[I 2025-06-14 17:38:56,923] Trial 92 finished with value: 0.1857057511806488 and parameters: {'seq_type': 'GRU', 'seq_units': 25, 'dense_units': 12, 'activation': 'relu', 'optimizer': 'rmsprop', 'dropout': 0.08713338848151488, 'learning_rate': 0.017845614708213487, 'batch_size': 64}. Best is trial 53 with value: 0.16381403803825378.\n"
     ]
    },
    {
     "data": {
      "text/html": [
       "<pre style=\"white-space:pre;overflow-x:auto;line-height:normal;font-family:Menlo,'DejaVu Sans Mono',consolas,'Courier New',monospace\"></pre>\n"
      ],
      "text/plain": []
     },
     "metadata": {},
     "output_type": "display_data"
    },
    {
     "name": "stdout",
     "output_type": "stream",
     "text": [
      "\u001b[1m23/23\u001b[0m \u001b[32m━━━━━━━━━━━━━━━━━━━━\u001b[0m\u001b[37m\u001b[0m \u001b[1m0s\u001b[0m 2ms/step - loss: 0.1589 - mae: 0.2884 \n",
      "Validation Loss: 0.17777693271636963, Validation MAE: 0.3032277524471283\n"
     ]
    },
    {
     "name": "stderr",
     "output_type": "stream",
     "text": [
      "[I 2025-06-14 17:39:51,718] Trial 93 finished with value: 0.17777691781520844 and parameters: {'seq_type': 'GRU', 'seq_units': 21, 'dense_units': 12, 'activation': 'relu', 'optimizer': 'rmsprop', 'dropout': 0.09487980120253409, 'learning_rate': 0.04989304382431715, 'batch_size': 64}. Best is trial 53 with value: 0.16381403803825378.\n"
     ]
    },
    {
     "data": {
      "text/html": [
       "<pre style=\"white-space:pre;overflow-x:auto;line-height:normal;font-family:Menlo,'DejaVu Sans Mono',consolas,'Courier New',monospace\"></pre>\n"
      ],
      "text/plain": []
     },
     "metadata": {},
     "output_type": "display_data"
    },
    {
     "name": "stdout",
     "output_type": "stream",
     "text": [
      "\u001b[1m23/23\u001b[0m \u001b[32m━━━━━━━━━━━━━━━━━━━━\u001b[0m\u001b[37m\u001b[0m \u001b[1m0s\u001b[0m 3ms/step - loss: 0.1761 - mae: 0.2925 \n",
      "Validation Loss: 0.1799716204404831, Validation MAE: 0.3044123351573944\n"
     ]
    },
    {
     "name": "stderr",
     "output_type": "stream",
     "text": [
      "[I 2025-06-14 17:40:42,588] Trial 94 finished with value: 0.1799715906381607 and parameters: {'seq_type': 'GRU', 'seq_units': 23, 'dense_units': 6, 'activation': 'relu', 'optimizer': 'rmsprop', 'dropout': 0.07649167467713613, 'learning_rate': 0.022013142214386106, 'batch_size': 64}. Best is trial 53 with value: 0.16381403803825378.\n"
     ]
    },
    {
     "data": {
      "text/html": [
       "<pre style=\"white-space:pre;overflow-x:auto;line-height:normal;font-family:Menlo,'DejaVu Sans Mono',consolas,'Courier New',monospace\"></pre>\n"
      ],
      "text/plain": []
     },
     "metadata": {},
     "output_type": "display_data"
    },
    {
     "name": "stdout",
     "output_type": "stream",
     "text": [
      "\u001b[1m23/23\u001b[0m \u001b[32m━━━━━━━━━━━━━━━━━━━━\u001b[0m\u001b[37m\u001b[0m \u001b[1m0s\u001b[0m 2ms/step - loss: 0.1684 - mae: 0.2917 \n",
      "Validation Loss: 0.186091348528862, Validation MAE: 0.31208547949790955\n"
     ]
    },
    {
     "name": "stderr",
     "output_type": "stream",
     "text": [
      "[I 2025-06-14 17:41:14,434] Trial 95 finished with value: 0.186091348528862 and parameters: {'seq_type': 'GRU', 'seq_units': 30, 'dense_units': 11, 'activation': 'relu', 'optimizer': 'rmsprop', 'dropout': 0.08016836435453284, 'learning_rate': 0.03262051230467279, 'batch_size': 64}. Best is trial 53 with value: 0.16381403803825378.\n"
     ]
    },
    {
     "data": {
      "text/html": [
       "<pre style=\"white-space:pre;overflow-x:auto;line-height:normal;font-family:Menlo,'DejaVu Sans Mono',consolas,'Courier New',monospace\"></pre>\n"
      ],
      "text/plain": []
     },
     "metadata": {},
     "output_type": "display_data"
    },
    {
     "name": "stdout",
     "output_type": "stream",
     "text": [
      "\u001b[1m23/23\u001b[0m \u001b[32m━━━━━━━━━━━━━━━━━━━━\u001b[0m\u001b[37m\u001b[0m \u001b[1m0s\u001b[0m 2ms/step - loss: 0.1960 - mae: 0.3065 \n",
      "Validation Loss: 0.21274374425411224, Validation MAE: 0.3205140233039856\n"
     ]
    },
    {
     "name": "stderr",
     "output_type": "stream",
     "text": [
      "[I 2025-06-14 17:41:40,465] Trial 96 finished with value: 0.21274372935295105 and parameters: {'seq_type': 'SimpleRNN', 'seq_units': 21, 'dense_units': 8, 'activation': 'relu', 'optimizer': 'rmsprop', 'dropout': 0.09254628763393438, 'learning_rate': 0.0025113398955931713, 'batch_size': 64}. Best is trial 53 with value: 0.16381403803825378.\n"
     ]
    },
    {
     "data": {
      "text/html": [
       "<pre style=\"white-space:pre;overflow-x:auto;line-height:normal;font-family:Menlo,'DejaVu Sans Mono',consolas,'Courier New',monospace\"></pre>\n"
      ],
      "text/plain": []
     },
     "metadata": {},
     "output_type": "display_data"
    },
    {
     "name": "stdout",
     "output_type": "stream",
     "text": [
      "\u001b[1m23/23\u001b[0m \u001b[32m━━━━━━━━━━━━━━━━━━━━\u001b[0m\u001b[37m\u001b[0m \u001b[1m0s\u001b[0m 2ms/step - loss: 0.1634 - mae: 0.2866 \n",
      "Validation Loss: 0.18092264235019684, Validation MAE: 0.3020494878292084\n"
     ]
    },
    {
     "name": "stderr",
     "output_type": "stream",
     "text": [
      "[I 2025-06-14 17:42:34,336] Trial 97 finished with value: 0.18092264235019684 and parameters: {'seq_type': 'GRU', 'seq_units': 15, 'dense_units': 12, 'activation': 'mish', 'optimizer': 'rmsprop', 'dropout': 0.08575465887791962, 'learning_rate': 0.01299482247084218, 'batch_size': 32}. Best is trial 53 with value: 0.16381403803825378.\n"
     ]
    },
    {
     "data": {
      "text/html": [
       "<pre style=\"white-space:pre;overflow-x:auto;line-height:normal;font-family:Menlo,'DejaVu Sans Mono',consolas,'Courier New',monospace\"></pre>\n"
      ],
      "text/plain": []
     },
     "metadata": {},
     "output_type": "display_data"
    },
    {
     "name": "stdout",
     "output_type": "stream",
     "text": [
      "\u001b[1m23/23\u001b[0m \u001b[32m━━━━━━━━━━━━━━━━━━━━\u001b[0m\u001b[37m\u001b[0m \u001b[1m0s\u001b[0m 2ms/step - loss: 0.1632 - mae: 0.2904 \n",
      "Validation Loss: 0.17851249873638153, Validation MAE: 0.30327436327934265\n"
     ]
    },
    {
     "name": "stderr",
     "output_type": "stream",
     "text": [
      "[I 2025-06-14 17:43:14,025] Trial 98 finished with value: 0.17851249873638153 and parameters: {'seq_type': 'LSTM', 'seq_units': 29, 'dense_units': 11, 'activation': 'relu', 'optimizer': 'rmsprop', 'dropout': 0.08846407682772217, 'learning_rate': 0.007465172280470249, 'batch_size': 64}. Best is trial 53 with value: 0.16381403803825378.\n"
     ]
    },
    {
     "data": {
      "text/html": [
       "<pre style=\"white-space:pre;overflow-x:auto;line-height:normal;font-family:Menlo,'DejaVu Sans Mono',consolas,'Courier New',monospace\"></pre>\n"
      ],
      "text/plain": []
     },
     "metadata": {},
     "output_type": "display_data"
    },
    {
     "name": "stdout",
     "output_type": "stream",
     "text": [
      "\u001b[1m23/23\u001b[0m \u001b[32m━━━━━━━━━━━━━━━━━━━━\u001b[0m\u001b[37m\u001b[0m \u001b[1m0s\u001b[0m 2ms/step - loss: 0.1810 - mae: 0.2931 \n",
      "Validation Loss: 0.1912347823381424, Validation MAE: 0.3059842586517334\n"
     ]
    },
    {
     "name": "stderr",
     "output_type": "stream",
     "text": [
      "[I 2025-06-14 17:43:55,023] Trial 99 finished with value: 0.1912347674369812 and parameters: {'seq_type': 'GRU', 'seq_units': 34, 'dense_units': 9, 'activation': 'relu', 'optimizer': 'rmsprop', 'dropout': 0.08225311223740367, 'learning_rate': 0.009818301168816032, 'batch_size': 64}. Best is trial 53 with value: 0.16381403803825378.\n"
     ]
    }
   ],
   "source": [
    "def objective(trial):\n",
    "    seq_type = trial.suggest_categorical(\"seq_type\", [\"LSTM\", \"SimpleRNN\", \"GRU\"])\n",
    "    seq_units = trial.suggest_int(\"seq_units\", 12, 48)\n",
    "    dense_units = trial.suggest_int(\"dense_units\", 4, 12)\n",
    "    activation = trial.suggest_categorical(\"activation\", [\"tanh\", \"relu\", \"mish\"])\n",
    "    optimizer = trial.suggest_categorical(\"optimizer\", [\"adam\", \"rmsprop\"])\n",
    "    dropout = trial.suggest_float(\"dropout\", 0.01, 0.1)\n",
    "    learning_rate = trial.suggest_float(\"learning_rate\", 0.0001, 0.1, log=True)  # log scale for LR\n",
    "    batch_size = trial.suggest_categorical(\"batch_size\", [32, 64, 128])\n",
    "    \n",
    "    ml_utils.run_experiment(\n",
    "        X_seq_train, X_features_train, y_train,\n",
    "        X_seq_val, X_features_val, y_val,\n",
    "        seq_type=seq_type,\n",
    "        seq_units=seq_units,\n",
    "        dense_units=dense_units,\n",
    "        activation=activation,\n",
    "        optimizer=optimizer,\n",
    "        dropout=dropout,\n",
    "        learning_rate=learning_rate,\n",
    "        batch_size=batch_size,\n",
    "        experiment_id=experiment_id\n",
    "    )\n",
    "    \n",
    "    runs = mlflow.search_runs(experiment_ids=[experiment_id], order_by=[\"start_time DESC\"])\n",
    "    val_loss = runs.iloc[0][\"metrics.val_loss\"]\n",
    "    return val_loss\n",
    "\n",
    "study = optuna.create_study(direction=\"minimize\")\n",
    "study.optimize(objective, n_trials=constants.N_TRIALS, callbacks=[mlflow_callback])"
   ]
  },
  {
   "cell_type": "code",
   "execution_count": 13,
   "id": "d423bd9f",
   "metadata": {},
   "outputs": [
    {
     "name": "stdout",
     "output_type": "stream",
     "text": [
      "\u001b[1m12/12\u001b[0m \u001b[32m━━━━━━━━━━━━━━━━━━━━\u001b[0m\u001b[37m\u001b[0m \u001b[1m0s\u001b[0m 14ms/step\n"
     ]
    },
    {
     "data": {
      "text/plain": [
       "240.77366741051836"
      ]
     },
     "execution_count": 13,
     "metadata": {},
     "output_type": "execute_result"
    }
   ],
   "source": [
    "model = ml_utils.get_best_model(experiment_id, \"metrics.val_loss\")\n",
    "y_pred = y_scaler.inverse_transform(model.predict([X_seq_test, X_features_test]))\n",
    "y_test_scaled = y_scaler.inverse_transform(y_test.reshape(-1, 1))\n",
    "mean_absolute_error(y_test_scaled, y_pred)"
   ]
  },
  {
   "cell_type": "code",
   "execution_count": 14,
   "id": "faa28c18",
   "metadata": {},
   "outputs": [
    {
     "data": {
      "image/png": "[encoded data removed]",
      "text/plain": [
       "<Figure size 1400x600 with 1 Axes>"
      ]
     },
     "metadata": {},
     "output_type": "display_data"
    }
   ],
   "source": [
    "pred_df = pl.DataFrame({'y_true': y_test_scaled.flatten(), 'y_pred': np.round(y_pred).flatten()})\n",
    "\n",
    "pred_df = pred_df.with_columns(\n",
    "    (pl.col('y_true') - pl.col('y_pred')).alias('diff')\n",
    ").with_columns(\n",
    "    pl.Series(\"date\", df_all[-pred_df.height:][\"date\"])\n",
    ")\n",
    "\n",
    "pred_df = pred_df.with_columns(\n",
    "    (abs(pl.col('diff')).alias('abs_diff'))\n",
    ")\n",
    "\n",
    "import matplotlib.pyplot as plt\n",
    "\n",
    "plt.figure(figsize=(14, 6))\n",
    "plt.plot(pred_df[\"date\"], pred_df[\"y_true\"], label=\"Actual\")\n",
    "plt.plot(pred_df[\"date\"], pred_df[\"y_pred\"], label=\"Predicted\", alpha=0.7)\n",
    "plt.title(\"Actual vs Predicted Donations\")\n",
    "plt.xlabel(\"Date\")\n",
    "plt.ylabel(\"Donations\")\n",
    "plt.legend()\n",
    "plt.grid(True)\n",
    "plt.xticks(rotation=45)\n",
    "plt.tight_layout()\n",
    "plt.show()"
   ]
  },
  {
   "cell_type": "code",
   "execution_count": 15,
   "id": "3f661983",
   "metadata": {},
   "outputs": [
    {
     "data": {
      "text/html": [
       "<div><style>\n",
       ".dataframe > thead > tr,\n",
       ".dataframe > tbody > tr {\n",
       "  text-align: right;\n",
       "  white-space: pre-wrap;\n",
       "}\n",
       "</style>\n",
       "<small>shape: (10, 5)</small><table border=\"1\" class=\"dataframe\"><thead><tr><th>y_true</th><th>y_pred</th><th>diff</th><th>date</th><th>abs_diff</th></tr><tr><td>f64</td><td>f32</td><td>f64</td><td>date</td><td>f64</td></tr></thead><tbody><tr><td>3188.0</td><td>1533.0</td><td>1655.0</td><td>2025-02-11</td><td>1655.0</td></tr><tr><td>1136.0</td><td>2662.0</td><td>-1526.0</td><td>2025-03-30</td><td>1526.0</td></tr><tr><td>3178.0</td><td>1927.0</td><td>1251.0</td><td>2025-05-12</td><td>1251.0</td></tr><tr><td>1789.0</td><td>2814.0</td><td>-1025.0</td><td>2024-06-16</td><td>1025.0</td></tr><tr><td>2962.0</td><td>1962.0</td><td>1000.0</td><td>2024-11-16</td><td>1000.0</td></tr><tr><td>2345.0</td><td>1427.0</td><td>918.0</td><td>2024-09-16</td><td>918.0</td></tr><tr><td>3481.0</td><td>2570.0</td><td>911.0</td><td>2025-03-09</td><td>911.0</td></tr><tr><td>1674.0</td><td>2532.0</td><td>-858.0</td><td>2025-03-02</td><td>858.0</td></tr><tr><td>3503.0</td><td>2658.0</td><td>845.0</td><td>2025-02-16</td><td>845.0</td></tr><tr><td>1973.0</td><td>1181.0</td><td>792.0</td><td>2024-12-25</td><td>792.0</td></tr></tbody></table></div>"
      ],
      "text/plain": [
       "shape: (10, 5)\n",
       "┌────────┬────────┬─────────┬────────────┬──────────┐\n",
       "│ y_true ┆ y_pred ┆ diff    ┆ date       ┆ abs_diff │\n",
       "│ ---    ┆ ---    ┆ ---     ┆ ---        ┆ ---      │\n",
       "│ f64    ┆ f32    ┆ f64     ┆ date       ┆ f64      │\n",
       "╞════════╪════════╪═════════╪════════════╪══════════╡\n",
       "│ 3188.0 ┆ 1533.0 ┆ 1655.0  ┆ 2025-02-11 ┆ 1655.0   │\n",
       "│ 1136.0 ┆ 2662.0 ┆ -1526.0 ┆ 2025-03-30 ┆ 1526.0   │\n",
       "│ 3178.0 ┆ 1927.0 ┆ 1251.0  ┆ 2025-05-12 ┆ 1251.0   │\n",
       "│ 1789.0 ┆ 2814.0 ┆ -1025.0 ┆ 2024-06-16 ┆ 1025.0   │\n",
       "│ 2962.0 ┆ 1962.0 ┆ 1000.0  ┆ 2024-11-16 ┆ 1000.0   │\n",
       "│ 2345.0 ┆ 1427.0 ┆ 918.0   ┆ 2024-09-16 ┆ 918.0    │\n",
       "│ 3481.0 ┆ 2570.0 ┆ 911.0   ┆ 2025-03-09 ┆ 911.0    │\n",
       "│ 1674.0 ┆ 2532.0 ┆ -858.0  ┆ 2025-03-02 ┆ 858.0    │\n",
       "│ 3503.0 ┆ 2658.0 ┆ 845.0   ┆ 2025-02-16 ┆ 845.0    │\n",
       "│ 1973.0 ┆ 1181.0 ┆ 792.0   ┆ 2024-12-25 ┆ 792.0    │\n",
       "└────────┴────────┴─────────┴────────────┴──────────┘"
      ]
     },
     "execution_count": 15,
     "metadata": {},
     "output_type": "execute_result"
    }
   ],
   "source": [
    "pred_df.sort(by='abs_diff', descending=True).head(10)"
   ]
  },
  {
   "cell_type": "markdown",
   "id": "e77f0c8f",
   "metadata": {},
   "source": [
    "While all in all the model seems to be performing well, on certain days it still shows a bigger deviance:\n",
    "- 2025-02-11: Thaipusam, which is not a national holiday but observed in eight states. Incorporating this can be valuable in the future\n",
    "- 2025-03-30: The day before Hari Raya Puasa, while not a holiday itself can lead to lower level of donations (preparations etc)\n",
    "- 2025-03-02: The first day of Ramadan, which also leads to lower actual donations than predicted\n",
    "\n",
    "Some other days which should have been properly observed still showed some difference:\n",
    "- 2024-09-16: Malaysia Day\n",
    "- 2025-05-12: Wesak Day\n",
    "- 2025-05-01: Labor Day\n",
    "\n",
    "Based on this it might make sense to extend the low donation holidays to 1 day before/after the actual date."
   ]
  },
  {
   "cell_type": "code",
   "execution_count": 16,
   "id": "1f4cabea",
   "metadata": {},
   "outputs": [],
   "source": [
    "# Saving the model\n",
    "model.save(f\"shared/model_{experiment_name}.keras\")"
   ]
  },
  {
   "cell_type": "markdown",
   "id": "2b7cc23c",
   "metadata": {},
   "source": [
    "## Comparison with simple benchmarks"
   ]
  },
  {
   "cell_type": "markdown",
   "id": "a04841f3",
   "metadata": {},
   "source": [
    "### Comparison with mean value from the validation set"
   ]
  },
  {
   "cell_type": "code",
   "execution_count": 17,
   "id": "137ac511",
   "metadata": {},
   "outputs": [
    {
     "data": {
      "text/plain": [
       "526.6071462578556"
      ]
     },
     "execution_count": 17,
     "metadata": {},
     "output_type": "execute_result"
    }
   ],
   "source": [
    "# Comparison with mean value from validation set\n",
    "mean_val = y_scaler.inverse_transform(y_val.reshape(-1, 1)).mean()\n",
    "\n",
    "mean_pred = np.full_like(y_test_scaled, mean_val)\n",
    "mean_absolute_error(y_test_scaled, mean_pred)"
   ]
  },
  {
   "cell_type": "markdown",
   "id": "b174d862",
   "metadata": {},
   "source": [
    "### Comparison with rolling average"
   ]
  },
  {
   "cell_type": "code",
   "execution_count": 18,
   "id": "e53d2c70",
   "metadata": {},
   "outputs": [
    {
     "data": {
      "text/plain": [
       "1612.5570317883635"
      ]
     },
     "execution_count": 18,
     "metadata": {},
     "output_type": "execute_result"
    }
   ],
   "source": [
    "# Concatenate y_train, y_val, and y_test for easy indexing\n",
    "y_all = np.concatenate([y_val, y_test])\n",
    "\n",
    "# Indices for the start of y_test in y_all\n",
    "test_start_idx = len(y_val)\n",
    "\n",
    "# Rolling average prediction for y_test\n",
    "rolling_preds = []\n",
    "for i in range(test_start_idx, test_start_idx + len(y_test)):\n",
    "    # Take the previous 7 days\n",
    "    prev_7 = y_all[i-constants.WINDOW_SIZE:i]\n",
    "    rolling_preds.append(prev_7.mean())\n",
    "\n",
    "rolling_preds = np.array(rolling_preds)\n",
    "\n",
    "mean_absolute_error(y_test, \n",
    "                    y_scaler.inverse_transform(rolling_preds[-len(y_test):].reshape(-1, 1))\n",
    ")"
   ]
  },
  {
   "cell_type": "markdown",
   "id": "c1f58202",
   "metadata": {},
   "source": [
    "We could confirm that using the model is meaningfully better in terms of performance over simple benchmarks."
   ]
  }
 ],
 "metadata": {
  "kernelspec": {
   "display_name": ".venv",
   "language": "python",
   "name": "python3"
  },
  "language_info": {
   "codemirror_mode": {
    "name": "ipython",
    "version": 3
   },
   "file_extension": ".py",
   "mimetype": "text/x-python",
   "name": "python",
   "nbconvert_exporter": "python",
   "pygments_lexer": "ipython3",
   "version": "3.12.3"
  }
 },
 "nbformat": 4,
 "nbformat_minor": 5
}
