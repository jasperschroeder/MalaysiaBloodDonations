{
 "cells": [
  {
   "cell_type": "markdown",
   "id": "197f1adf",
   "metadata": {},
   "source": [
    "Here we want to build a model. We decide on building an LSTM for the following reasons: \n",
    "- Need to capture long-term information in the model.\n",
    "- Other model choices would not be appropriate (due to non-staionary time series).\n",
    "- Complexity of time series can be properly captured.\n",
    "\n",
    "We will first build a model for all states, then build a model per state."
   ]
  },
  {
   "cell_type": "code",
   "execution_count": null,
   "id": "da3bf54f",
   "metadata": {},
   "outputs": [],
   "source": [
    "import pickle\n",
    "import polars as pl\n",
    "import ml_utils\n",
    "import absl.logging\n",
    "absl.logging.set_verbosity(absl.logging.ERROR)\n",
    "import warnings\n",
    "warnings.filterwarnings(\"ignore\")\n",
    "from sklearn.metrics import mean_absolute_error\n",
    "import constants\n",
    "import numpy as np"
   ]
  },
  {
   "cell_type": "code",
   "execution_count": null,
   "id": "847fc53a",
   "metadata": {},
   "outputs": [],
   "source": [
    "with open(\"df_all.pkl\", \"rb\") as file:\n",
    "    df_all = pickle.load(file)"
   ]
  },
  {
   "cell_type": "code",
   "execution_count": null,
   "id": "0cb3a57e",
   "metadata": {},
   "outputs": [],
   "source": [
    "df_all = df_all.with_columns([\n",
    "    pl.col(\"date\").dt.weekday().alias(\"weekday\"),\n",
    "    pl.col(\"date\").dt.month().alias(\"month\"),\n",
    "    pl.col(\"date\").dt.ordinal_day().alias(\"day_of_year\")   \n",
    "])\n",
    "\n",
    "df_all.head(8)"
   ]
  },
  {
   "cell_type": "code",
   "execution_count": null,
   "id": "67f99784",
   "metadata": {},
   "outputs": [],
   "source": [
    "for lag in range(1, constants.WINDOW_SIZE+1):\n",
    "    df_all = df_all.with_columns(\n",
    "        pl.col(\"all\").shift(lag).alias(f\"all_lag_{lag}\")\n",
    "    )\n",
    "\n",
    "df_all = df_all.drop_nulls()"
   ]
  },
  {
   "cell_type": "code",
   "execution_count": null,
   "id": "079ff73b",
   "metadata": {},
   "outputs": [],
   "source": [
    "df_all"
   ]
  },
  {
   "cell_type": "code",
   "execution_count": null,
   "id": "c7b424b4",
   "metadata": {},
   "outputs": [],
   "source": [
    "X_seq = df_all.select([f\"all_lag_{lag}\" for lag in range(1, constants.WINDOW_SIZE+1)]).to_numpy().reshape(-1, constants.WINDOW_SIZE, 1)\n",
    "X_features = df_all.select([\"weekday\", \"month\", \"day_of_year\", \"is_religion_or_culture_holiday\", \"is_other_holiday\", \"is_low_donation_holiday\", \"is_high_donation_holiday\"]).to_numpy()\n",
    "y = df_all['all'].to_numpy()"
   ]
  },
  {
   "cell_type": "code",
   "execution_count": null,
   "metadata": {},
   "outputs": [],
   "source": [
    "# Set up scalers \n",
    "from sklearn.preprocessing import StandardScaler\n",
    "\n",
    "y_scaler = StandardScaler()\n",
    "X_scaler = StandardScaler()"
   ]
  },
  {
   "cell_type": "code",
   "execution_count": null,
   "id": "3d28e24e",
   "metadata": {},
   "outputs": [],
   "source": [
    "y_scaled = y_scaler.fit_transform(y.reshape(-1, 1)).flatten()\n",
    "X_features_scaled = X_scaler.fit_transform(X_features)\n",
    "X_seq_scaled = y_scaler.transform(X_seq.reshape(-1, 1)).reshape(-1, constants.WINDOW_SIZE, 1)"
   ]
  },
  {
   "cell_type": "code",
   "execution_count": null,
   "id": "4e0f37c3",
   "metadata": {},
   "outputs": [],
   "source": [
    "with open('x_scaler.pkl', 'wb') as file:\n",
    "    pickle.dump(X_scaler, file)\n",
    "    \n",
    "with open('y_scaler.pkl', 'wb') as file:\n",
    "    pickle.dump(y_scaler, file)"
   ]
  },
  {
   "cell_type": "code",
   "execution_count": null,
   "id": "1f05c8d2",
   "metadata": {},
   "outputs": [],
   "source": [
    "X_seq_train, X_seq_val, X_seq_test, X_features_train, X_features_val, X_features_test, y_train, y_val, y_test = ml_utils.train_val_split_lstm_feature_data(\n",
    "    X_seq_scaled,\n",
    "    X_features_scaled,\n",
    "    y_scaled,\n",
    "    constants.TRAIN_FRAC,\n",
    "    constants.VAL_FRAC\n",
    ")"
   ]
  },
  {
   "cell_type": "code",
   "execution_count": null,
   "id": "e29a6d42",
   "metadata": {},
   "outputs": [],
   "source": [
    "experiment_id = ml_utils.get_or_create_mlflow_experiment(\"NewTest101\")"
   ]
  },
  {
   "cell_type": "code",
   "execution_count": null,
   "id": "3fdad04e",
   "metadata": {},
   "outputs": [],
   "source": [
    "model_type = [\"LSTM\", \"SimpleRNN\"]\n",
    "seq_units = [12, 24, 48]\n",
    "dense_units = [4, 8, 12]\n",
    "activation_list = ['mish', 'relu', 'sigmoid']\n",
    "optimizer_list = ['adam', 'rmsprop']\n",
    "dropout_list = [0.05, 0.1]"
   ]
  },
  {
   "cell_type": "code",
   "execution_count": null,
   "id": "486bfbb9",
   "metadata": {},
   "outputs": [],
   "source": [
    "for seq_type in model_type:\n",
    "    for seq_unit in seq_units:\n",
    "        for dense_unit in dense_units:\n",
    "            for activation in activation_list:\n",
    "                for optimizer in optimizer_list:\n",
    "                    for dropout in dropout_list:\n",
    "                        print(f\"Running {seq_type} experiment with seq_units={seq_unit}, dense_units={dense_unit}, activation={activation}, optimizer={optimizer}, dropout={dropout}.\")\n",
    "                        ml_utils.run_experiment(\n",
    "                            X_seq_train=X_seq_train, X_features_train=X_features_train, y_train=y_train,\n",
    "                            X_seq_val=X_seq_val, X_features_val=X_features_val, y_val=y_val,\n",
    "                            seq_type=seq_type, seq_units=seq_unit, dense_units=dense_unit, activation=activation, dropout=dropout,\n",
    "                            optimizer=optimizer, experiment_id=experiment_id\n",
    "                        )"
   ]
  },
  {
   "cell_type": "code",
   "execution_count": null,
   "id": "2215655c",
   "metadata": {},
   "outputs": [],
   "source": [
    "model = ml_utils.get_best_model(experiment_id, \"metrics.val_loss\")"
   ]
  },
  {
   "cell_type": "code",
   "execution_count": null,
   "id": "d423bd9f",
   "metadata": {},
   "outputs": [],
   "source": [
    "y_pred = y_scaler.inverse_transform(model.predict([X_seq_test, X_features_test]))\n",
    "y_test_scaled = y_scaler.inverse_transform(y_test.reshape(-1, 1))\n",
    "mean_absolute_error(y_test_scaled, y_pred)"
   ]
  },
  {
   "cell_type": "code",
   "execution_count": null,
   "id": "faa28c18",
   "metadata": {},
   "outputs": [],
   "source": [
    "pred_df = pl.DataFrame({'y_true': y_test_scaled.flatten(), 'y_pred': np.round(y_pred).flatten()})\n",
    "\n",
    "pred_df = pred_df.with_columns(\n",
    "    (pl.col('y_true') - pl.col('y_pred')).alias('diff')\n",
    ").with_columns(\n",
    "    pl.Series(\"date\", df_all[-pred_df.height:][\"date\"])\n",
    ")\n",
    "\n",
    "pred_df = pred_df.with_columns(\n",
    "    (abs(pl.col('diff')).alias('abs_diff'))\n",
    ")\n",
    "\n",
    "import matplotlib.pyplot as plt\n",
    "\n",
    "plt.figure(figsize=(14, 6))\n",
    "plt.plot(pred_df[\"date\"], pred_df[\"y_true\"], label=\"Actual\")\n",
    "plt.plot(pred_df[\"date\"], pred_df[\"y_pred\"], label=\"Predicted\")\n",
    "plt.title(\"Actual vs Predicted Donations\")\n",
    "plt.xlabel(\"Date\")\n",
    "plt.ylabel(\"Donations\")\n",
    "plt.legend()\n",
    "plt.grid(True)\n",
    "plt.xticks(rotation=45)\n",
    "plt.tight_layout()\n",
    "plt.show()\n",
    "\n",
    "pred_df.sort(by='abs_diff', descending=True)"
   ]
  },
  {
   "cell_type": "code",
   "execution_count": null,
   "id": "21a2eb97",
   "metadata": {},
   "outputs": [],
   "source": [
    "plt.figure(figsize=(8, 5))\n",
    "plt.hist(pred_df[\"diff\"], bins=25, edgecolor='k', alpha=0.7)\n",
    "plt.title(\"Distribution of Prediction Errors (diff)\")\n",
    "plt.xlabel(\"Prediction Error (y_true - y_pred)\")\n",
    "plt.ylabel(\"Frequency\")\n",
    "plt.grid(True)\n",
    "plt.show()"
   ]
  },
  {
   "cell_type": "code",
   "execution_count": null,
   "id": "48a23f77",
   "metadata": {},
   "outputs": [],
   "source": []
  }
 ],
 "metadata": {
  "kernelspec": {
   "display_name": ".venv",
   "language": "python",
   "name": "python3"
  },
  "language_info": {
   "codemirror_mode": {
    "name": "ipython",
    "version": 3
   },
   "file_extension": ".py",
   "mimetype": "text/x-python",
   "name": "python",
   "nbconvert_exporter": "python",
   "pygments_lexer": "ipython3",
   "version": "3.12.3"
  }
 },
 "nbformat": 4,
 "nbformat_minor": 5
}
