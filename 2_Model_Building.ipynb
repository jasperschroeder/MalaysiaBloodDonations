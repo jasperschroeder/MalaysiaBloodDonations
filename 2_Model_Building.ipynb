{
 "cells": [
  {
   "cell_type": "markdown",
   "id": "197f1adf",
   "metadata": {},
   "source": [
    "Here we want to build a model. We decide on building an LSTM for the following reasons: \n",
    "- Need to capture long-term information in the model.\n",
    "- Other model choices would not be appropriate (due to non-staionary time series).\n",
    "- Complexity of time series can be properly captured.\n",
    "\n",
    "We will first build a model for all states, then build a model per state."
   ]
  },
  {
   "cell_type": "code",
   "execution_count": null,
   "id": "da3bf54f",
   "metadata": {},
   "outputs": [],
   "source": [
    "import pickle\n",
    "import polars as pl\n",
    "import ml_utils\n",
    "import mlflow\n",
    "import absl.logging\n",
    "absl.logging.set_verbosity(absl.logging.ERROR)\n",
    "import warnings\n",
    "warnings.filterwarnings(\"ignore\")\n",
    "import holidays\n",
    "from sklearn.metrics import mean_absolute_error\n",
    "import constants"
   ]
  },
  {
   "cell_type": "code",
   "execution_count": 2,
   "id": "98e8c2d7",
   "metadata": {},
   "outputs": [
    {
     "data": {
      "text/html": [
       "<div><style>\n",
       ".dataframe > thead > tr,\n",
       ".dataframe > tbody > tr {\n",
       "  text-align: right;\n",
       "  white-space: pre-wrap;\n",
       "}\n",
       "</style>\n",
       "<small>shape: (8, 7)</small><table border=\"1\" class=\"dataframe\"><thead><tr><th>date</th><th>state</th><th>a</th><th>b</th><th>o</th><th>ab</th><th>all</th></tr><tr><td>date</td><td>str</td><td>i64</td><td>i64</td><td>i64</td><td>i64</td><td>i64</td></tr></thead><tbody><tr><td>2006-01-01</td><td>&quot;Johor&quot;</td><td>19</td><td>20</td><td>45</td><td>3</td><td>87</td></tr><tr><td>2006-01-02</td><td>&quot;Johor&quot;</td><td>4</td><td>3</td><td>6</td><td>2</td><td>15</td></tr><tr><td>2006-01-03</td><td>&quot;Johor&quot;</td><td>2</td><td>2</td><td>4</td><td>0</td><td>8</td></tr><tr><td>2006-01-04</td><td>&quot;Johor&quot;</td><td>7</td><td>11</td><td>12</td><td>3</td><td>33</td></tr><tr><td>2006-01-05</td><td>&quot;Johor&quot;</td><td>3</td><td>8</td><td>8</td><td>1</td><td>20</td></tr><tr><td>2006-01-06</td><td>&quot;Johor&quot;</td><td>2</td><td>0</td><td>2</td><td>0</td><td>4</td></tr><tr><td>2006-01-07</td><td>&quot;Johor&quot;</td><td>1</td><td>0</td><td>0</td><td>0</td><td>1</td></tr><tr><td>2006-01-08</td><td>&quot;Johor&quot;</td><td>20</td><td>27</td><td>30</td><td>9</td><td>86</td></tr></tbody></table></div>"
      ],
      "text/plain": [
       "shape: (8, 7)\n",
       "┌────────────┬───────┬─────┬─────┬─────┬─────┬─────┐\n",
       "│ date       ┆ state ┆ a   ┆ b   ┆ o   ┆ ab  ┆ all │\n",
       "│ ---        ┆ ---   ┆ --- ┆ --- ┆ --- ┆ --- ┆ --- │\n",
       "│ date       ┆ str   ┆ i64 ┆ i64 ┆ i64 ┆ i64 ┆ i64 │\n",
       "╞════════════╪═══════╪═════╪═════╪═════╪═════╪═════╡\n",
       "│ 2006-01-01 ┆ Johor ┆ 19  ┆ 20  ┆ 45  ┆ 3   ┆ 87  │\n",
       "│ 2006-01-02 ┆ Johor ┆ 4   ┆ 3   ┆ 6   ┆ 2   ┆ 15  │\n",
       "│ 2006-01-03 ┆ Johor ┆ 2   ┆ 2   ┆ 4   ┆ 0   ┆ 8   │\n",
       "│ 2006-01-04 ┆ Johor ┆ 7   ┆ 11  ┆ 12  ┆ 3   ┆ 33  │\n",
       "│ 2006-01-05 ┆ Johor ┆ 3   ┆ 8   ┆ 8   ┆ 1   ┆ 20  │\n",
       "│ 2006-01-06 ┆ Johor ┆ 2   ┆ 0   ┆ 2   ┆ 0   ┆ 4   │\n",
       "│ 2006-01-07 ┆ Johor ┆ 1   ┆ 0   ┆ 0   ┆ 0   ┆ 1   │\n",
       "│ 2006-01-08 ┆ Johor ┆ 20  ┆ 27  ┆ 30  ┆ 9   ┆ 86  │\n",
       "└────────────┴───────┴─────┴─────┴─────┴─────┴─────┘"
      ]
     },
     "execution_count": 2,
     "metadata": {},
     "output_type": "execute_result"
    }
   ],
   "source": [
    "with open('blood_donations.pkl', 'rb') as file:\n",
    "    df = pickle.load(file)\n",
    "\n",
    "df.head(8)"
   ]
  },
  {
   "cell_type": "code",
   "execution_count": 3,
   "id": "0cb3a57e",
   "metadata": {},
   "outputs": [
    {
     "data": {
      "text/html": [
       "<div><style>\n",
       ".dataframe > thead > tr,\n",
       ".dataframe > tbody > tr {\n",
       "  text-align: right;\n",
       "  white-space: pre-wrap;\n",
       "}\n",
       "</style>\n",
       "<small>shape: (8, 10)</small><table border=\"1\" class=\"dataframe\"><thead><tr><th>date</th><th>state</th><th>a</th><th>b</th><th>o</th><th>ab</th><th>all</th><th>weekday</th><th>month</th><th>day_of_year</th></tr><tr><td>date</td><td>str</td><td>i64</td><td>i64</td><td>i64</td><td>i64</td><td>i64</td><td>i8</td><td>i8</td><td>i16</td></tr></thead><tbody><tr><td>2006-01-01</td><td>&quot;Johor&quot;</td><td>19</td><td>20</td><td>45</td><td>3</td><td>87</td><td>7</td><td>1</td><td>1</td></tr><tr><td>2006-01-02</td><td>&quot;Johor&quot;</td><td>4</td><td>3</td><td>6</td><td>2</td><td>15</td><td>1</td><td>1</td><td>2</td></tr><tr><td>2006-01-03</td><td>&quot;Johor&quot;</td><td>2</td><td>2</td><td>4</td><td>0</td><td>8</td><td>2</td><td>1</td><td>3</td></tr><tr><td>2006-01-04</td><td>&quot;Johor&quot;</td><td>7</td><td>11</td><td>12</td><td>3</td><td>33</td><td>3</td><td>1</td><td>4</td></tr><tr><td>2006-01-05</td><td>&quot;Johor&quot;</td><td>3</td><td>8</td><td>8</td><td>1</td><td>20</td><td>4</td><td>1</td><td>5</td></tr><tr><td>2006-01-06</td><td>&quot;Johor&quot;</td><td>2</td><td>0</td><td>2</td><td>0</td><td>4</td><td>5</td><td>1</td><td>6</td></tr><tr><td>2006-01-07</td><td>&quot;Johor&quot;</td><td>1</td><td>0</td><td>0</td><td>0</td><td>1</td><td>6</td><td>1</td><td>7</td></tr><tr><td>2006-01-08</td><td>&quot;Johor&quot;</td><td>20</td><td>27</td><td>30</td><td>9</td><td>86</td><td>7</td><td>1</td><td>8</td></tr></tbody></table></div>"
      ],
      "text/plain": [
       "shape: (8, 10)\n",
       "┌────────────┬───────┬─────┬─────┬───┬─────┬─────────┬───────┬─────────────┐\n",
       "│ date       ┆ state ┆ a   ┆ b   ┆ … ┆ all ┆ weekday ┆ month ┆ day_of_year │\n",
       "│ ---        ┆ ---   ┆ --- ┆ --- ┆   ┆ --- ┆ ---     ┆ ---   ┆ ---         │\n",
       "│ date       ┆ str   ┆ i64 ┆ i64 ┆   ┆ i64 ┆ i8      ┆ i8    ┆ i16         │\n",
       "╞════════════╪═══════╪═════╪═════╪═══╪═════╪═════════╪═══════╪═════════════╡\n",
       "│ 2006-01-01 ┆ Johor ┆ 19  ┆ 20  ┆ … ┆ 87  ┆ 7       ┆ 1     ┆ 1           │\n",
       "│ 2006-01-02 ┆ Johor ┆ 4   ┆ 3   ┆ … ┆ 15  ┆ 1       ┆ 1     ┆ 2           │\n",
       "│ 2006-01-03 ┆ Johor ┆ 2   ┆ 2   ┆ … ┆ 8   ┆ 2       ┆ 1     ┆ 3           │\n",
       "│ 2006-01-04 ┆ Johor ┆ 7   ┆ 11  ┆ … ┆ 33  ┆ 3       ┆ 1     ┆ 4           │\n",
       "│ 2006-01-05 ┆ Johor ┆ 3   ┆ 8   ┆ … ┆ 20  ┆ 4       ┆ 1     ┆ 5           │\n",
       "│ 2006-01-06 ┆ Johor ┆ 2   ┆ 0   ┆ … ┆ 4   ┆ 5       ┆ 1     ┆ 6           │\n",
       "│ 2006-01-07 ┆ Johor ┆ 1   ┆ 0   ┆ … ┆ 1   ┆ 6       ┆ 1     ┆ 7           │\n",
       "│ 2006-01-08 ┆ Johor ┆ 20  ┆ 27  ┆ … ┆ 86  ┆ 7       ┆ 1     ┆ 8           │\n",
       "└────────────┴───────┴─────┴─────┴───┴─────┴─────────┴───────┴─────────────┘"
      ]
     },
     "execution_count": 3,
     "metadata": {},
     "output_type": "execute_result"
    }
   ],
   "source": [
    "df = df.with_columns([\n",
    "    pl.col(\"date\").dt.weekday().alias(\"weekday\"),\n",
    "    pl.col(\"date\").dt.month().alias(\"month\"),\n",
    "    pl.col(\"date\").dt.ordinal_day().alias(\"day_of_year\")   \n",
    "])\n",
    "\n",
    "df.head(8)"
   ]
  },
  {
   "cell_type": "code",
   "execution_count": 4,
   "id": "92ca0d87",
   "metadata": {},
   "outputs": [
    {
     "data": {
      "text/html": [
       "<div><style>\n",
       ".dataframe > thead > tr,\n",
       ".dataframe > tbody > tr {\n",
       "  text-align: right;\n",
       "  white-space: pre-wrap;\n",
       "}\n",
       "</style>\n",
       "<small>shape: (8, 5)</small><table border=\"1\" class=\"dataframe\"><thead><tr><th>date</th><th>all</th><th>weekday</th><th>month</th><th>day_of_year</th></tr><tr><td>date</td><td>i64</td><td>i8</td><td>i8</td><td>i16</td></tr></thead><tbody><tr><td>2006-01-01</td><td>525</td><td>7</td><td>1</td><td>1</td></tr><tr><td>2006-01-02</td><td>227</td><td>1</td><td>1</td><td>2</td></tr><tr><td>2006-01-03</td><td>112</td><td>2</td><td>1</td><td>3</td></tr><tr><td>2006-01-04</td><td>391</td><td>3</td><td>1</td><td>4</td></tr><tr><td>2006-01-05</td><td>582</td><td>4</td><td>1</td><td>5</td></tr><tr><td>2006-01-06</td><td>324</td><td>5</td><td>1</td><td>6</td></tr><tr><td>2006-01-07</td><td>118</td><td>6</td><td>1</td><td>7</td></tr><tr><td>2006-01-08</td><td>795</td><td>7</td><td>1</td><td>8</td></tr></tbody></table></div>"
      ],
      "text/plain": [
       "shape: (8, 5)\n",
       "┌────────────┬─────┬─────────┬───────┬─────────────┐\n",
       "│ date       ┆ all ┆ weekday ┆ month ┆ day_of_year │\n",
       "│ ---        ┆ --- ┆ ---     ┆ ---   ┆ ---         │\n",
       "│ date       ┆ i64 ┆ i8      ┆ i8    ┆ i16         │\n",
       "╞════════════╪═════╪═════════╪═══════╪═════════════╡\n",
       "│ 2006-01-01 ┆ 525 ┆ 7       ┆ 1     ┆ 1           │\n",
       "│ 2006-01-02 ┆ 227 ┆ 1       ┆ 1     ┆ 2           │\n",
       "│ 2006-01-03 ┆ 112 ┆ 2       ┆ 1     ┆ 3           │\n",
       "│ 2006-01-04 ┆ 391 ┆ 3       ┆ 1     ┆ 4           │\n",
       "│ 2006-01-05 ┆ 582 ┆ 4       ┆ 1     ┆ 5           │\n",
       "│ 2006-01-06 ┆ 324 ┆ 5       ┆ 1     ┆ 6           │\n",
       "│ 2006-01-07 ┆ 118 ┆ 6       ┆ 1     ┆ 7           │\n",
       "│ 2006-01-08 ┆ 795 ┆ 7       ┆ 1     ┆ 8           │\n",
       "└────────────┴─────┴─────────┴───────┴─────────────┘"
      ]
     },
     "execution_count": 4,
     "metadata": {},
     "output_type": "execute_result"
    }
   ],
   "source": [
    "# Starting with all\n",
    "df_all = df.group_by(['date']).agg([\n",
    "    pl.sum('all').alias('all'),\n",
    "    pl.first('weekday').alias('weekday'),\n",
    "    pl.first('month').alias('month'),\n",
    "    pl.first('day_of_year').alias('day_of_year')\n",
    "]).sort('date')\n",
    "\n",
    "df_all.head(8)"
   ]
  },
  {
   "cell_type": "code",
   "execution_count": 5,
   "id": "10cd80c0",
   "metadata": {},
   "outputs": [
    {
     "data": {
      "text/html": [
       "<div><style>\n",
       ".dataframe > thead > tr,\n",
       ".dataframe > tbody > tr {\n",
       "  text-align: right;\n",
       "  white-space: pre-wrap;\n",
       "}\n",
       "</style>\n",
       "<small>shape: (296, 2)</small><table border=\"1\" class=\"dataframe\"><thead><tr><th>date</th><th>name</th></tr><tr><td>date</td><td>str</td></tr></thead><tbody><tr><td>2006-01-29</td><td>&quot;Tahun Baharu Cina&quot;</td></tr><tr><td>2006-01-30</td><td>&quot;Tahun Baharu Cina (Hari Kedua)&quot;</td></tr><tr><td>2006-05-12</td><td>&quot;Hari Wesak&quot;</td></tr><tr><td>2006-05-01</td><td>&quot;Hari Pekerja&quot;</td></tr><tr><td>2006-06-03</td><td>&quot;Hari Keputeraan Rasmi Seri Pad…</td></tr><tr><td>&hellip;</td><td>&hellip;</td></tr><tr><td>2025-09-05</td><td>&quot;Hari Keputeraan Nabi Muhammad …</td></tr><tr><td>2025-03-31</td><td>&quot;Hari Raya Puasa&quot;</td></tr><tr><td>2025-04-01</td><td>&quot;Hari Raya Puasa (Hari Kedua)&quot;</td></tr><tr><td>2025-06-07</td><td>&quot;Hari Raya Qurban&quot;</td></tr><tr><td>2025-09-01</td><td>&quot;Cuti Hari Kebangsaan&quot;</td></tr></tbody></table></div>"
      ],
      "text/plain": [
       "shape: (296, 2)\n",
       "┌────────────┬─────────────────────────────────┐\n",
       "│ date       ┆ name                            │\n",
       "│ ---        ┆ ---                             │\n",
       "│ date       ┆ str                             │\n",
       "╞════════════╪═════════════════════════════════╡\n",
       "│ 2006-01-29 ┆ Tahun Baharu Cina               │\n",
       "│ 2006-01-30 ┆ Tahun Baharu Cina (Hari Kedua)  │\n",
       "│ 2006-05-12 ┆ Hari Wesak                      │\n",
       "│ 2006-05-01 ┆ Hari Pekerja                    │\n",
       "│ 2006-06-03 ┆ Hari Keputeraan Rasmi Seri Pad… │\n",
       "│ …          ┆ …                               │\n",
       "│ 2025-09-05 ┆ Hari Keputeraan Nabi Muhammad … │\n",
       "│ 2025-03-31 ┆ Hari Raya Puasa                 │\n",
       "│ 2025-04-01 ┆ Hari Raya Puasa (Hari Kedua)    │\n",
       "│ 2025-06-07 ┆ Hari Raya Qurban                │\n",
       "│ 2025-09-01 ┆ Cuti Hari Kebangsaan            │\n",
       "└────────────┴─────────────────────────────────┘"
      ]
     },
     "execution_count": 5,
     "metadata": {},
     "output_type": "execute_result"
    }
   ],
   "source": [
    "holiday_data = [\n",
    "    {\"date\": date, \"name\": name} for date, name in \n",
    "    holidays.country_holidays('MY', years=range(2006, 2026)).items()\n",
    "]\n",
    "\n",
    "malaysia_holidays_df = pl.DataFrame(holiday_data).filter(pl.col(\"name\") != \"Cuti tambahan sempena memperingati SAT 2017\")\n",
    "malaysia_holidays_df"
   ]
  },
  {
   "cell_type": "code",
   "execution_count": 6,
   "id": "cfbbff2b",
   "metadata": {},
   "outputs": [],
   "source": [
    "malaysia_holidays_df = malaysia_holidays_df.with_columns(\n",
    "    pl.col(\"name\").str.replace(r\"\\s*\\(Hari Kedua\\)\", \"\").alias(\"name\")\n",
    ").with_columns(\n",
    "    pl.col(\"name\").str.replace(r\"\\s*\\(pergantian hari\\)\", \"\").alias(\"name\")\n",
    ").with_columns(\n",
    "    pl.col(\"name\").str.replace(r\"\\s*\\(pilihan raya umum\\)\", \"\").alias(\"name\")\n",
    ").with_columns(\n",
    "    pl.col(\"name\").str.replace(\"Cuti \", \"\").alias(\"name\")\n",
    ")"
   ]
  },
  {
   "cell_type": "code",
   "execution_count": 7,
   "id": "3b65df26",
   "metadata": {},
   "outputs": [
    {
     "data": {
      "text/html": [
       "<div><style>\n",
       ".dataframe > thead > tr,\n",
       ".dataframe > tbody > tr {\n",
       "  text-align: right;\n",
       "  white-space: pre-wrap;\n",
       "}\n",
       "</style>\n",
       "<small>shape: (7_076, 6)</small><table border=\"1\" class=\"dataframe\"><thead><tr><th>date</th><th>all</th><th>weekday</th><th>month</th><th>day_of_year</th><th>name</th></tr><tr><td>date</td><td>i64</td><td>i8</td><td>i8</td><td>i16</td><td>str</td></tr></thead><tbody><tr><td>2006-01-01</td><td>525</td><td>7</td><td>1</td><td>1</td><td>&quot;No holiday&quot;</td></tr><tr><td>2006-01-02</td><td>227</td><td>1</td><td>1</td><td>2</td><td>&quot;No holiday&quot;</td></tr><tr><td>2006-01-03</td><td>112</td><td>2</td><td>1</td><td>3</td><td>&quot;No holiday&quot;</td></tr><tr><td>2006-01-04</td><td>391</td><td>3</td><td>1</td><td>4</td><td>&quot;No holiday&quot;</td></tr><tr><td>2006-01-05</td><td>582</td><td>4</td><td>1</td><td>5</td><td>&quot;No holiday&quot;</td></tr><tr><td>&hellip;</td><td>&hellip;</td><td>&hellip;</td><td>&hellip;</td><td>&hellip;</td><td>&hellip;</td></tr><tr><td>2025-05-12</td><td>3178</td><td>1</td><td>5</td><td>132</td><td>&quot;Hari Wesak&quot;</td></tr><tr><td>2025-05-13</td><td>1604</td><td>2</td><td>5</td><td>133</td><td>&quot;No holiday&quot;</td></tr><tr><td>2025-05-14</td><td>1686</td><td>3</td><td>5</td><td>134</td><td>&quot;No holiday&quot;</td></tr><tr><td>2025-05-15</td><td>1547</td><td>4</td><td>5</td><td>135</td><td>&quot;No holiday&quot;</td></tr><tr><td>2025-05-16</td><td>884</td><td>5</td><td>5</td><td>136</td><td>&quot;No holiday&quot;</td></tr></tbody></table></div>"
      ],
      "text/plain": [
       "shape: (7_076, 6)\n",
       "┌────────────┬──────┬─────────┬───────┬─────────────┬────────────┐\n",
       "│ date       ┆ all  ┆ weekday ┆ month ┆ day_of_year ┆ name       │\n",
       "│ ---        ┆ ---  ┆ ---     ┆ ---   ┆ ---         ┆ ---        │\n",
       "│ date       ┆ i64  ┆ i8      ┆ i8    ┆ i16         ┆ str        │\n",
       "╞════════════╪══════╪═════════╪═══════╪═════════════╪════════════╡\n",
       "│ 2006-01-01 ┆ 525  ┆ 7       ┆ 1     ┆ 1           ┆ No holiday │\n",
       "│ 2006-01-02 ┆ 227  ┆ 1       ┆ 1     ┆ 2           ┆ No holiday │\n",
       "│ 2006-01-03 ┆ 112  ┆ 2       ┆ 1     ┆ 3           ┆ No holiday │\n",
       "│ 2006-01-04 ┆ 391  ┆ 3       ┆ 1     ┆ 4           ┆ No holiday │\n",
       "│ 2006-01-05 ┆ 582  ┆ 4       ┆ 1     ┆ 5           ┆ No holiday │\n",
       "│ …          ┆ …    ┆ …       ┆ …     ┆ …           ┆ …          │\n",
       "│ 2025-05-12 ┆ 3178 ┆ 1       ┆ 5     ┆ 132         ┆ Hari Wesak │\n",
       "│ 2025-05-13 ┆ 1604 ┆ 2       ┆ 5     ┆ 133         ┆ No holiday │\n",
       "│ 2025-05-14 ┆ 1686 ┆ 3       ┆ 5     ┆ 134         ┆ No holiday │\n",
       "│ 2025-05-15 ┆ 1547 ┆ 4       ┆ 5     ┆ 135         ┆ No holiday │\n",
       "│ 2025-05-16 ┆ 884  ┆ 5       ┆ 5     ┆ 136         ┆ No holiday │\n",
       "└────────────┴──────┴─────────┴───────┴─────────────┴────────────┘"
      ]
     },
     "execution_count": 7,
     "metadata": {},
     "output_type": "execute_result"
    }
   ],
   "source": [
    "df_all = df_all.join(malaysia_holidays_df, on='date', how='left').fill_null(\"No holiday\")\n",
    "df_all"
   ]
  },
  {
   "cell_type": "code",
   "execution_count": 8,
   "id": "eb428034",
   "metadata": {},
   "outputs": [
    {
     "data": {
      "text/html": [
       "<div><style>\n",
       ".dataframe > thead > tr,\n",
       ".dataframe > tbody > tr {\n",
       "  text-align: right;\n",
       "  white-space: pre-wrap;\n",
       "}\n",
       "</style>\n",
       "<small>shape: (5, 18)</small><table border=\"1\" class=\"dataframe\"><thead><tr><th>h_Awal Muharam</th><th>h_Hari Kebangsaan</th><th>h_Hari Kebangsaan; Hari Raya Puasa</th><th>h_Hari Keputeraan Nabi Muhammad S.A.W.</th><th>h_Hari Keputeraan Nabi Muhammad S.A.W.; Hari Malaysia</th><th>h_Hari Keputeraan Rasmi Seri Paduka Baginda Yang di-Pertuan Agong</th><th>h_Hari Krismas</th><th>h_Hari Malaysia</th><th>h_Hari Pekerja</th><th>h_Hari Pekerja; Hari Wesak</th><th>h_Hari Pertabalan Yang di-Pertuan Agong ke-15</th><th>h_Hari Pertabalan Yang di-Pertuan Agong ke-16</th><th>h_Hari Raya Puasa</th><th>h_Hari Raya Qurban</th><th>h_Hari Wesak</th><th>h_No holiday</th><th>h_Peristiwa</th><th>h_Tahun Baharu Cina</th></tr><tr><td>u8</td><td>u8</td><td>u8</td><td>u8</td><td>u8</td><td>u8</td><td>u8</td><td>u8</td><td>u8</td><td>u8</td><td>u8</td><td>u8</td><td>u8</td><td>u8</td><td>u8</td><td>u8</td><td>u8</td><td>u8</td></tr></thead><tbody><tr><td>0</td><td>0</td><td>0</td><td>0</td><td>0</td><td>0</td><td>0</td><td>0</td><td>0</td><td>0</td><td>0</td><td>0</td><td>0</td><td>0</td><td>0</td><td>1</td><td>0</td><td>0</td></tr><tr><td>0</td><td>0</td><td>0</td><td>0</td><td>0</td><td>0</td><td>0</td><td>0</td><td>0</td><td>0</td><td>0</td><td>0</td><td>0</td><td>0</td><td>0</td><td>1</td><td>0</td><td>0</td></tr><tr><td>0</td><td>0</td><td>0</td><td>0</td><td>0</td><td>0</td><td>0</td><td>0</td><td>0</td><td>0</td><td>0</td><td>0</td><td>0</td><td>0</td><td>0</td><td>1</td><td>0</td><td>0</td></tr><tr><td>0</td><td>0</td><td>0</td><td>0</td><td>0</td><td>0</td><td>0</td><td>0</td><td>0</td><td>0</td><td>0</td><td>0</td><td>0</td><td>0</td><td>0</td><td>1</td><td>0</td><td>0</td></tr><tr><td>0</td><td>0</td><td>0</td><td>0</td><td>0</td><td>0</td><td>0</td><td>0</td><td>0</td><td>0</td><td>0</td><td>0</td><td>0</td><td>0</td><td>0</td><td>1</td><td>0</td><td>0</td></tr></tbody></table></div>"
      ],
      "text/plain": [
       "shape: (5, 18)\n",
       "┌───────────┬───────────┬───────────┬───────────┬───┬───────────┬───────────┬───────────┬──────────┐\n",
       "│ h_Awal    ┆ h_Hari    ┆ h_Hari    ┆ h_Hari    ┆ … ┆ h_Hari    ┆ h_No      ┆ h_Peristi ┆ h_Tahun  │\n",
       "│ Muharam   ┆ Kebangsaa ┆ Kebangsaa ┆ Keputeraa ┆   ┆ Wesak     ┆ holiday   ┆ wa        ┆ Baharu   │\n",
       "│ ---       ┆ n         ┆ n; Hari   ┆ n Nabi    ┆   ┆ ---       ┆ ---       ┆ ---       ┆ Cina     │\n",
       "│ u8        ┆ ---       ┆ Raya P…   ┆ Muhamma…  ┆   ┆ u8        ┆ u8        ┆ u8        ┆ ---      │\n",
       "│           ┆ u8        ┆ ---       ┆ ---       ┆   ┆           ┆           ┆           ┆ u8       │\n",
       "│           ┆           ┆ u8        ┆ u8        ┆   ┆           ┆           ┆           ┆          │\n",
       "╞═══════════╪═══════════╪═══════════╪═══════════╪═══╪═══════════╪═══════════╪═══════════╪══════════╡\n",
       "│ 0         ┆ 0         ┆ 0         ┆ 0         ┆ … ┆ 0         ┆ 1         ┆ 0         ┆ 0        │\n",
       "│ 0         ┆ 0         ┆ 0         ┆ 0         ┆ … ┆ 0         ┆ 1         ┆ 0         ┆ 0        │\n",
       "│ 0         ┆ 0         ┆ 0         ┆ 0         ┆ … ┆ 0         ┆ 1         ┆ 0         ┆ 0        │\n",
       "│ 0         ┆ 0         ┆ 0         ┆ 0         ┆ … ┆ 0         ┆ 1         ┆ 0         ┆ 0        │\n",
       "│ 0         ┆ 0         ┆ 0         ┆ 0         ┆ … ┆ 0         ┆ 1         ┆ 0         ┆ 0        │\n",
       "└───────────┴───────────┴───────────┴───────────┴───┴───────────┴───────────┴───────────┴──────────┘"
      ]
     },
     "execution_count": 8,
     "metadata": {},
     "output_type": "execute_result"
    }
   ],
   "source": [
    "holidays_dummies = df_all.select(pl.col(\"name\").alias(\"h\")).to_dummies()\n",
    "holidays_dummies.head(5)"
   ]
  },
  {
   "cell_type": "code",
   "execution_count": 9,
   "id": "e190ef25",
   "metadata": {},
   "outputs": [
    {
     "data": {
      "text/html": [
       "<div><style>\n",
       ".dataframe > thead > tr,\n",
       ".dataframe > tbody > tr {\n",
       "  text-align: right;\n",
       "  white-space: pre-wrap;\n",
       "}\n",
       "</style>\n",
       "<small>shape: (5, 23)</small><table border=\"1\" class=\"dataframe\"><thead><tr><th>date</th><th>all</th><th>weekday</th><th>month</th><th>day_of_year</th><th>h_Awal Muharam</th><th>h_Hari Kebangsaan</th><th>h_Hari Kebangsaan; Hari Raya Puasa</th><th>h_Hari Keputeraan Nabi Muhammad S.A.W.</th><th>h_Hari Keputeraan Nabi Muhammad S.A.W.; Hari Malaysia</th><th>h_Hari Keputeraan Rasmi Seri Paduka Baginda Yang di-Pertuan Agong</th><th>h_Hari Krismas</th><th>h_Hari Malaysia</th><th>h_Hari Pekerja</th><th>h_Hari Pekerja; Hari Wesak</th><th>h_Hari Pertabalan Yang di-Pertuan Agong ke-15</th><th>h_Hari Pertabalan Yang di-Pertuan Agong ke-16</th><th>h_Hari Raya Puasa</th><th>h_Hari Raya Qurban</th><th>h_Hari Wesak</th><th>h_No holiday</th><th>h_Peristiwa</th><th>h_Tahun Baharu Cina</th></tr><tr><td>date</td><td>i64</td><td>i8</td><td>i8</td><td>i16</td><td>u8</td><td>u8</td><td>u8</td><td>u8</td><td>u8</td><td>u8</td><td>u8</td><td>u8</td><td>u8</td><td>u8</td><td>u8</td><td>u8</td><td>u8</td><td>u8</td><td>u8</td><td>u8</td><td>u8</td><td>u8</td></tr></thead><tbody><tr><td>2006-01-01</td><td>525</td><td>7</td><td>1</td><td>1</td><td>0</td><td>0</td><td>0</td><td>0</td><td>0</td><td>0</td><td>0</td><td>0</td><td>0</td><td>0</td><td>0</td><td>0</td><td>0</td><td>0</td><td>0</td><td>1</td><td>0</td><td>0</td></tr><tr><td>2006-01-02</td><td>227</td><td>1</td><td>1</td><td>2</td><td>0</td><td>0</td><td>0</td><td>0</td><td>0</td><td>0</td><td>0</td><td>0</td><td>0</td><td>0</td><td>0</td><td>0</td><td>0</td><td>0</td><td>0</td><td>1</td><td>0</td><td>0</td></tr><tr><td>2006-01-03</td><td>112</td><td>2</td><td>1</td><td>3</td><td>0</td><td>0</td><td>0</td><td>0</td><td>0</td><td>0</td><td>0</td><td>0</td><td>0</td><td>0</td><td>0</td><td>0</td><td>0</td><td>0</td><td>0</td><td>1</td><td>0</td><td>0</td></tr><tr><td>2006-01-04</td><td>391</td><td>3</td><td>1</td><td>4</td><td>0</td><td>0</td><td>0</td><td>0</td><td>0</td><td>0</td><td>0</td><td>0</td><td>0</td><td>0</td><td>0</td><td>0</td><td>0</td><td>0</td><td>0</td><td>1</td><td>0</td><td>0</td></tr><tr><td>2006-01-05</td><td>582</td><td>4</td><td>1</td><td>5</td><td>0</td><td>0</td><td>0</td><td>0</td><td>0</td><td>0</td><td>0</td><td>0</td><td>0</td><td>0</td><td>0</td><td>0</td><td>0</td><td>0</td><td>0</td><td>1</td><td>0</td><td>0</td></tr></tbody></table></div>"
      ],
      "text/plain": [
       "shape: (5, 23)\n",
       "┌────────────┬─────┬─────────┬───────┬───┬────────┬─────────────────┬─────────────┬────────────────┐\n",
       "│ date       ┆ all ┆ weekday ┆ month ┆ … ┆ h_Hari ┆ h_No holiday    ┆ h_Peristiwa ┆ h_Tahun Baharu │\n",
       "│ ---        ┆ --- ┆ ---     ┆ ---   ┆   ┆ Wesak  ┆ ---             ┆ ---         ┆ Cina           │\n",
       "│ date       ┆ i64 ┆ i8      ┆ i8    ┆   ┆ ---    ┆ u8              ┆ u8          ┆ ---            │\n",
       "│            ┆     ┆         ┆       ┆   ┆ u8     ┆                 ┆             ┆ u8             │\n",
       "╞════════════╪═════╪═════════╪═══════╪═══╪════════╪═════════════════╪═════════════╪════════════════╡\n",
       "│ 2006-01-01 ┆ 525 ┆ 7       ┆ 1     ┆ … ┆ 0      ┆ 1               ┆ 0           ┆ 0              │\n",
       "│ 2006-01-02 ┆ 227 ┆ 1       ┆ 1     ┆ … ┆ 0      ┆ 1               ┆ 0           ┆ 0              │\n",
       "│ 2006-01-03 ┆ 112 ┆ 2       ┆ 1     ┆ … ┆ 0      ┆ 1               ┆ 0           ┆ 0              │\n",
       "│ 2006-01-04 ┆ 391 ┆ 3       ┆ 1     ┆ … ┆ 0      ┆ 1               ┆ 0           ┆ 0              │\n",
       "│ 2006-01-05 ┆ 582 ┆ 4       ┆ 1     ┆ … ┆ 0      ┆ 1               ┆ 0           ┆ 0              │\n",
       "└────────────┴─────┴─────────┴───────┴───┴────────┴─────────────────┴─────────────┴────────────────┘"
      ]
     },
     "execution_count": 9,
     "metadata": {},
     "output_type": "execute_result"
    }
   ],
   "source": [
    "df_all = pl.concat([df_all.drop('name'), holidays_dummies], how=\"horizontal\")\n",
    "df_all.head(5)"
   ]
  },
  {
   "cell_type": "code",
   "execution_count": 10,
   "id": "1cc1e871",
   "metadata": {},
   "outputs": [],
   "source": [
    "def handle_duplicate_holidays(df, double_name, name_1, name_2):\n",
    "    return df.with_columns(\n",
    "        (pl.col(name_1) | pl.col(double_name)).alias(name_1),\n",
    "        (pl.col(name_2) | pl.col(double_name)).alias(name_2)\n",
    "    ).drop(double_name)"
   ]
  },
  {
   "cell_type": "code",
   "execution_count": 11,
   "id": "15c46032",
   "metadata": {},
   "outputs": [],
   "source": [
    "df_all = handle_duplicate_holidays(df_all, 'h_Hari Pekerja; Hari Wesak', 'h_Hari Pekerja', 'h_Hari Wesak')\n",
    "df_all = handle_duplicate_holidays(df_all, 'h_Hari Keputeraan Nabi Muhammad S.A.W.; Hari Malaysia', 'h_Hari Keputeraan Nabi Muhammad S.A.W.', 'h_Hari Malaysia')\n",
    "df_all = handle_duplicate_holidays(df_all, 'h_Hari Kebangsaan; Hari Raya Puasa', 'h_Hari Kebangsaan', 'h_Hari Raya Puasa')\n",
    "\n",
    "df_all = df_all.with_columns(\n",
    "    (pl.col('h_Hari Pertabalan Yang di-Pertuan Agong ke-15') | pl.col('h_Hari Pertabalan Yang di-Pertuan Agong ke-16')).alias('h_Hari Pertabalan Yang di-Pertuan Agong')\n",
    ").drop('h_Hari Pertabalan Yang di-Pertuan Agong ke-15', 'h_Hari Pertabalan Yang di-Pertuan Agong ke-16')\n"
   ]
  },
  {
   "cell_type": "code",
   "execution_count": 12,
   "id": "d1cf7c09",
   "metadata": {},
   "outputs": [
    {
     "data": {
      "text/html": [
       "<div><style>\n",
       ".dataframe > thead > tr,\n",
       ".dataframe > tbody > tr {\n",
       "  text-align: right;\n",
       "  white-space: pre-wrap;\n",
       "}\n",
       "</style>\n",
       "<small>shape: (5, 18)</small><table border=\"1\" class=\"dataframe\"><thead><tr><th>date</th><th>all</th><th>weekday</th><th>month</th><th>day_of_year</th><th>h_Awal Muharam</th><th>h_Hari Kebangsaan</th><th>h_Hari Keputeraan Nabi Muhammad S.A.W.</th><th>h_Hari Keputeraan Rasmi Seri Paduka Baginda Yang di-Pertuan Agong</th><th>h_Hari Krismas</th><th>h_Hari Malaysia</th><th>h_Hari Pekerja</th><th>h_Hari Raya Puasa</th><th>h_Hari Raya Qurban</th><th>h_Hari Wesak</th><th>h_Peristiwa</th><th>h_Tahun Baharu Cina</th><th>h_Hari Pertabalan Yang di-Pertuan Agong</th></tr><tr><td>date</td><td>i64</td><td>i8</td><td>i8</td><td>i16</td><td>u8</td><td>u8</td><td>u8</td><td>u8</td><td>u8</td><td>u8</td><td>u8</td><td>u8</td><td>u8</td><td>u8</td><td>u8</td><td>u8</td><td>u8</td></tr></thead><tbody><tr><td>2006-01-01</td><td>525</td><td>7</td><td>1</td><td>1</td><td>0</td><td>0</td><td>0</td><td>0</td><td>0</td><td>0</td><td>0</td><td>0</td><td>0</td><td>0</td><td>0</td><td>0</td><td>0</td></tr><tr><td>2006-01-02</td><td>227</td><td>1</td><td>1</td><td>2</td><td>0</td><td>0</td><td>0</td><td>0</td><td>0</td><td>0</td><td>0</td><td>0</td><td>0</td><td>0</td><td>0</td><td>0</td><td>0</td></tr><tr><td>2006-01-03</td><td>112</td><td>2</td><td>1</td><td>3</td><td>0</td><td>0</td><td>0</td><td>0</td><td>0</td><td>0</td><td>0</td><td>0</td><td>0</td><td>0</td><td>0</td><td>0</td><td>0</td></tr><tr><td>2006-01-04</td><td>391</td><td>3</td><td>1</td><td>4</td><td>0</td><td>0</td><td>0</td><td>0</td><td>0</td><td>0</td><td>0</td><td>0</td><td>0</td><td>0</td><td>0</td><td>0</td><td>0</td></tr><tr><td>2006-01-05</td><td>582</td><td>4</td><td>1</td><td>5</td><td>0</td><td>0</td><td>0</td><td>0</td><td>0</td><td>0</td><td>0</td><td>0</td><td>0</td><td>0</td><td>0</td><td>0</td><td>0</td></tr></tbody></table></div>"
      ],
      "text/plain": [
       "shape: (5, 18)\n",
       "┌────────────┬─────┬─────────┬───────┬───┬────────┬─────────────┬─────────────────┬────────────────┐\n",
       "│ date       ┆ all ┆ weekday ┆ month ┆ … ┆ h_Hari ┆ h_Peristiwa ┆ h_Tahun Baharu  ┆ h_Hari         │\n",
       "│ ---        ┆ --- ┆ ---     ┆ ---   ┆   ┆ Wesak  ┆ ---         ┆ Cina            ┆ Pertabalan     │\n",
       "│ date       ┆ i64 ┆ i8      ┆ i8    ┆   ┆ ---    ┆ u8          ┆ ---             ┆ Yang di-Pert…  │\n",
       "│            ┆     ┆         ┆       ┆   ┆ u8     ┆             ┆ u8              ┆ ---            │\n",
       "│            ┆     ┆         ┆       ┆   ┆        ┆             ┆                 ┆ u8             │\n",
       "╞════════════╪═════╪═════════╪═══════╪═══╪════════╪═════════════╪═════════════════╪════════════════╡\n",
       "│ 2006-01-01 ┆ 525 ┆ 7       ┆ 1     ┆ … ┆ 0      ┆ 0           ┆ 0               ┆ 0              │\n",
       "│ 2006-01-02 ┆ 227 ┆ 1       ┆ 1     ┆ … ┆ 0      ┆ 0           ┆ 0               ┆ 0              │\n",
       "│ 2006-01-03 ┆ 112 ┆ 2       ┆ 1     ┆ … ┆ 0      ┆ 0           ┆ 0               ┆ 0              │\n",
       "│ 2006-01-04 ┆ 391 ┆ 3       ┆ 1     ┆ … ┆ 0      ┆ 0           ┆ 0               ┆ 0              │\n",
       "│ 2006-01-05 ┆ 582 ┆ 4       ┆ 1     ┆ … ┆ 0      ┆ 0           ┆ 0               ┆ 0              │\n",
       "└────────────┴─────┴─────────┴───────┴───┴────────┴─────────────┴─────────────────┴────────────────┘"
      ]
     },
     "execution_count": 12,
     "metadata": {},
     "output_type": "execute_result"
    }
   ],
   "source": [
    "df_all = df_all.drop(['h_No holiday'])\n",
    "df_all.head(5)"
   ]
  },
  {
   "cell_type": "code",
   "execution_count": 13,
   "id": "151cbfe9",
   "metadata": {},
   "outputs": [],
   "source": [
    "religion_or_culture_holidays = [\n",
    "    'h_Awal Muharam',\n",
    "    'h_Hari Keputeraan Nabi Muhammad S.A.W.',\n",
    "    'h_Hari Krismas',\n",
    "    'h_Tahun Baharu Cina',\n",
    "]\n",
    "\n",
    "other_holidays = [\n",
    "    'h_Hari Kebangsaan',\n",
    "    'h_Hari Keputeraan Rasmi Seri Paduka Baginda Yang di-Pertuan Agong',\n",
    "    'h_Peristiwa',\n",
    "    'h_Hari Pertabalan Yang di-Pertuan Agong'\n",
    "]\n",
    "\n",
    "low_donation_holidays = [\n",
    "    'h_Hari Raya Puasa',\n",
    "    'h_Hari Raya Qurban',\n",
    "]\n",
    "\n",
    "high_donation_holidays = [\n",
    "    'h_Hari Malaysia',\n",
    "    'h_Hari Pekerja',\n",
    "    'h_Hari Wesak',\n",
    "]"
   ]
  },
  {
   "cell_type": "code",
   "execution_count": 14,
   "id": "602cce3f",
   "metadata": {},
   "outputs": [],
   "source": [
    "from functools import reduce\n",
    "\n",
    "df_all = (\n",
    "    df_all\n",
    "    .with_columns(\n",
    "    reduce(\n",
    "        lambda acc, col: acc | pl.col(col),\n",
    "        religion_or_culture_holidays[1:],\n",
    "        pl.col(religion_or_culture_holidays[0])\n",
    "    ).alias(\"is_religion_or_culture_holiday\"),\n",
    "    reduce(\n",
    "        lambda acc, col: acc | pl.col(col),\n",
    "        other_holidays[1:],\n",
    "        pl.col(other_holidays[0])\n",
    "    ).alias(\"is_other_holiday\"),\n",
    "    reduce(\n",
    "        lambda acc, col: acc | pl.col(col),\n",
    "        low_donation_holidays[1:],\n",
    "        pl.col(low_donation_holidays[0])\n",
    "    ).alias(\"is_low_donation_holiday\"),\n",
    "    reduce(\n",
    "        lambda acc, col: acc | pl.col(col),\n",
    "        high_donation_holidays[1:],\n",
    "        pl.col(high_donation_holidays[0])\n",
    "    ).alias(\"is_high_donation_holiday\")\n",
    "    )\n",
    ").drop(\n",
    "    *religion_or_culture_holidays,\n",
    "    *other_holidays,\n",
    "    *low_donation_holidays,\n",
    "    *high_donation_holidays\n",
    ")"
   ]
  },
  {
   "cell_type": "code",
   "execution_count": null,
   "id": "67f99784",
   "metadata": {},
   "outputs": [],
   "source": [
    "for lag in range(1, constants.WINDOW_SIZE+1):\n",
    "    df_all = df_all.with_columns(\n",
    "        pl.col(\"all\").shift(lag).alias(f\"all_lag_{lag}\")\n",
    "    )\n",
    "\n",
    "df_all = df_all.drop_nulls()"
   ]
  },
  {
   "cell_type": "code",
   "execution_count": 16,
   "id": "079ff73b",
   "metadata": {},
   "outputs": [
    {
     "data": {
      "text/html": [
       "<div><style>\n",
       ".dataframe > thead > tr,\n",
       ".dataframe > tbody > tr {\n",
       "  text-align: right;\n",
       "  white-space: pre-wrap;\n",
       "}\n",
       "</style>\n",
       "<small>shape: (7_069, 16)</small><table border=\"1\" class=\"dataframe\"><thead><tr><th>date</th><th>all</th><th>weekday</th><th>month</th><th>day_of_year</th><th>is_religion_or_culture_holiday</th><th>is_other_holiday</th><th>is_low_donation_holiday</th><th>is_high_donation_holiday</th><th>all_lag_1</th><th>all_lag_2</th><th>all_lag_3</th><th>all_lag_4</th><th>all_lag_5</th><th>all_lag_6</th><th>all_lag_7</th></tr><tr><td>date</td><td>i64</td><td>i8</td><td>i8</td><td>i16</td><td>u8</td><td>u8</td><td>u8</td><td>u8</td><td>i64</td><td>i64</td><td>i64</td><td>i64</td><td>i64</td><td>i64</td><td>i64</td></tr></thead><tbody><tr><td>2006-01-08</td><td>795</td><td>7</td><td>1</td><td>8</td><td>0</td><td>0</td><td>0</td><td>0</td><td>118</td><td>324</td><td>582</td><td>391</td><td>112</td><td>227</td><td>525</td></tr><tr><td>2006-01-09</td><td>346</td><td>1</td><td>1</td><td>9</td><td>0</td><td>0</td><td>0</td><td>0</td><td>795</td><td>118</td><td>324</td><td>582</td><td>391</td><td>112</td><td>227</td></tr><tr><td>2006-01-10</td><td>2</td><td>2</td><td>1</td><td>10</td><td>0</td><td>0</td><td>1</td><td>0</td><td>346</td><td>795</td><td>118</td><td>324</td><td>582</td><td>391</td><td>112</td></tr><tr><td>2006-01-11</td><td>448</td><td>3</td><td>1</td><td>11</td><td>0</td><td>0</td><td>0</td><td>0</td><td>2</td><td>346</td><td>795</td><td>118</td><td>324</td><td>582</td><td>391</td></tr><tr><td>2006-01-12</td><td>805</td><td>4</td><td>1</td><td>12</td><td>0</td><td>0</td><td>0</td><td>0</td><td>448</td><td>2</td><td>346</td><td>795</td><td>118</td><td>324</td><td>582</td></tr><tr><td>&hellip;</td><td>&hellip;</td><td>&hellip;</td><td>&hellip;</td><td>&hellip;</td><td>&hellip;</td><td>&hellip;</td><td>&hellip;</td><td>&hellip;</td><td>&hellip;</td><td>&hellip;</td><td>&hellip;</td><td>&hellip;</td><td>&hellip;</td><td>&hellip;</td><td>&hellip;</td></tr><tr><td>2025-05-12</td><td>3178</td><td>1</td><td>5</td><td>132</td><td>0</td><td>0</td><td>0</td><td>1</td><td>2652</td><td>1845</td><td>900</td><td>1619</td><td>1613</td><td>1434</td><td>1120</td></tr><tr><td>2025-05-13</td><td>1604</td><td>2</td><td>5</td><td>133</td><td>0</td><td>0</td><td>0</td><td>0</td><td>3178</td><td>2652</td><td>1845</td><td>900</td><td>1619</td><td>1613</td><td>1434</td></tr><tr><td>2025-05-14</td><td>1686</td><td>3</td><td>5</td><td>134</td><td>0</td><td>0</td><td>0</td><td>0</td><td>1604</td><td>3178</td><td>2652</td><td>1845</td><td>900</td><td>1619</td><td>1613</td></tr><tr><td>2025-05-15</td><td>1547</td><td>4</td><td>5</td><td>135</td><td>0</td><td>0</td><td>0</td><td>0</td><td>1686</td><td>1604</td><td>3178</td><td>2652</td><td>1845</td><td>900</td><td>1619</td></tr><tr><td>2025-05-16</td><td>884</td><td>5</td><td>5</td><td>136</td><td>0</td><td>0</td><td>0</td><td>0</td><td>1547</td><td>1686</td><td>1604</td><td>3178</td><td>2652</td><td>1845</td><td>900</td></tr></tbody></table></div>"
      ],
      "text/plain": [
       "shape: (7_069, 16)\n",
       "┌────────────┬──────┬─────────┬───────┬───┬───────────┬───────────┬───────────┬───────────┐\n",
       "│ date       ┆ all  ┆ weekday ┆ month ┆ … ┆ all_lag_4 ┆ all_lag_5 ┆ all_lag_6 ┆ all_lag_7 │\n",
       "│ ---        ┆ ---  ┆ ---     ┆ ---   ┆   ┆ ---       ┆ ---       ┆ ---       ┆ ---       │\n",
       "│ date       ┆ i64  ┆ i8      ┆ i8    ┆   ┆ i64       ┆ i64       ┆ i64       ┆ i64       │\n",
       "╞════════════╪══════╪═════════╪═══════╪═══╪═══════════╪═══════════╪═══════════╪═══════════╡\n",
       "│ 2006-01-08 ┆ 795  ┆ 7       ┆ 1     ┆ … ┆ 391       ┆ 112       ┆ 227       ┆ 525       │\n",
       "│ 2006-01-09 ┆ 346  ┆ 1       ┆ 1     ┆ … ┆ 582       ┆ 391       ┆ 112       ┆ 227       │\n",
       "│ 2006-01-10 ┆ 2    ┆ 2       ┆ 1     ┆ … ┆ 324       ┆ 582       ┆ 391       ┆ 112       │\n",
       "│ 2006-01-11 ┆ 448  ┆ 3       ┆ 1     ┆ … ┆ 118       ┆ 324       ┆ 582       ┆ 391       │\n",
       "│ 2006-01-12 ┆ 805  ┆ 4       ┆ 1     ┆ … ┆ 795       ┆ 118       ┆ 324       ┆ 582       │\n",
       "│ …          ┆ …    ┆ …       ┆ …     ┆ … ┆ …         ┆ …         ┆ …         ┆ …         │\n",
       "│ 2025-05-12 ┆ 3178 ┆ 1       ┆ 5     ┆ … ┆ 1619      ┆ 1613      ┆ 1434      ┆ 1120      │\n",
       "│ 2025-05-13 ┆ 1604 ┆ 2       ┆ 5     ┆ … ┆ 900       ┆ 1619      ┆ 1613      ┆ 1434      │\n",
       "│ 2025-05-14 ┆ 1686 ┆ 3       ┆ 5     ┆ … ┆ 1845      ┆ 900       ┆ 1619      ┆ 1613      │\n",
       "│ 2025-05-15 ┆ 1547 ┆ 4       ┆ 5     ┆ … ┆ 2652      ┆ 1845      ┆ 900       ┆ 1619      │\n",
       "│ 2025-05-16 ┆ 884  ┆ 5       ┆ 5     ┆ … ┆ 3178      ┆ 2652      ┆ 1845      ┆ 900       │\n",
       "└────────────┴──────┴─────────┴───────┴───┴───────────┴───────────┴───────────┴───────────┘"
      ]
     },
     "execution_count": 16,
     "metadata": {},
     "output_type": "execute_result"
    }
   ],
   "source": [
    "df_all"
   ]
  },
  {
   "cell_type": "code",
   "execution_count": null,
   "id": "c7b424b4",
   "metadata": {},
   "outputs": [],
   "source": [
    "X_seq = df_all.select([f\"all_lag_{lag}\" for lag in range(1, constants.WINDOW_SIZE+1)]).to_numpy().reshape(-1, constants.WINDOW_SIZE, 1)\n",
    "X_features = df_all.select([\"weekday\", \"month\", \"day_of_year\", \"is_religion_or_culture_holiday\", \"is_other_holiday\", \"is_low_donation_holiday\", \"is_high_donation_holiday\"]).to_numpy()\n",
    "y = df_all['all'].to_numpy()"
   ]
  },
  {
   "cell_type": "code",
   "execution_count": 18,
   "metadata": {},
   "outputs": [],
   "source": [
    "# Set up scalers \n",
    "from sklearn.preprocessing import RobustScaler\n",
    "\n",
    "y_scaler = RobustScaler()\n",
    "X_scaler = RobustScaler()"
   ]
  },
  {
   "cell_type": "code",
   "execution_count": null,
   "id": "3d28e24e",
   "metadata": {},
   "outputs": [],
   "source": [
    "y_scaled = y_scaler.fit_transform(y.reshape(-1, 1)).flatten()\n",
    "X_features_scaled = X_scaler.fit_transform(X_features)\n",
    "X_seq_scaled = y_scaler.transform(X_seq.reshape(-1, 1)).reshape(-1, constants.WINDOW_SIZE, 1)"
   ]
  },
  {
   "cell_type": "code",
   "execution_count": 20,
   "id": "4acb4696",
   "metadata": {},
   "outputs": [],
   "source": [
    "import numpy as np"
   ]
  },
  {
   "cell_type": "code",
   "execution_count": null,
   "id": "1f05c8d2",
   "metadata": {},
   "outputs": [],
   "source": [
    "X_seq_train, X_seq_val, X_seq_test, X_features_train, X_features_val, X_features_test, y_train, y_val, y_test = ml_utils.train_val_split_lstm_feature_data(\n",
    "    X_seq_scaled,\n",
    "    X_features_scaled,\n",
    "    y_scaled,\n",
    "    constants.TRAIN_FRAC,\n",
    "    constants.VAL_FRAC\n",
    ")"
   ]
  },
  {
   "cell_type": "code",
   "execution_count": 22,
   "id": "e29a6d42",
   "metadata": {},
   "outputs": [],
   "source": [
    "experiment_id = ml_utils.get_or_create_mlflow_experiment(\"NewTest2\")"
   ]
  },
  {
   "cell_type": "code",
   "execution_count": 23,
   "id": "3fdad04e",
   "metadata": {},
   "outputs": [],
   "source": [
    "model_type = [\"LSTM\", \"SimpleRNN\"]\n",
    "seq_units = [24, 48, 64]\n",
    "dense_units = [8, 16]\n",
    "activation_list = ['mish', 'relu']\n",
    "optimizer_list = ['adam']\n",
    "dropout_list = [0.05, 0.1]"
   ]
  },
  {
   "cell_type": "code",
   "execution_count": 24,
   "id": "486bfbb9",
   "metadata": {},
   "outputs": [
    {
     "name": "stdout",
     "output_type": "stream",
     "text": [
      "Running LSTM experiment with seq_units=24, dense_units=8, activation=mish, optimizer=adam, dropout=0.05.\n"
     ]
    },
    {
     "data": {
      "text/html": [
       "<pre style=\"white-space:pre;overflow-x:auto;line-height:normal;font-family:Menlo,'DejaVu Sans Mono',consolas,'Courier New',monospace\"></pre>\n"
      ],
      "text/plain": []
     },
     "metadata": {},
     "output_type": "display_data"
    },
    {
     "name": "stdout",
     "output_type": "stream",
     "text": [
      "\u001b[1m23/23\u001b[0m \u001b[32m━━━━━━━━━━━━━━━━━━━━\u001b[0m\u001b[37m\u001b[0m \u001b[1m0s\u001b[0m 5ms/step - loss: 0.2104 - mae: 0.3036\n",
      "Validation Loss: 0.2168281078338623, Validation MAE: 0.31814515590667725\n",
      "Running LSTM experiment with seq_units=24, dense_units=8, activation=mish, optimizer=adam, dropout=0.1.\n"
     ]
    },
    {
     "data": {
      "text/html": [
       "<pre style=\"white-space:pre;overflow-x:auto;line-height:normal;font-family:Menlo,'DejaVu Sans Mono',consolas,'Courier New',monospace\"></pre>\n"
      ],
      "text/plain": []
     },
     "metadata": {},
     "output_type": "display_data"
    },
    {
     "name": "stdout",
     "output_type": "stream",
     "text": [
      "\u001b[1m23/23\u001b[0m \u001b[32m━━━━━━━━━━━━━━━━━━━━\u001b[0m\u001b[37m\u001b[0m \u001b[1m0s\u001b[0m 5ms/step - loss: 0.2113 - mae: 0.3086\n",
      "Validation Loss: 0.214364692568779, Validation MAE: 0.31911301612854004\n",
      "Running LSTM experiment with seq_units=24, dense_units=8, activation=relu, optimizer=adam, dropout=0.05.\n"
     ]
    },
    {
     "data": {
      "text/html": [
       "<pre style=\"white-space:pre;overflow-x:auto;line-height:normal;font-family:Menlo,'DejaVu Sans Mono',consolas,'Courier New',monospace\"></pre>\n"
      ],
      "text/plain": []
     },
     "metadata": {},
     "output_type": "display_data"
    },
    {
     "name": "stdout",
     "output_type": "stream",
     "text": [
      "\u001b[1m23/23\u001b[0m \u001b[32m━━━━━━━━━━━━━━━━━━━━\u001b[0m\u001b[37m\u001b[0m \u001b[1m0s\u001b[0m 3ms/step - loss: 0.2146 - mae: 0.3011 \n",
      "Validation Loss: 0.21788673102855682, Validation MAE: 0.3128569722175598\n",
      "Running LSTM experiment with seq_units=24, dense_units=8, activation=relu, optimizer=adam, dropout=0.1.\n"
     ]
    },
    {
     "data": {
      "text/html": [
       "<pre style=\"white-space:pre;overflow-x:auto;line-height:normal;font-family:Menlo,'DejaVu Sans Mono',consolas,'Courier New',monospace\"></pre>\n"
      ],
      "text/plain": []
     },
     "metadata": {},
     "output_type": "display_data"
    },
    {
     "name": "stdout",
     "output_type": "stream",
     "text": [
      "\u001b[1m23/23\u001b[0m \u001b[32m━━━━━━━━━━━━━━━━━━━━\u001b[0m\u001b[37m\u001b[0m \u001b[1m0s\u001b[0m 3ms/step - loss: 0.2059 - mae: 0.2955 \n",
      "Validation Loss: 0.20679354667663574, Validation MAE: 0.3039924204349518\n",
      "Running LSTM experiment with seq_units=24, dense_units=16, activation=mish, optimizer=adam, dropout=0.05.\n"
     ]
    },
    {
     "data": {
      "text/html": [
       "<pre style=\"white-space:pre;overflow-x:auto;line-height:normal;font-family:Menlo,'DejaVu Sans Mono',consolas,'Courier New',monospace\"></pre>\n"
      ],
      "text/plain": []
     },
     "metadata": {},
     "output_type": "display_data"
    },
    {
     "name": "stdout",
     "output_type": "stream",
     "text": [
      "\u001b[1m23/23\u001b[0m \u001b[32m━━━━━━━━━━━━━━━━━━━━\u001b[0m\u001b[37m\u001b[0m \u001b[1m0s\u001b[0m 6ms/step - loss: 0.2050 - mae: 0.3006\n",
      "Validation Loss: 0.2151123285293579, Validation MAE: 0.31810814142227173\n",
      "Running LSTM experiment with seq_units=24, dense_units=16, activation=mish, optimizer=adam, dropout=0.1.\n"
     ]
    },
    {
     "data": {
      "text/html": [
       "<pre style=\"white-space:pre;overflow-x:auto;line-height:normal;font-family:Menlo,'DejaVu Sans Mono',consolas,'Courier New',monospace\"></pre>\n"
      ],
      "text/plain": []
     },
     "metadata": {},
     "output_type": "display_data"
    },
    {
     "name": "stdout",
     "output_type": "stream",
     "text": [
      "\u001b[1m23/23\u001b[0m \u001b[32m━━━━━━━━━━━━━━━━━━━━\u001b[0m\u001b[37m\u001b[0m \u001b[1m0s\u001b[0m 5ms/step - loss: 0.2145 - mae: 0.3005\n",
      "Validation Loss: 0.22247213125228882, Validation MAE: 0.3181782066822052\n",
      "Running LSTM experiment with seq_units=24, dense_units=16, activation=relu, optimizer=adam, dropout=0.05.\n"
     ]
    },
    {
     "data": {
      "text/html": [
       "<pre style=\"white-space:pre;overflow-x:auto;line-height:normal;font-family:Menlo,'DejaVu Sans Mono',consolas,'Courier New',monospace\"></pre>\n"
      ],
      "text/plain": []
     },
     "metadata": {},
     "output_type": "display_data"
    },
    {
     "name": "stdout",
     "output_type": "stream",
     "text": [
      "\u001b[1m23/23\u001b[0m \u001b[32m━━━━━━━━━━━━━━━━━━━━\u001b[0m\u001b[37m\u001b[0m \u001b[1m0s\u001b[0m 3ms/step - loss: 0.1916 - mae: 0.2881 \n",
      "Validation Loss: 0.19590067863464355, Validation MAE: 0.2972615659236908\n",
      "Running LSTM experiment with seq_units=24, dense_units=16, activation=relu, optimizer=adam, dropout=0.1.\n"
     ]
    },
    {
     "data": {
      "text/html": [
       "<pre style=\"white-space:pre;overflow-x:auto;line-height:normal;font-family:Menlo,'DejaVu Sans Mono',consolas,'Courier New',monospace\"></pre>\n"
      ],
      "text/plain": []
     },
     "metadata": {},
     "output_type": "display_data"
    },
    {
     "name": "stdout",
     "output_type": "stream",
     "text": [
      "\u001b[1m23/23\u001b[0m \u001b[32m━━━━━━━━━━━━━━━━━━━━\u001b[0m\u001b[37m\u001b[0m \u001b[1m0s\u001b[0m 3ms/step - loss: 0.1908 - mae: 0.2917 \n",
      "Validation Loss: 0.20020711421966553, Validation MAE: 0.3029346764087677\n",
      "Running LSTM experiment with seq_units=48, dense_units=8, activation=mish, optimizer=adam, dropout=0.05.\n"
     ]
    },
    {
     "data": {
      "text/html": [
       "<pre style=\"white-space:pre;overflow-x:auto;line-height:normal;font-family:Menlo,'DejaVu Sans Mono',consolas,'Courier New',monospace\"></pre>\n"
      ],
      "text/plain": []
     },
     "metadata": {},
     "output_type": "display_data"
    },
    {
     "name": "stdout",
     "output_type": "stream",
     "text": [
      "\u001b[1m23/23\u001b[0m \u001b[32m━━━━━━━━━━━━━━━━━━━━\u001b[0m\u001b[37m\u001b[0m \u001b[1m0s\u001b[0m 5ms/step - loss: 0.2258 - mae: 0.3037\n",
      "Validation Loss: 0.22529104351997375, Validation MAE: 0.3166015148162842\n",
      "Running LSTM experiment with seq_units=48, dense_units=8, activation=mish, optimizer=adam, dropout=0.1.\n"
     ]
    },
    {
     "data": {
      "text/html": [
       "<pre style=\"white-space:pre;overflow-x:auto;line-height:normal;font-family:Menlo,'DejaVu Sans Mono',consolas,'Courier New',monospace\"></pre>\n"
      ],
      "text/plain": []
     },
     "metadata": {},
     "output_type": "display_data"
    },
    {
     "name": "stdout",
     "output_type": "stream",
     "text": [
      "\u001b[1m23/23\u001b[0m \u001b[32m━━━━━━━━━━━━━━━━━━━━\u001b[0m\u001b[37m\u001b[0m \u001b[1m0s\u001b[0m 8ms/step - loss: 0.2170 - mae: 0.3004\n",
      "Validation Loss: 0.2188350409269333, Validation MAE: 0.31500303745269775\n",
      "Running LSTM experiment with seq_units=48, dense_units=8, activation=relu, optimizer=adam, dropout=0.05.\n"
     ]
    },
    {
     "data": {
      "text/html": [
       "<pre style=\"white-space:pre;overflow-x:auto;line-height:normal;font-family:Menlo,'DejaVu Sans Mono',consolas,'Courier New',monospace\"></pre>\n"
      ],
      "text/plain": []
     },
     "metadata": {},
     "output_type": "display_data"
    },
    {
     "name": "stdout",
     "output_type": "stream",
     "text": [
      "\u001b[1m23/23\u001b[0m \u001b[32m━━━━━━━━━━━━━━━━━━━━\u001b[0m\u001b[37m\u001b[0m \u001b[1m0s\u001b[0m 4ms/step - loss: 0.2084 - mae: 0.3044\n",
      "Validation Loss: 0.21404311060905457, Validation MAE: 0.314375102519989\n",
      "Running LSTM experiment with seq_units=48, dense_units=8, activation=relu, optimizer=adam, dropout=0.1.\n"
     ]
    },
    {
     "data": {
      "text/html": [
       "<pre style=\"white-space:pre;overflow-x:auto;line-height:normal;font-family:Menlo,'DejaVu Sans Mono',consolas,'Courier New',monospace\"></pre>\n"
      ],
      "text/plain": []
     },
     "metadata": {},
     "output_type": "display_data"
    },
    {
     "name": "stdout",
     "output_type": "stream",
     "text": [
      "\u001b[1m23/23\u001b[0m \u001b[32m━━━━━━━━━━━━━━━━━━━━\u001b[0m\u001b[37m\u001b[0m \u001b[1m0s\u001b[0m 3ms/step - loss: 0.2067 - mae: 0.2999 \n",
      "Validation Loss: 0.2138649821281433, Validation MAE: 0.31322309374809265\n",
      "Running LSTM experiment with seq_units=48, dense_units=16, activation=mish, optimizer=adam, dropout=0.05.\n"
     ]
    },
    {
     "data": {
      "text/html": [
       "<pre style=\"white-space:pre;overflow-x:auto;line-height:normal;font-family:Menlo,'DejaVu Sans Mono',consolas,'Courier New',monospace\"></pre>\n"
      ],
      "text/plain": []
     },
     "metadata": {},
     "output_type": "display_data"
    },
    {
     "name": "stdout",
     "output_type": "stream",
     "text": [
      "\u001b[1m23/23\u001b[0m \u001b[32m━━━━━━━━━━━━━━━━━━━━\u001b[0m\u001b[37m\u001b[0m \u001b[1m0s\u001b[0m 6ms/step - loss: 0.2156 - mae: 0.3015\n",
      "Validation Loss: 0.22213691473007202, Validation MAE: 0.31607767939567566\n",
      "Running LSTM experiment with seq_units=48, dense_units=16, activation=mish, optimizer=adam, dropout=0.1.\n"
     ]
    },
    {
     "data": {
      "text/html": [
       "<pre style=\"white-space:pre;overflow-x:auto;line-height:normal;font-family:Menlo,'DejaVu Sans Mono',consolas,'Courier New',monospace\"></pre>\n"
      ],
      "text/plain": []
     },
     "metadata": {},
     "output_type": "display_data"
    },
    {
     "name": "stdout",
     "output_type": "stream",
     "text": [
      "\u001b[1m23/23\u001b[0m \u001b[32m━━━━━━━━━━━━━━━━━━━━\u001b[0m\u001b[37m\u001b[0m \u001b[1m0s\u001b[0m 5ms/step - loss: 0.2245 - mae: 0.3057\n",
      "Validation Loss: 0.22252683341503143, Validation MAE: 0.317410945892334\n",
      "Running LSTM experiment with seq_units=48, dense_units=16, activation=relu, optimizer=adam, dropout=0.05.\n"
     ]
    },
    {
     "data": {
      "text/html": [
       "<pre style=\"white-space:pre;overflow-x:auto;line-height:normal;font-family:Menlo,'DejaVu Sans Mono',consolas,'Courier New',monospace\"></pre>\n"
      ],
      "text/plain": []
     },
     "metadata": {},
     "output_type": "display_data"
    },
    {
     "name": "stdout",
     "output_type": "stream",
     "text": [
      "\u001b[1m23/23\u001b[0m \u001b[32m━━━━━━━━━━━━━━━━━━━━\u001b[0m\u001b[37m\u001b[0m \u001b[1m0s\u001b[0m 3ms/step - loss: 0.1971 - mae: 0.2960 \n",
      "Validation Loss: 0.20082077383995056, Validation MAE: 0.3053681254386902\n",
      "Running LSTM experiment with seq_units=48, dense_units=16, activation=relu, optimizer=adam, dropout=0.1.\n"
     ]
    },
    {
     "data": {
      "text/html": [
       "<pre style=\"white-space:pre;overflow-x:auto;line-height:normal;font-family:Menlo,'DejaVu Sans Mono',consolas,'Courier New',monospace\"></pre>\n"
      ],
      "text/plain": []
     },
     "metadata": {},
     "output_type": "display_data"
    },
    {
     "name": "stdout",
     "output_type": "stream",
     "text": [
      "\u001b[1m23/23\u001b[0m \u001b[32m━━━━━━━━━━━━━━━━━━━━\u001b[0m\u001b[37m\u001b[0m \u001b[1m0s\u001b[0m 3ms/step - loss: 0.1932 - mae: 0.2946 \n",
      "Validation Loss: 0.20011746883392334, Validation MAE: 0.3052523732185364\n",
      "Running LSTM experiment with seq_units=64, dense_units=8, activation=mish, optimizer=adam, dropout=0.05.\n"
     ]
    },
    {
     "data": {
      "text/html": [
       "<pre style=\"white-space:pre;overflow-x:auto;line-height:normal;font-family:Menlo,'DejaVu Sans Mono',consolas,'Courier New',monospace\"></pre>\n"
      ],
      "text/plain": []
     },
     "metadata": {},
     "output_type": "display_data"
    },
    {
     "name": "stdout",
     "output_type": "stream",
     "text": [
      "\u001b[1m23/23\u001b[0m \u001b[32m━━━━━━━━━━━━━━━━━━━━\u001b[0m\u001b[37m\u001b[0m \u001b[1m0s\u001b[0m 6ms/step - loss: 0.2255 - mae: 0.3052\n",
      "Validation Loss: 0.23013488948345184, Validation MAE: 0.3227282166481018\n",
      "Running LSTM experiment with seq_units=64, dense_units=8, activation=mish, optimizer=adam, dropout=0.1.\n"
     ]
    },
    {
     "data": {
      "text/html": [
       "<pre style=\"white-space:pre;overflow-x:auto;line-height:normal;font-family:Menlo,'DejaVu Sans Mono',consolas,'Courier New',monospace\"></pre>\n"
      ],
      "text/plain": []
     },
     "metadata": {},
     "output_type": "display_data"
    },
    {
     "name": "stdout",
     "output_type": "stream",
     "text": [
      "\u001b[1m23/23\u001b[0m \u001b[32m━━━━━━━━━━━━━━━━━━━━\u001b[0m\u001b[37m\u001b[0m \u001b[1m0s\u001b[0m 7ms/step - loss: 0.2290 - mae: 0.3057\n",
      "Validation Loss: 0.22752559185028076, Validation MAE: 0.3192918598651886\n",
      "Running LSTM experiment with seq_units=64, dense_units=8, activation=relu, optimizer=adam, dropout=0.05.\n"
     ]
    },
    {
     "data": {
      "text/html": [
       "<pre style=\"white-space:pre;overflow-x:auto;line-height:normal;font-family:Menlo,'DejaVu Sans Mono',consolas,'Courier New',monospace\"></pre>\n"
      ],
      "text/plain": []
     },
     "metadata": {},
     "output_type": "display_data"
    },
    {
     "name": "stdout",
     "output_type": "stream",
     "text": [
      "\u001b[1m23/23\u001b[0m \u001b[32m━━━━━━━━━━━━━━━━━━━━\u001b[0m\u001b[37m\u001b[0m \u001b[1m0s\u001b[0m 4ms/step - loss: 0.1997 - mae: 0.2982\n",
      "Validation Loss: 0.20562000572681427, Validation MAE: 0.3077816069126129\n",
      "Running LSTM experiment with seq_units=64, dense_units=8, activation=relu, optimizer=adam, dropout=0.1.\n"
     ]
    },
    {
     "data": {
      "text/html": [
       "<pre style=\"white-space:pre;overflow-x:auto;line-height:normal;font-family:Menlo,'DejaVu Sans Mono',consolas,'Courier New',monospace\"></pre>\n"
      ],
      "text/plain": []
     },
     "metadata": {},
     "output_type": "display_data"
    },
    {
     "name": "stdout",
     "output_type": "stream",
     "text": [
      "\u001b[1m23/23\u001b[0m \u001b[32m━━━━━━━━━━━━━━━━━━━━\u001b[0m\u001b[37m\u001b[0m \u001b[1m0s\u001b[0m 3ms/step - loss: 0.1970 - mae: 0.2946 \n",
      "Validation Loss: 0.20220424234867096, Validation MAE: 0.3035937249660492\n",
      "Running LSTM experiment with seq_units=64, dense_units=16, activation=mish, optimizer=adam, dropout=0.05.\n"
     ]
    },
    {
     "data": {
      "text/html": [
       "<pre style=\"white-space:pre;overflow-x:auto;line-height:normal;font-family:Menlo,'DejaVu Sans Mono',consolas,'Courier New',monospace\"></pre>\n"
      ],
      "text/plain": []
     },
     "metadata": {},
     "output_type": "display_data"
    },
    {
     "name": "stdout",
     "output_type": "stream",
     "text": [
      "\u001b[1m23/23\u001b[0m \u001b[32m━━━━━━━━━━━━━━━━━━━━\u001b[0m\u001b[37m\u001b[0m \u001b[1m0s\u001b[0m 13ms/step - loss: 0.2156 - mae: 0.3013\n",
      "Validation Loss: 0.21863359212875366, Validation MAE: 0.316324919462204\n",
      "Running LSTM experiment with seq_units=64, dense_units=16, activation=mish, optimizer=adam, dropout=0.1.\n"
     ]
    },
    {
     "data": {
      "text/html": [
       "<pre style=\"white-space:pre;overflow-x:auto;line-height:normal;font-family:Menlo,'DejaVu Sans Mono',consolas,'Courier New',monospace\"></pre>\n"
      ],
      "text/plain": []
     },
     "metadata": {},
     "output_type": "display_data"
    },
    {
     "name": "stdout",
     "output_type": "stream",
     "text": [
      "\u001b[1m23/23\u001b[0m \u001b[32m━━━━━━━━━━━━━━━━━━━━\u001b[0m\u001b[37m\u001b[0m \u001b[1m1s\u001b[0m 30ms/step - loss: 0.2158 - mae: 0.3018\n",
      "Validation Loss: 0.2197655588388443, Validation MAE: 0.3160715699195862\n",
      "Running LSTM experiment with seq_units=64, dense_units=16, activation=relu, optimizer=adam, dropout=0.05.\n"
     ]
    },
    {
     "data": {
      "text/html": [
       "<pre style=\"white-space:pre;overflow-x:auto;line-height:normal;font-family:Menlo,'DejaVu Sans Mono',consolas,'Courier New',monospace\"></pre>\n"
      ],
      "text/plain": []
     },
     "metadata": {},
     "output_type": "display_data"
    },
    {
     "name": "stdout",
     "output_type": "stream",
     "text": [
      "\u001b[1m23/23\u001b[0m \u001b[32m━━━━━━━━━━━━━━━━━━━━\u001b[0m\u001b[37m\u001b[0m \u001b[1m0s\u001b[0m 7ms/step - loss: 0.1987 - mae: 0.2950\n",
      "Validation Loss: 0.20948614180088043, Validation MAE: 0.3071482181549072\n",
      "Running LSTM experiment with seq_units=64, dense_units=16, activation=relu, optimizer=adam, dropout=0.1.\n"
     ]
    },
    {
     "data": {
      "text/html": [
       "<pre style=\"white-space:pre;overflow-x:auto;line-height:normal;font-family:Menlo,'DejaVu Sans Mono',consolas,'Courier New',monospace\"></pre>\n"
      ],
      "text/plain": []
     },
     "metadata": {},
     "output_type": "display_data"
    },
    {
     "name": "stdout",
     "output_type": "stream",
     "text": [
      "\u001b[1m23/23\u001b[0m \u001b[32m━━━━━━━━━━━━━━━━━━━━\u001b[0m\u001b[37m\u001b[0m \u001b[1m0s\u001b[0m 7ms/step - loss: 0.1959 - mae: 0.2990\n",
      "Validation Loss: 0.2097269594669342, Validation MAE: 0.3126802444458008\n",
      "Running SimpleRNN experiment with seq_units=24, dense_units=8, activation=mish, optimizer=adam, dropout=0.05.\n"
     ]
    },
    {
     "data": {
      "text/html": [
       "<pre style=\"white-space:pre;overflow-x:auto;line-height:normal;font-family:Menlo,'DejaVu Sans Mono',consolas,'Courier New',monospace\"></pre>\n"
      ],
      "text/plain": []
     },
     "metadata": {},
     "output_type": "display_data"
    },
    {
     "name": "stdout",
     "output_type": "stream",
     "text": [
      "\u001b[1m23/23\u001b[0m \u001b[32m━━━━━━━━━━━━━━━━━━━━\u001b[0m\u001b[37m\u001b[0m \u001b[1m0s\u001b[0m 10ms/step - loss: 0.2126 - mae: 0.3048\n",
      "Validation Loss: 0.21971969306468964, Validation MAE: 0.31553566455841064\n",
      "Running SimpleRNN experiment with seq_units=24, dense_units=8, activation=mish, optimizer=adam, dropout=0.1.\n"
     ]
    },
    {
     "data": {
      "text/html": [
       "<pre style=\"white-space:pre;overflow-x:auto;line-height:normal;font-family:Menlo,'DejaVu Sans Mono',consolas,'Courier New',monospace\"></pre>\n"
      ],
      "text/plain": []
     },
     "metadata": {},
     "output_type": "display_data"
    },
    {
     "name": "stdout",
     "output_type": "stream",
     "text": [
      "\u001b[1m23/23\u001b[0m \u001b[32m━━━━━━━━━━━━━━━━━━━━\u001b[0m\u001b[37m\u001b[0m \u001b[1m1s\u001b[0m 18ms/step - loss: 0.2035 - mae: 0.3039\n",
      "Validation Loss: 0.2087470442056656, Validation MAE: 0.3136047124862671\n",
      "Running SimpleRNN experiment with seq_units=24, dense_units=8, activation=relu, optimizer=adam, dropout=0.05.\n"
     ]
    },
    {
     "data": {
      "text/html": [
       "<pre style=\"white-space:pre;overflow-x:auto;line-height:normal;font-family:Menlo,'DejaVu Sans Mono',consolas,'Courier New',monospace\"></pre>\n"
      ],
      "text/plain": []
     },
     "metadata": {},
     "output_type": "display_data"
    },
    {
     "name": "stdout",
     "output_type": "stream",
     "text": [
      "\u001b[1m23/23\u001b[0m \u001b[32m━━━━━━━━━━━━━━━━━━━━\u001b[0m\u001b[37m\u001b[0m \u001b[1m0s\u001b[0m 5ms/step - loss: 0.2025 - mae: 0.3052\n",
      "Validation Loss: 0.20911221206188202, Validation MAE: 0.31392303109169006\n",
      "Running SimpleRNN experiment with seq_units=24, dense_units=8, activation=relu, optimizer=adam, dropout=0.1.\n"
     ]
    },
    {
     "data": {
      "text/html": [
       "<pre style=\"white-space:pre;overflow-x:auto;line-height:normal;font-family:Menlo,'DejaVu Sans Mono',consolas,'Courier New',monospace\"></pre>\n"
      ],
      "text/plain": []
     },
     "metadata": {},
     "output_type": "display_data"
    },
    {
     "name": "stdout",
     "output_type": "stream",
     "text": [
      "\u001b[1m23/23\u001b[0m \u001b[32m━━━━━━━━━━━━━━━━━━━━\u001b[0m\u001b[37m\u001b[0m \u001b[1m0s\u001b[0m 7ms/step - loss: 0.1914 - mae: 0.3051\n",
      "Validation Loss: 0.21145328879356384, Validation MAE: 0.32060718536376953\n",
      "Running SimpleRNN experiment with seq_units=24, dense_units=16, activation=mish, optimizer=adam, dropout=0.05.\n"
     ]
    },
    {
     "data": {
      "text/html": [
       "<pre style=\"white-space:pre;overflow-x:auto;line-height:normal;font-family:Menlo,'DejaVu Sans Mono',consolas,'Courier New',monospace\"></pre>\n"
      ],
      "text/plain": []
     },
     "metadata": {},
     "output_type": "display_data"
    },
    {
     "name": "stdout",
     "output_type": "stream",
     "text": [
      "\u001b[1m23/23\u001b[0m \u001b[32m━━━━━━━━━━━━━━━━━━━━\u001b[0m\u001b[37m\u001b[0m \u001b[1m0s\u001b[0m 11ms/step - loss: 0.2138 - mae: 0.3006\n",
      "Validation Loss: 0.20652343332767487, Validation MAE: 0.30315712094306946\n",
      "Running SimpleRNN experiment with seq_units=24, dense_units=16, activation=mish, optimizer=adam, dropout=0.1.\n"
     ]
    },
    {
     "data": {
      "text/html": [
       "<pre style=\"white-space:pre;overflow-x:auto;line-height:normal;font-family:Menlo,'DejaVu Sans Mono',consolas,'Courier New',monospace\"></pre>\n"
      ],
      "text/plain": []
     },
     "metadata": {},
     "output_type": "display_data"
    },
    {
     "name": "stdout",
     "output_type": "stream",
     "text": [
      "\u001b[1m23/23\u001b[0m \u001b[32m━━━━━━━━━━━━━━━━━━━━\u001b[0m\u001b[37m\u001b[0m \u001b[1m0s\u001b[0m 13ms/step - loss: 0.2099 - mae: 0.2980\n",
      "Validation Loss: 0.2119307667016983, Validation MAE: 0.3065154552459717\n",
      "Running SimpleRNN experiment with seq_units=24, dense_units=16, activation=relu, optimizer=adam, dropout=0.05.\n"
     ]
    },
    {
     "data": {
      "text/html": [
       "<pre style=\"white-space:pre;overflow-x:auto;line-height:normal;font-family:Menlo,'DejaVu Sans Mono',consolas,'Courier New',monospace\"></pre>\n"
      ],
      "text/plain": []
     },
     "metadata": {},
     "output_type": "display_data"
    },
    {
     "name": "stdout",
     "output_type": "stream",
     "text": [
      "\u001b[1m23/23\u001b[0m \u001b[32m━━━━━━━━━━━━━━━━━━━━\u001b[0m\u001b[37m\u001b[0m \u001b[1m1s\u001b[0m 22ms/step - loss: 0.2057 - mae: 0.2948\n",
      "Validation Loss: 0.20287376642227173, Validation MAE: 0.303485631942749\n",
      "Running SimpleRNN experiment with seq_units=24, dense_units=16, activation=relu, optimizer=adam, dropout=0.1.\n"
     ]
    },
    {
     "data": {
      "text/html": [
       "<pre style=\"white-space:pre;overflow-x:auto;line-height:normal;font-family:Menlo,'DejaVu Sans Mono',consolas,'Courier New',monospace\"></pre>\n"
      ],
      "text/plain": []
     },
     "metadata": {},
     "output_type": "display_data"
    },
    {
     "name": "stdout",
     "output_type": "stream",
     "text": [
      "\u001b[1m23/23\u001b[0m \u001b[32m━━━━━━━━━━━━━━━━━━━━\u001b[0m\u001b[37m\u001b[0m \u001b[1m0s\u001b[0m 9ms/step - loss: 0.2037 - mae: 0.3016\n",
      "Validation Loss: 0.2082449495792389, Validation MAE: 0.31409063935279846\n",
      "Running SimpleRNN experiment with seq_units=48, dense_units=8, activation=mish, optimizer=adam, dropout=0.05.\n"
     ]
    },
    {
     "data": {
      "text/html": [
       "<pre style=\"white-space:pre;overflow-x:auto;line-height:normal;font-family:Menlo,'DejaVu Sans Mono',consolas,'Courier New',monospace\"></pre>\n"
      ],
      "text/plain": []
     },
     "metadata": {},
     "output_type": "display_data"
    },
    {
     "name": "stdout",
     "output_type": "stream",
     "text": [
      "\u001b[1m23/23\u001b[0m \u001b[32m━━━━━━━━━━━━━━━━━━━━\u001b[0m\u001b[37m\u001b[0m \u001b[1m0s\u001b[0m 2ms/step - loss: 0.2090 - mae: 0.3030 \n",
      "Validation Loss: 0.21185380220413208, Validation MAE: 0.3128182291984558\n",
      "Running SimpleRNN experiment with seq_units=48, dense_units=8, activation=mish, optimizer=adam, dropout=0.1.\n"
     ]
    },
    {
     "data": {
      "text/html": [
       "<pre style=\"white-space:pre;overflow-x:auto;line-height:normal;font-family:Menlo,'DejaVu Sans Mono',consolas,'Courier New',monospace\"></pre>\n"
      ],
      "text/plain": []
     },
     "metadata": {},
     "output_type": "display_data"
    },
    {
     "name": "stdout",
     "output_type": "stream",
     "text": [
      "\u001b[1m23/23\u001b[0m \u001b[32m━━━━━━━━━━━━━━━━━━━━\u001b[0m\u001b[37m\u001b[0m \u001b[1m0s\u001b[0m 8ms/step - loss: 0.2037 - mae: 0.3016\n",
      "Validation Loss: 0.2081356793642044, Validation MAE: 0.3092997968196869\n",
      "Running SimpleRNN experiment with seq_units=48, dense_units=8, activation=relu, optimizer=adam, dropout=0.05.\n"
     ]
    },
    {
     "data": {
      "text/html": [
       "<pre style=\"white-space:pre;overflow-x:auto;line-height:normal;font-family:Menlo,'DejaVu Sans Mono',consolas,'Courier New',monospace\"></pre>\n"
      ],
      "text/plain": []
     },
     "metadata": {},
     "output_type": "display_data"
    },
    {
     "name": "stdout",
     "output_type": "stream",
     "text": [
      "\u001b[1m23/23\u001b[0m \u001b[32m━━━━━━━━━━━━━━━━━━━━\u001b[0m\u001b[37m\u001b[0m \u001b[1m0s\u001b[0m 8ms/step - loss: 0.1908 - mae: 0.3030\n",
      "Validation Loss: 0.20922432839870453, Validation MAE: 0.3158845007419586\n",
      "Running SimpleRNN experiment with seq_units=48, dense_units=8, activation=relu, optimizer=adam, dropout=0.1.\n"
     ]
    },
    {
     "data": {
      "text/html": [
       "<pre style=\"white-space:pre;overflow-x:auto;line-height:normal;font-family:Menlo,'DejaVu Sans Mono',consolas,'Courier New',monospace\"></pre>\n"
      ],
      "text/plain": []
     },
     "metadata": {},
     "output_type": "display_data"
    },
    {
     "name": "stdout",
     "output_type": "stream",
     "text": [
      "\u001b[1m23/23\u001b[0m \u001b[32m━━━━━━━━━━━━━━━━━━━━\u001b[0m\u001b[37m\u001b[0m \u001b[1m0s\u001b[0m 7ms/step - loss: 0.1974 - mae: 0.2993\n",
      "Validation Loss: 0.2113645076751709, Validation MAE: 0.3137454092502594\n",
      "Running SimpleRNN experiment with seq_units=48, dense_units=16, activation=mish, optimizer=adam, dropout=0.05.\n"
     ]
    },
    {
     "data": {
      "text/html": [
       "<pre style=\"white-space:pre;overflow-x:auto;line-height:normal;font-family:Menlo,'DejaVu Sans Mono',consolas,'Courier New',monospace\"></pre>\n"
      ],
      "text/plain": []
     },
     "metadata": {},
     "output_type": "display_data"
    },
    {
     "name": "stdout",
     "output_type": "stream",
     "text": [
      "\u001b[1m23/23\u001b[0m \u001b[32m━━━━━━━━━━━━━━━━━━━━\u001b[0m\u001b[37m\u001b[0m \u001b[1m0s\u001b[0m 3ms/step - loss: 0.2107 - mae: 0.3055\n",
      "Validation Loss: 0.2117535024881363, Validation MAE: 0.31242579221725464\n",
      "Running SimpleRNN experiment with seq_units=48, dense_units=16, activation=mish, optimizer=adam, dropout=0.1.\n"
     ]
    },
    {
     "data": {
      "text/html": [
       "<pre style=\"white-space:pre;overflow-x:auto;line-height:normal;font-family:Menlo,'DejaVu Sans Mono',consolas,'Courier New',monospace\"></pre>\n"
      ],
      "text/plain": []
     },
     "metadata": {},
     "output_type": "display_data"
    },
    {
     "name": "stdout",
     "output_type": "stream",
     "text": [
      "\u001b[1m23/23\u001b[0m \u001b[32m━━━━━━━━━━━━━━━━━━━━\u001b[0m\u001b[37m\u001b[0m \u001b[1m0s\u001b[0m 17ms/step - loss: 0.2088 - mae: 0.3042\n",
      "Validation Loss: 0.209017813205719, Validation MAE: 0.30934837460517883\n",
      "Running SimpleRNN experiment with seq_units=48, dense_units=16, activation=relu, optimizer=adam, dropout=0.05.\n"
     ]
    },
    {
     "data": {
      "text/html": [
       "<pre style=\"white-space:pre;overflow-x:auto;line-height:normal;font-family:Menlo,'DejaVu Sans Mono',consolas,'Courier New',monospace\"></pre>\n"
      ],
      "text/plain": []
     },
     "metadata": {},
     "output_type": "display_data"
    },
    {
     "name": "stdout",
     "output_type": "stream",
     "text": [
      "\u001b[1m23/23\u001b[0m \u001b[32m━━━━━━━━━━━━━━━━━━━━\u001b[0m\u001b[37m\u001b[0m \u001b[1m0s\u001b[0m 10ms/step - loss: 0.1853 - mae: 0.3018\n",
      "Validation Loss: 0.19790120422840118, Validation MAE: 0.310915470123291\n",
      "Running SimpleRNN experiment with seq_units=48, dense_units=16, activation=relu, optimizer=adam, dropout=0.1.\n"
     ]
    },
    {
     "data": {
      "text/html": [
       "<pre style=\"white-space:pre;overflow-x:auto;line-height:normal;font-family:Menlo,'DejaVu Sans Mono',consolas,'Courier New',monospace\"></pre>\n"
      ],
      "text/plain": []
     },
     "metadata": {},
     "output_type": "display_data"
    },
    {
     "name": "stdout",
     "output_type": "stream",
     "text": [
      "\u001b[1m23/23\u001b[0m \u001b[32m━━━━━━━━━━━━━━━━━━━━\u001b[0m\u001b[37m\u001b[0m \u001b[1m0s\u001b[0m 10ms/step - loss: 0.2028 - mae: 0.3069\n",
      "Validation Loss: 0.2084212452173233, Validation MAE: 0.3130412995815277\n",
      "Running SimpleRNN experiment with seq_units=64, dense_units=8, activation=mish, optimizer=adam, dropout=0.05.\n"
     ]
    },
    {
     "data": {
      "text/html": [
       "<pre style=\"white-space:pre;overflow-x:auto;line-height:normal;font-family:Menlo,'DejaVu Sans Mono',consolas,'Courier New',monospace\"></pre>\n"
      ],
      "text/plain": []
     },
     "metadata": {},
     "output_type": "display_data"
    },
    {
     "name": "stdout",
     "output_type": "stream",
     "text": [
      "\u001b[1m23/23\u001b[0m \u001b[32m━━━━━━━━━━━━━━━━━━━━\u001b[0m\u001b[37m\u001b[0m \u001b[1m0s\u001b[0m 10ms/step - loss: 0.2160 - mae: 0.3105\n",
      "Validation Loss: 0.21919508278369904, Validation MAE: 0.31843993067741394\n",
      "Running SimpleRNN experiment with seq_units=64, dense_units=8, activation=mish, optimizer=adam, dropout=0.1.\n"
     ]
    },
    {
     "data": {
      "text/html": [
       "<pre style=\"white-space:pre;overflow-x:auto;line-height:normal;font-family:Menlo,'DejaVu Sans Mono',consolas,'Courier New',monospace\"></pre>\n"
      ],
      "text/plain": []
     },
     "metadata": {},
     "output_type": "display_data"
    },
    {
     "name": "stdout",
     "output_type": "stream",
     "text": [
      "\u001b[1m23/23\u001b[0m \u001b[32m━━━━━━━━━━━━━━━━━━━━\u001b[0m\u001b[37m\u001b[0m \u001b[1m0s\u001b[0m 9ms/step - loss: 0.2115 - mae: 0.3052\n",
      "Validation Loss: 0.21849194169044495, Validation MAE: 0.3151405453681946\n",
      "Running SimpleRNN experiment with seq_units=64, dense_units=8, activation=relu, optimizer=adam, dropout=0.05.\n"
     ]
    },
    {
     "data": {
      "text/html": [
       "<pre style=\"white-space:pre;overflow-x:auto;line-height:normal;font-family:Menlo,'DejaVu Sans Mono',consolas,'Courier New',monospace\"></pre>\n"
      ],
      "text/plain": []
     },
     "metadata": {},
     "output_type": "display_data"
    },
    {
     "name": "stdout",
     "output_type": "stream",
     "text": [
      "\u001b[1m23/23\u001b[0m \u001b[32m━━━━━━━━━━━━━━━━━━━━\u001b[0m\u001b[37m\u001b[0m \u001b[1m0s\u001b[0m 9ms/step - loss: 0.2124 - mae: 0.3161\n",
      "Validation Loss: 0.20889556407928467, Validation MAE: 0.322159081697464\n",
      "Running SimpleRNN experiment with seq_units=64, dense_units=8, activation=relu, optimizer=adam, dropout=0.1.\n"
     ]
    },
    {
     "data": {
      "text/html": [
       "<pre style=\"white-space:pre;overflow-x:auto;line-height:normal;font-family:Menlo,'DejaVu Sans Mono',consolas,'Courier New',monospace\"></pre>\n"
      ],
      "text/plain": []
     },
     "metadata": {},
     "output_type": "display_data"
    },
    {
     "name": "stdout",
     "output_type": "stream",
     "text": [
      "\u001b[1m23/23\u001b[0m \u001b[32m━━━━━━━━━━━━━━━━━━━━\u001b[0m\u001b[37m\u001b[0m \u001b[1m0s\u001b[0m 11ms/step - loss: 0.2141 - mae: 0.3095\n",
      "Validation Loss: 0.21606743335723877, Validation MAE: 0.3160313069820404\n",
      "Running SimpleRNN experiment with seq_units=64, dense_units=16, activation=mish, optimizer=adam, dropout=0.05.\n"
     ]
    },
    {
     "data": {
      "text/html": [
       "<pre style=\"white-space:pre;overflow-x:auto;line-height:normal;font-family:Menlo,'DejaVu Sans Mono',consolas,'Courier New',monospace\"></pre>\n"
      ],
      "text/plain": []
     },
     "metadata": {},
     "output_type": "display_data"
    },
    {
     "name": "stdout",
     "output_type": "stream",
     "text": [
      "\u001b[1m23/23\u001b[0m \u001b[32m━━━━━━━━━━━━━━━━━━━━\u001b[0m\u001b[37m\u001b[0m \u001b[1m0s\u001b[0m 3ms/step - loss: 0.2142 - mae: 0.3107\n",
      "Validation Loss: 0.22606000304222107, Validation MAE: 0.32230761647224426\n",
      "Running SimpleRNN experiment with seq_units=64, dense_units=16, activation=mish, optimizer=adam, dropout=0.1.\n"
     ]
    },
    {
     "data": {
      "text/html": [
       "<pre style=\"white-space:pre;overflow-x:auto;line-height:normal;font-family:Menlo,'DejaVu Sans Mono',consolas,'Courier New',monospace\"></pre>\n"
      ],
      "text/plain": []
     },
     "metadata": {},
     "output_type": "display_data"
    },
    {
     "name": "stdout",
     "output_type": "stream",
     "text": [
      "\u001b[1m23/23\u001b[0m \u001b[32m━━━━━━━━━━━━━━━━━━━━\u001b[0m\u001b[37m\u001b[0m \u001b[1m0s\u001b[0m 3ms/step - loss: 0.2112 - mae: 0.3049 \n",
      "Validation Loss: 0.2145773470401764, Validation MAE: 0.31232741475105286\n",
      "Running SimpleRNN experiment with seq_units=64, dense_units=16, activation=relu, optimizer=adam, dropout=0.05.\n"
     ]
    },
    {
     "data": {
      "text/html": [
       "<pre style=\"white-space:pre;overflow-x:auto;line-height:normal;font-family:Menlo,'DejaVu Sans Mono',consolas,'Courier New',monospace\"></pre>\n"
      ],
      "text/plain": []
     },
     "metadata": {},
     "output_type": "display_data"
    },
    {
     "name": "stdout",
     "output_type": "stream",
     "text": [
      "\u001b[1m23/23\u001b[0m \u001b[32m━━━━━━━━━━━━━━━━━━━━\u001b[0m\u001b[37m\u001b[0m \u001b[1m0s\u001b[0m 2ms/step - loss: 0.2072 - mae: 0.3110 \n",
      "Validation Loss: 0.2129283994436264, Validation MAE: 0.31701919436454773\n",
      "Running SimpleRNN experiment with seq_units=64, dense_units=16, activation=relu, optimizer=adam, dropout=0.1.\n"
     ]
    },
    {
     "data": {
      "text/html": [
       "<pre style=\"white-space:pre;overflow-x:auto;line-height:normal;font-family:Menlo,'DejaVu Sans Mono',consolas,'Courier New',monospace\"></pre>\n"
      ],
      "text/plain": []
     },
     "metadata": {},
     "output_type": "display_data"
    },
    {
     "name": "stdout",
     "output_type": "stream",
     "text": [
      "\u001b[1m23/23\u001b[0m \u001b[32m━━━━━━━━━━━━━━━━━━━━\u001b[0m\u001b[37m\u001b[0m \u001b[1m0s\u001b[0m 2ms/step - loss: 0.2017 - mae: 0.2977 \n",
      "Validation Loss: 0.20358306169509888, Validation MAE: 0.30908647179603577\n"
     ]
    }
   ],
   "source": [
    "for seq_type in model_type:\n",
    "    for seq_unit in seq_units:\n",
    "        for dense_unit in dense_units:\n",
    "            for activation in activation_list:\n",
    "                for optimizer in optimizer_list:\n",
    "                    for dropout in dropout_list:\n",
    "                        print(f\"Running {seq_type} experiment with seq_units={seq_unit}, dense_units={dense_unit}, activation={activation}, optimizer={optimizer}, dropout={dropout}.\")\n",
    "                        ml_utils.run_experiment(\n",
    "                            X_seq_train=X_seq_train, X_features_train=X_features_train, y_train=y_train,\n",
    "                            X_seq_val=X_seq_val, X_features_val=X_features_val, y_val=y_val,\n",
    "                            seq_type=seq_type, seq_units=seq_unit, dense_units=dense_unit, activation=activation, dropout=dropout,\n",
    "                            optimizer=optimizer, experiment_id=experiment_id\n",
    "                        )"
   ]
  },
  {
   "cell_type": "code",
   "execution_count": 25,
   "id": "2215655c",
   "metadata": {},
   "outputs": [],
   "source": [
    "model = ml_utils.get_best_model(experiment_id, \"metrics.val_mae\")"
   ]
  },
  {
   "cell_type": "code",
   "execution_count": 26,
   "id": "d423bd9f",
   "metadata": {},
   "outputs": [
    {
     "name": "stdout",
     "output_type": "stream",
     "text": [
      "\u001b[1m12/12\u001b[0m \u001b[32m━━━━━━━━━━━━━━━━━━━━\u001b[0m\u001b[37m\u001b[0m \u001b[1m0s\u001b[0m 16ms/step\n"
     ]
    },
    {
     "data": {
      "text/plain": [
       "250.07602281167473"
      ]
     },
     "execution_count": 26,
     "metadata": {},
     "output_type": "execute_result"
    }
   ],
   "source": [
    "y_pred = y_scaler.inverse_transform(model.predict([X_seq_test, X_features_test]))\n",
    "y_test_scaled = y_scaler.inverse_transform(y_test.reshape(-1, 1))\n",
    "mean_absolute_error(y_test_scaled, y_pred)"
   ]
  },
  {
   "cell_type": "code",
   "execution_count": 27,
   "id": "faa28c18",
   "metadata": {},
   "outputs": [
    {
     "data": {
      "image/png": "[encoded data removed]",
      "text/plain": [
       "<Figure size 1400x600 with 1 Axes>"
      ]
     },
     "metadata": {},
     "output_type": "display_data"
    },
    {
     "data": {
      "text/html": [
       "<div><style>\n",
       ".dataframe > thead > tr,\n",
       ".dataframe > tbody > tr {\n",
       "  text-align: right;\n",
       "  white-space: pre-wrap;\n",
       "}\n",
       "</style>\n",
       "<small>shape: (355, 5)</small><table border=\"1\" class=\"dataframe\"><thead><tr><th>y_true</th><th>y_pred</th><th>diff</th><th>date</th><th>abs_diff</th></tr><tr><td>f64</td><td>f32</td><td>f64</td><td>date</td><td>f64</td></tr></thead><tbody><tr><td>3188.0</td><td>1584.0</td><td>1604.0</td><td>2025-02-11</td><td>1604.0</td></tr><tr><td>1136.0</td><td>2489.0</td><td>-1353.0</td><td>2025-03-30</td><td>1353.0</td></tr><tr><td>1674.0</td><td>3026.0</td><td>-1352.0</td><td>2025-03-02</td><td>1352.0</td></tr><tr><td>3481.0</td><td>2137.0</td><td>1344.0</td><td>2025-03-09</td><td>1344.0</td></tr><tr><td>2962.0</td><td>1670.0</td><td>1292.0</td><td>2024-11-16</td><td>1292.0</td></tr><tr><td>&hellip;</td><td>&hellip;</td><td>&hellip;</td><td>&hellip;</td><td>&hellip;</td></tr><tr><td>1010.0</td><td>1015.0</td><td>-5.0</td><td>2025-02-07</td><td>5.0</td></tr><tr><td>1276.0</td><td>1272.0</td><td>4.0</td><td>2024-10-15</td><td>4.0</td></tr><tr><td>996.0</td><td>998.0</td><td>-2.0</td><td>2025-03-21</td><td>2.0</td></tr><tr><td>932.0</td><td>933.0</td><td>-1.0</td><td>2024-12-23</td><td>1.0</td></tr><tr><td>938.0</td><td>938.0</td><td>0.0</td><td>2024-09-27</td><td>0.0</td></tr></tbody></table></div>"
      ],
      "text/plain": [
       "shape: (355, 5)\n",
       "┌────────┬────────┬─────────┬────────────┬──────────┐\n",
       "│ y_true ┆ y_pred ┆ diff    ┆ date       ┆ abs_diff │\n",
       "│ ---    ┆ ---    ┆ ---     ┆ ---        ┆ ---      │\n",
       "│ f64    ┆ f32    ┆ f64     ┆ date       ┆ f64      │\n",
       "╞════════╪════════╪═════════╪════════════╪══════════╡\n",
       "│ 3188.0 ┆ 1584.0 ┆ 1604.0  ┆ 2025-02-11 ┆ 1604.0   │\n",
       "│ 1136.0 ┆ 2489.0 ┆ -1353.0 ┆ 2025-03-30 ┆ 1353.0   │\n",
       "│ 1674.0 ┆ 3026.0 ┆ -1352.0 ┆ 2025-03-02 ┆ 1352.0   │\n",
       "│ 3481.0 ┆ 2137.0 ┆ 1344.0  ┆ 2025-03-09 ┆ 1344.0   │\n",
       "│ 2962.0 ┆ 1670.0 ┆ 1292.0  ┆ 2024-11-16 ┆ 1292.0   │\n",
       "│ …      ┆ …      ┆ …       ┆ …          ┆ …        │\n",
       "│ 1010.0 ┆ 1015.0 ┆ -5.0    ┆ 2025-02-07 ┆ 5.0      │\n",
       "│ 1276.0 ┆ 1272.0 ┆ 4.0     ┆ 2024-10-15 ┆ 4.0      │\n",
       "│ 996.0  ┆ 998.0  ┆ -2.0    ┆ 2025-03-21 ┆ 2.0      │\n",
       "│ 932.0  ┆ 933.0  ┆ -1.0    ┆ 2024-12-23 ┆ 1.0      │\n",
       "│ 938.0  ┆ 938.0  ┆ 0.0     ┆ 2024-09-27 ┆ 0.0      │\n",
       "└────────┴────────┴─────────┴────────────┴──────────┘"
      ]
     },
     "execution_count": 27,
     "metadata": {},
     "output_type": "execute_result"
    }
   ],
   "source": [
    "pred_df = pl.DataFrame({'y_true': y_test_scaled.flatten(), 'y_pred': np.round(y_pred).flatten()})\n",
    "\n",
    "pred_df = pred_df.with_columns(\n",
    "    (pl.col('y_true') - pl.col('y_pred')).alias('diff')\n",
    ").with_columns(\n",
    "    pl.Series(\"date\", df_all[-pred_df.height:][\"date\"])\n",
    ")\n",
    "\n",
    "pred_df = pred_df.with_columns(\n",
    "    (abs(pl.col('diff')).alias('abs_diff'))\n",
    ")\n",
    "\n",
    "import matplotlib.pyplot as plt\n",
    "\n",
    "plt.figure(figsize=(14, 6))\n",
    "plt.plot(pred_df[\"date\"], pred_df[\"y_true\"], label=\"Actual\")\n",
    "plt.plot(pred_df[\"date\"], pred_df[\"y_pred\"], label=\"Predicted\")\n",
    "plt.title(\"Actual vs Predicted Donations\")\n",
    "plt.xlabel(\"Date\")\n",
    "plt.ylabel(\"Donations\")\n",
    "plt.legend()\n",
    "plt.grid(True)\n",
    "plt.xticks(rotation=45)\n",
    "plt.tight_layout()\n",
    "plt.show()\n",
    "\n",
    "pred_df.sort(by='abs_diff', descending=True)"
   ]
  },
  {
   "cell_type": "code",
   "execution_count": null,
   "id": "21a2eb97",
   "metadata": {},
   "outputs": [],
   "source": []
  }
 ],
 "metadata": {
  "kernelspec": {
   "display_name": ".venv",
   "language": "python",
   "name": "python3"
  },
  "language_info": {
   "codemirror_mode": {
    "name": "ipython",
    "version": 3
   },
   "file_extension": ".py",
   "mimetype": "text/x-python",
   "name": "python",
   "nbconvert_exporter": "python",
   "pygments_lexer": "ipython3",
   "version": "3.12.3"
  }
 },
 "nbformat": 4,
 "nbformat_minor": 5
}
