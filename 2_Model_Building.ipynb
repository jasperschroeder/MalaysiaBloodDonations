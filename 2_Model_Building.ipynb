{
 "cells": [
  {
   "cell_type": "code",
   "execution_count": 1,
   "id": "da3bf54f",
   "metadata": {},
   "outputs": [],
   "source": [
    "import datetime\n",
    "import pickle\n",
    "import polars as pl\n",
    "import ml_utils\n",
    "import mlflow\n",
    "import absl.logging\n",
    "absl.logging.set_verbosity(absl.logging.ERROR)\n",
    "import warnings\n",
    "warnings.filterwarnings(\"ignore\")\n",
    "from sklearn.metrics import mean_absolute_error\n",
    "import constants\n",
    "import numpy as np\n",
    "import optuna\n",
    "from optuna.integration.mlflow import MLflowCallback"
   ]
  },
  {
   "cell_type": "code",
   "execution_count": 2,
   "id": "847fc53a",
   "metadata": {},
   "outputs": [],
   "source": [
    "with open(\"df_all.pkl\", \"rb\") as file:\n",
    "    df_all = pickle.load(file)"
   ]
  },
  {
   "cell_type": "code",
   "execution_count": 3,
   "id": "0cb3a57e",
   "metadata": {},
   "outputs": [
    {
     "data": {
      "text/html": [
       "<div><style>\n",
       ".dataframe > thead > tr,\n",
       ".dataframe > tbody > tr {\n",
       "  text-align: right;\n",
       "  white-space: pre-wrap;\n",
       "}\n",
       "</style>\n",
       "<small>shape: (8, 13)</small><table border=\"1\" class=\"dataframe\"><thead><tr><th>date</th><th>a</th><th>b</th><th>o</th><th>ab</th><th>all</th><th>is_religion_or_culture_holiday</th><th>is_other_holiday</th><th>is_low_donation_holiday</th><th>is_high_donation_holiday</th><th>weekday</th><th>month</th><th>day_of_year</th></tr><tr><td>date</td><td>i64</td><td>i64</td><td>i64</td><td>i64</td><td>i64</td><td>u8</td><td>u8</td><td>u8</td><td>u8</td><td>i8</td><td>i8</td><td>i16</td></tr></thead><tbody><tr><td>2006-01-01</td><td>152</td><td>139</td><td>194</td><td>40</td><td>525</td><td>0</td><td>0</td><td>0</td><td>0</td><td>7</td><td>1</td><td>1</td></tr><tr><td>2006-01-02</td><td>53</td><td>43</td><td>112</td><td>19</td><td>227</td><td>0</td><td>0</td><td>0</td><td>0</td><td>1</td><td>1</td><td>2</td></tr><tr><td>2006-01-03</td><td>29</td><td>21</td><td>56</td><td>6</td><td>112</td><td>0</td><td>0</td><td>0</td><td>0</td><td>2</td><td>1</td><td>3</td></tr><tr><td>2006-01-04</td><td>92</td><td>98</td><td>165</td><td>36</td><td>391</td><td>0</td><td>0</td><td>0</td><td>0</td><td>3</td><td>1</td><td>4</td></tr><tr><td>2006-01-05</td><td>149</td><td>198</td><td>193</td><td>42</td><td>582</td><td>0</td><td>0</td><td>0</td><td>0</td><td>4</td><td>1</td><td>5</td></tr><tr><td>2006-01-06</td><td>94</td><td>77</td><td>126</td><td>27</td><td>324</td><td>0</td><td>0</td><td>0</td><td>0</td><td>5</td><td>1</td><td>6</td></tr><tr><td>2006-01-07</td><td>29</td><td>28</td><td>48</td><td>13</td><td>118</td><td>0</td><td>0</td><td>0</td><td>0</td><td>6</td><td>1</td><td>7</td></tr><tr><td>2006-01-08</td><td>218</td><td>212</td><td>314</td><td>51</td><td>795</td><td>0</td><td>0</td><td>0</td><td>0</td><td>7</td><td>1</td><td>8</td></tr></tbody></table></div>"
      ],
      "text/plain": [
       "shape: (8, 13)\n",
       "┌────────────┬─────┬─────┬─────┬───┬──────────────────────────┬─────────┬───────┬─────────────┐\n",
       "│ date       ┆ a   ┆ b   ┆ o   ┆ … ┆ is_high_donation_holiday ┆ weekday ┆ month ┆ day_of_year │\n",
       "│ ---        ┆ --- ┆ --- ┆ --- ┆   ┆ ---                      ┆ ---     ┆ ---   ┆ ---         │\n",
       "│ date       ┆ i64 ┆ i64 ┆ i64 ┆   ┆ u8                       ┆ i8      ┆ i8    ┆ i16         │\n",
       "╞════════════╪═════╪═════╪═════╪═══╪══════════════════════════╪═════════╪═══════╪═════════════╡\n",
       "│ 2006-01-01 ┆ 152 ┆ 139 ┆ 194 ┆ … ┆ 0                        ┆ 7       ┆ 1     ┆ 1           │\n",
       "│ 2006-01-02 ┆ 53  ┆ 43  ┆ 112 ┆ … ┆ 0                        ┆ 1       ┆ 1     ┆ 2           │\n",
       "│ 2006-01-03 ┆ 29  ┆ 21  ┆ 56  ┆ … ┆ 0                        ┆ 2       ┆ 1     ┆ 3           │\n",
       "│ 2006-01-04 ┆ 92  ┆ 98  ┆ 165 ┆ … ┆ 0                        ┆ 3       ┆ 1     ┆ 4           │\n",
       "│ 2006-01-05 ┆ 149 ┆ 198 ┆ 193 ┆ … ┆ 0                        ┆ 4       ┆ 1     ┆ 5           │\n",
       "│ 2006-01-06 ┆ 94  ┆ 77  ┆ 126 ┆ … ┆ 0                        ┆ 5       ┆ 1     ┆ 6           │\n",
       "│ 2006-01-07 ┆ 29  ┆ 28  ┆ 48  ┆ … ┆ 0                        ┆ 6       ┆ 1     ┆ 7           │\n",
       "│ 2006-01-08 ┆ 218 ┆ 212 ┆ 314 ┆ … ┆ 0                        ┆ 7       ┆ 1     ┆ 8           │\n",
       "└────────────┴─────┴─────┴─────┴───┴──────────────────────────┴─────────┴───────┴─────────────┘"
      ]
     },
     "execution_count": 3,
     "metadata": {},
     "output_type": "execute_result"
    }
   ],
   "source": [
    "df_all = df_all.with_columns([\n",
    "    pl.col(\"date\").dt.weekday().alias(\"weekday\"),\n",
    "    pl.col(\"date\").dt.month().alias(\"month\"),\n",
    "    pl.col(\"date\").dt.ordinal_day().alias(\"day_of_year\")   \n",
    "])\n",
    "\n",
    "df_all.head(8)"
   ]
  },
  {
   "cell_type": "code",
   "execution_count": 4,
   "id": "67f99784",
   "metadata": {},
   "outputs": [],
   "source": [
    "for lag in range(1, constants.WINDOW_SIZE+1):\n",
    "    df_all = df_all.with_columns(\n",
    "        pl.col(\"all\").shift(lag).alias(f\"all_lag_{lag}\")\n",
    "    )\n",
    "\n",
    "df_all = df_all.drop_nulls()"
   ]
  },
  {
   "cell_type": "code",
   "execution_count": 5,
   "id": "079ff73b",
   "metadata": {},
   "outputs": [
    {
     "data": {
      "text/html": [
       "<div><style>\n",
       ".dataframe > thead > tr,\n",
       ".dataframe > tbody > tr {\n",
       "  text-align: right;\n",
       "  white-space: pre-wrap;\n",
       "}\n",
       "</style>\n",
       "<small>shape: (7_089, 20)</small><table border=\"1\" class=\"dataframe\"><thead><tr><th>date</th><th>a</th><th>b</th><th>o</th><th>ab</th><th>all</th><th>is_religion_or_culture_holiday</th><th>is_other_holiday</th><th>is_low_donation_holiday</th><th>is_high_donation_holiday</th><th>weekday</th><th>month</th><th>day_of_year</th><th>all_lag_1</th><th>all_lag_2</th><th>all_lag_3</th><th>all_lag_4</th><th>all_lag_5</th><th>all_lag_6</th><th>all_lag_7</th></tr><tr><td>date</td><td>i64</td><td>i64</td><td>i64</td><td>i64</td><td>i64</td><td>u8</td><td>u8</td><td>u8</td><td>u8</td><td>i8</td><td>i8</td><td>i16</td><td>i64</td><td>i64</td><td>i64</td><td>i64</td><td>i64</td><td>i64</td><td>i64</td></tr></thead><tbody><tr><td>2006-01-08</td><td>218</td><td>212</td><td>314</td><td>51</td><td>795</td><td>0</td><td>0</td><td>0</td><td>0</td><td>7</td><td>1</td><td>8</td><td>118</td><td>324</td><td>582</td><td>391</td><td>112</td><td>227</td><td>525</td></tr><tr><td>2006-01-09</td><td>83</td><td>95</td><td>151</td><td>17</td><td>346</td><td>0</td><td>0</td><td>0</td><td>0</td><td>1</td><td>1</td><td>9</td><td>795</td><td>118</td><td>324</td><td>582</td><td>391</td><td>112</td><td>227</td></tr><tr><td>2006-01-10</td><td>1</td><td>0</td><td>1</td><td>0</td><td>2</td><td>0</td><td>0</td><td>1</td><td>0</td><td>2</td><td>1</td><td>10</td><td>346</td><td>795</td><td>118</td><td>324</td><td>582</td><td>391</td><td>112</td></tr><tr><td>2006-01-11</td><td>128</td><td>111</td><td>179</td><td>30</td><td>448</td><td>0</td><td>0</td><td>0</td><td>0</td><td>3</td><td>1</td><td>11</td><td>2</td><td>346</td><td>795</td><td>118</td><td>324</td><td>582</td><td>391</td></tr><tr><td>2006-01-12</td><td>211</td><td>236</td><td>316</td><td>42</td><td>805</td><td>0</td><td>0</td><td>0</td><td>0</td><td>4</td><td>1</td><td>12</td><td>448</td><td>2</td><td>346</td><td>795</td><td>118</td><td>324</td><td>582</td></tr><tr><td>&hellip;</td><td>&hellip;</td><td>&hellip;</td><td>&hellip;</td><td>&hellip;</td><td>&hellip;</td><td>&hellip;</td><td>&hellip;</td><td>&hellip;</td><td>&hellip;</td><td>&hellip;</td><td>&hellip;</td><td>&hellip;</td><td>&hellip;</td><td>&hellip;</td><td>&hellip;</td><td>&hellip;</td><td>&hellip;</td><td>&hellip;</td><td>&hellip;</td></tr><tr><td>2025-06-01</td><td>556</td><td>589</td><td>1056</td><td>65</td><td>2266</td><td>0</td><td>0</td><td>0</td><td>0</td><td>7</td><td>6</td><td>152</td><td>1600</td><td>946</td><td>1379</td><td>1439</td><td>1181</td><td>1024</td><td>3215</td></tr><tr><td>2025-06-02</td><td>442</td><td>509</td><td>781</td><td>60</td><td>1792</td><td>0</td><td>1</td><td>0</td><td>0</td><td>1</td><td>6</td><td>153</td><td>2266</td><td>1600</td><td>946</td><td>1379</td><td>1439</td><td>1181</td><td>1024</td></tr><tr><td>2025-06-03</td><td>282</td><td>293</td><td>460</td><td>49</td><td>1084</td><td>0</td><td>0</td><td>0</td><td>0</td><td>2</td><td>6</td><td>154</td><td>1792</td><td>2266</td><td>1600</td><td>946</td><td>1379</td><td>1439</td><td>1181</td></tr><tr><td>2025-06-04</td><td>305</td><td>323</td><td>514</td><td>54</td><td>1196</td><td>0</td><td>0</td><td>0</td><td>0</td><td>3</td><td>6</td><td>155</td><td>1084</td><td>1792</td><td>2266</td><td>1600</td><td>946</td><td>1379</td><td>1439</td></tr><tr><td>2025-06-05</td><td>271</td><td>354</td><td>526</td><td>59</td><td>1210</td><td>0</td><td>0</td><td>0</td><td>0</td><td>4</td><td>6</td><td>156</td><td>1196</td><td>1084</td><td>1792</td><td>2266</td><td>1600</td><td>946</td><td>1379</td></tr></tbody></table></div>"
      ],
      "text/plain": [
       "shape: (7_089, 20)\n",
       "┌────────────┬─────┬─────┬──────┬───┬───────────┬───────────┬───────────┬───────────┐\n",
       "│ date       ┆ a   ┆ b   ┆ o    ┆ … ┆ all_lag_4 ┆ all_lag_5 ┆ all_lag_6 ┆ all_lag_7 │\n",
       "│ ---        ┆ --- ┆ --- ┆ ---  ┆   ┆ ---       ┆ ---       ┆ ---       ┆ ---       │\n",
       "│ date       ┆ i64 ┆ i64 ┆ i64  ┆   ┆ i64       ┆ i64       ┆ i64       ┆ i64       │\n",
       "╞════════════╪═════╪═════╪══════╪═══╪═══════════╪═══════════╪═══════════╪═══════════╡\n",
       "│ 2006-01-08 ┆ 218 ┆ 212 ┆ 314  ┆ … ┆ 391       ┆ 112       ┆ 227       ┆ 525       │\n",
       "│ 2006-01-09 ┆ 83  ┆ 95  ┆ 151  ┆ … ┆ 582       ┆ 391       ┆ 112       ┆ 227       │\n",
       "│ 2006-01-10 ┆ 1   ┆ 0   ┆ 1    ┆ … ┆ 324       ┆ 582       ┆ 391       ┆ 112       │\n",
       "│ 2006-01-11 ┆ 128 ┆ 111 ┆ 179  ┆ … ┆ 118       ┆ 324       ┆ 582       ┆ 391       │\n",
       "│ 2006-01-12 ┆ 211 ┆ 236 ┆ 316  ┆ … ┆ 795       ┆ 118       ┆ 324       ┆ 582       │\n",
       "│ …          ┆ …   ┆ …   ┆ …    ┆ … ┆ …         ┆ …         ┆ …         ┆ …         │\n",
       "│ 2025-06-01 ┆ 556 ┆ 589 ┆ 1056 ┆ … ┆ 1439      ┆ 1181      ┆ 1024      ┆ 3215      │\n",
       "│ 2025-06-02 ┆ 442 ┆ 509 ┆ 781  ┆ … ┆ 1379      ┆ 1439      ┆ 1181      ┆ 1024      │\n",
       "│ 2025-06-03 ┆ 282 ┆ 293 ┆ 460  ┆ … ┆ 946       ┆ 1379      ┆ 1439      ┆ 1181      │\n",
       "│ 2025-06-04 ┆ 305 ┆ 323 ┆ 514  ┆ … ┆ 1600      ┆ 946       ┆ 1379      ┆ 1439      │\n",
       "│ 2025-06-05 ┆ 271 ┆ 354 ┆ 526  ┆ … ┆ 2266      ┆ 1600      ┆ 946       ┆ 1379      │\n",
       "└────────────┴─────┴─────┴──────┴───┴───────────┴───────────┴───────────┴───────────┘"
      ]
     },
     "execution_count": 5,
     "metadata": {},
     "output_type": "execute_result"
    }
   ],
   "source": [
    "df_all"
   ]
  },
  {
   "cell_type": "code",
   "execution_count": 6,
   "id": "c7b424b4",
   "metadata": {},
   "outputs": [],
   "source": [
    "X_seq = df_all.select([f\"all_lag_{lag}\" for lag in range(1, constants.WINDOW_SIZE+1)]).to_numpy().reshape(-1, constants.WINDOW_SIZE, 1)\n",
    "X_features = df_all.select([\"weekday\", \"month\", \"day_of_year\", \"is_religion_or_culture_holiday\", \"is_other_holiday\", \"is_low_donation_holiday\", \"is_high_donation_holiday\"]).to_numpy()\n",
    "y = df_all['all'].to_numpy()"
   ]
  },
  {
   "cell_type": "code",
   "execution_count": 7,
   "id": "bdf608c5",
   "metadata": {},
   "outputs": [],
   "source": [
    "# Set up scalers \n",
    "from sklearn.preprocessing import RobustScaler\n",
    "\n",
    "y_scaler = RobustScaler()\n",
    "X_scaler = RobustScaler()"
   ]
  },
  {
   "cell_type": "code",
   "execution_count": 8,
   "id": "3d28e24e",
   "metadata": {},
   "outputs": [],
   "source": [
    "y_scaled = y_scaler.fit_transform(y.reshape(-1, 1)).flatten()\n",
    "X_features_scaled = X_scaler.fit_transform(X_features)\n",
    "X_seq_scaled = y_scaler.transform(X_seq.reshape(-1, 1)).reshape(-1, constants.WINDOW_SIZE, 1)"
   ]
  },
  {
   "cell_type": "code",
   "execution_count": 9,
   "id": "4e0f37c3",
   "metadata": {},
   "outputs": [],
   "source": [
    "with open('shared/x_scaler.pkl', 'wb') as file:\n",
    "    pickle.dump(X_scaler, file)\n",
    "    \n",
    "with open('shared/y_scaler.pkl', 'wb') as file:\n",
    "    pickle.dump(y_scaler, file)"
   ]
  },
  {
   "cell_type": "code",
   "execution_count": 10,
   "id": "1f05c8d2",
   "metadata": {},
   "outputs": [],
   "source": [
    "X_seq_train, X_seq_val, X_seq_test, X_features_train, X_features_val, X_features_test, y_train, y_val, y_test = ml_utils.train_val_split_lstm_feature_data(\n",
    "    X_seq_scaled,\n",
    "    X_features_scaled,\n",
    "    y_scaled,\n",
    "    constants.TRAIN_FRAC,\n",
    "    constants.VAL_FRAC\n",
    ")"
   ]
  },
  {
   "cell_type": "code",
   "execution_count": null,
   "id": "e29a6d42",
   "metadata": {},
   "outputs": [],
   "source": [
    "experiment_name = f\"{constants.EXPERIMENT_NAME}_{datetime.datetime.now().strftime('%Y%m%d')}\"\n",
    "experiment_id = ml_utils.get_or_create_mlflow_experiment(experiment_name)\n",
    "mlflow.set_experiment(experiment_name)\n",
    "mlflow_callback = MLflowCallback(\n",
    "    tracking_uri = mlflow.get_tracking_uri(),\n",
    "    metric_name = \"val_loss\"\n",
    ")"
   ]
  },
  {
   "cell_type": "code",
   "execution_count": 12,
   "id": "85055fe8",
   "metadata": {},
   "outputs": [
    {
     "name": "stderr",
     "output_type": "stream",
     "text": [
      "[I 2025-06-07 22:08:33,170] A new study created in memory with name: no-name-54b55d52-6eb9-41ab-b1d7-87a6b7749ae2\n"
     ]
    },
    {
     "data": {
      "text/html": [
       "<pre style=\"white-space:pre;overflow-x:auto;line-height:normal;font-family:Menlo,'DejaVu Sans Mono',consolas,'Courier New',monospace\"></pre>\n"
      ],
      "text/plain": []
     },
     "metadata": {},
     "output_type": "display_data"
    },
    {
     "name": "stdout",
     "output_type": "stream",
     "text": [
      "\u001b[1m23/23\u001b[0m \u001b[32m━━━━━━━━━━━━━━━━━━━━\u001b[0m\u001b[37m\u001b[0m \u001b[1m0s\u001b[0m 2ms/step - loss: 0.1927 - mae: 0.3014 \n"
     ]
    },
    {
     "name": "stderr",
     "output_type": "stream",
     "text": [
      "[I 2025-06-07 22:09:24,765] Trial 0 finished with value: 0.20379522442817688 and parameters: {'seq_type': 'SimpleRNN', 'seq_units': 18, 'dense_units': 9, 'activation': 'relu', 'optimizer': 'rmsprop', 'dropout': 0.04959898795719846, 'learning_rate': 0.0008886258497792887, 'batch_size': 32}. Best is trial 0 with value: 0.20379522442817688.\n",
      "2025/06/07 22:09:24 INFO mlflow.tracking.fluent: Experiment with name 'no-name-54b55d52-6eb9-41ab-b1d7-87a6b7749ae2' does not exist. Creating a new experiment.\n"
     ]
    },
    {
     "name": "stdout",
     "output_type": "stream",
     "text": [
      "Validation Loss: 0.20379522442817688, Validation MAE: 0.31474316120147705\n"
     ]
    },
    {
     "data": {
      "text/html": [
       "<pre style=\"white-space:pre;overflow-x:auto;line-height:normal;font-family:Menlo,'DejaVu Sans Mono',consolas,'Courier New',monospace\"></pre>\n"
      ],
      "text/plain": []
     },
     "metadata": {},
     "output_type": "display_data"
    },
    {
     "name": "stdout",
     "output_type": "stream",
     "text": [
      "\u001b[1m23/23\u001b[0m \u001b[32m━━━━━━━━━━━━━━━━━━━━\u001b[0m\u001b[37m\u001b[0m \u001b[1m0s\u001b[0m 1ms/step - loss: 0.2320 - mae: 0.3353 \n"
     ]
    },
    {
     "name": "stderr",
     "output_type": "stream",
     "text": [
      "[I 2025-06-07 22:09:43,304] Trial 1 finished with value: 0.25953733921051025 and parameters: {'seq_type': 'SimpleRNN', 'seq_units': 43, 'dense_units': 4, 'activation': 'tanh', 'optimizer': 'rmsprop', 'dropout': 0.053885902889609635, 'learning_rate': 0.06088444018097705, 'batch_size': 64}. Best is trial 0 with value: 0.20379522442817688.\n"
     ]
    },
    {
     "name": "stdout",
     "output_type": "stream",
     "text": [
      "Validation Loss: 0.25953730940818787, Validation MAE: 0.35696834325790405\n"
     ]
    },
    {
     "data": {
      "text/html": [
       "<pre style=\"white-space:pre;overflow-x:auto;line-height:normal;font-family:Menlo,'DejaVu Sans Mono',consolas,'Courier New',monospace\"></pre>\n"
      ],
      "text/plain": []
     },
     "metadata": {},
     "output_type": "display_data"
    },
    {
     "name": "stdout",
     "output_type": "stream",
     "text": [
      "\u001b[1m23/23\u001b[0m \u001b[32m━━━━━━━━━━━━━━━━━━━━\u001b[0m\u001b[37m\u001b[0m \u001b[1m0s\u001b[0m 2ms/step - loss: 0.1935 - mae: 0.3024 \n"
     ]
    },
    {
     "name": "stderr",
     "output_type": "stream",
     "text": [
      "[I 2025-06-07 22:10:18,324] Trial 2 finished with value: 0.20677542686462402 and parameters: {'seq_type': 'GRU', 'seq_units': 48, 'dense_units': 10, 'activation': 'tanh', 'optimizer': 'adam', 'dropout': 0.07378638763505532, 'learning_rate': 0.0012722642461827749, 'batch_size': 64}. Best is trial 0 with value: 0.20379522442817688.\n"
     ]
    },
    {
     "name": "stdout",
     "output_type": "stream",
     "text": [
      "Validation Loss: 0.20677542686462402, Validation MAE: 0.3126206398010254\n"
     ]
    },
    {
     "data": {
      "text/html": [
       "<pre style=\"white-space:pre;overflow-x:auto;line-height:normal;font-family:Menlo,'DejaVu Sans Mono',consolas,'Courier New',monospace\"></pre>\n"
      ],
      "text/plain": []
     },
     "metadata": {},
     "output_type": "display_data"
    },
    {
     "name": "stdout",
     "output_type": "stream",
     "text": [
      "\u001b[1m23/23\u001b[0m \u001b[32m━━━━━━━━━━━━━━━━━━━━\u001b[0m\u001b[37m\u001b[0m \u001b[1m0s\u001b[0m 3ms/step - loss: 0.1900 - mae: 0.2968 \n",
      "Validation Loss: 0.20400069653987885, Validation MAE: 0.31370237469673157\n"
     ]
    },
    {
     "name": "stderr",
     "output_type": "stream",
     "text": [
      "[I 2025-06-07 22:10:43,223] Trial 3 finished with value: 0.20400069653987885 and parameters: {'seq_type': 'GRU', 'seq_units': 13, 'dense_units': 9, 'activation': 'mish', 'optimizer': 'adam', 'dropout': 0.08139677442192828, 'learning_rate': 0.0029663365365118375, 'batch_size': 32}. Best is trial 0 with value: 0.20379522442817688.\n"
     ]
    },
    {
     "data": {
      "text/html": [
       "<pre style=\"white-space:pre;overflow-x:auto;line-height:normal;font-family:Menlo,'DejaVu Sans Mono',consolas,'Courier New',monospace\"></pre>\n"
      ],
      "text/plain": []
     },
     "metadata": {},
     "output_type": "display_data"
    },
    {
     "name": "stdout",
     "output_type": "stream",
     "text": [
      "\u001b[1m23/23\u001b[0m \u001b[32m━━━━━━━━━━━━━━━━━━━━\u001b[0m\u001b[37m\u001b[0m \u001b[1m0s\u001b[0m 2ms/step - loss: 0.1847 - mae: 0.3062 \n"
     ]
    },
    {
     "name": "stderr",
     "output_type": "stream",
     "text": [
      "[I 2025-06-07 22:11:26,517] Trial 4 finished with value: 0.192522794008255 and parameters: {'seq_type': 'SimpleRNN', 'seq_units': 25, 'dense_units': 5, 'activation': 'mish', 'optimizer': 'rmsprop', 'dropout': 0.060462180267664506, 'learning_rate': 0.018292833040344837, 'batch_size': 32}. Best is trial 4 with value: 0.192522794008255.\n"
     ]
    },
    {
     "name": "stdout",
     "output_type": "stream",
     "text": [
      "Validation Loss: 0.192522794008255, Validation MAE: 0.3149639070034027\n"
     ]
    },
    {
     "data": {
      "text/html": [
       "<pre style=\"white-space:pre;overflow-x:auto;line-height:normal;font-family:Menlo,'DejaVu Sans Mono',consolas,'Courier New',monospace\"></pre>\n"
      ],
      "text/plain": []
     },
     "metadata": {},
     "output_type": "display_data"
    },
    {
     "name": "stdout",
     "output_type": "stream",
     "text": [
      "\u001b[1m23/23\u001b[0m \u001b[32m━━━━━━━━━━━━━━━━━━━━\u001b[0m\u001b[37m\u001b[0m \u001b[1m0s\u001b[0m 1ms/step - loss: 0.2016 - mae: 0.3056 \n"
     ]
    },
    {
     "name": "stderr",
     "output_type": "stream",
     "text": [
      "[I 2025-06-07 22:14:51,194] Trial 5 finished with value: 0.21492642164230347 and parameters: {'seq_type': 'LSTM', 'seq_units': 39, 'dense_units': 11, 'activation': 'relu', 'optimizer': 'adam', 'dropout': 0.03123838921895912, 'learning_rate': 0.00010813403644974771, 'batch_size': 32}. Best is trial 4 with value: 0.192522794008255.\n"
     ]
    },
    {
     "name": "stdout",
     "output_type": "stream",
     "text": [
      "Validation Loss: 0.21492642164230347, Validation MAE: 0.3204945921897888\n"
     ]
    },
    {
     "data": {
      "text/html": [
       "<pre style=\"white-space:pre;overflow-x:auto;line-height:normal;font-family:Menlo,'DejaVu Sans Mono',consolas,'Courier New',monospace\"></pre>\n"
      ],
      "text/plain": []
     },
     "metadata": {},
     "output_type": "display_data"
    },
    {
     "name": "stdout",
     "output_type": "stream",
     "text": [
      "\u001b[1m23/23\u001b[0m \u001b[32m━━━━━━━━━━━━━━━━━━━━\u001b[0m\u001b[37m\u001b[0m \u001b[1m0s\u001b[0m 1ms/step - loss: 0.2064 - mae: 0.3057 \n"
     ]
    },
    {
     "name": "stderr",
     "output_type": "stream",
     "text": [
      "[I 2025-06-07 22:15:15,492] Trial 6 finished with value: 0.2214582860469818 and parameters: {'seq_type': 'GRU', 'seq_units': 31, 'dense_units': 6, 'activation': 'tanh', 'optimizer': 'adam', 'dropout': 0.07255184206728231, 'learning_rate': 0.014220373200181392, 'batch_size': 128}. Best is trial 4 with value: 0.192522794008255.\n"
     ]
    },
    {
     "name": "stdout",
     "output_type": "stream",
     "text": [
      "Validation Loss: 0.2214582860469818, Validation MAE: 0.3229002058506012\n"
     ]
    },
    {
     "data": {
      "text/html": [
       "<pre style=\"white-space:pre;overflow-x:auto;line-height:normal;font-family:Menlo,'DejaVu Sans Mono',consolas,'Courier New',monospace\"></pre>\n"
      ],
      "text/plain": []
     },
     "metadata": {},
     "output_type": "display_data"
    },
    {
     "name": "stdout",
     "output_type": "stream",
     "text": [
      "\u001b[1m23/23\u001b[0m \u001b[32m━━━━━━━━━━━━━━━━━━━━\u001b[0m\u001b[37m\u001b[0m \u001b[1m0s\u001b[0m 2ms/step - loss: 0.1896 - mae: 0.3052 \n"
     ]
    },
    {
     "name": "stderr",
     "output_type": "stream",
     "text": [
      "[I 2025-06-07 22:15:49,229] Trial 7 finished with value: 0.20231197774410248 and parameters: {'seq_type': 'LSTM', 'seq_units': 23, 'dense_units': 10, 'activation': 'tanh', 'optimizer': 'adam', 'dropout': 0.021449173484571114, 'learning_rate': 0.004989398595717874, 'batch_size': 64}. Best is trial 4 with value: 0.192522794008255.\n"
     ]
    },
    {
     "name": "stdout",
     "output_type": "stream",
     "text": [
      "Validation Loss: 0.20231199264526367, Validation MAE: 0.31348562240600586\n"
     ]
    },
    {
     "data": {
      "text/html": [
       "<pre style=\"white-space:pre;overflow-x:auto;line-height:normal;font-family:Menlo,'DejaVu Sans Mono',consolas,'Courier New',monospace\"></pre>\n"
      ],
      "text/plain": []
     },
     "metadata": {},
     "output_type": "display_data"
    },
    {
     "name": "stdout",
     "output_type": "stream",
     "text": [
      "\u001b[1m23/23\u001b[0m \u001b[32m━━━━━━━━━━━━━━━━━━━━\u001b[0m\u001b[37m\u001b[0m \u001b[1m0s\u001b[0m 1ms/step - loss: 0.1952 - mae: 0.3176 \n"
     ]
    },
    {
     "name": "stderr",
     "output_type": "stream",
     "text": [
      "[I 2025-06-07 22:16:03,049] Trial 8 finished with value: 0.2198929488658905 and parameters: {'seq_type': 'SimpleRNN', 'seq_units': 21, 'dense_units': 8, 'activation': 'relu', 'optimizer': 'rmsprop', 'dropout': 0.05140627877674775, 'learning_rate': 0.031850341721737604, 'batch_size': 128}. Best is trial 4 with value: 0.192522794008255.\n"
     ]
    },
    {
     "name": "stdout",
     "output_type": "stream",
     "text": [
      "Validation Loss: 0.2198929637670517, Validation MAE: 0.33510562777519226\n"
     ]
    },
    {
     "data": {
      "text/html": [
       "<pre style=\"white-space:pre;overflow-x:auto;line-height:normal;font-family:Menlo,'DejaVu Sans Mono',consolas,'Courier New',monospace\"></pre>\n"
      ],
      "text/plain": []
     },
     "metadata": {},
     "output_type": "display_data"
    },
    {
     "name": "stdout",
     "output_type": "stream",
     "text": [
      "\u001b[1m23/23\u001b[0m \u001b[32m━━━━━━━━━━━━━━━━━━━━\u001b[0m\u001b[37m\u001b[0m \u001b[1m0s\u001b[0m 3ms/step - loss: 0.2436 - mae: 0.3380 \n",
      "Validation Loss: 0.2584839165210724, Validation MAE: 0.35755082964897156\n"
     ]
    },
    {
     "name": "stderr",
     "output_type": "stream",
     "text": [
      "[I 2025-06-07 22:16:17,520] Trial 9 finished with value: 0.25848397612571716 and parameters: {'seq_type': 'SimpleRNN', 'seq_units': 45, 'dense_units': 12, 'activation': 'relu', 'optimizer': 'adam', 'dropout': 0.0336163461400161, 'learning_rate': 0.023400108111822943, 'batch_size': 128}. Best is trial 4 with value: 0.192522794008255.\n"
     ]
    },
    {
     "data": {
      "text/html": [
       "<pre style=\"white-space:pre;overflow-x:auto;line-height:normal;font-family:Menlo,'DejaVu Sans Mono',consolas,'Courier New',monospace\"></pre>\n"
      ],
      "text/plain": []
     },
     "metadata": {},
     "output_type": "display_data"
    },
    {
     "name": "stdout",
     "output_type": "stream",
     "text": [
      "\u001b[1m23/23\u001b[0m \u001b[32m━━━━━━━━━━━━━━━━━━━━\u001b[0m\u001b[37m\u001b[0m \u001b[1m0s\u001b[0m 2ms/step - loss: 0.7218 - mae: 0.6543 \n",
      "Validation Loss: 0.784411609172821, Validation MAE: 0.6798015236854553\n"
     ]
    },
    {
     "name": "stderr",
     "output_type": "stream",
     "text": [
      "[I 2025-06-07 22:16:38,501] Trial 10 finished with value: 0.784411609172821 and parameters: {'seq_type': 'SimpleRNN', 'seq_units': 32, 'dense_units': 4, 'activation': 'mish', 'optimizer': 'rmsprop', 'dropout': 0.0919278349605579, 'learning_rate': 0.080108470265243, 'batch_size': 32}. Best is trial 4 with value: 0.192522794008255.\n"
     ]
    },
    {
     "data": {
      "text/html": [
       "<pre style=\"white-space:pre;overflow-x:auto;line-height:normal;font-family:Menlo,'DejaVu Sans Mono',consolas,'Courier New',monospace\"></pre>\n"
      ],
      "text/plain": []
     },
     "metadata": {},
     "output_type": "display_data"
    },
    {
     "name": "stdout",
     "output_type": "stream",
     "text": [
      "\u001b[1m23/23\u001b[0m \u001b[32m━━━━━━━━━━━━━━━━━━━━\u001b[0m\u001b[37m\u001b[0m \u001b[1m0s\u001b[0m 3ms/step - loss: 0.1921 - mae: 0.2965\n",
      "Validation Loss: 0.20564278960227966, Validation MAE: 0.31329622864723206\n"
     ]
    },
    {
     "name": "stderr",
     "output_type": "stream",
     "text": [
      "[I 2025-06-07 22:16:59,331] Trial 11 finished with value: 0.20564278960227966 and parameters: {'seq_type': 'LSTM', 'seq_units': 25, 'dense_units': 7, 'activation': 'mish', 'optimizer': 'rmsprop', 'dropout': 0.011898628328732478, 'learning_rate': 0.0082345617369965, 'batch_size': 64}. Best is trial 4 with value: 0.192522794008255.\n"
     ]
    },
    {
     "data": {
      "text/html": [
       "<pre style=\"white-space:pre;overflow-x:auto;line-height:normal;font-family:Menlo,'DejaVu Sans Mono',consolas,'Courier New',monospace\"></pre>\n"
      ],
      "text/plain": []
     },
     "metadata": {},
     "output_type": "display_data"
    },
    {
     "name": "stdout",
     "output_type": "stream",
     "text": [
      "\u001b[1m23/23\u001b[0m \u001b[32m━━━━━━━━━━━━━━━━━━━━\u001b[0m\u001b[37m\u001b[0m \u001b[1m0s\u001b[0m 6ms/step - loss: 0.2015 - mae: 0.3060\n",
      "Validation Loss: 0.21226324141025543, Validation MAE: 0.31767916679382324\n"
     ]
    },
    {
     "name": "stderr",
     "output_type": "stream",
     "text": [
      "[I 2025-06-07 22:17:49,517] Trial 12 finished with value: 0.21226321160793304 and parameters: {'seq_type': 'LSTM', 'seq_units': 26, 'dense_units': 6, 'activation': 'mish', 'optimizer': 'adam', 'dropout': 0.013806078411835388, 'learning_rate': 0.004875195882453402, 'batch_size': 64}. Best is trial 4 with value: 0.192522794008255.\n"
     ]
    },
    {
     "data": {
      "text/html": [
       "<pre style=\"white-space:pre;overflow-x:auto;line-height:normal;font-family:Menlo,'DejaVu Sans Mono',consolas,'Courier New',monospace\"></pre>\n"
      ],
      "text/plain": []
     },
     "metadata": {},
     "output_type": "display_data"
    },
    {
     "name": "stdout",
     "output_type": "stream",
     "text": [
      "\u001b[1m23/23\u001b[0m \u001b[32m━━━━━━━━━━━━━━━━━━━━\u001b[0m\u001b[37m\u001b[0m \u001b[1m0s\u001b[0m 3ms/step - loss: 0.1898 - mae: 0.3000 \n",
      "Validation Loss: 0.20313331484794617, Validation MAE: 0.31157612800598145\n"
     ]
    },
    {
     "name": "stderr",
     "output_type": "stream",
     "text": [
      "[I 2025-06-07 22:19:13,997] Trial 13 finished with value: 0.20313331484794617 and parameters: {'seq_type': 'LSTM', 'seq_units': 36, 'dense_units': 6, 'activation': 'tanh', 'optimizer': 'rmsprop', 'dropout': 0.035291127133405584, 'learning_rate': 0.0019425848646292556, 'batch_size': 32}. Best is trial 4 with value: 0.192522794008255.\n"
     ]
    },
    {
     "data": {
      "text/html": [
       "<pre style=\"white-space:pre;overflow-x:auto;line-height:normal;font-family:Menlo,'DejaVu Sans Mono',consolas,'Courier New',monospace\"></pre>\n"
      ],
      "text/plain": []
     },
     "metadata": {},
     "output_type": "display_data"
    },
    {
     "name": "stdout",
     "output_type": "stream",
     "text": [
      "\u001b[1m23/23\u001b[0m \u001b[32m━━━━━━━━━━━━━━━━━━━━\u001b[0m\u001b[37m\u001b[0m \u001b[1m0s\u001b[0m 7ms/step - loss: 0.1862 - mae: 0.2938\n",
      "Validation Loss: 0.19667915999889374, Validation MAE: 0.3089284598827362\n"
     ]
    },
    {
     "name": "stderr",
     "output_type": "stream",
     "text": [
      "[I 2025-06-07 22:22:29,071] Trial 14 finished with value: 0.19667917490005493 and parameters: {'seq_type': 'LSTM', 'seq_units': 18, 'dense_units': 12, 'activation': 'mish', 'optimizer': 'adam', 'dropout': 0.06450685643236878, 'learning_rate': 0.0003949916620300902, 'batch_size': 64}. Best is trial 4 with value: 0.192522794008255.\n"
     ]
    },
    {
     "data": {
      "text/html": [
       "<pre style=\"white-space:pre;overflow-x:auto;line-height:normal;font-family:Menlo,'DejaVu Sans Mono',consolas,'Courier New',monospace\"></pre>\n"
      ],
      "text/plain": []
     },
     "metadata": {},
     "output_type": "display_data"
    },
    {
     "name": "stdout",
     "output_type": "stream",
     "text": [
      "\u001b[1m23/23\u001b[0m \u001b[32m━━━━━━━━━━━━━━━━━━━━\u001b[0m\u001b[37m\u001b[0m \u001b[1m0s\u001b[0m 5ms/step - loss: 0.2030 - mae: 0.3081\n",
      "Validation Loss: 0.2226693481206894, Validation MAE: 0.32693955302238464\n"
     ]
    },
    {
     "name": "stderr",
     "output_type": "stream",
     "text": [
      "[I 2025-06-07 22:24:11,173] Trial 15 finished with value: 0.2226693481206894 and parameters: {'seq_type': 'SimpleRNN', 'seq_units': 12, 'dense_units': 12, 'activation': 'mish', 'optimizer': 'rmsprop', 'dropout': 0.0684400155811071, 'learning_rate': 0.00029495663979977525, 'batch_size': 64}. Best is trial 4 with value: 0.192522794008255.\n"
     ]
    },
    {
     "data": {
      "text/html": [
       "<pre style=\"white-space:pre;overflow-x:auto;line-height:normal;font-family:Menlo,'DejaVu Sans Mono',consolas,'Courier New',monospace\"></pre>\n"
      ],
      "text/plain": []
     },
     "metadata": {},
     "output_type": "display_data"
    },
    {
     "name": "stdout",
     "output_type": "stream",
     "text": [
      "\u001b[1m23/23\u001b[0m \u001b[32m━━━━━━━━━━━━━━━━━━━━\u001b[0m\u001b[37m\u001b[0m \u001b[1m0s\u001b[0m 5ms/step - loss: 0.2047 - mae: 0.3033\n",
      "Validation Loss: 0.21962839365005493, Validation MAE: 0.32344850897789\n"
     ]
    },
    {
     "name": "stderr",
     "output_type": "stream",
     "text": [
      "[I 2025-06-07 22:26:44,630] Trial 16 finished with value: 0.21962839365005493 and parameters: {'seq_type': 'LSTM', 'seq_units': 17, 'dense_units': 5, 'activation': 'mish', 'optimizer': 'adam', 'dropout': 0.06194916840716711, 'learning_rate': 0.00034115648353626367, 'batch_size': 32}. Best is trial 4 with value: 0.192522794008255.\n"
     ]
    },
    {
     "data": {
      "text/html": [
       "<pre style=\"white-space:pre;overflow-x:auto;line-height:normal;font-family:Menlo,'DejaVu Sans Mono',consolas,'Courier New',monospace\"></pre>\n"
      ],
      "text/plain": []
     },
     "metadata": {},
     "output_type": "display_data"
    },
    {
     "name": "stdout",
     "output_type": "stream",
     "text": [
      "\u001b[1m23/23\u001b[0m \u001b[32m━━━━━━━━━━━━━━━━━━━━\u001b[0m\u001b[37m\u001b[0m \u001b[1m0s\u001b[0m 4ms/step - loss: 0.1883 - mae: 0.2981\n",
      "Validation Loss: 0.20099861919879913, Validation MAE: 0.3082858622074127\n"
     ]
    },
    {
     "name": "stderr",
     "output_type": "stream",
     "text": [
      "[I 2025-06-07 22:28:03,694] Trial 17 finished with value: 0.20099863409996033 and parameters: {'seq_type': 'SimpleRNN', 'seq_units': 29, 'dense_units': 8, 'activation': 'mish', 'optimizer': 'rmsprop', 'dropout': 0.09439227183027162, 'learning_rate': 0.0005378094104297285, 'batch_size': 64}. Best is trial 4 with value: 0.192522794008255.\n"
     ]
    },
    {
     "data": {
      "text/html": [
       "<pre style=\"white-space:pre;overflow-x:auto;line-height:normal;font-family:Menlo,'DejaVu Sans Mono',consolas,'Courier New',monospace\"></pre>\n"
      ],
      "text/plain": []
     },
     "metadata": {},
     "output_type": "display_data"
    },
    {
     "name": "stdout",
     "output_type": "stream",
     "text": [
      "\u001b[1m23/23\u001b[0m \u001b[32m━━━━━━━━━━━━━━━━━━━━\u001b[0m\u001b[37m\u001b[0m \u001b[1m0s\u001b[0m 4ms/step - loss: 0.1850 - mae: 0.3027\n",
      "Validation Loss: 0.19638825953006744, Validation MAE: 0.3141123354434967\n"
     ]
    },
    {
     "name": "stderr",
     "output_type": "stream",
     "text": [
      "[I 2025-06-07 22:33:47,360] Trial 18 finished with value: 0.19638825953006744 and parameters: {'seq_type': 'LSTM', 'seq_units': 21, 'dense_units': 7, 'activation': 'mish', 'optimizer': 'rmsprop', 'dropout': 0.04529555320037712, 'learning_rate': 0.0001457832268681329, 'batch_size': 32}. Best is trial 4 with value: 0.192522794008255.\n"
     ]
    },
    {
     "data": {
      "text/html": [
       "<pre style=\"white-space:pre;overflow-x:auto;line-height:normal;font-family:Menlo,'DejaVu Sans Mono',consolas,'Courier New',monospace\"></pre>\n"
      ],
      "text/plain": []
     },
     "metadata": {},
     "output_type": "display_data"
    },
    {
     "name": "stdout",
     "output_type": "stream",
     "text": [
      "\u001b[1m23/23\u001b[0m \u001b[32m━━━━━━━━━━━━━━━━━━━━\u001b[0m\u001b[37m\u001b[0m \u001b[1m0s\u001b[0m 4ms/step - loss: 0.2157 - mae: 0.3056\n",
      "Validation Loss: 0.23544010519981384, Validation MAE: 0.32677432894706726\n"
     ]
    },
    {
     "name": "stderr",
     "output_type": "stream",
     "text": [
      "[I 2025-06-07 22:42:36,322] Trial 19 finished with value: 0.23544010519981384 and parameters: {'seq_type': 'GRU', 'seq_units': 28, 'dense_units': 5, 'activation': 'mish', 'optimizer': 'rmsprop', 'dropout': 0.04104071280393945, 'learning_rate': 0.00012046116352456835, 'batch_size': 32}. Best is trial 4 with value: 0.192522794008255.\n"
     ]
    },
    {
     "data": {
      "text/html": [
       "<pre style=\"white-space:pre;overflow-x:auto;line-height:normal;font-family:Menlo,'DejaVu Sans Mono',consolas,'Courier New',monospace\"></pre>\n"
      ],
      "text/plain": []
     },
     "metadata": {},
     "output_type": "display_data"
    },
    {
     "name": "stdout",
     "output_type": "stream",
     "text": [
      "\u001b[1m23/23\u001b[0m \u001b[32m━━━━━━━━━━━━━━━━━━━━\u001b[0m\u001b[37m\u001b[0m \u001b[1m0s\u001b[0m 5ms/step - loss: 0.1661 - mae: 0.2913\n",
      "Validation Loss: 0.18980711698532104, Validation MAE: 0.31361961364746094\n"
     ]
    },
    {
     "name": "stderr",
     "output_type": "stream",
     "text": [
      "[I 2025-06-07 22:44:14,884] Trial 20 finished with value: 0.18980711698532104 and parameters: {'seq_type': 'SimpleRNN', 'seq_units': 33, 'dense_units': 7, 'activation': 'mish', 'optimizer': 'rmsprop', 'dropout': 0.0468081779068412, 'learning_rate': 0.011543641554749793, 'batch_size': 32}. Best is trial 20 with value: 0.18980711698532104.\n"
     ]
    },
    {
     "data": {
      "text/html": [
       "<pre style=\"white-space:pre;overflow-x:auto;line-height:normal;font-family:Menlo,'DejaVu Sans Mono',consolas,'Courier New',monospace\"></pre>\n"
      ],
      "text/plain": []
     },
     "metadata": {},
     "output_type": "display_data"
    },
    {
     "name": "stdout",
     "output_type": "stream",
     "text": [
      "\u001b[1m23/23\u001b[0m \u001b[32m━━━━━━━━━━━━━━━━━━━━\u001b[0m\u001b[37m\u001b[0m \u001b[1m0s\u001b[0m 12ms/step - loss: 0.1739 - mae: 0.3001\n",
      "Validation Loss: 0.18713775277137756, Validation MAE: 0.3131795823574066\n"
     ]
    },
    {
     "name": "stderr",
     "output_type": "stream",
     "text": [
      "[I 2025-06-07 22:45:26,759] Trial 21 finished with value: 0.18713775277137756 and parameters: {'seq_type': 'SimpleRNN', 'seq_units': 36, 'dense_units': 7, 'activation': 'mish', 'optimizer': 'rmsprop', 'dropout': 0.05874097481100644, 'learning_rate': 0.012214529973247417, 'batch_size': 32}. Best is trial 21 with value: 0.18713775277137756.\n"
     ]
    },
    {
     "data": {
      "text/html": [
       "<pre style=\"white-space:pre;overflow-x:auto;line-height:normal;font-family:Menlo,'DejaVu Sans Mono',consolas,'Courier New',monospace\"></pre>\n"
      ],
      "text/plain": []
     },
     "metadata": {},
     "output_type": "display_data"
    },
    {
     "name": "stdout",
     "output_type": "stream",
     "text": [
      "\u001b[1m23/23\u001b[0m \u001b[32m━━━━━━━━━━━━━━━━━━━━\u001b[0m\u001b[37m\u001b[0m \u001b[1m0s\u001b[0m 5ms/step - loss: 0.1670 - mae: 0.2841\n",
      "Validation Loss: 0.18584194779396057, Validation MAE: 0.3061739504337311\n"
     ]
    },
    {
     "name": "stderr",
     "output_type": "stream",
     "text": [
      "[I 2025-06-07 22:49:41,935] Trial 22 finished with value: 0.18584194779396057 and parameters: {'seq_type': 'SimpleRNN', 'seq_units': 35, 'dense_units': 7, 'activation': 'mish', 'optimizer': 'rmsprop', 'dropout': 0.058433538381260204, 'learning_rate': 0.01232261330084442, 'batch_size': 32}. Best is trial 22 with value: 0.18584194779396057.\n"
     ]
    },
    {
     "data": {
      "text/html": [
       "<pre style=\"white-space:pre;overflow-x:auto;line-height:normal;font-family:Menlo,'DejaVu Sans Mono',consolas,'Courier New',monospace\"></pre>\n"
      ],
      "text/plain": []
     },
     "metadata": {},
     "output_type": "display_data"
    },
    {
     "name": "stdout",
     "output_type": "stream",
     "text": [
      "\u001b[1m23/23\u001b[0m \u001b[32m━━━━━━━━━━━━━━━━━━━━\u001b[0m\u001b[37m\u001b[0m \u001b[1m0s\u001b[0m 3ms/step - loss: 0.1907 - mae: 0.3008 \n",
      "Validation Loss: 0.20406197011470795, Validation MAE: 0.3143034875392914\n"
     ]
    },
    {
     "name": "stderr",
     "output_type": "stream",
     "text": [
      "[I 2025-06-07 22:50:26,615] Trial 23 finished with value: 0.20406197011470795 and parameters: {'seq_type': 'SimpleRNN', 'seq_units': 35, 'dense_units': 7, 'activation': 'mish', 'optimizer': 'rmsprop', 'dropout': 0.08215929111077538, 'learning_rate': 0.01202969087856429, 'batch_size': 32}. Best is trial 22 with value: 0.18584194779396057.\n"
     ]
    },
    {
     "data": {
      "text/html": [
       "<pre style=\"white-space:pre;overflow-x:auto;line-height:normal;font-family:Menlo,'DejaVu Sans Mono',consolas,'Courier New',monospace\"></pre>\n"
      ],
      "text/plain": []
     },
     "metadata": {},
     "output_type": "display_data"
    },
    {
     "name": "stdout",
     "output_type": "stream",
     "text": [
      "\u001b[1m23/23\u001b[0m \u001b[32m━━━━━━━━━━━━━━━━━━━━\u001b[0m\u001b[37m\u001b[0m \u001b[1m0s\u001b[0m 14ms/step - loss: 0.1783 - mae: 0.2882\n",
      "Validation Loss: 0.18954366445541382, Validation MAE: 0.29904016852378845\n"
     ]
    },
    {
     "name": "stderr",
     "output_type": "stream",
     "text": [
      "[I 2025-06-07 22:51:59,382] Trial 24 finished with value: 0.18954366445541382 and parameters: {'seq_type': 'SimpleRNN', 'seq_units': 39, 'dense_units': 8, 'activation': 'mish', 'optimizer': 'rmsprop', 'dropout': 0.05520599107391644, 'learning_rate': 0.007691747003951624, 'batch_size': 32}. Best is trial 22 with value: 0.18584194779396057.\n"
     ]
    },
    {
     "data": {
      "text/html": [
       "<pre style=\"white-space:pre;overflow-x:auto;line-height:normal;font-family:Menlo,'DejaVu Sans Mono',consolas,'Courier New',monospace\"></pre>\n"
      ],
      "text/plain": []
     },
     "metadata": {},
     "output_type": "display_data"
    },
    {
     "name": "stdout",
     "output_type": "stream",
     "text": [
      "\u001b[1m23/23\u001b[0m \u001b[32m━━━━━━━━━━━━━━━━━━━━\u001b[0m\u001b[37m\u001b[0m \u001b[1m0s\u001b[0m 8ms/step - loss: 0.2281 - mae: 0.3466\n",
      "Validation Loss: 0.23223721981048584, Validation MAE: 0.36017805337905884\n"
     ]
    },
    {
     "name": "stderr",
     "output_type": "stream",
     "text": [
      "[I 2025-06-07 22:53:23,765] Trial 25 finished with value: 0.23223721981048584 and parameters: {'seq_type': 'SimpleRNN', 'seq_units': 40, 'dense_units': 8, 'activation': 'mish', 'optimizer': 'rmsprop', 'dropout': 0.05512766819134098, 'learning_rate': 0.03486332230291502, 'batch_size': 32}. Best is trial 22 with value: 0.18584194779396057.\n"
     ]
    },
    {
     "data": {
      "text/html": [
       "<pre style=\"white-space:pre;overflow-x:auto;line-height:normal;font-family:Menlo,'DejaVu Sans Mono',consolas,'Courier New',monospace\"></pre>\n"
      ],
      "text/plain": []
     },
     "metadata": {},
     "output_type": "display_data"
    },
    {
     "name": "stdout",
     "output_type": "stream",
     "text": [
      "\u001b[1m23/23\u001b[0m \u001b[32m━━━━━━━━━━━━━━━━━━━━\u001b[0m\u001b[37m\u001b[0m \u001b[1m0s\u001b[0m 9ms/step - loss: 0.1869 - mae: 0.2980\n",
      "Validation Loss: 0.20002278685569763, Validation MAE: 0.3127060830593109\n"
     ]
    },
    {
     "name": "stderr",
     "output_type": "stream",
     "text": [
      "[I 2025-06-07 22:54:38,908] Trial 26 finished with value: 0.20002278685569763 and parameters: {'seq_type': 'SimpleRNN', 'seq_units': 38, 'dense_units': 9, 'activation': 'mish', 'optimizer': 'rmsprop', 'dropout': 0.05830609105391584, 'learning_rate': 0.005861880188206492, 'batch_size': 32}. Best is trial 22 with value: 0.18584194779396057.\n"
     ]
    },
    {
     "data": {
      "text/html": [
       "<pre style=\"white-space:pre;overflow-x:auto;line-height:normal;font-family:Menlo,'DejaVu Sans Mono',consolas,'Courier New',monospace\"></pre>\n"
      ],
      "text/plain": []
     },
     "metadata": {},
     "output_type": "display_data"
    },
    {
     "name": "stdout",
     "output_type": "stream",
     "text": [
      "\u001b[1m23/23\u001b[0m \u001b[32m━━━━━━━━━━━━━━━━━━━━\u001b[0m\u001b[37m\u001b[0m \u001b[1m0s\u001b[0m 5ms/step - loss: 0.2017 - mae: 0.3010\n",
      "Validation Loss: 0.21588313579559326, Validation MAE: 0.3153814971446991\n"
     ]
    },
    {
     "name": "stderr",
     "output_type": "stream",
     "text": [
      "[I 2025-06-07 22:55:41,031] Trial 27 finished with value: 0.21588318049907684 and parameters: {'seq_type': 'SimpleRNN', 'seq_units': 42, 'dense_units': 6, 'activation': 'mish', 'optimizer': 'rmsprop', 'dropout': 0.07504792424015366, 'learning_rate': 0.0028014417301346147, 'batch_size': 128}. Best is trial 22 with value: 0.18584194779396057.\n"
     ]
    },
    {
     "data": {
      "text/html": [
       "<pre style=\"white-space:pre;overflow-x:auto;line-height:normal;font-family:Menlo,'DejaVu Sans Mono',consolas,'Courier New',monospace\"></pre>\n"
      ],
      "text/plain": []
     },
     "metadata": {},
     "output_type": "display_data"
    },
    {
     "name": "stdout",
     "output_type": "stream",
     "text": [
      "\u001b[1m23/23\u001b[0m \u001b[32m━━━━━━━━━━━━━━━━━━━━\u001b[0m\u001b[37m\u001b[0m \u001b[1m0s\u001b[0m 3ms/step - loss: 0.1815 - mae: 0.3001 \n",
      "Validation Loss: 0.19524957239627838, Validation MAE: 0.3135351240634918\n"
     ]
    },
    {
     "name": "stderr",
     "output_type": "stream",
     "text": [
      "[I 2025-06-07 22:56:13,444] Trial 28 finished with value: 0.19524957239627838 and parameters: {'seq_type': 'SimpleRNN', 'seq_units': 36, 'dense_units': 8, 'activation': 'relu', 'optimizer': 'rmsprop', 'dropout': 0.04231488215967945, 'learning_rate': 0.007988721760578674, 'batch_size': 32}. Best is trial 22 with value: 0.18584194779396057.\n"
     ]
    },
    {
     "data": {
      "text/html": [
       "<pre style=\"white-space:pre;overflow-x:auto;line-height:normal;font-family:Menlo,'DejaVu Sans Mono',consolas,'Courier New',monospace\"></pre>\n"
      ],
      "text/plain": []
     },
     "metadata": {},
     "output_type": "display_data"
    },
    {
     "name": "stdout",
     "output_type": "stream",
     "text": [
      "\u001b[1m23/23\u001b[0m \u001b[32m━━━━━━━━━━━━━━━━━━━━\u001b[0m\u001b[37m\u001b[0m \u001b[1m0s\u001b[0m 7ms/step - loss: 0.1798 - mae: 0.2993\n",
      "Validation Loss: 0.20612867176532745, Validation MAE: 0.3228834867477417\n"
     ]
    },
    {
     "name": "stderr",
     "output_type": "stream",
     "text": [
      "[I 2025-06-07 22:56:49,654] Trial 29 finished with value: 0.20612867176532745 and parameters: {'seq_type': 'SimpleRNN', 'seq_units': 34, 'dense_units': 9, 'activation': 'mish', 'optimizer': 'rmsprop', 'dropout': 0.0666215528817105, 'learning_rate': 0.03107065280868489, 'batch_size': 32}. Best is trial 22 with value: 0.18584194779396057.\n"
     ]
    },
    {
     "data": {
      "text/html": [
       "<pre style=\"white-space:pre;overflow-x:auto;line-height:normal;font-family:Menlo,'DejaVu Sans Mono',consolas,'Courier New',monospace\"></pre>\n"
      ],
      "text/plain": []
     },
     "metadata": {},
     "output_type": "display_data"
    },
    {
     "name": "stdout",
     "output_type": "stream",
     "text": [
      "\u001b[1m23/23\u001b[0m \u001b[32m━━━━━━━━━━━━━━━━━━━━\u001b[0m\u001b[37m\u001b[0m \u001b[1m0s\u001b[0m 4ms/step - loss: 0.2036 - mae: 0.3132\n",
      "Validation Loss: 0.2156675159931183, Validation MAE: 0.3269653618335724\n"
     ]
    },
    {
     "name": "stderr",
     "output_type": "stream",
     "text": [
      "[I 2025-06-07 22:57:40,800] Trial 30 finished with value: 0.2156675159931183 and parameters: {'seq_type': 'SimpleRNN', 'seq_units': 45, 'dense_units': 10, 'activation': 'relu', 'optimizer': 'rmsprop', 'dropout': 0.05078433927974469, 'learning_rate': 0.0016305845331401312, 'batch_size': 32}. Best is trial 22 with value: 0.18584194779396057.\n"
     ]
    },
    {
     "data": {
      "text/html": [
       "<pre style=\"white-space:pre;overflow-x:auto;line-height:normal;font-family:Menlo,'DejaVu Sans Mono',consolas,'Courier New',monospace\"></pre>\n"
      ],
      "text/plain": []
     },
     "metadata": {},
     "output_type": "display_data"
    },
    {
     "name": "stdout",
     "output_type": "stream",
     "text": [
      "\u001b[1m23/23\u001b[0m \u001b[32m━━━━━━━━━━━━━━━━━━━━\u001b[0m\u001b[37m\u001b[0m \u001b[1m0s\u001b[0m 5ms/step - loss: 0.1652 - mae: 0.2856\n",
      "Validation Loss: 0.18222002685070038, Validation MAE: 0.29977405071258545\n"
     ]
    },
    {
     "name": "stderr",
     "output_type": "stream",
     "text": [
      "[I 2025-06-07 22:58:38,291] Trial 31 finished with value: 0.18222002685070038 and parameters: {'seq_type': 'SimpleRNN', 'seq_units': 33, 'dense_units': 7, 'activation': 'mish', 'optimizer': 'rmsprop', 'dropout': 0.04683965538307314, 'learning_rate': 0.011102737363263504, 'batch_size': 32}. Best is trial 31 with value: 0.18222002685070038.\n"
     ]
    },
    {
     "data": {
      "text/html": [
       "<pre style=\"white-space:pre;overflow-x:auto;line-height:normal;font-family:Menlo,'DejaVu Sans Mono',consolas,'Courier New',monospace\"></pre>\n"
      ],
      "text/plain": []
     },
     "metadata": {},
     "output_type": "display_data"
    },
    {
     "name": "stdout",
     "output_type": "stream",
     "text": [
      "\u001b[1m23/23\u001b[0m \u001b[32m━━━━━━━━━━━━━━━━━━━━\u001b[0m\u001b[37m\u001b[0m \u001b[1m0s\u001b[0m 8ms/step - loss: 0.2277 - mae: 0.3400 \n",
      "Validation Loss: 0.2564972937107086, Validation MAE: 0.363674134016037\n"
     ]
    },
    {
     "name": "stderr",
     "output_type": "stream",
     "text": [
      "[I 2025-06-07 22:59:11,400] Trial 32 finished with value: 0.2564972937107086 and parameters: {'seq_type': 'SimpleRNN', 'seq_units': 38, 'dense_units': 7, 'activation': 'mish', 'optimizer': 'rmsprop', 'dropout': 0.05609816585777771, 'learning_rate': 0.04819519779265446, 'batch_size': 32}. Best is trial 31 with value: 0.18222002685070038.\n"
     ]
    },
    {
     "data": {
      "text/html": [
       "<pre style=\"white-space:pre;overflow-x:auto;line-height:normal;font-family:Menlo,'DejaVu Sans Mono',consolas,'Courier New',monospace\"></pre>\n"
      ],
      "text/plain": []
     },
     "metadata": {},
     "output_type": "display_data"
    },
    {
     "name": "stdout",
     "output_type": "stream",
     "text": [
      "\u001b[1m23/23\u001b[0m \u001b[32m━━━━━━━━━━━━━━━━━━━━\u001b[0m\u001b[37m\u001b[0m \u001b[1m0s\u001b[0m 5ms/step - loss: 0.1913 - mae: 0.3033\n",
      "Validation Loss: 0.20567312836647034, Validation MAE: 0.3193546533584595\n"
     ]
    },
    {
     "name": "stderr",
     "output_type": "stream",
     "text": [
      "[I 2025-06-07 22:59:46,418] Trial 33 finished with value: 0.20567312836647034 and parameters: {'seq_type': 'SimpleRNN', 'seq_units': 42, 'dense_units': 8, 'activation': 'mish', 'optimizer': 'rmsprop', 'dropout': 0.03744700932981527, 'learning_rate': 0.008508781999615207, 'batch_size': 32}. Best is trial 31 with value: 0.18222002685070038.\n"
     ]
    },
    {
     "data": {
      "text/html": [
       "<pre style=\"white-space:pre;overflow-x:auto;line-height:normal;font-family:Menlo,'DejaVu Sans Mono',consolas,'Courier New',monospace\"></pre>\n"
      ],
      "text/plain": []
     },
     "metadata": {},
     "output_type": "display_data"
    },
    {
     "name": "stdout",
     "output_type": "stream",
     "text": [
      "\u001b[1m23/23\u001b[0m \u001b[32m━━━━━━━━━━━━━━━━━━━━\u001b[0m\u001b[37m\u001b[0m \u001b[1m0s\u001b[0m 5ms/step - loss: 0.1775 - mae: 0.2867\n",
      "Validation Loss: 0.19541415572166443, Validation MAE: 0.3017580211162567\n"
     ]
    },
    {
     "name": "stderr",
     "output_type": "stream",
     "text": [
      "[I 2025-06-07 23:00:37,881] Trial 34 finished with value: 0.19541415572166443 and parameters: {'seq_type': 'SimpleRNN', 'seq_units': 30, 'dense_units': 7, 'activation': 'mish', 'optimizer': 'rmsprop', 'dropout': 0.04916561486480128, 'learning_rate': 0.020398499378764, 'batch_size': 32}. Best is trial 31 with value: 0.18222002685070038.\n"
     ]
    },
    {
     "data": {
      "text/html": [
       "<pre style=\"white-space:pre;overflow-x:auto;line-height:normal;font-family:Menlo,'DejaVu Sans Mono',consolas,'Courier New',monospace\"></pre>\n"
      ],
      "text/plain": []
     },
     "metadata": {},
     "output_type": "display_data"
    },
    {
     "name": "stdout",
     "output_type": "stream",
     "text": [
      "\u001b[1m23/23\u001b[0m \u001b[32m━━━━━━━━━━━━━━━━━━━━\u001b[0m\u001b[37m\u001b[0m \u001b[1m0s\u001b[0m 4ms/step - loss: 0.1854 - mae: 0.2939\n",
      "Validation Loss: 0.20103861391544342, Validation MAE: 0.3078998327255249\n"
     ]
    },
    {
     "name": "stderr",
     "output_type": "stream",
     "text": [
      "[I 2025-06-07 23:01:21,329] Trial 35 finished with value: 0.20103861391544342 and parameters: {'seq_type': 'GRU', 'seq_units': 36, 'dense_units': 9, 'activation': 'tanh', 'optimizer': 'rmsprop', 'dropout': 0.028054423808516818, 'learning_rate': 0.004387220406330076, 'batch_size': 32}. Best is trial 31 with value: 0.18222002685070038.\n"
     ]
    },
    {
     "data": {
      "text/html": [
       "<pre style=\"white-space:pre;overflow-x:auto;line-height:normal;font-family:Menlo,'DejaVu Sans Mono',consolas,'Courier New',monospace\"></pre>\n"
      ],
      "text/plain": []
     },
     "metadata": {},
     "output_type": "display_data"
    },
    {
     "name": "stdout",
     "output_type": "stream",
     "text": [
      "\u001b[1m23/23\u001b[0m \u001b[32m━━━━━━━━━━━━━━━━━━━━\u001b[0m\u001b[37m\u001b[0m \u001b[1m0s\u001b[0m 12ms/step - loss: 0.1937 - mae: 0.3066\n",
      "Validation Loss: 0.2107495814561844, Validation MAE: 0.3229856789112091\n"
     ]
    },
    {
     "name": "stderr",
     "output_type": "stream",
     "text": [
      "[I 2025-06-07 23:02:13,306] Trial 36 finished with value: 0.2107495814561844 and parameters: {'seq_type': 'SimpleRNN', 'seq_units': 48, 'dense_units': 6, 'activation': 'mish', 'optimizer': 'rmsprop', 'dropout': 0.05857357326677737, 'learning_rate': 0.015120208917825742, 'batch_size': 32}. Best is trial 31 with value: 0.18222002685070038.\n"
     ]
    },
    {
     "data": {
      "text/html": [
       "<pre style=\"white-space:pre;overflow-x:auto;line-height:normal;font-family:Menlo,'DejaVu Sans Mono',consolas,'Courier New',monospace\"></pre>\n"
      ],
      "text/plain": []
     },
     "metadata": {},
     "output_type": "display_data"
    },
    {
     "name": "stdout",
     "output_type": "stream",
     "text": [
      "\u001b[1m23/23\u001b[0m \u001b[32m━━━━━━━━━━━━━━━━━━━━\u001b[0m\u001b[37m\u001b[0m \u001b[1m0s\u001b[0m 14ms/step - loss: 0.1959 - mae: 0.3026\n",
      "Validation Loss: 0.21139100193977356, Validation MAE: 0.3182141184806824\n"
     ]
    },
    {
     "name": "stderr",
     "output_type": "stream",
     "text": [
      "[I 2025-06-07 23:03:23,362] Trial 37 finished with value: 0.21139100193977356 and parameters: {'seq_type': 'SimpleRNN', 'seq_units': 40, 'dense_units': 8, 'activation': 'mish', 'optimizer': 'rmsprop', 'dropout': 0.07918616684707591, 'learning_rate': 0.003278906365655213, 'batch_size': 32}. Best is trial 31 with value: 0.18222002685070038.\n"
     ]
    },
    {
     "data": {
      "text/html": [
       "<pre style=\"white-space:pre;overflow-x:auto;line-height:normal;font-family:Menlo,'DejaVu Sans Mono',consolas,'Courier New',monospace\"></pre>\n"
      ],
      "text/plain": []
     },
     "metadata": {},
     "output_type": "display_data"
    },
    {
     "name": "stdout",
     "output_type": "stream",
     "text": [
      "\u001b[1m23/23\u001b[0m \u001b[32m━━━━━━━━━━━━━━━━━━━━\u001b[0m\u001b[37m\u001b[0m \u001b[1m0s\u001b[0m 11ms/step - loss: 0.1813 - mae: 0.2994\n",
      "Validation Loss: 0.18289102613925934, Validation MAE: 0.3040846288204193\n"
     ]
    },
    {
     "name": "stderr",
     "output_type": "stream",
     "text": [
      "[I 2025-06-07 23:04:18,164] Trial 38 finished with value: 0.18289104104042053 and parameters: {'seq_type': 'GRU', 'seq_units': 32, 'dense_units': 10, 'activation': 'tanh', 'optimizer': 'rmsprop', 'dropout': 0.07025761725531944, 'learning_rate': 0.008978594004923384, 'batch_size': 128}. Best is trial 31 with value: 0.18222002685070038.\n"
     ]
    },
    {
     "data": {
      "text/html": [
       "<pre style=\"white-space:pre;overflow-x:auto;line-height:normal;font-family:Menlo,'DejaVu Sans Mono',consolas,'Courier New',monospace\"></pre>\n"
      ],
      "text/plain": []
     },
     "metadata": {},
     "output_type": "display_data"
    },
    {
     "name": "stdout",
     "output_type": "stream",
     "text": [
      "\u001b[1m23/23\u001b[0m \u001b[32m━━━━━━━━━━━━━━━━━━━━\u001b[0m\u001b[37m\u001b[0m \u001b[1m0s\u001b[0m 8ms/step - loss: 0.1718 - mae: 0.2967\n",
      "Validation Loss: 0.1845058649778366, Validation MAE: 0.31316596269607544\n"
     ]
    },
    {
     "name": "stderr",
     "output_type": "stream",
     "text": [
      "[I 2025-06-07 23:05:13,972] Trial 39 finished with value: 0.184505894780159 and parameters: {'seq_type': 'GRU', 'seq_units': 27, 'dense_units': 11, 'activation': 'tanh', 'optimizer': 'rmsprop', 'dropout': 0.08812059344325188, 'learning_rate': 0.05437300797651097, 'batch_size': 128}. Best is trial 31 with value: 0.18222002685070038.\n"
     ]
    },
    {
     "data": {
      "text/html": [
       "<pre style=\"white-space:pre;overflow-x:auto;line-height:normal;font-family:Menlo,'DejaVu Sans Mono',consolas,'Courier New',monospace\"></pre>\n"
      ],
      "text/plain": []
     },
     "metadata": {},
     "output_type": "display_data"
    },
    {
     "name": "stdout",
     "output_type": "stream",
     "text": [
      "\u001b[1m23/23\u001b[0m \u001b[32m━━━━━━━━━━━━━━━━━━━━\u001b[0m\u001b[37m\u001b[0m \u001b[1m0s\u001b[0m 5ms/step - loss: 0.1729 - mae: 0.2904\n",
      "Validation Loss: 0.1884092539548874, Validation MAE: 0.3051068186759949\n"
     ]
    },
    {
     "name": "stderr",
     "output_type": "stream",
     "text": [
      "[I 2025-06-07 23:05:56,241] Trial 40 finished with value: 0.18840928375720978 and parameters: {'seq_type': 'GRU', 'seq_units': 28, 'dense_units': 11, 'activation': 'tanh', 'optimizer': 'rmsprop', 'dropout': 0.08722576364630057, 'learning_rate': 0.05535772361850985, 'batch_size': 128}. Best is trial 31 with value: 0.18222002685070038.\n"
     ]
    },
    {
     "data": {
      "text/html": [
       "<pre style=\"white-space:pre;overflow-x:auto;line-height:normal;font-family:Menlo,'DejaVu Sans Mono',consolas,'Courier New',monospace\"></pre>\n"
      ],
      "text/plain": []
     },
     "metadata": {},
     "output_type": "display_data"
    },
    {
     "name": "stdout",
     "output_type": "stream",
     "text": [
      "\u001b[1m23/23\u001b[0m \u001b[32m━━━━━━━━━━━━━━━━━━━━\u001b[0m\u001b[37m\u001b[0m \u001b[1m0s\u001b[0m 5ms/step - loss: 0.2190 - mae: 0.3244\n",
      "Validation Loss: 0.22372138500213623, Validation MAE: 0.33610475063323975\n"
     ]
    },
    {
     "name": "stderr",
     "output_type": "stream",
     "text": [
      "[I 2025-06-07 23:06:19,991] Trial 41 finished with value: 0.22372138500213623 and parameters: {'seq_type': 'GRU', 'seq_units': 31, 'dense_units': 11, 'activation': 'tanh', 'optimizer': 'rmsprop', 'dropout': 0.07008352049369722, 'learning_rate': 0.09964447419292996, 'batch_size': 128}. Best is trial 31 with value: 0.18222002685070038.\n"
     ]
    },
    {
     "data": {
      "text/html": [
       "<pre style=\"white-space:pre;overflow-x:auto;line-height:normal;font-family:Menlo,'DejaVu Sans Mono',consolas,'Courier New',monospace\"></pre>\n"
      ],
      "text/plain": []
     },
     "metadata": {},
     "output_type": "display_data"
    },
    {
     "name": "stdout",
     "output_type": "stream",
     "text": [
      "\u001b[1m23/23\u001b[0m \u001b[32m━━━━━━━━━━━━━━━━━━━━\u001b[0m\u001b[37m\u001b[0m \u001b[1m0s\u001b[0m 3ms/step - loss: 0.1807 - mae: 0.3021 \n",
      "Validation Loss: 0.1954040378332138, Validation MAE: 0.3124096393585205\n"
     ]
    },
    {
     "name": "stderr",
     "output_type": "stream",
     "text": [
      "[I 2025-06-07 23:06:44,621] Trial 42 finished with value: 0.1954040378332138 and parameters: {'seq_type': 'GRU', 'seq_units': 33, 'dense_units': 10, 'activation': 'tanh', 'optimizer': 'rmsprop', 'dropout': 0.099964740960215, 'learning_rate': 0.024327733453073572, 'batch_size': 128}. Best is trial 31 with value: 0.18222002685070038.\n"
     ]
    },
    {
     "data": {
      "text/html": [
       "<pre style=\"white-space:pre;overflow-x:auto;line-height:normal;font-family:Menlo,'DejaVu Sans Mono',consolas,'Courier New',monospace\"></pre>\n"
      ],
      "text/plain": []
     },
     "metadata": {},
     "output_type": "display_data"
    },
    {
     "name": "stdout",
     "output_type": "stream",
     "text": [
      "\u001b[1m23/23\u001b[0m \u001b[32m━━━━━━━━━━━━━━━━━━━━\u001b[0m\u001b[37m\u001b[0m \u001b[1m0s\u001b[0m 4ms/step - loss: 0.1826 - mae: 0.2984\n",
      "Validation Loss: 0.19995258748531342, Validation MAE: 0.3154140114784241\n"
     ]
    },
    {
     "name": "stderr",
     "output_type": "stream",
     "text": [
      "[I 2025-06-07 23:07:10,897] Trial 43 finished with value: 0.199952632188797 and parameters: {'seq_type': 'GRU', 'seq_units': 31, 'dense_units': 11, 'activation': 'tanh', 'optimizer': 'rmsprop', 'dropout': 0.07866696628612094, 'learning_rate': 0.04310043819697551, 'batch_size': 128}. Best is trial 31 with value: 0.18222002685070038.\n"
     ]
    },
    {
     "data": {
      "text/html": [
       "<pre style=\"white-space:pre;overflow-x:auto;line-height:normal;font-family:Menlo,'DejaVu Sans Mono',consolas,'Courier New',monospace\"></pre>\n"
      ],
      "text/plain": []
     },
     "metadata": {},
     "output_type": "display_data"
    },
    {
     "name": "stdout",
     "output_type": "stream",
     "text": [
      "\u001b[1m23/23\u001b[0m \u001b[32m━━━━━━━━━━━━━━━━━━━━\u001b[0m\u001b[37m\u001b[0m \u001b[1m0s\u001b[0m 4ms/step - loss: 0.1803 - mae: 0.2927\n",
      "Validation Loss: 0.18409329652786255, Validation MAE: 0.3060908317565918\n"
     ]
    },
    {
     "name": "stderr",
     "output_type": "stream",
     "text": [
      "[I 2025-06-07 23:07:37,366] Trial 44 finished with value: 0.18409328162670135 and parameters: {'seq_type': 'GRU', 'seq_units': 26, 'dense_units': 9, 'activation': 'tanh', 'optimizer': 'rmsprop', 'dropout': 0.06437743761834976, 'learning_rate': 0.014388155080623913, 'batch_size': 128}. Best is trial 31 with value: 0.18222002685070038.\n"
     ]
    },
    {
     "data": {
      "text/html": [
       "<pre style=\"white-space:pre;overflow-x:auto;line-height:normal;font-family:Menlo,'DejaVu Sans Mono',consolas,'Courier New',monospace\"></pre>\n"
      ],
      "text/plain": []
     },
     "metadata": {},
     "output_type": "display_data"
    },
    {
     "name": "stdout",
     "output_type": "stream",
     "text": [
      "\u001b[1m23/23\u001b[0m \u001b[32m━━━━━━━━━━━━━━━━━━━━\u001b[0m\u001b[37m\u001b[0m \u001b[1m0s\u001b[0m 3ms/step - loss: 0.1887 - mae: 0.3017 \n",
      "Validation Loss: 0.21118862926959991, Validation MAE: 0.31854119896888733\n"
     ]
    },
    {
     "name": "stderr",
     "output_type": "stream",
     "text": [
      "[I 2025-06-07 23:08:04,122] Trial 45 finished with value: 0.2111886441707611 and parameters: {'seq_type': 'GRU', 'seq_units': 27, 'dense_units': 10, 'activation': 'tanh', 'optimizer': 'adam', 'dropout': 0.0736829000352629, 'learning_rate': 0.0189316167542688, 'batch_size': 128}. Best is trial 31 with value: 0.18222002685070038.\n"
     ]
    },
    {
     "data": {
      "text/html": [
       "<pre style=\"white-space:pre;overflow-x:auto;line-height:normal;font-family:Menlo,'DejaVu Sans Mono',consolas,'Courier New',monospace\"></pre>\n"
      ],
      "text/plain": []
     },
     "metadata": {},
     "output_type": "display_data"
    },
    {
     "name": "stdout",
     "output_type": "stream",
     "text": [
      "\u001b[1m23/23\u001b[0m \u001b[32m━━━━━━━━━━━━━━━━━━━━\u001b[0m\u001b[37m\u001b[0m \u001b[1m0s\u001b[0m 7ms/step - loss: 0.1871 - mae: 0.3077\n",
      "Validation Loss: 0.19843055307865143, Validation MAE: 0.320639967918396\n"
     ]
    },
    {
     "name": "stderr",
     "output_type": "stream",
     "text": [
      "[I 2025-06-07 23:08:36,586] Trial 46 finished with value: 0.19843056797981262 and parameters: {'seq_type': 'GRU', 'seq_units': 24, 'dense_units': 9, 'activation': 'tanh', 'optimizer': 'rmsprop', 'dropout': 0.0636649533669626, 'learning_rate': 0.006222593339245669, 'batch_size': 128}. Best is trial 31 with value: 0.18222002685070038.\n"
     ]
    },
    {
     "data": {
      "text/html": [
       "<pre style=\"white-space:pre;overflow-x:auto;line-height:normal;font-family:Menlo,'DejaVu Sans Mono',consolas,'Courier New',monospace\"></pre>\n"
      ],
      "text/plain": []
     },
     "metadata": {},
     "output_type": "display_data"
    },
    {
     "name": "stdout",
     "output_type": "stream",
     "text": [
      "\u001b[1m23/23\u001b[0m \u001b[32m━━━━━━━━━━━━━━━━━━━━\u001b[0m\u001b[37m\u001b[0m \u001b[1m0s\u001b[0m 4ms/step - loss: 0.1803 - mae: 0.2988\n",
      "Validation Loss: 0.2045208364725113, Validation MAE: 0.31870996952056885\n"
     ]
    },
    {
     "name": "stderr",
     "output_type": "stream",
     "text": [
      "[I 2025-06-07 23:09:01,249] Trial 47 finished with value: 0.2045208364725113 and parameters: {'seq_type': 'GRU', 'seq_units': 22, 'dense_units': 10, 'activation': 'tanh', 'optimizer': 'rmsprop', 'dropout': 0.08578155920124822, 'learning_rate': 0.07089467760672334, 'batch_size': 128}. Best is trial 31 with value: 0.18222002685070038.\n"
     ]
    },
    {
     "data": {
      "text/html": [
       "<pre style=\"white-space:pre;overflow-x:auto;line-height:normal;font-family:Menlo,'DejaVu Sans Mono',consolas,'Courier New',monospace\"></pre>\n"
      ],
      "text/plain": []
     },
     "metadata": {},
     "output_type": "display_data"
    },
    {
     "name": "stdout",
     "output_type": "stream",
     "text": [
      "\u001b[1m23/23\u001b[0m \u001b[32m━━━━━━━━━━━━━━━━━━━━\u001b[0m\u001b[37m\u001b[0m \u001b[1m0s\u001b[0m 4ms/step - loss: 0.1994 - mae: 0.3033\n",
      "Validation Loss: 0.20696423947811127, Validation MAE: 0.3191828429698944\n"
     ]
    },
    {
     "name": "stderr",
     "output_type": "stream",
     "text": [
      "[I 2025-06-07 23:09:30,172] Trial 48 finished with value: 0.20696422457695007 and parameters: {'seq_type': 'GRU', 'seq_units': 26, 'dense_units': 11, 'activation': 'tanh', 'optimizer': 'adam', 'dropout': 0.0703370664999892, 'learning_rate': 0.0036893079561523177, 'batch_size': 128}. Best is trial 31 with value: 0.18222002685070038.\n"
     ]
    },
    {
     "data": {
      "text/html": [
       "<pre style=\"white-space:pre;overflow-x:auto;line-height:normal;font-family:Menlo,'DejaVu Sans Mono',consolas,'Courier New',monospace\"></pre>\n"
      ],
      "text/plain": []
     },
     "metadata": {},
     "output_type": "display_data"
    },
    {
     "name": "stdout",
     "output_type": "stream",
     "text": [
      "\u001b[1m23/23\u001b[0m \u001b[32m━━━━━━━━━━━━━━━━━━━━\u001b[0m\u001b[37m\u001b[0m \u001b[1m0s\u001b[0m 5ms/step - loss: 0.2068 - mae: 0.3180\n",
      "Validation Loss: 0.21252349019050598, Validation MAE: 0.33133816719055176\n"
     ]
    },
    {
     "name": "stderr",
     "output_type": "stream",
     "text": [
      "[I 2025-06-07 23:09:54,346] Trial 49 finished with value: 0.21252349019050598 and parameters: {'seq_type': 'GRU', 'seq_units': 29, 'dense_units': 9, 'activation': 'tanh', 'optimizer': 'rmsprop', 'dropout': 0.09028681157768277, 'learning_rate': 0.02825932097162579, 'batch_size': 128}. Best is trial 31 with value: 0.18222002685070038.\n"
     ]
    },
    {
     "data": {
      "text/html": [
       "<pre style=\"white-space:pre;overflow-x:auto;line-height:normal;font-family:Menlo,'DejaVu Sans Mono',consolas,'Courier New',monospace\"></pre>\n"
      ],
      "text/plain": []
     },
     "metadata": {},
     "output_type": "display_data"
    },
    {
     "name": "stdout",
     "output_type": "stream",
     "text": [
      "\u001b[1m23/23\u001b[0m \u001b[32m━━━━━━━━━━━━━━━━━━━━\u001b[0m\u001b[37m\u001b[0m \u001b[1m0s\u001b[0m 3ms/step - loss: 0.1923 - mae: 0.2996 \n",
      "Validation Loss: 0.200888529419899, Validation MAE: 0.31017738580703735\n"
     ]
    },
    {
     "name": "stderr",
     "output_type": "stream",
     "text": [
      "[I 2025-06-07 23:10:29,952] Trial 50 finished with value: 0.2008885145187378 and parameters: {'seq_type': 'GRU', 'seq_units': 32, 'dense_units': 10, 'activation': 'tanh', 'optimizer': 'rmsprop', 'dropout': 0.07682890330061, 'learning_rate': 0.002316138099663509, 'batch_size': 128}. Best is trial 31 with value: 0.18222002685070038.\n"
     ]
    },
    {
     "data": {
      "text/html": [
       "<pre style=\"white-space:pre;overflow-x:auto;line-height:normal;font-family:Menlo,'DejaVu Sans Mono',consolas,'Courier New',monospace\"></pre>\n"
      ],
      "text/plain": []
     },
     "metadata": {},
     "output_type": "display_data"
    },
    {
     "name": "stdout",
     "output_type": "stream",
     "text": [
      "\u001b[1m23/23\u001b[0m \u001b[32m━━━━━━━━━━━━━━━━━━━━\u001b[0m\u001b[37m\u001b[0m \u001b[1m0s\u001b[0m 4ms/step - loss: 0.1993 - mae: 0.3131\n",
      "Validation Loss: 0.2090906947851181, Validation MAE: 0.32205063104629517\n"
     ]
    },
    {
     "name": "stderr",
     "output_type": "stream",
     "text": [
      "[I 2025-06-07 23:10:56,315] Trial 51 finished with value: 0.2090907096862793 and parameters: {'seq_type': 'GRU', 'seq_units': 37, 'dense_units': 7, 'activation': 'tanh', 'optimizer': 'rmsprop', 'dropout': 0.06152265068584887, 'learning_rate': 0.011589665395858912, 'batch_size': 128}. Best is trial 31 with value: 0.18222002685070038.\n"
     ]
    },
    {
     "data": {
      "text/html": [
       "<pre style=\"white-space:pre;overflow-x:auto;line-height:normal;font-family:Menlo,'DejaVu Sans Mono',consolas,'Courier New',monospace\"></pre>\n"
      ],
      "text/plain": []
     },
     "metadata": {},
     "output_type": "display_data"
    },
    {
     "name": "stdout",
     "output_type": "stream",
     "text": [
      "\u001b[1m23/23\u001b[0m \u001b[32m━━━━━━━━━━━━━━━━━━━━\u001b[0m\u001b[37m\u001b[0m \u001b[1m0s\u001b[0m 3ms/step - loss: 0.1719 - mae: 0.2874 \n",
      "Validation Loss: 0.1892988532781601, Validation MAE: 0.30347633361816406\n"
     ]
    },
    {
     "name": "stderr",
     "output_type": "stream",
     "text": [
      "[I 2025-06-07 23:11:27,971] Trial 52 finished with value: 0.1892988383769989 and parameters: {'seq_type': 'GRU', 'seq_units': 34, 'dense_units': 7, 'activation': 'relu', 'optimizer': 'rmsprop', 'dropout': 0.05195469735342553, 'learning_rate': 0.015346002391053175, 'batch_size': 128}. Best is trial 31 with value: 0.18222002685070038.\n"
     ]
    },
    {
     "data": {
      "text/html": [
       "<pre style=\"white-space:pre;overflow-x:auto;line-height:normal;font-family:Menlo,'DejaVu Sans Mono',consolas,'Courier New',monospace\"></pre>\n"
      ],
      "text/plain": []
     },
     "metadata": {},
     "output_type": "display_data"
    },
    {
     "name": "stdout",
     "output_type": "stream",
     "text": [
      "\u001b[1m23/23\u001b[0m \u001b[32m━━━━━━━━━━━━━━━━━━━━\u001b[0m\u001b[37m\u001b[0m \u001b[1m0s\u001b[0m 4ms/step - loss: 0.1803 - mae: 0.2920\n",
      "Validation Loss: 0.1981363296508789, Validation MAE: 0.3096930682659149\n"
     ]
    },
    {
     "name": "stderr",
     "output_type": "stream",
     "text": [
      "[I 2025-06-07 23:11:52,793] Trial 53 finished with value: 0.19813629984855652 and parameters: {'seq_type': 'GRU', 'seq_units': 30, 'dense_units': 6, 'activation': 'tanh', 'optimizer': 'rmsprop', 'dropout': 0.06652617686024039, 'learning_rate': 0.010314185521453823, 'batch_size': 128}. Best is trial 31 with value: 0.18222002685070038.\n"
     ]
    },
    {
     "data": {
      "text/html": [
       "<pre style=\"white-space:pre;overflow-x:auto;line-height:normal;font-family:Menlo,'DejaVu Sans Mono',consolas,'Courier New',monospace\"></pre>\n"
      ],
      "text/plain": []
     },
     "metadata": {},
     "output_type": "display_data"
    },
    {
     "name": "stdout",
     "output_type": "stream",
     "text": [
      "\u001b[1m23/23\u001b[0m \u001b[32m━━━━━━━━━━━━━━━━━━━━\u001b[0m\u001b[37m\u001b[0m \u001b[1m0s\u001b[0m 3ms/step - loss: 0.1917 - mae: 0.3025 \n",
      "Validation Loss: 0.1987534463405609, Validation MAE: 0.3159237205982208\n"
     ]
    },
    {
     "name": "stderr",
     "output_type": "stream",
     "text": [
      "[I 2025-06-07 23:12:25,997] Trial 54 finished with value: 0.19875340163707733 and parameters: {'seq_type': 'GRU', 'seq_units': 34, 'dense_units': 9, 'activation': 'tanh', 'optimizer': 'rmsprop', 'dropout': 0.04591202964611649, 'learning_rate': 0.01587977227754766, 'batch_size': 64}. Best is trial 31 with value: 0.18222002685070038.\n"
     ]
    },
    {
     "data": {
      "text/html": [
       "<pre style=\"white-space:pre;overflow-x:auto;line-height:normal;font-family:Menlo,'DejaVu Sans Mono',consolas,'Courier New',monospace\"></pre>\n"
      ],
      "text/plain": []
     },
     "metadata": {},
     "output_type": "display_data"
    },
    {
     "name": "stdout",
     "output_type": "stream",
     "text": [
      "\u001b[1m23/23\u001b[0m \u001b[32m━━━━━━━━━━━━━━━━━━━━\u001b[0m\u001b[37m\u001b[0m \u001b[1m0s\u001b[0m 9ms/step - loss: 0.1884 - mae: 0.2990\n",
      "Validation Loss: 0.19504135847091675, Validation MAE: 0.30842354893684387\n"
     ]
    },
    {
     "name": "stderr",
     "output_type": "stream",
     "text": [
      "[I 2025-06-07 23:13:42,986] Trial 55 finished with value: 0.19504132866859436 and parameters: {'seq_type': 'LSTM', 'seq_units': 24, 'dense_units': 12, 'activation': 'tanh', 'optimizer': 'adam', 'dropout': 0.059133373061282565, 'learning_rate': 0.0011316104058652933, 'batch_size': 128}. Best is trial 31 with value: 0.18222002685070038.\n"
     ]
    },
    {
     "data": {
      "text/html": [
       "<pre style=\"white-space:pre;overflow-x:auto;line-height:normal;font-family:Menlo,'DejaVu Sans Mono',consolas,'Courier New',monospace\"></pre>\n"
      ],
      "text/plain": []
     },
     "metadata": {},
     "output_type": "display_data"
    },
    {
     "name": "stdout",
     "output_type": "stream",
     "text": [
      "\u001b[1m23/23\u001b[0m \u001b[32m━━━━━━━━━━━━━━━━━━━━\u001b[0m\u001b[37m\u001b[0m \u001b[1m0s\u001b[0m 4ms/step - loss: 0.1646 - mae: 0.2896\n",
      "Validation Loss: 0.1769939810037613, Validation MAE: 0.29995179176330566\n"
     ]
    },
    {
     "name": "stderr",
     "output_type": "stream",
     "text": [
      "[I 2025-06-07 23:14:41,245] Trial 56 finished with value: 0.1769939661026001 and parameters: {'seq_type': 'GRU', 'seq_units': 16, 'dense_units': 11, 'activation': 'relu', 'optimizer': 'rmsprop', 'dropout': 0.09782911710849285, 'learning_rate': 0.006106842917601101, 'batch_size': 128}. Best is trial 56 with value: 0.1769939661026001.\n"
     ]
    },
    {
     "data": {
      "text/html": [
       "<pre style=\"white-space:pre;overflow-x:auto;line-height:normal;font-family:Menlo,'DejaVu Sans Mono',consolas,'Courier New',monospace\"></pre>\n"
      ],
      "text/plain": []
     },
     "metadata": {},
     "output_type": "display_data"
    },
    {
     "name": "stdout",
     "output_type": "stream",
     "text": [
      "\u001b[1m23/23\u001b[0m \u001b[32m━━━━━━━━━━━━━━━━━━━━\u001b[0m\u001b[37m\u001b[0m \u001b[1m0s\u001b[0m 3ms/step - loss: 0.1931 - mae: 0.2995 \n",
      "Validation Loss: 0.1998278945684433, Validation MAE: 0.31224197149276733\n"
     ]
    },
    {
     "name": "stderr",
     "output_type": "stream",
     "text": [
      "[I 2025-06-07 23:15:09,911] Trial 57 finished with value: 0.1998278945684433 and parameters: {'seq_type': 'GRU', 'seq_units': 17, 'dense_units': 11, 'activation': 'relu', 'optimizer': 'rmsprop', 'dropout': 0.09831165263573466, 'learning_rate': 0.005917149098483479, 'batch_size': 128}. Best is trial 56 with value: 0.1769939661026001.\n"
     ]
    },
    {
     "data": {
      "text/html": [
       "<pre style=\"white-space:pre;overflow-x:auto;line-height:normal;font-family:Menlo,'DejaVu Sans Mono',consolas,'Courier New',monospace\"></pre>\n"
      ],
      "text/plain": []
     },
     "metadata": {},
     "output_type": "display_data"
    },
    {
     "name": "stdout",
     "output_type": "stream",
     "text": [
      "\u001b[1m23/23\u001b[0m \u001b[32m━━━━━━━━━━━━━━━━━━━━\u001b[0m\u001b[37m\u001b[0m \u001b[1m0s\u001b[0m 5ms/step - loss: 0.1788 - mae: 0.2934\n",
      "Validation Loss: 0.18430431187152863, Validation MAE: 0.3063684105873108\n"
     ]
    },
    {
     "name": "stderr",
     "output_type": "stream",
     "text": [
      "[I 2025-06-07 23:15:46,437] Trial 58 finished with value: 0.18430429697036743 and parameters: {'seq_type': 'GRU', 'seq_units': 14, 'dense_units': 12, 'activation': 'relu', 'optimizer': 'rmsprop', 'dropout': 0.09564622211428031, 'learning_rate': 0.009336548661430926, 'batch_size': 128}. Best is trial 56 with value: 0.1769939661026001.\n"
     ]
    },
    {
     "data": {
      "text/html": [
       "<pre style=\"white-space:pre;overflow-x:auto;line-height:normal;font-family:Menlo,'DejaVu Sans Mono',consolas,'Courier New',monospace\"></pre>\n"
      ],
      "text/plain": []
     },
     "metadata": {},
     "output_type": "display_data"
    },
    {
     "name": "stdout",
     "output_type": "stream",
     "text": [
      "\u001b[1m23/23\u001b[0m \u001b[32m━━━━━━━━━━━━━━━━━━━━\u001b[0m\u001b[37m\u001b[0m \u001b[1m0s\u001b[0m 3ms/step - loss: 0.1777 - mae: 0.2867 \n",
      "Validation Loss: 0.1931893527507782, Validation MAE: 0.3036457598209381\n"
     ]
    },
    {
     "name": "stderr",
     "output_type": "stream",
     "text": [
      "[I 2025-06-07 23:16:13,366] Trial 59 finished with value: 0.1931893229484558 and parameters: {'seq_type': 'GRU', 'seq_units': 14, 'dense_units': 12, 'activation': 'relu', 'optimizer': 'rmsprop', 'dropout': 0.09525979876195735, 'learning_rate': 0.004359860251914909, 'batch_size': 128}. Best is trial 56 with value: 0.1769939661026001.\n"
     ]
    },
    {
     "data": {
      "text/html": [
       "<pre style=\"white-space:pre;overflow-x:auto;line-height:normal;font-family:Menlo,'DejaVu Sans Mono',consolas,'Courier New',monospace\"></pre>\n"
      ],
      "text/plain": []
     },
     "metadata": {},
     "output_type": "display_data"
    },
    {
     "name": "stdout",
     "output_type": "stream",
     "text": [
      "\u001b[1m23/23\u001b[0m \u001b[32m━━━━━━━━━━━━━━━━━━━━\u001b[0m\u001b[37m\u001b[0m \u001b[1m0s\u001b[0m 3ms/step - loss: 0.1922 - mae: 0.3017 \n",
      "Validation Loss: 0.19728659093379974, Validation MAE: 0.3136005699634552\n"
     ]
    },
    {
     "name": "stderr",
     "output_type": "stream",
     "text": [
      "[I 2025-06-07 23:17:02,601] Trial 60 finished with value: 0.19728659093379974 and parameters: {'seq_type': 'GRU', 'seq_units': 15, 'dense_units': 12, 'activation': 'relu', 'optimizer': 'adam', 'dropout': 0.09120604957604686, 'learning_rate': 0.008795245382451423, 'batch_size': 128}. Best is trial 56 with value: 0.1769939661026001.\n"
     ]
    },
    {
     "data": {
      "text/html": [
       "<pre style=\"white-space:pre;overflow-x:auto;line-height:normal;font-family:Menlo,'DejaVu Sans Mono',consolas,'Courier New',monospace\"></pre>\n"
      ],
      "text/plain": []
     },
     "metadata": {},
     "output_type": "display_data"
    },
    {
     "name": "stdout",
     "output_type": "stream",
     "text": [
      "\u001b[1m23/23\u001b[0m \u001b[32m━━━━━━━━━━━━━━━━━━━━\u001b[0m\u001b[37m\u001b[0m \u001b[1m0s\u001b[0m 4ms/step - loss: 0.1707 - mae: 0.2850\n",
      "Validation Loss: 0.18383856117725372, Validation MAE: 0.2998962700366974\n"
     ]
    },
    {
     "name": "stderr",
     "output_type": "stream",
     "text": [
      "[I 2025-06-07 23:17:40,691] Trial 61 finished with value: 0.18383856117725372 and parameters: {'seq_type': 'GRU', 'seq_units': 13, 'dense_units': 11, 'activation': 'relu', 'optimizer': 'rmsprop', 'dropout': 0.09604624665998336, 'learning_rate': 0.006637964081259956, 'batch_size': 128}. Best is trial 56 with value: 0.1769939661026001.\n"
     ]
    },
    {
     "data": {
      "text/html": [
       "<pre style=\"white-space:pre;overflow-x:auto;line-height:normal;font-family:Menlo,'DejaVu Sans Mono',consolas,'Courier New',monospace\"></pre>\n"
      ],
      "text/plain": []
     },
     "metadata": {},
     "output_type": "display_data"
    },
    {
     "name": "stdout",
     "output_type": "stream",
     "text": [
      "\u001b[1m23/23\u001b[0m \u001b[32m━━━━━━━━━━━━━━━━━━━━\u001b[0m\u001b[37m\u001b[0m \u001b[1m0s\u001b[0m 6ms/step - loss: 0.1663 - mae: 0.2833\n",
      "Validation Loss: 0.17594891786575317, Validation MAE: 0.2920491695404053\n"
     ]
    },
    {
     "name": "stderr",
     "output_type": "stream",
     "text": [
      "[I 2025-06-07 23:18:23,111] Trial 62 finished with value: 0.17594891786575317 and parameters: {'seq_type': 'GRU', 'seq_units': 19, 'dense_units': 11, 'activation': 'relu', 'optimizer': 'rmsprop', 'dropout': 0.09528981897996339, 'learning_rate': 0.007041981579545088, 'batch_size': 128}. Best is trial 62 with value: 0.17594891786575317.\n"
     ]
    },
    {
     "data": {
      "text/html": [
       "<pre style=\"white-space:pre;overflow-x:auto;line-height:normal;font-family:Menlo,'DejaVu Sans Mono',consolas,'Courier New',monospace\"></pre>\n"
      ],
      "text/plain": []
     },
     "metadata": {},
     "output_type": "display_data"
    },
    {
     "name": "stdout",
     "output_type": "stream",
     "text": [
      "\u001b[1m23/23\u001b[0m \u001b[32m━━━━━━━━━━━━━━━━━━━━\u001b[0m\u001b[37m\u001b[0m \u001b[1m0s\u001b[0m 12ms/step - loss: 0.1684 - mae: 0.2776\n",
      "Validation Loss: 0.18382643163204193, Validation MAE: 0.2943425178527832\n"
     ]
    },
    {
     "name": "stderr",
     "output_type": "stream",
     "text": [
      "[I 2025-06-07 23:19:04,754] Trial 63 finished with value: 0.18382644653320312 and parameters: {'seq_type': 'GRU', 'seq_units': 19, 'dense_units': 11, 'activation': 'relu', 'optimizer': 'rmsprop', 'dropout': 0.09579903036163918, 'learning_rate': 0.006890417684553824, 'batch_size': 128}. Best is trial 62 with value: 0.17594891786575317.\n"
     ]
    },
    {
     "data": {
      "text/html": [
       "<pre style=\"white-space:pre;overflow-x:auto;line-height:normal;font-family:Menlo,'DejaVu Sans Mono',consolas,'Courier New',monospace\"></pre>\n"
      ],
      "text/plain": []
     },
     "metadata": {},
     "output_type": "display_data"
    },
    {
     "name": "stdout",
     "output_type": "stream",
     "text": [
      "\u001b[1m23/23\u001b[0m \u001b[32m━━━━━━━━━━━━━━━━━━━━\u001b[0m\u001b[37m\u001b[0m \u001b[1m0s\u001b[0m 10ms/step - loss: 0.1616 - mae: 0.2835\n",
      "Validation Loss: 0.17824245989322662, Validation MAE: 0.29865843057632446\n"
     ]
    },
    {
     "name": "stderr",
     "output_type": "stream",
     "text": [
      "[I 2025-06-07 23:20:11,610] Trial 64 finished with value: 0.17824245989322662 and parameters: {'seq_type': 'GRU', 'seq_units': 20, 'dense_units': 11, 'activation': 'relu', 'optimizer': 'rmsprop', 'dropout': 0.08327687207557416, 'learning_rate': 0.006259384457716199, 'batch_size': 128}. Best is trial 62 with value: 0.17594891786575317.\n"
     ]
    },
    {
     "data": {
      "text/html": [
       "<pre style=\"white-space:pre;overflow-x:auto;line-height:normal;font-family:Menlo,'DejaVu Sans Mono',consolas,'Courier New',monospace\"></pre>\n"
      ],
      "text/plain": []
     },
     "metadata": {},
     "output_type": "display_data"
    },
    {
     "name": "stdout",
     "output_type": "stream",
     "text": [
      "\u001b[1m23/23\u001b[0m \u001b[32m━━━━━━━━━━━━━━━━━━━━\u001b[0m\u001b[37m\u001b[0m \u001b[1m0s\u001b[0m 8ms/step - loss: 0.1693 - mae: 0.2914\n",
      "Validation Loss: 0.17471152544021606, Validation MAE: 0.29726243019104004\n"
     ]
    },
    {
     "name": "stderr",
     "output_type": "stream",
     "text": [
      "[I 2025-06-07 23:21:20,071] Trial 65 finished with value: 0.17471152544021606 and parameters: {'seq_type': 'GRU', 'seq_units': 20, 'dense_units': 11, 'activation': 'relu', 'optimizer': 'rmsprop', 'dropout': 0.08350381257918045, 'learning_rate': 0.006432478981342996, 'batch_size': 128}. Best is trial 65 with value: 0.17471152544021606.\n"
     ]
    },
    {
     "data": {
      "text/html": [
       "<pre style=\"white-space:pre;overflow-x:auto;line-height:normal;font-family:Menlo,'DejaVu Sans Mono',consolas,'Courier New',monospace\"></pre>\n"
      ],
      "text/plain": []
     },
     "metadata": {},
     "output_type": "display_data"
    },
    {
     "name": "stdout",
     "output_type": "stream",
     "text": [
      "\u001b[1m23/23\u001b[0m \u001b[32m━━━━━━━━━━━━━━━━━━━━\u001b[0m\u001b[37m\u001b[0m \u001b[1m0s\u001b[0m 11ms/step - loss: 0.1801 - mae: 0.2973\n",
      "Validation Loss: 0.19409599900245667, Validation MAE: 0.3123171627521515\n"
     ]
    },
    {
     "name": "stderr",
     "output_type": "stream",
     "text": [
      "[I 2025-06-07 23:22:15,776] Trial 66 finished with value: 0.19409601390361786 and parameters: {'seq_type': 'GRU', 'seq_units': 20, 'dense_units': 11, 'activation': 'relu', 'optimizer': 'rmsprop', 'dropout': 0.08347308170736323, 'learning_rate': 0.00490642750080186, 'batch_size': 128}. Best is trial 65 with value: 0.17471152544021606.\n"
     ]
    },
    {
     "data": {
      "text/html": [
       "<pre style=\"white-space:pre;overflow-x:auto;line-height:normal;font-family:Menlo,'DejaVu Sans Mono',consolas,'Courier New',monospace\"></pre>\n"
      ],
      "text/plain": []
     },
     "metadata": {},
     "output_type": "display_data"
    },
    {
     "name": "stdout",
     "output_type": "stream",
     "text": [
      "\u001b[1m23/23\u001b[0m \u001b[32m━━━━━━━━━━━━━━━━━━━━\u001b[0m\u001b[37m\u001b[0m \u001b[1m0s\u001b[0m 10ms/step - loss: 0.1737 - mae: 0.3018\n",
      "Validation Loss: 0.1854988932609558, Validation MAE: 0.31395840644836426\n"
     ]
    },
    {
     "name": "stderr",
     "output_type": "stream",
     "text": [
      "[I 2025-06-07 23:23:28,566] Trial 67 finished with value: 0.1854988932609558 and parameters: {'seq_type': 'GRU', 'seq_units': 20, 'dense_units': 11, 'activation': 'relu', 'optimizer': 'rmsprop', 'dropout': 0.08513570985567495, 'learning_rate': 0.007209079766337496, 'batch_size': 128}. Best is trial 65 with value: 0.17471152544021606.\n"
     ]
    },
    {
     "data": {
      "text/html": [
       "<pre style=\"white-space:pre;overflow-x:auto;line-height:normal;font-family:Menlo,'DejaVu Sans Mono',consolas,'Courier New',monospace\"></pre>\n"
      ],
      "text/plain": []
     },
     "metadata": {},
     "output_type": "display_data"
    },
    {
     "name": "stdout",
     "output_type": "stream",
     "text": [
      "\u001b[1m23/23\u001b[0m \u001b[32m━━━━━━━━━━━━━━━━━━━━\u001b[0m\u001b[37m\u001b[0m \u001b[1m0s\u001b[0m 13ms/step - loss: 0.1703 - mae: 0.2897\n",
      "Validation Loss: 0.18738700449466705, Validation MAE: 0.3035299777984619\n"
     ]
    },
    {
     "name": "stderr",
     "output_type": "stream",
     "text": [
      "[I 2025-06-07 23:25:44,566] Trial 68 finished with value: 0.18738700449466705 and parameters: {'seq_type': 'GRU', 'seq_units': 18, 'dense_units': 10, 'activation': 'relu', 'optimizer': 'rmsprop', 'dropout': 0.09146729346326901, 'learning_rate': 0.002597284407803947, 'batch_size': 64}. Best is trial 65 with value: 0.17471152544021606.\n"
     ]
    },
    {
     "data": {
      "text/html": [
       "<pre style=\"white-space:pre;overflow-x:auto;line-height:normal;font-family:Menlo,'DejaVu Sans Mono',consolas,'Courier New',monospace\"></pre>\n"
      ],
      "text/plain": []
     },
     "metadata": {},
     "output_type": "display_data"
    },
    {
     "name": "stdout",
     "output_type": "stream",
     "text": [
      "\u001b[1m23/23\u001b[0m \u001b[32m━━━━━━━━━━━━━━━━━━━━\u001b[0m\u001b[37m\u001b[0m \u001b[1m0s\u001b[0m 12ms/step - loss: 0.1760 - mae: 0.2884\n",
      "Validation Loss: 0.18477307260036469, Validation MAE: 0.3003188967704773\n"
     ]
    },
    {
     "name": "stderr",
     "output_type": "stream",
     "text": [
      "[I 2025-06-07 23:27:02,464] Trial 69 finished with value: 0.18477307260036469 and parameters: {'seq_type': 'LSTM', 'seq_units': 19, 'dense_units': 11, 'activation': 'relu', 'optimizer': 'rmsprop', 'dropout': 0.09291717973289068, 'learning_rate': 0.003549658729025603, 'batch_size': 128}. Best is trial 65 with value: 0.17471152544021606.\n"
     ]
    },
    {
     "data": {
      "text/html": [
       "<pre style=\"white-space:pre;overflow-x:auto;line-height:normal;font-family:Menlo,'DejaVu Sans Mono',consolas,'Courier New',monospace\"></pre>\n"
      ],
      "text/plain": []
     },
     "metadata": {},
     "output_type": "display_data"
    },
    {
     "name": "stdout",
     "output_type": "stream",
     "text": [
      "\u001b[1m23/23\u001b[0m \u001b[32m━━━━━━━━━━━━━━━━━━━━\u001b[0m\u001b[37m\u001b[0m \u001b[1m0s\u001b[0m 10ms/step - loss: 0.1743 - mae: 0.2902\n",
      "Validation Loss: 0.18299633264541626, Validation MAE: 0.30187734961509705\n"
     ]
    },
    {
     "name": "stderr",
     "output_type": "stream",
     "text": [
      "[I 2025-06-07 23:28:22,120] Trial 70 finished with value: 0.18299630284309387 and parameters: {'seq_type': 'GRU', 'seq_units': 16, 'dense_units': 12, 'activation': 'relu', 'optimizer': 'rmsprop', 'dropout': 0.08058387063623068, 'learning_rate': 0.005285918614064597, 'batch_size': 128}. Best is trial 65 with value: 0.17471152544021606.\n"
     ]
    },
    {
     "data": {
      "text/html": [
       "<pre style=\"white-space:pre;overflow-x:auto;line-height:normal;font-family:Menlo,'DejaVu Sans Mono',consolas,'Courier New',monospace\"></pre>\n"
      ],
      "text/plain": []
     },
     "metadata": {},
     "output_type": "display_data"
    },
    {
     "name": "stdout",
     "output_type": "stream",
     "text": [
      "\u001b[1m23/23\u001b[0m \u001b[32m━━━━━━━━━━━━━━━━━━━━\u001b[0m\u001b[37m\u001b[0m \u001b[1m0s\u001b[0m 18ms/step - loss: 0.1694 - mae: 0.2974\n",
      "Validation Loss: 0.18211884796619415, Validation MAE: 0.3029238283634186\n"
     ]
    },
    {
     "name": "stderr",
     "output_type": "stream",
     "text": [
      "[I 2025-06-07 23:29:28,204] Trial 71 finished with value: 0.18211884796619415 and parameters: {'seq_type': 'GRU', 'seq_units': 16, 'dense_units': 12, 'activation': 'relu', 'optimizer': 'rmsprop', 'dropout': 0.08163407111966857, 'learning_rate': 0.0053633836510893285, 'batch_size': 128}. Best is trial 65 with value: 0.17471152544021606.\n"
     ]
    },
    {
     "data": {
      "text/html": [
       "<pre style=\"white-space:pre;overflow-x:auto;line-height:normal;font-family:Menlo,'DejaVu Sans Mono',consolas,'Courier New',monospace\"></pre>\n"
      ],
      "text/plain": []
     },
     "metadata": {},
     "output_type": "display_data"
    },
    {
     "name": "stdout",
     "output_type": "stream",
     "text": [
      "\u001b[1m23/23\u001b[0m \u001b[32m━━━━━━━━━━━━━━━━━━━━\u001b[0m\u001b[37m\u001b[0m \u001b[1m0s\u001b[0m 7ms/step - loss: 0.1877 - mae: 0.2961\n",
      "Validation Loss: 0.20335116982460022, Validation MAE: 0.3127618134021759\n"
     ]
    },
    {
     "name": "stderr",
     "output_type": "stream",
     "text": [
      "[I 2025-06-07 23:30:31,471] Trial 72 finished with value: 0.20335116982460022 and parameters: {'seq_type': 'GRU', 'seq_units': 16, 'dense_units': 12, 'activation': 'relu', 'optimizer': 'rmsprop', 'dropout': 0.0887493987328963, 'learning_rate': 0.005651248919698467, 'batch_size': 128}. Best is trial 65 with value: 0.17471152544021606.\n"
     ]
    },
    {
     "data": {
      "text/html": [
       "<pre style=\"white-space:pre;overflow-x:auto;line-height:normal;font-family:Menlo,'DejaVu Sans Mono',consolas,'Courier New',monospace\"></pre>\n"
      ],
      "text/plain": []
     },
     "metadata": {},
     "output_type": "display_data"
    },
    {
     "name": "stdout",
     "output_type": "stream",
     "text": [
      "\u001b[1m23/23\u001b[0m \u001b[32m━━━━━━━━━━━━━━━━━━━━\u001b[0m\u001b[37m\u001b[0m \u001b[1m0s\u001b[0m 17ms/step - loss: 0.1606 - mae: 0.2817\n",
      "Validation Loss: 0.17985183000564575, Validation MAE: 0.2998557984828949\n"
     ]
    },
    {
     "name": "stderr",
     "output_type": "stream",
     "text": [
      "[I 2025-06-07 23:31:42,423] Trial 73 finished with value: 0.17985183000564575 and parameters: {'seq_type': 'GRU', 'seq_units': 16, 'dense_units': 12, 'activation': 'relu', 'optimizer': 'rmsprop', 'dropout': 0.07990421724917672, 'learning_rate': 0.003913193763248663, 'batch_size': 128}. Best is trial 65 with value: 0.17471152544021606.\n"
     ]
    },
    {
     "data": {
      "text/html": [
       "<pre style=\"white-space:pre;overflow-x:auto;line-height:normal;font-family:Menlo,'DejaVu Sans Mono',consolas,'Courier New',monospace\"></pre>\n"
      ],
      "text/plain": []
     },
     "metadata": {},
     "output_type": "display_data"
    },
    {
     "name": "stdout",
     "output_type": "stream",
     "text": [
      "\u001b[1m23/23\u001b[0m \u001b[32m━━━━━━━━━━━━━━━━━━━━\u001b[0m\u001b[37m\u001b[0m \u001b[1m0s\u001b[0m 8ms/step - loss: 0.1695 - mae: 0.2916\n",
      "Validation Loss: 0.18179838359355927, Validation MAE: 0.30376026034355164\n"
     ]
    },
    {
     "name": "stderr",
     "output_type": "stream",
     "text": [
      "[I 2025-06-07 23:33:06,189] Trial 74 finished with value: 0.18179838359355927 and parameters: {'seq_type': 'GRU', 'seq_units': 22, 'dense_units': 12, 'activation': 'relu', 'optimizer': 'rmsprop', 'dropout': 0.08327873651017983, 'learning_rate': 0.004009902237749808, 'batch_size': 128}. Best is trial 65 with value: 0.17471152544021606.\n"
     ]
    },
    {
     "data": {
      "text/html": [
       "<pre style=\"white-space:pre;overflow-x:auto;line-height:normal;font-family:Menlo,'DejaVu Sans Mono',consolas,'Courier New',monospace\"></pre>\n"
      ],
      "text/plain": []
     },
     "metadata": {},
     "output_type": "display_data"
    },
    {
     "name": "stdout",
     "output_type": "stream",
     "text": [
      "\u001b[1m23/23\u001b[0m \u001b[32m━━━━━━━━━━━━━━━━━━━━\u001b[0m\u001b[37m\u001b[0m \u001b[1m0s\u001b[0m 11ms/step - loss: 0.1772 - mae: 0.2981\n",
      "Validation Loss: 0.19413642585277557, Validation MAE: 0.30998414754867554\n"
     ]
    },
    {
     "name": "stderr",
     "output_type": "stream",
     "text": [
      "[I 2025-06-07 23:34:34,413] Trial 75 finished with value: 0.19413642585277557 and parameters: {'seq_type': 'GRU', 'seq_units': 22, 'dense_units': 12, 'activation': 'relu', 'optimizer': 'rmsprop', 'dropout': 0.08308744447025998, 'learning_rate': 0.0019797247570451323, 'batch_size': 128}. Best is trial 65 with value: 0.17471152544021606.\n"
     ]
    },
    {
     "data": {
      "text/html": [
       "<pre style=\"white-space:pre;overflow-x:auto;line-height:normal;font-family:Menlo,'DejaVu Sans Mono',consolas,'Courier New',monospace\"></pre>\n"
      ],
      "text/plain": []
     },
     "metadata": {},
     "output_type": "display_data"
    },
    {
     "name": "stdout",
     "output_type": "stream",
     "text": [
      "\u001b[1m23/23\u001b[0m \u001b[32m━━━━━━━━━━━━━━━━━━━━\u001b[0m\u001b[37m\u001b[0m \u001b[1m0s\u001b[0m 4ms/step - loss: 0.1888 - mae: 0.3032\n",
      "Validation Loss: 0.20517310500144958, Validation MAE: 0.31790339946746826\n"
     ]
    },
    {
     "name": "stderr",
     "output_type": "stream",
     "text": [
      "[I 2025-06-07 23:35:05,619] Trial 76 finished with value: 0.2051730901002884 and parameters: {'seq_type': 'GRU', 'seq_units': 17, 'dense_units': 12, 'activation': 'relu', 'optimizer': 'rmsprop', 'dropout': 0.07655814747458325, 'learning_rate': 0.003983010476424939, 'batch_size': 128}. Best is trial 65 with value: 0.17471152544021606.\n"
     ]
    },
    {
     "data": {
      "text/html": [
       "<pre style=\"white-space:pre;overflow-x:auto;line-height:normal;font-family:Menlo,'DejaVu Sans Mono',consolas,'Courier New',monospace\"></pre>\n"
      ],
      "text/plain": []
     },
     "metadata": {},
     "output_type": "display_data"
    },
    {
     "name": "stdout",
     "output_type": "stream",
     "text": [
      "\u001b[1m23/23\u001b[0m \u001b[32m━━━━━━━━━━━━━━━━━━━━\u001b[0m\u001b[37m\u001b[0m \u001b[1m0s\u001b[0m 3ms/step - loss: 0.1689 - mae: 0.2921\n",
      "Validation Loss: 0.18421167135238647, Validation MAE: 0.3032352328300476\n"
     ]
    },
    {
     "name": "stderr",
     "output_type": "stream",
     "text": [
      "[I 2025-06-07 23:35:53,039] Trial 77 finished with value: 0.18421168625354767 and parameters: {'seq_type': 'GRU', 'seq_units': 12, 'dense_units': 12, 'activation': 'relu', 'optimizer': 'rmsprop', 'dropout': 0.08514291053972835, 'learning_rate': 0.003027216788645805, 'batch_size': 128}. Best is trial 65 with value: 0.17471152544021606.\n"
     ]
    },
    {
     "data": {
      "text/html": [
       "<pre style=\"white-space:pre;overflow-x:auto;line-height:normal;font-family:Menlo,'DejaVu Sans Mono',consolas,'Courier New',monospace\"></pre>\n"
      ],
      "text/plain": []
     },
     "metadata": {},
     "output_type": "display_data"
    },
    {
     "name": "stdout",
     "output_type": "stream",
     "text": [
      "\u001b[1m23/23\u001b[0m \u001b[32m━━━━━━━━━━━━━━━━━━━━\u001b[0m\u001b[37m\u001b[0m \u001b[1m0s\u001b[0m 7ms/step - loss: 0.1726 - mae: 0.2885\n",
      "Validation Loss: 0.18870800733566284, Validation MAE: 0.3021201193332672\n"
     ]
    },
    {
     "name": "stderr",
     "output_type": "stream",
     "text": [
      "[I 2025-06-07 23:37:01,217] Trial 78 finished with value: 0.18870800733566284 and parameters: {'seq_type': 'GRU', 'seq_units': 19, 'dense_units': 12, 'activation': 'relu', 'optimizer': 'rmsprop', 'dropout': 0.08051981967366174, 'learning_rate': 0.0014627107416966831, 'batch_size': 64}. Best is trial 65 with value: 0.17471152544021606.\n"
     ]
    },
    {
     "data": {
      "text/html": [
       "<pre style=\"white-space:pre;overflow-x:auto;line-height:normal;font-family:Menlo,'DejaVu Sans Mono',consolas,'Courier New',monospace\"></pre>\n"
      ],
      "text/plain": []
     },
     "metadata": {},
     "output_type": "display_data"
    },
    {
     "name": "stdout",
     "output_type": "stream",
     "text": [
      "\u001b[1m23/23\u001b[0m \u001b[32m━━━━━━━━━━━━━━━━━━━━\u001b[0m\u001b[37m\u001b[0m \u001b[1m0s\u001b[0m 4ms/step - loss: 0.1893 - mae: 0.2988\n",
      "Validation Loss: 0.20010124146938324, Validation MAE: 0.31300005316734314\n"
     ]
    },
    {
     "name": "stderr",
     "output_type": "stream",
     "text": [
      "[I 2025-06-07 23:37:43,956] Trial 79 finished with value: 0.20010125637054443 and parameters: {'seq_type': 'LSTM', 'seq_units': 21, 'dense_units': 11, 'activation': 'relu', 'optimizer': 'adam', 'dropout': 0.09858230504844255, 'learning_rate': 0.0045479305664319755, 'batch_size': 128}. Best is trial 65 with value: 0.17471152544021606.\n"
     ]
    },
    {
     "data": {
      "text/html": [
       "<pre style=\"white-space:pre;overflow-x:auto;line-height:normal;font-family:Menlo,'DejaVu Sans Mono',consolas,'Courier New',monospace\"></pre>\n"
      ],
      "text/plain": []
     },
     "metadata": {},
     "output_type": "display_data"
    },
    {
     "name": "stdout",
     "output_type": "stream",
     "text": [
      "\u001b[1m23/23\u001b[0m \u001b[32m━━━━━━━━━━━━━━━━━━━━\u001b[0m\u001b[37m\u001b[0m \u001b[1m0s\u001b[0m 3ms/step - loss: 0.1776 - mae: 0.2978 \n",
      "Validation Loss: 0.189704030752182, Validation MAE: 0.30959761142730713\n"
     ]
    },
    {
     "name": "stderr",
     "output_type": "stream",
     "text": [
      "[I 2025-06-07 23:38:22,396] Trial 80 finished with value: 0.189704030752182 and parameters: {'seq_type': 'GRU', 'seq_units': 16, 'dense_units': 12, 'activation': 'relu', 'optimizer': 'rmsprop', 'dropout': 0.07760936867678661, 'learning_rate': 0.002403974297117343, 'batch_size': 128}. Best is trial 65 with value: 0.17471152544021606.\n"
     ]
    },
    {
     "data": {
      "text/html": [
       "<pre style=\"white-space:pre;overflow-x:auto;line-height:normal;font-family:Menlo,'DejaVu Sans Mono',consolas,'Courier New',monospace\"></pre>\n"
      ],
      "text/plain": []
     },
     "metadata": {},
     "output_type": "display_data"
    },
    {
     "name": "stdout",
     "output_type": "stream",
     "text": [
      "\u001b[1m23/23\u001b[0m \u001b[32m━━━━━━━━━━━━━━━━━━━━\u001b[0m\u001b[37m\u001b[0m \u001b[1m0s\u001b[0m 3ms/step - loss: 0.1725 - mae: 0.2946\n",
      "Validation Loss: 0.18808306753635406, Validation MAE: 0.30943840742111206\n"
     ]
    },
    {
     "name": "stderr",
     "output_type": "stream",
     "text": [
      "[I 2025-06-07 23:38:55,454] Trial 81 finished with value: 0.18808308243751526 and parameters: {'seq_type': 'GRU', 'seq_units': 15, 'dense_units': 11, 'activation': 'relu', 'optimizer': 'rmsprop', 'dropout': 0.08929925061368185, 'learning_rate': 0.01011874659179695, 'batch_size': 128}. Best is trial 65 with value: 0.17471152544021606.\n"
     ]
    },
    {
     "data": {
      "text/html": [
       "<pre style=\"white-space:pre;overflow-x:auto;line-height:normal;font-family:Menlo,'DejaVu Sans Mono',consolas,'Courier New',monospace\"></pre>\n"
      ],
      "text/plain": []
     },
     "metadata": {},
     "output_type": "display_data"
    },
    {
     "name": "stdout",
     "output_type": "stream",
     "text": [
      "\u001b[1m23/23\u001b[0m \u001b[32m━━━━━━━━━━━━━━━━━━━━\u001b[0m\u001b[37m\u001b[0m \u001b[1m0s\u001b[0m 3ms/step - loss: 0.1771 - mae: 0.2983 \n",
      "Validation Loss: 0.18720726668834686, Validation MAE: 0.3049628734588623\n"
     ]
    },
    {
     "name": "stderr",
     "output_type": "stream",
     "text": [
      "[I 2025-06-07 23:39:32,006] Trial 82 finished with value: 0.18720726668834686 and parameters: {'seq_type': 'GRU', 'seq_units': 17, 'dense_units': 12, 'activation': 'relu', 'optimizer': 'rmsprop', 'dropout': 0.07155767443462492, 'learning_rate': 0.00814090711460375, 'batch_size': 128}. Best is trial 65 with value: 0.17471152544021606.\n"
     ]
    },
    {
     "data": {
      "text/html": [
       "<pre style=\"white-space:pre;overflow-x:auto;line-height:normal;font-family:Menlo,'DejaVu Sans Mono',consolas,'Courier New',monospace\"></pre>\n"
      ],
      "text/plain": []
     },
     "metadata": {},
     "output_type": "display_data"
    },
    {
     "name": "stdout",
     "output_type": "stream",
     "text": [
      "\u001b[1m23/23\u001b[0m \u001b[32m━━━━━━━━━━━━━━━━━━━━\u001b[0m\u001b[37m\u001b[0m \u001b[1m0s\u001b[0m 5ms/step - loss: 0.1830 - mae: 0.3019\n",
      "Validation Loss: 0.1864224672317505, Validation MAE: 0.3048268258571625\n"
     ]
    },
    {
     "name": "stderr",
     "output_type": "stream",
     "text": [
      "[I 2025-06-07 23:40:18,549] Trial 83 finished with value: 0.18642248213291168 and parameters: {'seq_type': 'GRU', 'seq_units': 20, 'dense_units': 10, 'activation': 'relu', 'optimizer': 'rmsprop', 'dropout': 0.07522969426723825, 'learning_rate': 0.005386863091123242, 'batch_size': 128}. Best is trial 65 with value: 0.17471152544021606.\n"
     ]
    },
    {
     "data": {
      "text/html": [
       "<pre style=\"white-space:pre;overflow-x:auto;line-height:normal;font-family:Menlo,'DejaVu Sans Mono',consolas,'Courier New',monospace\"></pre>\n"
      ],
      "text/plain": []
     },
     "metadata": {},
     "output_type": "display_data"
    },
    {
     "name": "stdout",
     "output_type": "stream",
     "text": [
      "\u001b[1m23/23\u001b[0m \u001b[32m━━━━━━━━━━━━━━━━━━━━\u001b[0m\u001b[37m\u001b[0m \u001b[1m0s\u001b[0m 4ms/step - loss: 0.1756 - mae: 0.2927\n",
      "Validation Loss: 0.1938936859369278, Validation MAE: 0.305532306432724\n"
     ]
    },
    {
     "name": "stderr",
     "output_type": "stream",
     "text": [
      "[I 2025-06-07 23:40:56,476] Trial 84 finished with value: 0.1938936859369278 and parameters: {'seq_type': 'GRU', 'seq_units': 22, 'dense_units': 11, 'activation': 'relu', 'optimizer': 'rmsprop', 'dropout': 0.08335692896601188, 'learning_rate': 0.003124498222561099, 'batch_size': 128}. Best is trial 65 with value: 0.17471152544021606.\n"
     ]
    },
    {
     "data": {
      "text/html": [
       "<pre style=\"white-space:pre;overflow-x:auto;line-height:normal;font-family:Menlo,'DejaVu Sans Mono',consolas,'Courier New',monospace\"></pre>\n"
      ],
      "text/plain": []
     },
     "metadata": {},
     "output_type": "display_data"
    },
    {
     "name": "stdout",
     "output_type": "stream",
     "text": [
      "\u001b[1m23/23\u001b[0m \u001b[32m━━━━━━━━━━━━━━━━━━━━\u001b[0m\u001b[37m\u001b[0m \u001b[1m0s\u001b[0m 4ms/step - loss: 0.1751 - mae: 0.2877\n",
      "Validation Loss: 0.18613533675670624, Validation MAE: 0.2997910976409912\n"
     ]
    },
    {
     "name": "stderr",
     "output_type": "stream",
     "text": [
      "[I 2025-06-07 23:41:33,942] Trial 85 finished with value: 0.18613530695438385 and parameters: {'seq_type': 'GRU', 'seq_units': 18, 'dense_units': 10, 'activation': 'relu', 'optimizer': 'rmsprop', 'dropout': 0.08776923314845073, 'learning_rate': 0.003989302525595627, 'batch_size': 128}. Best is trial 65 with value: 0.17471152544021606.\n"
     ]
    },
    {
     "data": {
      "text/html": [
       "<pre style=\"white-space:pre;overflow-x:auto;line-height:normal;font-family:Menlo,'DejaVu Sans Mono',consolas,'Courier New',monospace\"></pre>\n"
      ],
      "text/plain": []
     },
     "metadata": {},
     "output_type": "display_data"
    },
    {
     "name": "stdout",
     "output_type": "stream",
     "text": [
      "\u001b[1m23/23\u001b[0m \u001b[32m━━━━━━━━━━━━━━━━━━━━\u001b[0m\u001b[37m\u001b[0m \u001b[1m0s\u001b[0m 5ms/step - loss: 0.1701 - mae: 0.2895\n",
      "Validation Loss: 0.18990054726600647, Validation MAE: 0.308860182762146\n"
     ]
    },
    {
     "name": "stderr",
     "output_type": "stream",
     "text": [
      "[I 2025-06-07 23:42:08,823] Trial 86 finished with value: 0.18990054726600647 and parameters: {'seq_type': 'GRU', 'seq_units': 15, 'dense_units': 11, 'activation': 'relu', 'optimizer': 'rmsprop', 'dropout': 0.08137904877009881, 'learning_rate': 0.00688465433831951, 'batch_size': 128}. Best is trial 65 with value: 0.17471152544021606.\n"
     ]
    },
    {
     "data": {
      "text/html": [
       "<pre style=\"white-space:pre;overflow-x:auto;line-height:normal;font-family:Menlo,'DejaVu Sans Mono',consolas,'Courier New',monospace\"></pre>\n"
      ],
      "text/plain": []
     },
     "metadata": {},
     "output_type": "display_data"
    },
    {
     "name": "stdout",
     "output_type": "stream",
     "text": [
      "\u001b[1m23/23\u001b[0m \u001b[32m━━━━━━━━━━━━━━━━━━━━\u001b[0m\u001b[37m\u001b[0m \u001b[1m0s\u001b[0m 6ms/step - loss: 0.1666 - mae: 0.2896\n",
      "Validation Loss: 0.18253688514232635, Validation MAE: 0.3029243052005768\n"
     ]
    },
    {
     "name": "stderr",
     "output_type": "stream",
     "text": [
      "[I 2025-06-07 23:42:49,586] Trial 87 finished with value: 0.18253688514232635 and parameters: {'seq_type': 'GRU', 'seq_units': 23, 'dense_units': 12, 'activation': 'relu', 'optimizer': 'rmsprop', 'dropout': 0.09281634546316886, 'learning_rate': 0.007811613362290224, 'batch_size': 128}. Best is trial 65 with value: 0.17471152544021606.\n"
     ]
    },
    {
     "data": {
      "text/html": [
       "<pre style=\"white-space:pre;overflow-x:auto;line-height:normal;font-family:Menlo,'DejaVu Sans Mono',consolas,'Courier New',monospace\"></pre>\n"
      ],
      "text/plain": []
     },
     "metadata": {},
     "output_type": "display_data"
    },
    {
     "name": "stdout",
     "output_type": "stream",
     "text": [
      "\u001b[1m23/23\u001b[0m \u001b[32m━━━━━━━━━━━━━━━━━━━━\u001b[0m\u001b[37m\u001b[0m \u001b[1m0s\u001b[0m 4ms/step - loss: 0.1959 - mae: 0.3094\n",
      "Validation Loss: 0.206010103225708, Validation MAE: 0.320986270904541\n"
     ]
    },
    {
     "name": "stderr",
     "output_type": "stream",
     "text": [
      "[I 2025-06-07 23:43:20,046] Trial 88 finished with value: 0.2060101181268692 and parameters: {'seq_type': 'GRU', 'seq_units': 23, 'dense_units': 4, 'activation': 'relu', 'optimizer': 'rmsprop', 'dropout': 0.040925234985271675, 'learning_rate': 0.010983692690193489, 'batch_size': 128}. Best is trial 65 with value: 0.17471152544021606.\n"
     ]
    },
    {
     "data": {
      "text/html": [
       "<pre style=\"white-space:pre;overflow-x:auto;line-height:normal;font-family:Menlo,'DejaVu Sans Mono',consolas,'Courier New',monospace\"></pre>\n"
      ],
      "text/plain": []
     },
     "metadata": {},
     "output_type": "display_data"
    },
    {
     "name": "stdout",
     "output_type": "stream",
     "text": [
      "\u001b[1m23/23\u001b[0m \u001b[32m━━━━━━━━━━━━━━━━━━━━\u001b[0m\u001b[37m\u001b[0m \u001b[1m0s\u001b[0m 4ms/step - loss: 0.1682 - mae: 0.2839 \n",
      "Validation Loss: 0.1761014461517334, Validation MAE: 0.2940499186515808\n"
     ]
    },
    {
     "name": "stderr",
     "output_type": "stream",
     "text": [
      "[I 2025-06-07 23:43:58,016] Trial 89 finished with value: 0.1761014461517334 and parameters: {'seq_type': 'GRU', 'seq_units': 23, 'dense_units': 12, 'activation': 'relu', 'optimizer': 'rmsprop', 'dropout': 0.0930427698113781, 'learning_rate': 0.004643373601212098, 'batch_size': 128}. Best is trial 65 with value: 0.17471152544021606.\n"
     ]
    },
    {
     "data": {
      "text/html": [
       "<pre style=\"white-space:pre;overflow-x:auto;line-height:normal;font-family:Menlo,'DejaVu Sans Mono',consolas,'Courier New',monospace\"></pre>\n"
      ],
      "text/plain": []
     },
     "metadata": {},
     "output_type": "display_data"
    },
    {
     "name": "stdout",
     "output_type": "stream",
     "text": [
      "\u001b[1m23/23\u001b[0m \u001b[32m━━━━━━━━━━━━━━━━━━━━\u001b[0m\u001b[37m\u001b[0m \u001b[1m0s\u001b[0m 3ms/step - loss: 0.1671 - mae: 0.2918 \n",
      "Validation Loss: 0.17610424757003784, Validation MAE: 0.30235254764556885\n"
     ]
    },
    {
     "name": "stderr",
     "output_type": "stream",
     "text": [
      "[I 2025-06-07 23:44:48,435] Trial 90 finished with value: 0.17610424757003784 and parameters: {'seq_type': 'GRU', 'seq_units': 19, 'dense_units': 12, 'activation': 'relu', 'optimizer': 'rmsprop', 'dropout': 0.0933729074607726, 'learning_rate': 0.004869235625818859, 'batch_size': 64}. Best is trial 65 with value: 0.17471152544021606.\n"
     ]
    },
    {
     "data": {
      "text/html": [
       "<pre style=\"white-space:pre;overflow-x:auto;line-height:normal;font-family:Menlo,'DejaVu Sans Mono',consolas,'Courier New',monospace\"></pre>\n"
      ],
      "text/plain": []
     },
     "metadata": {},
     "output_type": "display_data"
    },
    {
     "name": "stdout",
     "output_type": "stream",
     "text": [
      "\u001b[1m23/23\u001b[0m \u001b[32m━━━━━━━━━━━━━━━━━━━━\u001b[0m\u001b[37m\u001b[0m \u001b[1m0s\u001b[0m 7ms/step - loss: 0.1718 - mae: 0.2822\n",
      "Validation Loss: 0.18505249917507172, Validation MAE: 0.2963750660419464\n"
     ]
    },
    {
     "name": "stderr",
     "output_type": "stream",
     "text": [
      "[I 2025-06-07 23:45:44,126] Trial 91 finished with value: 0.1850525140762329 and parameters: {'seq_type': 'GRU', 'seq_units': 19, 'dense_units': 12, 'activation': 'relu', 'optimizer': 'rmsprop', 'dropout': 0.09768227014274423, 'learning_rate': 0.004844393188016621, 'batch_size': 64}. Best is trial 65 with value: 0.17471152544021606.\n"
     ]
    },
    {
     "data": {
      "text/html": [
       "<pre style=\"white-space:pre;overflow-x:auto;line-height:normal;font-family:Menlo,'DejaVu Sans Mono',consolas,'Courier New',monospace\"></pre>\n"
      ],
      "text/plain": []
     },
     "metadata": {},
     "output_type": "display_data"
    },
    {
     "name": "stdout",
     "output_type": "stream",
     "text": [
      "\u001b[1m23/23\u001b[0m \u001b[32m━━━━━━━━━━━━━━━━━━━━\u001b[0m\u001b[37m\u001b[0m \u001b[1m0s\u001b[0m 3ms/step - loss: 0.1721 - mae: 0.2893 \n",
      "Validation Loss: 0.18623138964176178, Validation MAE: 0.30471134185791016\n"
     ]
    },
    {
     "name": "stderr",
     "output_type": "stream",
     "text": [
      "[I 2025-06-07 23:46:35,966] Trial 92 finished with value: 0.18623140454292297 and parameters: {'seq_type': 'GRU', 'seq_units': 21, 'dense_units': 12, 'activation': 'relu', 'optimizer': 'rmsprop', 'dropout': 0.09352880750744394, 'learning_rate': 0.004067198450581166, 'batch_size': 64}. Best is trial 65 with value: 0.17471152544021606.\n"
     ]
    },
    {
     "data": {
      "text/html": [
       "<pre style=\"white-space:pre;overflow-x:auto;line-height:normal;font-family:Menlo,'DejaVu Sans Mono',consolas,'Courier New',monospace\"></pre>\n"
      ],
      "text/plain": []
     },
     "metadata": {},
     "output_type": "display_data"
    },
    {
     "name": "stdout",
     "output_type": "stream",
     "text": [
      "\u001b[1m23/23\u001b[0m \u001b[32m━━━━━━━━━━━━━━━━━━━━\u001b[0m\u001b[37m\u001b[0m \u001b[1m0s\u001b[0m 4ms/step - loss: 0.1757 - mae: 0.2868\n",
      "Validation Loss: 0.19590134918689728, Validation MAE: 0.30567777156829834\n"
     ]
    },
    {
     "name": "stderr",
     "output_type": "stream",
     "text": [
      "[I 2025-06-07 23:47:14,436] Trial 93 finished with value: 0.19590134918689728 and parameters: {'seq_type': 'GRU', 'seq_units': 18, 'dense_units': 12, 'activation': 'relu', 'optimizer': 'rmsprop', 'dropout': 0.0863423410863607, 'learning_rate': 0.0034732195643182337, 'batch_size': 64}. Best is trial 65 with value: 0.17471152544021606.\n"
     ]
    },
    {
     "data": {
      "text/html": [
       "<pre style=\"white-space:pre;overflow-x:auto;line-height:normal;font-family:Menlo,'DejaVu Sans Mono',consolas,'Courier New',monospace\"></pre>\n"
      ],
      "text/plain": []
     },
     "metadata": {},
     "output_type": "display_data"
    },
    {
     "name": "stdout",
     "output_type": "stream",
     "text": [
      "\u001b[1m23/23\u001b[0m \u001b[32m━━━━━━━━━━━━━━━━━━━━\u001b[0m\u001b[37m\u001b[0m \u001b[1m0s\u001b[0m 3ms/step - loss: 0.1747 - mae: 0.2888 \n",
      "Validation Loss: 0.18952715396881104, Validation MAE: 0.3012910783290863\n"
     ]
    },
    {
     "name": "stderr",
     "output_type": "stream",
     "text": [
      "[I 2025-06-07 23:47:58,236] Trial 94 finished with value: 0.18952718377113342 and parameters: {'seq_type': 'GRU', 'seq_units': 20, 'dense_units': 12, 'activation': 'relu', 'optimizer': 'rmsprop', 'dropout': 0.09035038337881676, 'learning_rate': 0.002006375341889129, 'batch_size': 64}. Best is trial 65 with value: 0.17471152544021606.\n"
     ]
    },
    {
     "data": {
      "text/html": [
       "<pre style=\"white-space:pre;overflow-x:auto;line-height:normal;font-family:Menlo,'DejaVu Sans Mono',consolas,'Courier New',monospace\"></pre>\n"
      ],
      "text/plain": []
     },
     "metadata": {},
     "output_type": "display_data"
    },
    {
     "name": "stdout",
     "output_type": "stream",
     "text": [
      "\u001b[1m23/23\u001b[0m \u001b[32m━━━━━━━━━━━━━━━━━━━━\u001b[0m\u001b[37m\u001b[0m \u001b[1m0s\u001b[0m 7ms/step - loss: 0.1798 - mae: 0.2912\n",
      "Validation Loss: 0.19521839916706085, Validation MAE: 0.30617743730545044\n"
     ]
    },
    {
     "name": "stderr",
     "output_type": "stream",
     "text": [
      "[I 2025-06-07 23:48:28,452] Trial 95 finished with value: 0.19521838426589966 and parameters: {'seq_type': 'GRU', 'seq_units': 21, 'dense_units': 11, 'activation': 'relu', 'optimizer': 'rmsprop', 'dropout': 0.0996275784111431, 'learning_rate': 0.005970937502781639, 'batch_size': 64}. Best is trial 65 with value: 0.17471152544021606.\n"
     ]
    },
    {
     "data": {
      "text/html": [
       "<pre style=\"white-space:pre;overflow-x:auto;line-height:normal;font-family:Menlo,'DejaVu Sans Mono',consolas,'Courier New',monospace\"></pre>\n"
      ],
      "text/plain": []
     },
     "metadata": {},
     "output_type": "display_data"
    },
    {
     "name": "stdout",
     "output_type": "stream",
     "text": [
      "\u001b[1m23/23\u001b[0m \u001b[32m━━━━━━━━━━━━━━━━━━━━\u001b[0m\u001b[37m\u001b[0m \u001b[1m0s\u001b[0m 3ms/step - loss: 0.1955 - mae: 0.3064 \n",
      "Validation Loss: 0.20234327018260956, Validation MAE: 0.31257164478302\n"
     ]
    },
    {
     "name": "stderr",
     "output_type": "stream",
     "text": [
      "[I 2025-06-07 23:48:56,760] Trial 96 finished with value: 0.20234328508377075 and parameters: {'seq_type': 'SimpleRNN', 'seq_units': 24, 'dense_units': 12, 'activation': 'relu', 'optimizer': 'rmsprop', 'dropout': 0.09378560983119218, 'learning_rate': 0.002864577820651321, 'batch_size': 128}. Best is trial 65 with value: 0.17471152544021606.\n"
     ]
    },
    {
     "data": {
      "text/html": [
       "<pre style=\"white-space:pre;overflow-x:auto;line-height:normal;font-family:Menlo,'DejaVu Sans Mono',consolas,'Courier New',monospace\"></pre>\n"
      ],
      "text/plain": []
     },
     "metadata": {},
     "output_type": "display_data"
    },
    {
     "name": "stdout",
     "output_type": "stream",
     "text": [
      "\u001b[1m23/23\u001b[0m \u001b[32m━━━━━━━━━━━━━━━━━━━━\u001b[0m\u001b[37m\u001b[0m \u001b[1m0s\u001b[0m 3ms/step - loss: 0.1751 - mae: 0.2913 \n",
      "Validation Loss: 0.1857929527759552, Validation MAE: 0.3023689091205597\n"
     ]
    },
    {
     "name": "stderr",
     "output_type": "stream",
     "text": [
      "[I 2025-06-07 23:49:35,870] Trial 97 finished with value: 0.1857929527759552 and parameters: {'seq_type': 'LSTM', 'seq_units': 17, 'dense_units': 11, 'activation': 'relu', 'optimizer': 'rmsprop', 'dropout': 0.09726995048790744, 'learning_rate': 0.0047758264967035285, 'batch_size': 128}. Best is trial 65 with value: 0.17471152544021606.\n"
     ]
    },
    {
     "data": {
      "text/html": [
       "<pre style=\"white-space:pre;overflow-x:auto;line-height:normal;font-family:Menlo,'DejaVu Sans Mono',consolas,'Courier New',monospace\"></pre>\n"
      ],
      "text/plain": []
     },
     "metadata": {},
     "output_type": "display_data"
    },
    {
     "name": "stdout",
     "output_type": "stream",
     "text": [
      "\u001b[1m23/23\u001b[0m \u001b[32m━━━━━━━━━━━━━━━━━━━━\u001b[0m\u001b[37m\u001b[0m \u001b[1m0s\u001b[0m 5ms/step - loss: 0.1838 - mae: 0.2918\n",
      "Validation Loss: 0.19965948164463043, Validation MAE: 0.3073212504386902\n"
     ]
    },
    {
     "name": "stderr",
     "output_type": "stream",
     "text": [
      "[I 2025-06-07 23:50:21,326] Trial 98 finished with value: 0.19965948164463043 and parameters: {'seq_type': 'GRU', 'seq_units': 14, 'dense_units': 11, 'activation': 'relu', 'optimizer': 'adam', 'dropout': 0.08651711753349821, 'learning_rate': 0.0063432043809120014, 'batch_size': 32}. Best is trial 65 with value: 0.17471152544021606.\n"
     ]
    },
    {
     "data": {
      "text/html": [
       "<pre style=\"white-space:pre;overflow-x:auto;line-height:normal;font-family:Menlo,'DejaVu Sans Mono',consolas,'Courier New',monospace\"></pre>\n"
      ],
      "text/plain": []
     },
     "metadata": {},
     "output_type": "display_data"
    },
    {
     "name": "stdout",
     "output_type": "stream",
     "text": [
      "\u001b[1m23/23\u001b[0m \u001b[32m━━━━━━━━━━━━━━━━━━━━\u001b[0m\u001b[37m\u001b[0m \u001b[1m0s\u001b[0m 3ms/step - loss: 0.1582 - mae: 0.2831 \n",
      "Validation Loss: 0.17477983236312866, Validation MAE: 0.2978866994380951\n"
     ]
    },
    {
     "name": "stderr",
     "output_type": "stream",
     "text": [
      "[I 2025-06-07 23:51:03,346] Trial 99 finished with value: 0.17477983236312866 and parameters: {'seq_type': 'GRU', 'seq_units': 22, 'dense_units': 12, 'activation': 'relu', 'optimizer': 'rmsprop', 'dropout': 0.0787559064194446, 'learning_rate': 0.008805906727992108, 'batch_size': 128}. Best is trial 65 with value: 0.17471152544021606.\n"
     ]
    }
   ],
   "source": [
    "def objective(trial):\n",
    "    seq_type = trial.suggest_categorical(\"seq_type\", [\"LSTM\", \"SimpleRNN\", \"GRU\"])\n",
    "    seq_units = trial.suggest_int(\"seq_units\", 12, 48)\n",
    "    dense_units = trial.suggest_int(\"dense_units\", 4, 12)\n",
    "    activation = trial.suggest_categorical(\"activation\", [\"tanh\", \"relu\", \"mish\"])\n",
    "    optimizer = trial.suggest_categorical(\"optimizer\", [\"adam\", \"rmsprop\"])\n",
    "    dropout = trial.suggest_float(\"dropout\", 0.01, 0.1)\n",
    "    learning_rate = trial.suggest_float(\"learning_rate\", 0.0001, 0.1, log=True)  # log scale for LR\n",
    "    batch_size = trial.suggest_categorical(\"batch_size\", [32, 64, 128])\n",
    "    \n",
    "    ml_utils.run_experiment(\n",
    "        X_seq_train, X_features_train, y_train,\n",
    "        X_seq_val, X_features_val, y_val,\n",
    "        seq_type=seq_type,\n",
    "        seq_units=seq_units,\n",
    "        dense_units=dense_units,\n",
    "        activation=activation,\n",
    "        optimizer=optimizer,\n",
    "        dropout=dropout,\n",
    "        learning_rate=learning_rate,\n",
    "        batch_size=batch_size,\n",
    "        experiment_id=experiment_id\n",
    "    )\n",
    "    \n",
    "    runs = mlflow.search_runs(experiment_ids=[experiment_id], order_by=[\"start_time DESC\"])\n",
    "    val_loss = runs.iloc[0][\"metrics.val_loss\"]\n",
    "    return val_loss\n",
    "\n",
    "study = optuna.create_study(direction=\"minimize\")\n",
    "study.optimize(objective, n_trials=constants.N_TRIALS, callbacks=[mlflow_callback])"
   ]
  },
  {
   "cell_type": "code",
   "execution_count": 19,
   "id": "d423bd9f",
   "metadata": {},
   "outputs": [
    {
     "name": "stdout",
     "output_type": "stream",
     "text": [
      "\u001b[1m12/12\u001b[0m \u001b[32m━━━━━━━━━━━━━━━━━━━━\u001b[0m\u001b[37m\u001b[0m \u001b[1m1s\u001b[0m 13ms/step\n"
     ]
    },
    {
     "data": {
      "text/plain": [
       "248.01575649990124"
      ]
     },
     "execution_count": 19,
     "metadata": {},
     "output_type": "execute_result"
    }
   ],
   "source": [
    "model = ml_utils.get_best_model(experiment_id, \"metrics.val_loss\")\n",
    "y_pred = y_scaler.inverse_transform(model.predict([X_seq_test, X_features_test]))\n",
    "y_test_scaled = y_scaler.inverse_transform(y_test.reshape(-1, 1))\n",
    "mean_absolute_error(y_test_scaled, y_pred)"
   ]
  },
  {
   "cell_type": "code",
   "execution_count": 20,
   "id": "faa28c18",
   "metadata": {},
   "outputs": [
    {
     "data": {
      "image/png": "[encoded data removed]",
      "text/plain": [
       "<Figure size 1400x600 with 1 Axes>"
      ]
     },
     "metadata": {},
     "output_type": "display_data"
    }
   ],
   "source": [
    "pred_df = pl.DataFrame({'y_true': y_test_scaled.flatten(), 'y_pred': np.round(y_pred).flatten()})\n",
    "\n",
    "pred_df = pred_df.with_columns(\n",
    "    (pl.col('y_true') - pl.col('y_pred')).alias('diff')\n",
    ").with_columns(\n",
    "    pl.Series(\"date\", df_all[-pred_df.height:][\"date\"])\n",
    ")\n",
    "\n",
    "pred_df = pred_df.with_columns(\n",
    "    (abs(pl.col('diff')).alias('abs_diff'))\n",
    ")\n",
    "\n",
    "import matplotlib.pyplot as plt\n",
    "\n",
    "plt.figure(figsize=(14, 6))\n",
    "plt.plot(pred_df[\"date\"], pred_df[\"y_true\"], label=\"Actual\")\n",
    "plt.plot(pred_df[\"date\"], pred_df[\"y_pred\"], label=\"Predicted\", alpha=0.7)\n",
    "plt.title(\"Actual vs Predicted Donations\")\n",
    "plt.xlabel(\"Date\")\n",
    "plt.ylabel(\"Donations\")\n",
    "plt.legend()\n",
    "plt.grid(True)\n",
    "plt.xticks(rotation=45)\n",
    "plt.tight_layout()\n",
    "plt.show()"
   ]
  },
  {
   "cell_type": "code",
   "execution_count": 21,
   "id": "3f661983",
   "metadata": {},
   "outputs": [
    {
     "data": {
      "text/html": [
       "<div><style>\n",
       ".dataframe > thead > tr,\n",
       ".dataframe > tbody > tr {\n",
       "  text-align: right;\n",
       "  white-space: pre-wrap;\n",
       "}\n",
       "</style>\n",
       "<small>shape: (10, 5)</small><table border=\"1\" class=\"dataframe\"><thead><tr><th>y_true</th><th>y_pred</th><th>diff</th><th>date</th><th>abs_diff</th></tr><tr><td>f64</td><td>f32</td><td>f64</td><td>date</td><td>f64</td></tr></thead><tbody><tr><td>1136.0</td><td>2737.0</td><td>-1601.0</td><td>2025-03-30</td><td>1601.0</td></tr><tr><td>3188.0</td><td>1663.0</td><td>1525.0</td><td>2025-02-11</td><td>1525.0</td></tr><tr><td>1674.0</td><td>3095.0</td><td>-1421.0</td><td>2025-03-02</td><td>1421.0</td></tr><tr><td>2345.0</td><td>979.0</td><td>1366.0</td><td>2024-09-16</td><td>1366.0</td></tr><tr><td>1789.0</td><td>3104.0</td><td>-1315.0</td><td>2024-06-16</td><td>1315.0</td></tr><tr><td>3178.0</td><td>1878.0</td><td>1300.0</td><td>2025-05-12</td><td>1300.0</td></tr><tr><td>3859.0</td><td>2737.0</td><td>1122.0</td><td>2025-05-01</td><td>1122.0</td></tr><tr><td>2962.0</td><td>1848.0</td><td>1114.0</td><td>2024-11-16</td><td>1114.0</td></tr><tr><td>2599.0</td><td>3629.0</td><td>-1030.0</td><td>2024-09-01</td><td>1030.0</td></tr><tr><td>3481.0</td><td>2453.0</td><td>1028.0</td><td>2025-03-09</td><td>1028.0</td></tr></tbody></table></div>"
      ],
      "text/plain": [
       "shape: (10, 5)\n",
       "┌────────┬────────┬─────────┬────────────┬──────────┐\n",
       "│ y_true ┆ y_pred ┆ diff    ┆ date       ┆ abs_diff │\n",
       "│ ---    ┆ ---    ┆ ---     ┆ ---        ┆ ---      │\n",
       "│ f64    ┆ f32    ┆ f64     ┆ date       ┆ f64      │\n",
       "╞════════╪════════╪═════════╪════════════╪══════════╡\n",
       "│ 1136.0 ┆ 2737.0 ┆ -1601.0 ┆ 2025-03-30 ┆ 1601.0   │\n",
       "│ 3188.0 ┆ 1663.0 ┆ 1525.0  ┆ 2025-02-11 ┆ 1525.0   │\n",
       "│ 1674.0 ┆ 3095.0 ┆ -1421.0 ┆ 2025-03-02 ┆ 1421.0   │\n",
       "│ 2345.0 ┆ 979.0  ┆ 1366.0  ┆ 2024-09-16 ┆ 1366.0   │\n",
       "│ 1789.0 ┆ 3104.0 ┆ -1315.0 ┆ 2024-06-16 ┆ 1315.0   │\n",
       "│ 3178.0 ┆ 1878.0 ┆ 1300.0  ┆ 2025-05-12 ┆ 1300.0   │\n",
       "│ 3859.0 ┆ 2737.0 ┆ 1122.0  ┆ 2025-05-01 ┆ 1122.0   │\n",
       "│ 2962.0 ┆ 1848.0 ┆ 1114.0  ┆ 2024-11-16 ┆ 1114.0   │\n",
       "│ 2599.0 ┆ 3629.0 ┆ -1030.0 ┆ 2024-09-01 ┆ 1030.0   │\n",
       "│ 3481.0 ┆ 2453.0 ┆ 1028.0  ┆ 2025-03-09 ┆ 1028.0   │\n",
       "└────────┴────────┴─────────┴────────────┴──────────┘"
      ]
     },
     "execution_count": 21,
     "metadata": {},
     "output_type": "execute_result"
    }
   ],
   "source": [
    "pred_df.sort(by='abs_diff', descending=True).head(10)"
   ]
  },
  {
   "cell_type": "markdown",
   "id": "e77f0c8f",
   "metadata": {},
   "source": [
    "While all in all the model seems to be performing well, on certain days it still shows a bigger deviance:\n",
    "- 2025-03-30: The day before Hari Raya Puasa, while not a holiday itself can lead to lower level of donations (preparations etc)\n",
    "- 2025-02-11: Thaipusam, which is not a national holiday but observed in eight states. Incorporating this can be valuable in the future\n",
    "- 2025-03-02: The first day of Ramadan, which also leads to lower actual donations than predicted\n",
    "- 2024-09-01: The day after Merdeka Day, in the states of Kelantan and Terengganu this day itself is even a holiday\n",
    "\n",
    "Some other days which should have been properly observed still showed some difference:\n",
    "- 2024-09-16: Malaysia Day\n",
    "- 2025-05-12: Wesak Day\n",
    "- 2025-05-01: Labor Day\n",
    "\n",
    "Based on this it might make sense to extend the low donation holidays to 1 day before/after the actual date."
   ]
  },
  {
   "cell_type": "code",
   "execution_count": 22,
   "id": "1f4cabea",
   "metadata": {},
   "outputs": [],
   "source": [
    "# Saving the model\n",
    "model.save(f\"shared/model_{experiment_name}.keras\")"
   ]
  },
  {
   "cell_type": "markdown",
   "id": "2b7cc23c",
   "metadata": {},
   "source": [
    "## Comparison with simple benchmarks"
   ]
  },
  {
   "cell_type": "markdown",
   "id": "a04841f3",
   "metadata": {},
   "source": [
    "### Comparison with mean value from the validation set"
   ]
  },
  {
   "cell_type": "code",
   "execution_count": 27,
   "id": "137ac511",
   "metadata": {},
   "outputs": [
    {
     "data": {
      "text/plain": [
       "526.6071462578556"
      ]
     },
     "execution_count": 27,
     "metadata": {},
     "output_type": "execute_result"
    }
   ],
   "source": [
    "# Comparison with mean value from validation set\n",
    "mean_val = y_scaler.inverse_transform(y_val.reshape(-1, 1)).mean()\n",
    "\n",
    "mean_pred = np.full_like(y_test_scaled, mean_val)\n",
    "mean_absolute_error(y_test_scaled, mean_pred)"
   ]
  },
  {
   "cell_type": "markdown",
   "id": "b174d862",
   "metadata": {},
   "source": [
    "### Comparison with rolling average"
   ]
  },
  {
   "cell_type": "code",
   "execution_count": 42,
   "id": "e53d2c70",
   "metadata": {},
   "outputs": [
    {
     "data": {
      "text/plain": [
       "1612.5570317883635"
      ]
     },
     "execution_count": 42,
     "metadata": {},
     "output_type": "execute_result"
    }
   ],
   "source": [
    "# Concatenate y_train, y_val, and y_test for easy indexing\n",
    "y_all = np.concatenate([y_val, y_test])\n",
    "\n",
    "# Indices for the start of y_test in y_all\n",
    "test_start_idx = len(y_val)\n",
    "\n",
    "# Rolling average prediction for y_test\n",
    "rolling_preds = []\n",
    "for i in range(test_start_idx, test_start_idx + len(y_test)):\n",
    "    # Take the previous 7 days\n",
    "    prev_7 = y_all[i-constants.WINDOW_SIZE:i]\n",
    "    rolling_preds.append(prev_7.mean())\n",
    "\n",
    "rolling_preds = np.array(rolling_preds)\n",
    "\n",
    "mean_absolute_error(y_test, \n",
    "                    y_scaler.inverse_transform(rolling_preds[-len(y_test):].reshape(-1, 1))\n",
    ")"
   ]
  },
  {
   "cell_type": "markdown",
   "id": "c1f58202",
   "metadata": {},
   "source": [
    "We could confirm that using the model is meaningfully better in terms of performance over simple benchmarks."
   ]
  }
 ],
 "metadata": {
  "kernelspec": {
   "display_name": ".venv",
   "language": "python",
   "name": "python3"
  },
  "language_info": {
   "codemirror_mode": {
    "name": "ipython",
    "version": 3
   },
   "file_extension": ".py",
   "mimetype": "text/x-python",
   "name": "python",
   "nbconvert_exporter": "python",
   "pygments_lexer": "ipython3",
   "version": "3.12.3"
  }
 },
 "nbformat": 4,
 "nbformat_minor": 5
}
